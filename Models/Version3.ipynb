{
 "cells": [
  {
   "cell_type": "markdown",
   "metadata": {},
   "source": [
    "***\n",
    "*Project:* Deep Active Inference\n",
    "\n",
    "*Author:* Jingwei Liu (Music department, UC San Diego)\n",
    "***\n",
    "\n",
    "# <span style=\"background-color:darkorange; color:white; padding:2px 6px\">Tutorial</span> \n",
    "\n",
    "\n",
    "# Version 3: DJ - Dancer Model (Guess action via limited past observations)"
   ]
  },
  {
   "cell_type": "markdown",
   "metadata": {},
   "source": [
    "* Active niche construction\n",
    "\n",
    "* With one sample delay\n",
    "\n",
    "* Guess action via limited past observations\n",
    "\n",
    "* Minimize under KL divergence"
   ]
  },
  {
   "cell_type": "code",
   "execution_count": 1,
   "metadata": {},
   "outputs": [
    {
     "name": "stderr",
     "output_type": "stream",
     "text": [
      "WARNING:root:pynput was not found; mouse and keyboard input will not be available.\n",
      "Using TensorFlow backend.\n"
     ]
    }
   ],
   "source": [
    "import numpy as np\n",
    "import pandas as pd\n",
    "import csv\n",
    "from scamp import *\n",
    "import tensorflow as tf\n",
    "from tensorflow import keras\n",
    "from tensorflow.keras.layers import Dense,Flatten,Softmax,Input\n",
    "import keras.backend as K "
   ]
  },
  {
   "cell_type": "code",
   "execution_count": 2,
   "metadata": {},
   "outputs": [
    {
     "data": {
      "text/plain": [
       "<tf.Variable 'Variable:0' shape=(2, 20000) dtype=int32, numpy=\n",
       "array([[15, 12, 23, ..., 10, 13,  9],\n",
       "       [ 0,  1,  0, ...,  1,  0,  1]])>"
      ]
     },
     "execution_count": 2,
     "metadata": {},
     "output_type": "execute_result"
    }
   ],
   "source": [
    "df = pd.read_csv('Species.csv', sep=\",\",index_col = 0)\n",
    "n = df.shape[0]\n",
    "X = tf.Variable(np.zeros((2,n*2)),dtype='int32')  # any data tensor\n",
    "for i in range(0,2*n,2):\n",
    "    X[0,i].assign(df['Cantus'][i/2] - 43)\n",
    "    X[1,i].assign(0)\n",
    "    X[0,i+1].assign(df['Counter'][i/2] - 55)\n",
    "    X[1,i+1].assign(1)\n",
    "X"
   ]
  },
  {
   "cell_type": "code",
   "execution_count": 3,
   "metadata": {},
   "outputs": [
    {
     "data": {
      "text/plain": [
       "<tf.Tensor: shape=(20000, 31), dtype=float32, numpy=\n",
       "array([[0., 0., 0., ..., 0., 0., 0.],\n",
       "       [0., 0., 0., ..., 0., 0., 1.],\n",
       "       [0., 0., 0., ..., 0., 0., 0.],\n",
       "       ...,\n",
       "       [0., 0., 0., ..., 0., 0., 1.],\n",
       "       [0., 0., 0., ..., 0., 0., 0.],\n",
       "       [0., 0., 0., ..., 0., 0., 1.]], dtype=float32)>"
      ]
     },
     "execution_count": 3,
     "metadata": {},
     "output_type": "execute_result"
    }
   ],
   "source": [
    "depth = 30\n",
    "X = tf.concat([tf.one_hot(X[0,:], depth),tf.dtypes.cast(tf.reshape(X[1,:],[20000,1]),tf.float32)],1)\n",
    "X"
   ]
  },
  {
   "cell_type": "code",
   "execution_count": 4,
   "metadata": {},
   "outputs": [],
   "source": [
    "train_dataset = tf.data.Dataset.from_tensor_slices(X[:18000,:])\n",
    "test_dataset = tf.data.Dataset.from_tensor_slices(X[18000:,:])"
   ]
  },
  {
   "cell_type": "code",
   "execution_count": 5,
   "metadata": {},
   "outputs": [],
   "source": [
    "batch_size = 18"
   ]
  },
  {
   "cell_type": "code",
   "execution_count": 6,
   "metadata": {},
   "outputs": [],
   "source": [
    "n_steps = 20\n",
    "window_length = n_steps\n",
    "dataset = test_dataset.window(window_length, shift=2, drop_remainder=True)\n",
    "dataset = dataset.flat_map(lambda window: window.batch(window_length))\n",
    "shuffle_dataset = dataset.shuffle(20000).batch(batch_size,drop_remainder=True)"
   ]
  },
  {
   "cell_type": "code",
   "execution_count": 7,
   "metadata": {},
   "outputs": [],
   "source": [
    "def creat_model(batch_size,Type):\n",
    "    \n",
    "    rnn_units = 12\n",
    "    n_notes = 30\n",
    "\n",
    "    input_A = keras.layers.Input(shape=(None,31), name=\"input_A\") # (15, 20, 31)\n",
    "    input_B = keras.layers.Input(shape=(1,31), name=\"input_B\") # (15, 1, 31)\n",
    "\n",
    "    hidden1 = keras.layers.LSTM(rnn_units, return_sequences=True)(input_A) # (15,20,12)\n",
    "    hidden2 = keras.layers.LSTM(rnn_units, return_sequences=True)(hidden1) #(15,20,12)\n",
    "    \n",
    "    output_RNN = keras.layers.Dense(n_notes, activation='softmax', name = 'output_RNN')(hidden2) #(15,20,30)\n",
    "\n",
    "    e = keras.layers.Dense(1, activation='tanh')(hidden2) #(15,20,1)\n",
    "    e = keras.layers.Reshape([-1])(e) #(15,20)\n",
    "\n",
    "    alpha = keras.layers.Activation('softmax')(e) #(15,20)\n",
    "    c = keras.layers.Permute([2, 1])(keras.layers.RepeatVector(rnn_units)(alpha)) #(15,20,12)\n",
    "    c = keras.layers.Multiply()([hidden2, c]) #(15,20,12)\n",
    "    c = keras.layers.Lambda(lambda xin: K.sum(xin, axis=1), output_shape=(rnn_units,))(c) #(15,12)\n",
    "\n",
    "    output_A = keras.layers.Dense(n_notes, activation = 'softmax', name = 'output_A')(c) #(15,30) (0, cantus)\n",
    "    reshape = tf.reshape(output_A,[-1,1,30]) # (15, 1, 30)\n",
    "    if Type == \"_0_1\":\n",
    "        zero = tf.reshape(tf.zeros(batch_size),[batch_size,1,1])\n",
    "        input_output_A = tf.concat((reshape,zero),2) # (15, 1, 31)  (0, cantus)\n",
    "    elif Type == \"_1_0\":\n",
    "        one = tf.reshape(tf.ones(batch_size),[batch_size,1,1])\n",
    "        input_output_A = tf.concat((reshape,one),2) # (15, 1, 31)  (0, cantus)\n",
    "\n",
    "    aux1 = keras.layers.SimpleRNN(rnn_units)(input_B, initial_state=c) #(15,12)\n",
    "    aux2 = keras.layers.SimpleRNN(rnn_units)(input_output_A, initial_state=c) #(15,12)\n",
    "    output_B1 = keras.layers.Dense(n_notes, activation = 'softmax', name = 'output_B1')(aux1) #(15,30) (1, counter)\n",
    "    output_B2 = keras.layers.Dense(n_notes, activation = 'softmax', name = 'output_B2')(aux2) #(15,30) (1, counter)\n",
    "\n",
    "    model = keras.models.Model([input_A, input_B], [output_RNN, output_A, output_B1, output_B2])\n",
    "    \n",
    "    aux_model1 = keras.models.Model([input_A, input_B], output_B1)\n",
    "    aux_model2 = keras.models.Model(input_A, [output_A, output_B2])\n",
    "    \n",
    "    sub_model1 = keras.models.Model(input_A, output_A)\n",
    "    sub_model2 = keras.models.Model(input_A, output_B2)\n",
    "    \n",
    "    att_model = keras.models.Model([input_A, input_B], alpha)\n",
    "    \n",
    "    return model,aux_model1,aux_model2,sub_model1,sub_model2,att_model"
   ]
  },
  {
   "cell_type": "code",
   "execution_count": 8,
   "metadata": {},
   "outputs": [],
   "source": [
    "model_0_1_,aux_model1_0_1_,aux_model2_0_1_, sub_model1_0_1_,sub_model2_0_1_,att_model_0_1_ = creat_model(batch_size,'_0_1')\n",
    "model_1_0_,aux_model1_1_0_,aux_model2_1_0_, sub_model1_1_0_,sub_model2_1_0_,att_model_1_0_ = creat_model(batch_size,'_1_0')"
   ]
  },
  {
   "cell_type": "code",
   "execution_count": 32,
   "metadata": {},
   "outputs": [],
   "source": [
    "model_0_1_.load_weights('version3_model_0_1_step1_train1.h5')\n",
    "model_1_0_.load_weights('version3_model_1_0_step1_train1.h5')"
   ]
  },
  {
   "cell_type": "code",
   "execution_count": 34,
   "metadata": {},
   "outputs": [],
   "source": [
    "model_0_1_.load_weights('version3_model_0_1_step2_train1.h5')\n",
    "model_1_0_.load_weights('version3_model_1_0_step2_train1.h5')"
   ]
  },
  {
   "cell_type": "code",
   "execution_count": 36,
   "metadata": {},
   "outputs": [],
   "source": [
    "model_0_1_.load_weights('version3_model_0_1_step1_train1_random.h5')\n",
    "model_1_0_.load_weights('version3_model_1_0_step1_train1_random.h5')"
   ]
  },
  {
   "cell_type": "code",
   "execution_count": 38,
   "metadata": {},
   "outputs": [],
   "source": [
    "model_0_1_.load_weights('version3_model_0_1_step2_train1_random.h5')\n",
    "model_1_0_.load_weights('version3_model_1_0_step2_train1_random.h5')"
   ]
  },
  {
   "cell_type": "code",
   "execution_count": 40,
   "metadata": {},
   "outputs": [],
   "source": [
    "model_0_1_.load_weights('version3_model_0_1_step3_train1_random.h5')\n",
    "model_1_0_.load_weights('version3_model_1_0_step3_train1_random.h5')"
   ]
  },
  {
   "cell_type": "code",
   "execution_count": 45,
   "metadata": {},
   "outputs": [],
   "source": [
    "model_0_1_.load_weights('version3_model_0_1_step5_train1_random.h5')\n",
    "model_1_0_.load_weights('version3_model_1_0_step5_train1_random.h5')"
   ]
  },
  {
   "cell_type": "code",
   "execution_count": 54,
   "metadata": {},
   "outputs": [
    {
     "name": "stdout",
     "output_type": "stream",
     "text": [
      "action: [[10. 14. 24. 26. 17. 27. 28.  2.  0.  0.]\n",
      " [ 1. 16.  2. 17.  8. 16.  1. 25. 13. 16.]\n",
      " [28. 18.  0.  4. 23. 18. 16. 11. 12.  4.]\n",
      " [18.  9. 15.  0. 18.  0.  9. 15.  2.  1.]\n",
      " [11. 25. 11. 29.  5. 23. 10.  9. 14. 25.]\n",
      " [18. 11. 23.  5. 25. 25. 14.  4. 22. 28.]\n",
      " [ 0.  2. 11. 21. 10. 12. 11. 12. 19. 13.]\n",
      " [ 8. 15. 25. 27.  7. 25. 24.  5. 26. 28.]\n",
      " [ 6. 10. 10. 27.  8. 18.  6. 20. 12. 28.]\n",
      " [29. 27. 13.  7.  6.  9.  9. 19.  6.  9.]\n",
      " [21.  2. 27. 21.  1. 12. 28.  3. 27.  0.]\n",
      " [28. 25.  5. 12. 12. 26.  6. 13.  1.  3.]\n",
      " [ 8. 14.  6.  5. 14. 26. 14. 15.  1. 15.]\n",
      " [18. 24.  9.  1. 21.  9. 15. 28.  8. 24.]\n",
      " [13. 18.  1.  3. 10. 29. 13. 24. 20.  2.]\n",
      " [18.  3. 25. 25.  0. 14.  5.  5. 14. 12.]\n",
      " [ 0.  6. 25. 16. 28. 16. 12. 26.  0. 21.]\n",
      " [14.  8. 16. 25.  4.  3.  6. 14. 24. 21.]]\n",
      "observation: [[23.  0. 19. 28. 20. 24.  0. 16. 22. 17.]\n",
      " [ 9.  9.  4.  4. 23.  9.  9.  3. 23. 12.]\n",
      " [18. 24.  8. 17. 19. 13. 20. 27.  4. 23.]\n",
      " [23. 29. 13.  8. 23. 10. 19.  8.  5. 23.]\n",
      " [27. 25. 22. 27. 14.  4.  7.  2. 28. 16.]\n",
      " [ 9.  7.  4. 24. 13. 13. 10.  9.  2.  5.]\n",
      " [18.  0.  6. 25. 22. 23. 18.  4. 27. 20.]\n",
      " [15.  1. 25.  1. 22. 13.  2. 14. 27.  1.]\n",
      " [ 2. 20. 18. 24. 20.  6.  8.  8. 29. 21.]\n",
      " [24. 22.  5.  5. 19. 24. 29.  6.  5. 13.]\n",
      " [14. 17.  4.  5. 17. 23. 23.  1. 20. 18.]\n",
      " [18.  1.  3. 27.  7. 22. 27.  1. 16. 29.]\n",
      " [ 5.  9. 10. 28. 22. 28. 28. 18. 19. 25.]\n",
      " [25.  3.  8. 15. 17. 18. 28. 13. 20. 13.]\n",
      " [20. 12.  9. 14. 11. 13. 21. 24. 15. 11.]\n",
      " [24.  7. 29. 18. 27. 14. 28. 12.  3.  1.]\n",
      " [29.  5.  9. 13. 25. 23. 24.  7.  2.  9.]\n",
      " [11.  5. 18. 18. 24. 13. 28.  5. 16. 12.]]\n",
      "action_plus1: [[18.  1. 14. 25.  2.  9. 29. 25. 20.  6.]\n",
      " [11.  5.  0.  5. 21.  7.  4. 20.  3.  9.]\n",
      " [29. 22.  3. 20. 26. 11. 22. 19. 12. 13.]\n",
      " [26.  7. 20.  7. 13. 16. 22. 14. 29. 29.]\n",
      " [26. 14. 21.  5.  7. 19. 28. 10. 27. 10.]\n",
      " [18.  6. 11.  4.  6. 24. 28. 17. 11.  7.]\n",
      " [17. 21. 11.  8. 14. 21. 21.  9. 29.  5.]\n",
      " [20. 21. 24. 25. 24. 20.  8. 25. 16. 16.]\n",
      " [13. 25.  7.  3. 11. 14. 13. 18. 29. 22.]\n",
      " [29.  3. 28. 12.  4.  8.  3.  3.  4.  6.]\n",
      " [16. 13. 27. 24. 29.  6. 27. 15. 25. 18.]\n",
      " [26. 25. 10. 27.  2. 26. 25. 12. 16.  5.]\n",
      " [13. 16. 17. 26. 26. 16. 14.  4. 27. 28.]\n",
      " [ 7. 13. 11. 28.  3. 28. 19. 27. 17. 15.]\n",
      " [ 1. 27. 17.  0. 12.  2. 20.  6. 23. 18.]\n",
      " [ 7.  6. 25. 17. 28.  5.  7. 14. 26. 25.]\n",
      " [ 6. 10.  1.  8. 19. 22.  4. 12.  8. 17.]\n",
      " [22. 19. 27. 22. 24. 27. 25.  6.  5. 15.]]\n",
      "\n",
      "act/obv/(pred_obv_weight)       step 0       step 1       step 2       step 3       step 4       step 5       step 6       step 7       step 8       step 9match#(sequence)\n",
      "   sequence 0 10/23/(0.03)  14/0/(0.03) 24/19/(0.02) 26/28/(0.03) 17/20/(0.03) 27/24/(0.03)  28/0/(0.03)  2/16/(0.04)  0/22/(0.03)  0/17/(0.03)         0.03\n",
      "   sequence 1   1/9/(0.04)  16/9/(0.04)   2/4/(0.04)  17/4/(0.05)  8/23/(0.03)  16/9/(0.04)   1/9/(0.04)  25/3/(0.05) 13/23/(0.03) 16/12/(0.04)         0.04\n",
      "   sequence 2 28/18/(0.03) 18/24/(0.03)   0/8/(0.04)  4/17/(0.03) 23/19/(0.03) 18/13/(0.03) 16/20/(0.03) 11/27/(0.04)  12/4/(0.03)  4/23/(0.04)         0.03\n",
      "   sequence 3 18/23/(0.04)  9/29/(0.03) 15/13/(0.03)   0/8/(0.04) 18/23/(0.04)  0/10/(0.03)  9/19/(0.03)  15/8/(0.04)   2/5/(0.03)  1/23/(0.03)         0.03\n",
      "   sequence 4 11/27/(0.04) 25/25/(0.04) 11/22/(0.04) 29/27/(0.04)  5/14/(0.03)  23/4/(0.03)  10/7/(0.03)   9/2/(0.03) 14/28/(0.03) 25/16/(0.04)         0.04\n",
      "   sequence 5  18/9/(0.03)  11/7/(0.04)  23/4/(0.04)  5/24/(0.03) 25/13/(0.03) 25/13/(0.03) 14/10/(0.03)   4/9/(0.03)  22/2/(0.04)  28/5/(0.04)         0.03\n",
      "   sequence 6  0/18/(0.03)   2/0/(0.03)  11/6/(0.04) 21/25/(0.03) 10/22/(0.03) 12/23/(0.03) 11/18/(0.03)  12/4/(0.04) 19/27/(0.03) 13/20/(0.03)         0.03\n",
      "   sequence 7  8/15/(0.03)  15/1/(0.04) 25/25/(0.04)  27/1/(0.04)  7/22/(0.04) 25/13/(0.03)  24/2/(0.03)  5/14/(0.03) 26/27/(0.03)  28/1/(0.03)         0.03\n",
      "   sequence 8   6/2/(0.03) 10/20/(0.03) 10/18/(0.03) 27/24/(0.03)  8/20/(0.03)  18/6/(0.03)   6/8/(0.04)  20/8/(0.03) 12/29/(0.03) 28/21/(0.03)         0.03\n",
      "   sequence 9 29/24/(0.03) 27/22/(0.04)  13/5/(0.03)   7/5/(0.03)  6/19/(0.03)  9/24/(0.03)  9/29/(0.03)  19/6/(0.03)   6/5/(0.03)  9/13/(0.03)         0.03\n",
      "  sequence 10 21/14/(0.03)  2/17/(0.03)  27/4/(0.04)  21/5/(0.04)  1/17/(0.03) 12/23/(0.03) 28/23/(0.04)   3/1/(0.04) 27/20/(0.03)  0/18/(0.03)         0.03\n",
      "  sequence 11 28/18/(0.03)  25/1/(0.03)   5/3/(0.04) 12/27/(0.04)  12/7/(0.03) 26/22/(0.04)  6/27/(0.03)  13/1/(0.03)  1/16/(0.04)  3/29/(0.03)         0.03\n",
      "  sequence 12   8/5/(0.04)  14/9/(0.04)  6/10/(0.03)  5/28/(0.03) 14/22/(0.03) 26/28/(0.03) 14/28/(0.03) 15/18/(0.03)  1/19/(0.03) 15/25/(0.04)         0.03\n",
      "  sequence 13 18/25/(0.03)  24/3/(0.04)   9/8/(0.04)  1/15/(0.03) 21/17/(0.03)  9/18/(0.03) 15/28/(0.03) 28/13/(0.03)  8/20/(0.03) 24/13/(0.03)         0.03\n",
      "  sequence 14 13/20/(0.04) 18/12/(0.04)   1/9/(0.03)  3/14/(0.03) 10/11/(0.03) 29/13/(0.04) 13/21/(0.03) 24/24/(0.03) 20/15/(0.03)  2/11/(0.03)         0.03\n",
      "  sequence 15 18/24/(0.03)   3/7/(0.04) 25/29/(0.03) 25/18/(0.03)  0/27/(0.03) 14/14/(0.03)  5/28/(0.03)  5/12/(0.04)  14/3/(0.04)  12/1/(0.03)         0.03\n",
      "  sequence 16  0/29/(0.03)   6/5/(0.03)  25/9/(0.03) 16/13/(0.03) 28/25/(0.03) 16/23/(0.04) 12/24/(0.03)  26/7/(0.03)   0/2/(0.03)  21/9/(0.04)         0.03\n",
      "  sequence 17 14/11/(0.03)   8/5/(0.03) 16/18/(0.04) 25/18/(0.03)  4/24/(0.04)  3/13/(0.03)  6/28/(0.03)  14/5/(0.03) 24/16/(0.04) 21/12/(0.04)         0.03\n",
      " match#(step)         0.03         0.03         0.04         0.03         0.03         0.03         0.03         0.03         0.03         0.03         0.03\n",
      "obv/act1//(pred_act1_weight)       step 0       step 1       step 2       step 3       step 4       step 5       step 6       step 7       step 8       step 9match#(sequence)\n",
      "   sequence 0 23/18/(0.03)   0/1/(0.04) 19/14/(0.03) 28/25/(0.04)  20/2/(0.04)  24/9/(0.03)  0/29/(0.03) 16/25/(0.04) 22/20/(0.03)  17/6/(0.03)         0.03\n",
      "   sequence 1  9/11/(0.03)   9/5/(0.03)   4/0/(0.05)   4/5/(0.04) 23/21/(0.03)   9/7/(0.04)   9/4/(0.04)  3/20/(0.03)  23/3/(0.04)  12/9/(0.04)         0.04\n",
      "   sequence 2 18/29/(0.03) 24/22/(0.03)   8/3/(0.03) 17/20/(0.03) 19/26/(0.04) 13/11/(0.03) 20/22/(0.04) 27/19/(0.03)  4/12/(0.03) 23/13/(0.03)         0.03\n",
      "   sequence 3 23/26/(0.04)  29/7/(0.03) 13/20/(0.03)   8/7/(0.03) 23/13/(0.03) 10/16/(0.03) 19/22/(0.03)  8/14/(0.03)  5/29/(0.03) 23/29/(0.03)         0.03\n",
      "   sequence 4 27/26/(0.04) 25/14/(0.03) 22/21/(0.04)  27/5/(0.03)  14/7/(0.03)  4/19/(0.03)  7/28/(0.03)  2/10/(0.03) 28/27/(0.03) 16/10/(0.03)         0.03\n",
      "   sequence 5  9/18/(0.03)   7/6/(0.04)  4/11/(0.03)  24/4/(0.03)  13/6/(0.03) 13/24/(0.04) 10/28/(0.03)  9/17/(0.03)  2/11/(0.03)   5/7/(0.03)         0.03\n",
      "   sequence 6 18/17/(0.03)  0/21/(0.03)  6/11/(0.03)  25/8/(0.04) 22/14/(0.03) 23/21/(0.03) 18/21/(0.03)   4/9/(0.04) 27/29/(0.03)  20/5/(0.04)         0.03\n",
      "   sequence 7 15/20/(0.03)  1/21/(0.03) 25/24/(0.04)  1/25/(0.04) 22/24/(0.04) 13/20/(0.03)   2/8/(0.03) 14/25/(0.04) 27/16/(0.03)  1/16/(0.03)         0.03\n",
      "   sequence 8  2/13/(0.03) 20/25/(0.04)  18/7/(0.04)  24/3/(0.03) 20/11/(0.03)  6/14/(0.03)  8/13/(0.03)  8/18/(0.03) 29/29/(0.03) 21/22/(0.03)         0.03\n",
      "   sequence 9 24/29/(0.03)  22/3/(0.03)  5/28/(0.03)  5/12/(0.03)  19/4/(0.03)  24/8/(0.03)  29/3/(0.03)   6/3/(0.03)   5/4/(0.03)  13/6/(0.03)         0.03\n",
      "  sequence 10 14/16/(0.03) 17/13/(0.03)  4/27/(0.03)  5/24/(0.03) 17/29/(0.03)  23/6/(0.04) 23/27/(0.03)  1/15/(0.03) 20/25/(0.04) 18/18/(0.03)         0.03\n",
      "  sequence 11 18/26/(0.04)  1/25/(0.04)  3/10/(0.03) 27/27/(0.03)   7/2/(0.03) 22/26/(0.04) 27/25/(0.04)  1/12/(0.03) 16/16/(0.03)  29/5/(0.03)         0.03\n",
      "  sequence 12  5/13/(0.03)  9/16/(0.03) 10/17/(0.03) 28/26/(0.04) 22/26/(0.04) 28/16/(0.03) 28/14/(0.03)  18/4/(0.03) 19/27/(0.03) 25/28/(0.03)         0.03\n",
      "  sequence 13  25/7/(0.03)  3/13/(0.03)  8/11/(0.03) 15/28/(0.03)  17/3/(0.03) 18/28/(0.03) 28/19/(0.03) 13/27/(0.03) 20/17/(0.03) 13/15/(0.03)         0.03\n",
      "  sequence 14  20/1/(0.03) 12/27/(0.04)  9/17/(0.03)  14/0/(0.03) 11/12/(0.03)  13/2/(0.03) 21/20/(0.03)  24/6/(0.03) 15/23/(0.04) 11/18/(0.03)         0.03\n",
      "  sequence 15  24/7/(0.04)   7/6/(0.04) 29/25/(0.04) 18/17/(0.03) 27/28/(0.03)  14/5/(0.03)  28/7/(0.04) 12/14/(0.03)  3/26/(0.04)  1/25/(0.04)         0.04\n",
      "  sequence 16  29/6/(0.04)  5/10/(0.03)   9/1/(0.04)  13/8/(0.04) 25/19/(0.03) 23/22/(0.03)  24/4/(0.04)  7/12/(0.03)   2/8/(0.03)  9/17/(0.03)         0.03\n",
      "  sequence 17 11/22/(0.04)  5/19/(0.03) 18/27/(0.03) 18/22/(0.04) 24/24/(0.04) 13/27/(0.03) 28/25/(0.04)   5/6/(0.03)  16/5/(0.03) 12/15/(0.03)         0.04\n",
      " match#(step)         0.03         0.03         0.03         0.03         0.03         0.03         0.03         0.03         0.03         0.03         0.03\n"
     ]
    }
   ],
   "source": [
    "# version 3 generate sequence\n",
    "\n",
    "seq_length = 10\n",
    "\n",
    "#mode = \"max\"\n",
    "mode = \"random\"\n",
    "\n",
    "for window in shuffle_dataset.take(1):\n",
    "    sequence = window\n",
    "    initial = window\n",
    "    \n",
    "    X0 = np.zeros((batch_size,10,31))\n",
    "    X1 = np.zeros((batch_size,10,31))\n",
    "    \n",
    "    weight_observation = np.zeros((batch_size,seq_length))\n",
    "    action = np.zeros((batch_size,seq_length))\n",
    "    weight_action_plus1 = np.zeros((batch_size,seq_length))\n",
    "    observation = np.zeros((batch_size,seq_length))\n",
    "    action_plus1 = np.zeros((batch_size,seq_length))\n",
    "    \n",
    "    for s in range(seq_length):\n",
    "        for g in range(10):\n",
    "            X0[:,g,:] = initial[:,2*g,:]\n",
    "            X1[:,g,:] = initial[:,2*g+1,:]\n",
    "\n",
    "        [pred_o,a] = aux_model2_0_1_.predict(X0) #(18,30)\n",
    "\n",
    "        for i in range(batch_size):\n",
    "            if mode == \"max\":\n",
    "                action[i,s] = np.where(a[i,:] == np.max(a[i,:]))[0][0]\n",
    "            elif mode == \"random\":\n",
    "                action[i,s] = np.random.choice(30, 1, p=a[i,:])[0]\n",
    "\n",
    "        one_hot = tf.one_hot(action[:,s], 30) #(18,30)\n",
    "\n",
    "        reshape = tf.reshape(one_hot,[batch_size,1,30])\n",
    "        one = tf.reshape(tf.ones(batch_size),[batch_size,1,1])\n",
    "        input_action = tf.concat((reshape,one),2) # (18, 1, 31)  (1, counter)\n",
    "\n",
    "        X1 = np.concatenate((X1[:,1:,:],input_action),axis=1)\n",
    "\n",
    "        [pred_a_plus1,o] = aux_model2_1_0_.predict(X1)  \n",
    "        #(18,30) # environment's prediction about t+1 action based on past actions; the observation the environment choose\n",
    "       \n",
    "        for i in range(batch_size):\n",
    "            if mode == \"max\":                           \n",
    "                observation[i,s] = np.where(o[i,:] == np.max(o[i,:]))[0][0]\n",
    "            elif mode == \"random\":\n",
    "                observation[i,s] = np.random.choice(30, 1, p=o[i,:])[0]\n",
    "                \n",
    "            index = int(observation[i,s])\n",
    "            weight_observation[i,s] = pred_o[i,index]\n",
    "\n",
    "        one_hot = tf.one_hot(observation[:,s], 30) #(18,30)\n",
    "\n",
    "        reshape = tf.reshape(one_hot,[batch_size,1,30])\n",
    "        zero = tf.reshape(tf.zeros(batch_size),[batch_size,1,1])\n",
    "        input_observation = tf.concat((reshape,zero),2) # (18, 1, 31)  (0, cantus)\n",
    "\n",
    "        X0 = np.concatenate((X0[:,1:,:],input_observation),axis=1)\n",
    "\n",
    "        [pred_o_plus1, a_plus1] = aux_model2_0_1_.predict(X0)\n",
    "\n",
    "        for i in range(batch_size):\n",
    "            if mode == \"max\":\n",
    "                action_plus1[i,s] = np.where(a_plus1[i,:] == np.max(a_plus1[i,:]))[0][0]\n",
    "            elif mode == \"random\":\n",
    "                action_plus1[i,s] = np.random.choice(30, 1, p=a_plus1[i,:])[0]\n",
    "                \n",
    "            index = int(action_plus1[i,s])\n",
    "            weight_action_plus1[i,s] = pred_a_plus1[i,index]\n",
    "\n",
    "        sequence = tf.concat((sequence,input_observation,input_action),1)\n",
    "        initial = sequence[:,-20:,:]\n",
    "        \n",
    "  \n",
    "    print('action:',action)\n",
    "    print('observation:',observation)\n",
    "    print('action_plus1:',action_plus1)\n",
    "    print('')\n",
    "    \n",
    "    \n",
    "    step = [];\n",
    "    for j in range(seq_length):\n",
    "        step.append(\"step \" + str(j))\n",
    "    step.append(\"match#(sequence)\")\n",
    "        \n",
    "    sample = [];\n",
    "    for i in range(batch_size):\n",
    "        sample.append(\"sequence \" + str(i))\n",
    "    sample.append(\"match#(step)\")\n",
    "    \n",
    "    table = [];\n",
    "    for i in range(batch_size):\n",
    "        seq = [];\n",
    "        for j in range(seq_length):\n",
    "            seq.append(str(int(action[i,j])) + \"/\" + str(int(observation[i,j])) + \"/(\" + '%.2f'%(weight_observation[i,j]) + \")\")\n",
    "        match = np.sum(weight_observation[i,:])/seq_length\n",
    "        seq.append('%.2f'%(match))\n",
    "        table.append(seq)\n",
    "        \n",
    "    last_row = [];\n",
    "    for j in range(seq_length):\n",
    "        match = np.sum(weight_observation[:,j])/batch_size\n",
    "        last_row.append('%.2f'%(match))\n",
    "    total = np.sum(weight_observation)/(seq_length*batch_size)\n",
    "    last_row.append('%.2f'%(total))\n",
    "    table.append(last_row)\n",
    "    \n",
    "    format_row = \"{:>13}\" * (seq_length + 2)\n",
    "    print(format_row.format(\"act/obv/(pred_obv_weight)\", *step))\n",
    "    for team, row in zip(sample, table):\n",
    "        print(format_row.format(team, *row))\n",
    "        \n",
    "        \n",
    "    table2 = [];\n",
    "    for i in range(batch_size):\n",
    "        seq = [];\n",
    "        for j in range(seq_length):\n",
    "            seq.append(str(int(observation[i,j]))  + \"/\" + str(int(action_plus1[i,j])) + \"/(\" + '%.2f'%(weight_action_plus1[i,j]) + \")\")\n",
    "        match = np.sum(weight_action_plus1[i,:])/seq_length\n",
    "        seq.append('%.2f'%(match))\n",
    "        table2.append(seq)\n",
    "        \n",
    "    last_row = [];\n",
    "    total_num = 0;\n",
    "    for j in range(seq_length):\n",
    "        match = np.sum(weight_action_plus1[:,j])/batch_size\n",
    "        last_row.append('%.2f'%(match))\n",
    "    total = np.sum(weight_action_plus1)/(seq_length*batch_size)\n",
    "    last_row.append('%.2f'%(total))\n",
    "    table2.append(last_row)\n",
    "    \n",
    "    format_row = \"{:>13}\" * (seq_length + 2)\n",
    "    print(format_row.format(\"obv/act1//(pred_act1_weight)\", *step))\n",
    "    for team, row in zip(sample, table2):\n",
    "        print(format_row.format(team, *row))"
   ]
  },
  {
   "cell_type": "code",
   "execution_count": 55,
   "metadata": {},
   "outputs": [
    {
     "name": "stdout",
     "output_type": "stream",
     "text": [
      "[  3   8   9   4   9   8  12   8   4   7  -1  26  17  10   9  15  40  -2\n",
      " -10  -5]\n",
      "[ 3  7  4  9  8  8  9  7  9  4  4 19 10 25 -3 19  4 34  2 16]\n",
      "[ 9  8  9  9 12  3  8  8  3  4 22  6  4 -1 16 17  8 -4 20 -7]\n",
      "[  3   8   9   9   8   8   4   4   9   3   7  -8  14   4   7   2   2  19\n",
      "   9 -10]\n",
      "[ 9  9  7  4 12  9  8  8 12  3 -4 12  1 14  3 31 15 19 -2 21]\n",
      "[ 9  7  3  9  7  9  8  8  3  4 21 16 31 -7 24 24 16  7 32 35]\n",
      "[ 8  3  7  4  9  8  8  9  7  9 -6 14 17  8  0  1  5 20  4  5]\n",
      "[ 3  7  4  3  4  7 12  8  8  8  5 26 12 38 -3 24 34  3 11 39]\n",
      "[ 4  8  9  9  9  3  8  4  4  8 16  2  4 15  0 24 10 24 -5 19]\n",
      "[12  7 12  9  9  9  4 12  8  4 17 17 20 14 -1 -3 -8 25 13  8]\n",
      "[ 8  4  3  4  3  8  9  4  9  8 19 -3 35 28 -4  1 17 14 19 -6]\n",
      "[  8   3   4   4   3   3   8   9   4   9  22  36  14  -3  17  16  -9  24\n",
      "  -3 -14]\n",
      "[  7   8   4   3   7   3   4   8   9   9  15  17   8 -11   4  10  -2   9\n",
      "  -6   2]\n",
      "[ 3  8  8  8  4  7 12  9 12  9  5 33 13 -2 16  3 -1 27  0 23]\n",
      "[ 4  9  8 12  4  8  8  4  3  7  5 18  4  1 11 28  4 12 17  3]\n",
      "[  8   8   4  12   9   4   3   9   7  12   6   8   8  19 -15  12 -11   5\n",
      "  23  23]\n",
      "[  4   4   3   7   9   8   9   3   4   7 -17  13  28  15  15   5   0  31\n",
      "  10  24]\n",
      "[  4   4   7  12   9   8   9   8   9   4  15  15  10  19  -8   2 -10  21\n",
      "  20  21]\n"
     ]
    }
   ],
   "source": [
    "for sample in range(batch_size):\n",
    "    music = tf.reshape(sequence[sample,:,:],[-1,31])\n",
    "    #music = music[-20:,:]\n",
    "    row,col = music.shape\n",
    "    cantus_lst = [];\n",
    "    counter_lst = [];\n",
    "    for i in range(row):\n",
    "        clas = np.where(music[i,:-1] == 1)[0][0]\n",
    "        if music[i,-1] == 0:\n",
    "            cantus_lst.append(clas+43)\n",
    "        elif music[i,-1] == 1:\n",
    "            counter_lst.append(clas+55)\n",
    "    print(np.array(counter_lst) - np.array(cantus_lst))"
   ]
  },
  {
   "cell_type": "code",
   "execution_count": 56,
   "metadata": {},
   "outputs": [],
   "source": [
    "sample = 12\n",
    "music = tf.reshape(sequence[sample,:,:],[-1,31])\n",
    "#music = music[-20:,:]\n",
    "row,col = music.shape\n",
    "cantus_lst = [];\n",
    "counter_lst = [];\n",
    "for i in range(row):\n",
    "    clas = np.where(music[i,:-1] == 1)[0][0]\n",
    "    if music[i,-1] == 0:\n",
    "        cantus_lst.append(clas+43)\n",
    "    elif music[i,-1] == 1:\n",
    "        counter_lst.append(clas+55)"
   ]
  },
  {
   "cell_type": "code",
   "execution_count": 57,
   "metadata": {},
   "outputs": [
    {
     "data": {
      "text/plain": [
       "[57,\n",
       " 59,\n",
       " 66,\n",
       " 64,\n",
       " 61,\n",
       " 58,\n",
       " 59,\n",
       " 57,\n",
       " 54,\n",
       " 55,\n",
       " 48,\n",
       " 52,\n",
       " 53,\n",
       " 71,\n",
       " 65,\n",
       " 71,\n",
       " 71,\n",
       " 61,\n",
       " 62,\n",
       " 68]"
      ]
     },
     "execution_count": 57,
     "metadata": {},
     "output_type": "execute_result"
    }
   ],
   "source": [
    "cantus_lst"
   ]
  },
  {
   "cell_type": "code",
   "execution_count": 58,
   "metadata": {},
   "outputs": [
    {
     "data": {
      "text/plain": [
       "[64,\n",
       " 67,\n",
       " 70,\n",
       " 67,\n",
       " 68,\n",
       " 61,\n",
       " 63,\n",
       " 65,\n",
       " 63,\n",
       " 64,\n",
       " 63,\n",
       " 69,\n",
       " 61,\n",
       " 60,\n",
       " 69,\n",
       " 81,\n",
       " 69,\n",
       " 70,\n",
       " 56,\n",
       " 70]"
      ]
     },
     "execution_count": 58,
     "metadata": {},
     "output_type": "execute_result"
    }
   ],
   "source": [
    "counter_lst"
   ]
  },
  {
   "cell_type": "code",
   "execution_count": 59,
   "metadata": {},
   "outputs": [
    {
     "data": {
      "text/plain": [
       "array([  7,   8,   4,   3,   7,   3,   4,   8,   9,   9,  15,  17,   8,\n",
       "       -11,   4,  10,  -2,   9,  -6,   2], dtype=int64)"
      ]
     },
     "execution_count": 59,
     "metadata": {},
     "output_type": "execute_result"
    }
   ],
   "source": [
    "np.array(counter_lst) - np.array(cantus_lst) # real harmonic"
   ]
  },
  {
   "cell_type": "code",
   "execution_count": 60,
   "metadata": {},
   "outputs": [
    {
     "data": {
      "text/plain": [
       "array([  3,   3,  -3,   1,  -7,   2,   2,  -2,   1,  -1,   6,  -8,  -1,\n",
       "         9,  12, -12,   1, -14,  14], dtype=int64)"
      ]
     },
     "execution_count": 60,
     "metadata": {},
     "output_type": "execute_result"
    }
   ],
   "source": [
    "np.diff(counter_lst)"
   ]
  },
  {
   "cell_type": "code",
   "execution_count": 61,
   "metadata": {},
   "outputs": [
    {
     "data": {
      "text/plain": [
       "array([  2,   7,  -2,  -3,  -3,   1,  -2,  -3,   1,  -7,   4,   1,  18,\n",
       "        -6,   6,   0, -10,   1,   6], dtype=int64)"
      ]
     },
     "execution_count": 61,
     "metadata": {},
     "output_type": "execute_result"
    }
   ],
   "source": [
    "np.diff(cantus_lst)"
   ]
  },
  {
   "cell_type": "code",
   "execution_count": 63,
   "metadata": {},
   "outputs": [
    {
     "name": "stdout",
     "output_type": "stream",
     "text": [
      "Using preset Piano Merlin for piano\n",
      "Using preset Piano Merlin for piano\n"
     ]
    }
   ],
   "source": [
    "s = Session()\n",
    "s.tempo = 200\n",
    "piano1 = s.new_part(\"piano\")\n",
    "piano2 = s.new_part(\"piano\")\n",
    "\n",
    "def cantus():\n",
    "    for i in cantus_lst:\n",
    "        piano2.play_note(i,1,4)\n",
    "        \n",
    "def counter():\n",
    "    for i in counter_lst:\n",
    "        piano1.play_note(i,1,4)\n",
    "        \n",
    "        \n",
    "s.fast_forward_to_beat(100)\n",
    "\n",
    "s.start_transcribing()\n",
    "s.fork(counter)\n",
    "s.fork(cantus)\n",
    "s.wait_for_children_to_finish()\n",
    "performance = s.stop_transcribing()\n",
    "performance.to_score(title = \"First Species Counterpoint\", composer = \"My programme\",time_signature = \"4/4\").show_xml()"
   ]
  },
  {
   "cell_type": "code",
   "execution_count": null,
   "metadata": {},
   "outputs": [],
   "source": []
  }
 ],
 "metadata": {
  "kernelspec": {
   "display_name": "Python 3",
   "language": "python",
   "name": "python3"
  },
  "language_info": {
   "codemirror_mode": {
    "name": "ipython",
    "version": 3
   },
   "file_extension": ".py",
   "mimetype": "text/x-python",
   "name": "python",
   "nbconvert_exporter": "python",
   "pygments_lexer": "ipython3",
   "version": "3.7.6"
  }
 },
 "nbformat": 4,
 "nbformat_minor": 4
}
