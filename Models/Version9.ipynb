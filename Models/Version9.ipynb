{
 "cells": [
  {
   "cell_type": "markdown",
   "metadata": {},
   "source": [
    "***\n",
    "*Project:* Deep Active Inference\n",
    "\n",
    "*Author:* Jingwei Liu (Music department, UC San Diego)\n",
    "***\n",
    "\n",
    "# <span style=\"background-color:darkorange; color:white; padding:2px 6px\">Tutorial</span> \n",
    "\n",
    "\n",
    "# Version 9: Synchronization (maximum hidden states; one-side adaption)"
   ]
  },
  {
   "cell_type": "markdown",
   "metadata": {},
   "source": [
    "* Real-time synchronization\n",
    "\n",
    "* Access to maximum hidden states\n",
    "\n",
    "* One-side adaption (agent)\n",
    "\n",
    "* Minimize under categorical cross-entropy"
   ]
  },
  {
   "cell_type": "code",
   "execution_count": 1,
   "metadata": {},
   "outputs": [
    {
     "name": "stderr",
     "output_type": "stream",
     "text": [
      "WARNING:root:pynput was not found; mouse and keyboard input will not be available.\n",
      "Using TensorFlow backend.\n"
     ]
    }
   ],
   "source": [
    "import numpy as np\n",
    "import pandas as pd\n",
    "import csv\n",
    "from scamp import *\n",
    "import tensorflow as tf\n",
    "from tensorflow import keras\n",
    "from tensorflow.keras.layers import Dense,Flatten,Softmax,Input\n",
    "import keras.backend as K "
   ]
  },
  {
   "cell_type": "code",
   "execution_count": 2,
   "metadata": {},
   "outputs": [
    {
     "data": {
      "text/plain": [
       "<tf.Variable 'Variable:0' shape=(2, 20000) dtype=int32, numpy=\n",
       "array([[15, 12, 23, ..., 10, 13,  9],\n",
       "       [ 0,  1,  0, ...,  1,  0,  1]])>"
      ]
     },
     "execution_count": 2,
     "metadata": {},
     "output_type": "execute_result"
    }
   ],
   "source": [
    "df = pd.read_csv('Species.csv', sep=\",\",index_col = 0)\n",
    "n = df.shape[0]\n",
    "X = tf.Variable(np.zeros((2,n*2)),dtype='int32')  # any data tensor\n",
    "for i in range(0,2*n,2):\n",
    "    X[0,i].assign(df['Cantus'][i/2] - 43)\n",
    "    X[1,i].assign(0)\n",
    "    X[0,i+1].assign(df['Counter'][i/2] - 55)\n",
    "    X[1,i+1].assign(1)\n",
    "X"
   ]
  },
  {
   "cell_type": "code",
   "execution_count": 3,
   "metadata": {},
   "outputs": [
    {
     "data": {
      "text/plain": [
       "<tf.Tensor: shape=(20000, 31), dtype=float32, numpy=\n",
       "array([[0., 0., 0., ..., 0., 0., 0.],\n",
       "       [0., 0., 0., ..., 0., 0., 1.],\n",
       "       [0., 0., 0., ..., 0., 0., 0.],\n",
       "       ...,\n",
       "       [0., 0., 0., ..., 0., 0., 1.],\n",
       "       [0., 0., 0., ..., 0., 0., 0.],\n",
       "       [0., 0., 0., ..., 0., 0., 1.]], dtype=float32)>"
      ]
     },
     "execution_count": 3,
     "metadata": {},
     "output_type": "execute_result"
    }
   ],
   "source": [
    "depth = 30\n",
    "X = tf.concat([tf.one_hot(X[0,:], depth),tf.dtypes.cast(tf.reshape(X[1,:],[20000,1]),tf.float32)],1)\n",
    "X"
   ]
  },
  {
   "cell_type": "code",
   "execution_count": 4,
   "metadata": {},
   "outputs": [],
   "source": [
    "train_dataset = tf.data.Dataset.from_tensor_slices(X[:18000,:])\n",
    "test_dataset = tf.data.Dataset.from_tensor_slices(X[18000:,:])"
   ]
  },
  {
   "cell_type": "code",
   "execution_count": 5,
   "metadata": {},
   "outputs": [],
   "source": [
    "batch_size = 18"
   ]
  },
  {
   "cell_type": "code",
   "execution_count": 6,
   "metadata": {},
   "outputs": [],
   "source": [
    "n_steps = 20\n",
    "window_length = n_steps\n",
    "dataset = test_dataset.window(window_length, shift=2, drop_remainder=True)\n",
    "dataset = dataset.flat_map(lambda window: window.batch(window_length))\n",
    "shuffle_dataset = dataset.shuffle(20000).batch(batch_size,drop_remainder=True)"
   ]
  },
  {
   "cell_type": "code",
   "execution_count": 7,
   "metadata": {},
   "outputs": [],
   "source": [
    "def creat_model(batch_size,Type):\n",
    "    \n",
    "    rnn_units = 12\n",
    "    n_notes = 30\n",
    "\n",
    "    input_A = keras.layers.Input(shape=(None,31), name=\"input_A\") # (15, 20, 31)\n",
    "    input_B = keras.layers.Input(shape=(1,31), name=\"input_B\") # (15, 1, 31)\n",
    "\n",
    "    hidden1 = keras.layers.LSTM(rnn_units, return_sequences=True)(input_A) # (15,20,12)\n",
    "    hidden2 = keras.layers.LSTM(rnn_units, return_sequences=True)(hidden1) #(15,20,12)\n",
    "    \n",
    "    output_RNN = keras.layers.Dense(n_notes, activation='softmax', name = 'output_RNN')(hidden2) #(15,20,30)\n",
    "\n",
    "    e = keras.layers.Dense(1, activation='tanh')(hidden2) #(15,20,1)\n",
    "    e = keras.layers.Reshape([-1])(e) #(15,20)\n",
    "\n",
    "    alpha = keras.layers.Activation('softmax')(e) #(15,20)\n",
    "    c = keras.layers.Permute([2, 1])(keras.layers.RepeatVector(rnn_units)(alpha)) #(15,20,12)\n",
    "    c = keras.layers.Multiply()([hidden2, c]) #(15,20,12)\n",
    "    c = keras.layers.Lambda(lambda xin: K.sum(xin, axis=1), output_shape=(rnn_units,))(c) #(15,12)\n",
    "\n",
    "    output_A = keras.layers.Dense(n_notes, activation = 'softmax', name = 'output_A')(c) #(15,30) (0, cantus)\n",
    "    reshape = tf.reshape(output_A,[-1,1,30]) # (15, 1, 30)\n",
    "    if Type == \"_0_1\":\n",
    "        zero = tf.reshape(tf.zeros(batch_size),[batch_size,1,1])\n",
    "        input_output_A = tf.concat((reshape,zero),2) # (15, 1, 31)  (0, cantus)\n",
    "    elif Type == \"_1_0\":\n",
    "        one = tf.reshape(tf.ones(batch_size),[batch_size,1,1])\n",
    "        input_output_A = tf.concat((reshape,one),2) # (15, 1, 31)  (0, cantus)\n",
    "\n",
    "    aux1 = keras.layers.SimpleRNN(rnn_units)(input_B, initial_state=c) #(15,12)\n",
    "    aux2 = keras.layers.SimpleRNN(rnn_units)(input_output_A, initial_state=c) #(15,12)\n",
    "    output_B1 = keras.layers.Dense(n_notes, activation = 'softmax', name = 'output_B1')(aux1) #(15,30) (1, counter)\n",
    "    output_B2 = keras.layers.Dense(n_notes, activation = 'softmax', name = 'output_B2')(aux2) #(15,30) (1, counter)\n",
    "\n",
    "    model = keras.models.Model([input_A, input_B], [output_RNN, output_A, output_B1, output_B2])\n",
    "    \n",
    "    aux_model1 = keras.models.Model([input_A, input_B], output_B1)\n",
    "    aux_model2 = keras.models.Model(input_A, [output_A, output_B2])\n",
    "    \n",
    "    sub_model1 = keras.models.Model(input_A, output_A)\n",
    "    sub_model2 = keras.models.Model(input_A, output_B2)\n",
    "    \n",
    "    att_model = keras.models.Model([input_A, input_B], alpha)\n",
    "    \n",
    "    return model,aux_model1,aux_model2,sub_model1,sub_model2,att_model"
   ]
  },
  {
   "cell_type": "code",
   "execution_count": 8,
   "metadata": {},
   "outputs": [],
   "source": [
    "model_0_1_,aux_model1_0_1_,aux_model2_0_1_, sub_model1_0_1_,sub_model2_0_1_,att_model_0_1_ = creat_model(batch_size,'_0_1')\n",
    "model_1_0_,aux_model1_1_0_,aux_model2_1_0_, sub_model1_1_0_,sub_model2_1_0_,att_model_1_0_ = creat_model(batch_size,'_1_0')"
   ]
  },
  {
   "cell_type": "code",
   "execution_count": 9,
   "metadata": {},
   "outputs": [],
   "source": [
    "model_1_0_.load_weights('model_1_0_weight.h5')"
   ]
  },
  {
   "cell_type": "code",
   "execution_count": 30,
   "metadata": {},
   "outputs": [],
   "source": [
    "model_0_1_.load_weights('version9_model_0_1_step1_train1.h5')"
   ]
  },
  {
   "cell_type": "code",
   "execution_count": 36,
   "metadata": {},
   "outputs": [],
   "source": [
    "model_0_1_.load_weights('version9_model_0_1_step2_train1.h5')"
   ]
  },
  {
   "cell_type": "code",
   "execution_count": 21,
   "metadata": {},
   "outputs": [],
   "source": [
    "model_0_1_.load_weights('version9_model_0_1_step5_train1.h5')"
   ]
  },
  {
   "cell_type": "code",
   "execution_count": 54,
   "metadata": {},
   "outputs": [],
   "source": [
    "model_0_1_.load_weights('version9_model_0_1_step10_train1.h5')"
   ]
  },
  {
   "cell_type": "code",
   "execution_count": 42,
   "metadata": {},
   "outputs": [],
   "source": [
    "model_0_1_.load_weights('version9_model_0_1_step1_train1_random.h5')"
   ]
  },
  {
   "cell_type": "code",
   "execution_count": 46,
   "metadata": {},
   "outputs": [],
   "source": [
    "model_0_1_.load_weights('version9_model_0_1_step2_train1_random.h5')"
   ]
  },
  {
   "cell_type": "code",
   "execution_count": 48,
   "metadata": {},
   "outputs": [],
   "source": [
    "model_0_1_.load_weights('version9_model_0_1_step5_train1_random.h5')"
   ]
  },
  {
   "cell_type": "code",
   "execution_count": 22,
   "metadata": {},
   "outputs": [
    {
     "name": "stdout",
     "output_type": "stream",
     "text": [
      "action: [[ 5.  5.  5.  7.  9.  9.  9. 12. 12. 12.]\n",
      " [ 9.  9.  9.  9. 12. 12. 12. 12. 12. 12.]\n",
      " [ 5.  5.  5.  5.  5.  7.  5.  5.  5.  5.]\n",
      " [15. 15. 15. 15. 15. 15. 15. 15. 15. 15.]\n",
      " [15. 17. 17. 18. 20. 20. 20. 20. 20. 20.]\n",
      " [ 5.  5.  5.  5.  5.  5.  5.  5.  5.  5.]\n",
      " [ 5.  5.  5.  5.  5.  5.  5.  5.  5.  5.]\n",
      " [ 9.  9. 12. 12. 12. 12. 12. 12. 12. 12.]\n",
      " [ 9.  5.  7.  7.  5.  5.  5.  5.  5.  5.]\n",
      " [12. 12. 12. 12. 12. 12. 12. 12. 12. 12.]\n",
      " [ 5.  5.  5.  5.  5.  5.  5.  5.  5.  5.]\n",
      " [20. 20. 20. 20. 20. 20. 20. 20. 20. 20.]\n",
      " [ 5.  5.  5.  5.  5.  5.  5.  5.  5.  5.]\n",
      " [20. 20. 20. 20. 20. 20. 20. 20. 20. 20.]\n",
      " [18. 18. 18. 18. 18. 18. 18. 20. 20. 20.]\n",
      " [18. 18. 18. 18. 18. 18. 20. 20. 20. 20.]\n",
      " [ 5.  5.  5.  5.  5.  5.  5.  5.  5.  5.]\n",
      " [ 5.  5.  5.  5.  5.  5.  5.  5.  5.  5.]]\n",
      "observation: [[11. 12. 13. 13. 13. 16. 16. 17. 19. 19.]\n",
      " [13. 13. 15. 17. 17. 19. 19. 19. 19. 19.]\n",
      " [ 9.  9. 11. 13. 13. 11. 11. 11. 11. 11.]\n",
      " [20. 19. 19. 19. 19. 19. 19. 19. 19. 19.]\n",
      " [22. 22. 22. 23. 23. 23. 23. 22. 22. 22.]\n",
      " [ 9. 11. 11. 11. 11. 11. 11. 11. 11. 11.]\n",
      " [ 9. 11. 11. 11. 11. 11.  8.  8.  8.  8.]\n",
      " [16. 17. 17. 17. 17. 17. 17. 17. 17. 17.]\n",
      " [11. 13. 11. 11. 11. 11. 11. 11. 11. 11.]\n",
      " [17. 17. 17. 17. 17. 17. 17. 19. 19. 19.]\n",
      " [11. 11. 11. 11. 11. 11. 11.  8.  8.  8.]\n",
      " [26. 26. 27. 28. 26. 26. 26. 26. 26. 26.]\n",
      " [ 9. 10. 11. 11. 11. 11. 11. 11. 11. 11.]\n",
      " [27. 27. 27. 27. 26. 27. 27. 27. 27. 27.]\n",
      " [20. 20. 22. 22. 22. 22. 22. 22. 22. 22.]\n",
      " [23. 23. 23. 22. 22. 22. 22. 22. 22. 22.]\n",
      " [11. 11. 11. 11. 11. 11.  8.  8.  8.  8.]\n",
      " [ 9. 11. 11. 11. 11. 11.  8.  8.  8.  8.]]\n",
      "\n",
      "act/(pred_act_weight)      step0      step1      step2      step3      step4      step5      step6      step7      step8      step9sequence match\n",
      "  sequence0   5/(0.11)   5/(0.09)   5/(0.10)   7/(0.09)   9/(0.08)   9/(0.09)   9/(0.11)  12/(0.10)  12/(0.11)  12/(0.10)       0.10\n",
      "  sequence1   9/(0.09)   9/(0.09)   9/(0.10)   9/(0.11)  12/(0.11)  12/(0.12)  12/(0.10)  12/(0.10)  12/(0.10)  12/(0.09)       0.10\n",
      "  sequence2   5/(0.10)   5/(0.10)   5/(0.10)   5/(0.09)   5/(0.10)   7/(0.10)   5/(0.11)   5/(0.12)   5/(0.12)   5/(0.12)       0.11\n",
      "  sequence3  15/(0.10)  15/(0.11)  15/(0.11)  15/(0.10)  15/(0.10)  15/(0.09)  15/(0.08)  15/(0.08)  15/(0.08)  15/(0.07)       0.09\n",
      "  sequence4  15/(0.10)  17/(0.10)  17/(0.10)  18/(0.10)  20/(0.09)  20/(0.09)  20/(0.09)  20/(0.09)  20/(0.08)  20/(0.08)       0.09\n",
      "  sequence5   5/(0.11)   5/(0.11)   5/(0.10)   5/(0.11)   5/(0.12)   5/(0.12)   5/(0.12)   5/(0.13)   5/(0.13)   5/(0.12)       0.12\n",
      "  sequence6   5/(0.10)   5/(0.10)   5/(0.10)   5/(0.10)   5/(0.11)   5/(0.12)   5/(0.12)   5/(0.13)   5/(0.13)   5/(0.12)       0.11\n",
      "  sequence7   9/(0.10)   9/(0.10)  12/(0.11)  12/(0.12)  12/(0.11)  12/(0.11)  12/(0.11)  12/(0.10)  12/(0.09)  12/(0.09)       0.10\n",
      "  sequence8   9/(0.08)   5/(0.10)   7/(0.10)   7/(0.10)   5/(0.11)   5/(0.12)   5/(0.12)   5/(0.12)   5/(0.12)   5/(0.12)       0.11\n",
      "  sequence9  12/(0.11)  12/(0.10)  12/(0.10)  12/(0.10)  12/(0.10)  12/(0.09)  12/(0.09)  12/(0.09)  12/(0.09)  12/(0.08)       0.09\n",
      " sequence10   5/(0.11)   5/(0.10)   5/(0.09)   5/(0.11)   5/(0.11)   5/(0.12)   5/(0.12)   5/(0.13)   5/(0.13)   5/(0.13)       0.11\n",
      " sequence11  20/(0.12)  20/(0.11)  20/(0.11)  20/(0.12)  20/(0.12)  20/(0.11)  20/(0.11)  20/(0.11)  20/(0.11)  20/(0.11)       0.11\n",
      " sequence12   5/(0.13)   5/(0.12)   5/(0.11)   5/(0.10)   5/(0.12)   5/(0.12)   5/(0.12)   5/(0.12)   5/(0.13)   5/(0.13)       0.12\n",
      " sequence13  20/(0.11)  20/(0.12)  20/(0.12)  20/(0.12)  20/(0.12)  20/(0.11)  20/(0.11)  20/(0.11)  20/(0.11)  20/(0.11)       0.11\n",
      " sequence14  18/(0.10)  18/(0.10)  18/(0.10)  18/(0.10)  18/(0.10)  18/(0.10)  18/(0.10)  20/(0.08)  20/(0.08)  20/(0.08)       0.09\n",
      " sequence15  18/(0.10)  18/(0.10)  18/(0.10)  18/(0.10)  18/(0.09)  18/(0.10)  20/(0.08)  20/(0.09)  20/(0.09)  20/(0.08)       0.09\n",
      " sequence16   5/(0.10)   5/(0.10)   5/(0.11)   5/(0.11)   5/(0.11)   5/(0.12)   5/(0.12)   5/(0.12)   5/(0.12)   5/(0.12)       0.11\n",
      " sequence17   5/(0.09)   5/(0.09)   5/(0.10)   5/(0.10)   5/(0.11)   5/(0.12)   5/(0.12)   5/(0.13)   5/(0.13)   5/(0.13)       0.11\n",
      " step match       0.10       0.10       0.10       0.10       0.11       0.11       0.11       0.11       0.11       0.11       0.11\n",
      "\n",
      "obv/(pred_obv_weight)      step0      step1      step2      step3      step4      step5      step6      step7      step8      step9sequence match\n",
      "  sequence0  11/(0.46)  12/(0.05)  13/(0.09)  13/(0.09)  13/(0.12)  16/(0.03)  16/(0.03)  17/(0.31)  19/(0.35)  19/(0.36)       0.19\n",
      "  sequence1  13/(0.12)  13/(0.15)  15/(0.10)  17/(0.27)  17/(0.29)  19/(0.39)  19/(0.41)  19/(0.39)  19/(0.40)  19/(0.41)       0.30\n",
      "  sequence2   9/(0.11)   9/(0.11)  11/(0.66)  13/(0.06)  13/(0.08)  11/(0.52)  11/(0.54)  11/(0.59)  11/(0.65)  11/(0.68)       0.40\n",
      "  sequence3  20/(0.05)  19/(0.32)  19/(0.39)  19/(0.43)  19/(0.42)  19/(0.42)  19/(0.41)  19/(0.40)  19/(0.42)  19/(0.42)       0.37\n",
      "  sequence4  22/(0.28)  22/(0.33)  22/(0.34)  23/(0.09)  23/(0.09)  23/(0.08)  23/(0.08)  22/(0.29)  22/(0.29)  22/(0.29)       0.22\n",
      "  sequence5   9/(0.10)  11/(0.66)  11/(0.66)  11/(0.68)  11/(0.68)  11/(0.69)  11/(0.70)  11/(0.71)  11/(0.70)  11/(0.70)       0.63\n",
      "  sequence6   9/(0.09)  11/(0.64)  11/(0.66)  11/(0.68)  11/(0.68)  11/(0.70)   8/(0.03)   8/(0.03)   8/(0.03)   8/(0.03)       0.36\n",
      "  sequence7  16/(0.04)  17/(0.27)  17/(0.29)  17/(0.27)  17/(0.26)  17/(0.27)  17/(0.28)  17/(0.29)  17/(0.28)  17/(0.27)       0.25\n",
      "  sequence8  11/(0.37)  13/(0.10)  11/(0.48)  11/(0.52)  11/(0.56)  11/(0.57)  11/(0.64)  11/(0.67)  11/(0.68)  11/(0.70)       0.53\n",
      "  sequence9  17/(0.29)  17/(0.28)  17/(0.28)  17/(0.27)  17/(0.26)  17/(0.27)  17/(0.26)  19/(0.41)  19/(0.43)  19/(0.44)       0.32\n",
      " sequence10  11/(0.69)  11/(0.67)  11/(0.67)  11/(0.68)  11/(0.68)  11/(0.69)  11/(0.70)   8/(0.03)   8/(0.03)   8/(0.03)       0.49\n",
      " sequence11  26/(0.32)  26/(0.44)  27/(0.22)  28/(0.10)  26/(0.50)  26/(0.50)  26/(0.49)  26/(0.49)  26/(0.49)  26/(0.49)       0.40\n",
      " sequence12   9/(0.10)  10/(0.03)  11/(0.67)  11/(0.65)  11/(0.65)  11/(0.68)  11/(0.69)  11/(0.70)  11/(0.70)  11/(0.70)       0.56\n",
      " sequence13  27/(0.20)  27/(0.22)  27/(0.22)  27/(0.22)  26/(0.50)  27/(0.22)  27/(0.22)  27/(0.22)  27/(0.22)  27/(0.22)       0.25\n",
      " sequence14  20/(0.05)  20/(0.05)  22/(0.33)  22/(0.34)  22/(0.34)  22/(0.33)  22/(0.33)  22/(0.31)  22/(0.28)  22/(0.27)       0.26\n",
      " sequence15  23/(0.11)  23/(0.10)  23/(0.10)  22/(0.31)  22/(0.33)  22/(0.34)  22/(0.32)  22/(0.27)  22/(0.27)  22/(0.28)       0.24\n",
      " sequence16  11/(0.64)  11/(0.59)  11/(0.58)  11/(0.67)  11/(0.69)  11/(0.70)   8/(0.03)   8/(0.03)   8/(0.03)   8/(0.03)       0.40\n",
      " sequence17   9/(0.10)  11/(0.63)  11/(0.59)  11/(0.66)  11/(0.69)  11/(0.70)   8/(0.03)   8/(0.03)   8/(0.03)   8/(0.03)       0.35\n",
      " step match       0.23       0.31       0.41       0.39       0.43       0.45       0.34       0.34       0.35       0.35       0.36\n"
     ]
    }
   ],
   "source": [
    "# version 4/5/6/7/8/9/10 generate sequence\n",
    "\n",
    "seq_length = 10\n",
    "\n",
    "generate_mode = \"max\"\n",
    "#generate_mode = \"random\"\n",
    "\n",
    "for window in shuffle_dataset.take(1):\n",
    "    sequence = window\n",
    "    initial = window\n",
    "    \n",
    "    pred_0_1_1 = np.zeros((batch_size,seq_length))\n",
    "    pred_1_0_0 = np.zeros((batch_size,seq_length))\n",
    "    \n",
    "    obv_weight = np.zeros((batch_size,seq_length))\n",
    "    act_weight = np.zeros((batch_size,seq_length))\n",
    "\n",
    "    for s in range(seq_length):\n",
    "\n",
    "        [pred_o,a] = aux_model2_0_1_.predict(initial) #(18,30)\n",
    "\n",
    "        for i in range(batch_size):\n",
    "            if generate_mode == \"max\":\n",
    "                pred_0_1_1[i,s] = np.where(a[i,:] == np.max(a[i,:]))[0][0]\n",
    "            elif generate_mode == \"random\":\n",
    "                pred_0_1_1[i,s] = np.random.choice(30, 1, p=a[i,:])[0]\n",
    "\n",
    "\n",
    "        [pred_a,o] = aux_model2_1_0_.predict(initial) #(18,30)\n",
    "        \n",
    "        for i in range(batch_size):\n",
    "            if generate_mode == \"max\":\n",
    "                pred_1_0_0[i,s] = np.where(o[i,:] == np.max(o[i,:]))[0][0]\n",
    "            elif generate_mode == \"random\":\n",
    "                pred_1_0_0[i,s] = np.random.choice(30, 1, p=o[i,:])[0]\n",
    "            \n",
    "            index = int(pred_1_0_0[i,s])\n",
    "            obv_weight[i,s] = pred_o[i,index]\n",
    "            \n",
    "            index = int(pred_0_1_1[i,s])\n",
    "            act_weight[i,s] = pred_a[i,index]\n",
    "            \n",
    "        \n",
    "        one_hot = tf.one_hot(pred_0_1_1[:,s], 30) #(18,30)\n",
    "        reshape = tf.reshape(one_hot,[batch_size,1,30])\n",
    "        one = tf.reshape(tf.ones(batch_size),[batch_size,1,1])\n",
    "        out_0_1_1 = tf.concat((reshape,one),2) # (18, 1, 31)  (1, counter)\n",
    "        \n",
    "        one_hot = tf.one_hot(pred_1_0_0[:,s], 30) #(18,30)\n",
    "        reshape = tf.reshape(one_hot,[batch_size,1,30])\n",
    "        zero = tf.reshape(tf.zeros(batch_size),[batch_size,1,1])\n",
    "        out_1_0_0 = tf.concat((reshape,zero),2) # (18, 1, 31)  (1, counter)\n",
    "\n",
    "        sequence = tf.concat((sequence,out_1_0_0,out_0_1_1),1)\n",
    "        initial = sequence[:,-20:,:]\n",
    "        \n",
    "    print('action:',pred_0_1_1)\n",
    "    print('observation:',pred_1_0_0)\n",
    "    print('')\n",
    "    \n",
    "    \n",
    "    step = [];\n",
    "    for j in range(seq_length):\n",
    "        step.append(\"step\" + str(j))\n",
    "    step.append(\"sequence match\")\n",
    "        \n",
    "    sample = [];\n",
    "    for i in range(batch_size):\n",
    "        sample.append(\"sequence\" + str(i))\n",
    "    sample.append(\"step match\")\n",
    "    \n",
    "    table = [];\n",
    "    for i in range(batch_size):\n",
    "        seq = [];\n",
    "        for j in range(seq_length):\n",
    "            seq.append(str(int(pred_0_1_1[i,j])) + \"/(\" + '%.2f'%(act_weight[i,j]) + \")\")\n",
    "        match_a = np.sum(act_weight[i,:])/seq_length\n",
    "        seq.append('%.2f'%(match_a))\n",
    "        table.append(seq)\n",
    "        \n",
    "    last_row = [];\n",
    "    for j in range(seq_length):\n",
    "        match_a = np.sum(act_weight[:,j])/batch_size\n",
    "        last_row.append('%.2f'%(match_a))\n",
    "    total_a = np.sum(act_weight)/(seq_length*batch_size)\n",
    "    last_row.append('%.2f'%(total_a))\n",
    "    table.append(last_row)\n",
    "    \n",
    "    format_row = \"{:>11}\" * (seq_length + 2)\n",
    "    print(format_row.format(\"act/(pred_act_weight)\", *step))\n",
    "    for team, row in zip(sample, table):\n",
    "        print(format_row.format(team, *row))\n",
    "\n",
    "    print('')\n",
    "        \n",
    "    table2 = [];\n",
    "    for i in range(batch_size):\n",
    "        seq = [];\n",
    "        for j in range(seq_length):\n",
    "            seq.append(str(int(pred_1_0_0[i,j])) + \"/(\" + '%.2f'%(obv_weight[i,j]) + \")\")\n",
    "        match_o = np.sum(obv_weight[i,:])/seq_length\n",
    "        seq.append('%.2f'%(match_o))\n",
    "        table2.append(seq)\n",
    "        \n",
    "    last_row = [];\n",
    "    for j in range(seq_length):\n",
    "        match_o = np.sum(obv_weight[:,j])/batch_size\n",
    "        last_row.append('%.2f'%(match_o))\n",
    "    total_o = np.sum(obv_weight)/(seq_length*batch_size)\n",
    "    last_row.append('%.2f'%(total_o))\n",
    "    table2.append(last_row)\n",
    "    \n",
    "    format_row = \"{:>11}\" * (seq_length + 2)\n",
    "    print(format_row.format(\"obv/(pred_obv_weight)\", *step))\n",
    "    for team, row in zip(sample, table2):\n",
    "        print(format_row.format(team, *row))"
   ]
  },
  {
   "cell_type": "code",
   "execution_count": 56,
   "metadata": {},
   "outputs": [],
   "source": [
    "sample = 3\n",
    "music = tf.reshape(sequence[6,:,:],[-1,31])\n",
    "#music = music[-20:,:]\n",
    "row,col = music.shape\n",
    "cantus_lst = [];\n",
    "counter_lst = [];\n",
    "for i in range(row):\n",
    "    clas = np.where(music[i,:-1] == 1)[0][0]\n",
    "    if music[i,-1] == 0:\n",
    "        cantus_lst.append(clas+43)\n",
    "    elif music[i,-1] == 1:\n",
    "        counter_lst.append(clas+55)"
   ]
  },
  {
   "cell_type": "code",
   "execution_count": 57,
   "metadata": {},
   "outputs": [
    {
     "data": {
      "text/plain": [
       "[64,\n",
       " 61,\n",
       " 56,\n",
       " 58,\n",
       " 59,\n",
       " 56,\n",
       " 52,\n",
       " 51,\n",
       " 47,\n",
       " 45,\n",
       " 52,\n",
       " 54,\n",
       " 55,\n",
       " 54,\n",
       " 54,\n",
       " 54,\n",
       " 54,\n",
       " 51,\n",
       " 51,\n",
       " 51]"
      ]
     },
     "execution_count": 57,
     "metadata": {},
     "output_type": "execute_result"
    }
   ],
   "source": [
    "cantus_lst"
   ]
  },
  {
   "cell_type": "code",
   "execution_count": 58,
   "metadata": {},
   "outputs": [
    {
     "data": {
      "text/plain": [
       "[68,\n",
       " 70,\n",
       " 65,\n",
       " 66,\n",
       " 62,\n",
       " 59,\n",
       " 61,\n",
       " 63,\n",
       " 55,\n",
       " 57,\n",
       " 60,\n",
       " 60,\n",
       " 60,\n",
       " 60,\n",
       " 60,\n",
       " 60,\n",
       " 60,\n",
       " 60,\n",
       " 60,\n",
       " 60]"
      ]
     },
     "execution_count": 58,
     "metadata": {},
     "output_type": "execute_result"
    }
   ],
   "source": [
    "counter_lst"
   ]
  },
  {
   "cell_type": "code",
   "execution_count": 59,
   "metadata": {},
   "outputs": [
    {
     "data": {
      "text/plain": [
       "array([ 4,  9,  9,  8,  3,  3,  9, 12,  8, 12,  8,  6,  5,  6,  6,  6,  6,\n",
       "        9,  9,  9], dtype=int64)"
      ]
     },
     "execution_count": 59,
     "metadata": {},
     "output_type": "execute_result"
    }
   ],
   "source": [
    "np.array(counter_lst) - np.array(cantus_lst) # real harmonic"
   ]
  },
  {
   "cell_type": "code",
   "execution_count": 27,
   "metadata": {},
   "outputs": [
    {
     "name": "stdout",
     "output_type": "stream",
     "text": [
      "Using preset Piano Merlin for piano\n",
      "Using preset Piano Merlin for piano\n"
     ]
    }
   ],
   "source": [
    "s = Session()\n",
    "s.tempo = 180\n",
    "piano1 = s.new_part(\"piano\")\n",
    "piano2 = s.new_part(\"piano\")\n",
    "\n",
    "def cantus():\n",
    "    for i in cantus_lst:\n",
    "        piano2.play_note(i,1,4)\n",
    "        \n",
    "def counter():\n",
    "    for i in counter_lst:\n",
    "        piano1.play_note(i,1,4)\n",
    "        \n",
    "        \n",
    "s.fast_forward_to_beat(100)\n",
    "\n",
    "s.start_transcribing()\n",
    "s.fork(counter)\n",
    "s.fork(cantus)\n",
    "s.wait_for_children_to_finish()\n",
    "performance = s.stop_transcribing()\n",
    "performance.to_score(title = \"First Species Counterpoint\", composer = \"My programme\",time_signature = \"4/4\").show_xml()"
   ]
  },
  {
   "cell_type": "code",
   "execution_count": null,
   "metadata": {},
   "outputs": [],
   "source": []
  }
 ],
 "metadata": {
  "kernelspec": {
   "display_name": "Python 3",
   "language": "python",
   "name": "python3"
  },
  "language_info": {
   "codemirror_mode": {
    "name": "ipython",
    "version": 3
   },
   "file_extension": ".py",
   "mimetype": "text/x-python",
   "name": "python",
   "nbconvert_exporter": "python",
   "pygments_lexer": "ipython3",
   "version": "3.7.6"
  }
 },
 "nbformat": 4,
 "nbformat_minor": 4
}
