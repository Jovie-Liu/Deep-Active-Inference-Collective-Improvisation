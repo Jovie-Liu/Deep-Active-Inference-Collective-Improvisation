{
 "cells": [
  {
   "cell_type": "markdown",
   "metadata": {},
   "source": [
    "***\n",
    "*Project:* Deep Active Inference\n",
    "\n",
    "*Author:* Jingwei Liu (Music department, UC San Diego)\n",
    "***\n",
    "\n",
    "# <span style=\"background-color:darkorange; color:white; padding:2px 6px\">Tutorial</span> \n",
    "\n",
    "\n",
    "# Version 6: Synchronization (hidden state distributions; two-side adaption)"
   ]
  },
  {
   "cell_type": "markdown",
   "metadata": {},
   "source": [
    "* Real-time synchronization\n",
    "\n",
    "* Access to hidden state distributions\n",
    "\n",
    "* Two-side adaption\n",
    "\n",
    "* Minimize under KL-Divergence"
   ]
  },
  {
   "cell_type": "code",
   "execution_count": 1,
   "metadata": {},
   "outputs": [
    {
     "name": "stderr",
     "output_type": "stream",
     "text": [
      "WARNING:root:pynput was not found; mouse and keyboard input will not be available.\n",
      "Using TensorFlow backend.\n"
     ]
    }
   ],
   "source": [
    "import numpy as np\n",
    "import pandas as pd\n",
    "import csv\n",
    "from scamp import *\n",
    "import tensorflow as tf\n",
    "from tensorflow import keras\n",
    "from tensorflow.keras.layers import Dense,Flatten,Softmax,Input\n",
    "import keras.backend as K "
   ]
  },
  {
   "cell_type": "code",
   "execution_count": 2,
   "metadata": {},
   "outputs": [
    {
     "data": {
      "text/plain": [
       "<tf.Variable 'Variable:0' shape=(2, 20000) dtype=int32, numpy=\n",
       "array([[15, 12, 23, ..., 10, 13,  9],\n",
       "       [ 0,  1,  0, ...,  1,  0,  1]])>"
      ]
     },
     "execution_count": 2,
     "metadata": {},
     "output_type": "execute_result"
    }
   ],
   "source": [
    "df = pd.read_csv('Species.csv', sep=\",\",index_col = 0)\n",
    "n = df.shape[0]\n",
    "X = tf.Variable(np.zeros((2,n*2)),dtype='int32')  # any data tensor\n",
    "for i in range(0,2*n,2):\n",
    "    X[0,i].assign(df['Cantus'][i/2] - 43)\n",
    "    X[1,i].assign(0)\n",
    "    X[0,i+1].assign(df['Counter'][i/2] - 55)\n",
    "    X[1,i+1].assign(1)\n",
    "X"
   ]
  },
  {
   "cell_type": "code",
   "execution_count": 3,
   "metadata": {},
   "outputs": [
    {
     "data": {
      "text/plain": [
       "<tf.Tensor: shape=(20000, 31), dtype=float32, numpy=\n",
       "array([[0., 0., 0., ..., 0., 0., 0.],\n",
       "       [0., 0., 0., ..., 0., 0., 1.],\n",
       "       [0., 0., 0., ..., 0., 0., 0.],\n",
       "       ...,\n",
       "       [0., 0., 0., ..., 0., 0., 1.],\n",
       "       [0., 0., 0., ..., 0., 0., 0.],\n",
       "       [0., 0., 0., ..., 0., 0., 1.]], dtype=float32)>"
      ]
     },
     "execution_count": 3,
     "metadata": {},
     "output_type": "execute_result"
    }
   ],
   "source": [
    "depth = 30\n",
    "X = tf.concat([tf.one_hot(X[0,:], depth),tf.dtypes.cast(tf.reshape(X[1,:],[20000,1]),tf.float32)],1)\n",
    "X"
   ]
  },
  {
   "cell_type": "code",
   "execution_count": 4,
   "metadata": {},
   "outputs": [],
   "source": [
    "train_dataset = tf.data.Dataset.from_tensor_slices(X[:18000,:])\n",
    "test_dataset = tf.data.Dataset.from_tensor_slices(X[18000:,:])"
   ]
  },
  {
   "cell_type": "code",
   "execution_count": 5,
   "metadata": {},
   "outputs": [],
   "source": [
    "batch_size = 18"
   ]
  },
  {
   "cell_type": "code",
   "execution_count": 6,
   "metadata": {},
   "outputs": [],
   "source": [
    "n_steps = 20\n",
    "window_length = n_steps\n",
    "dataset = test_dataset.window(window_length, shift=2, drop_remainder=True)\n",
    "dataset = dataset.flat_map(lambda window: window.batch(window_length))\n",
    "shuffle_dataset = dataset.shuffle(20000).batch(batch_size,drop_remainder=True)"
   ]
  },
  {
   "cell_type": "code",
   "execution_count": 7,
   "metadata": {},
   "outputs": [],
   "source": [
    "def creat_model(batch_size,Type):\n",
    "    \n",
    "    rnn_units = 12\n",
    "    n_notes = 30\n",
    "\n",
    "    input_A = keras.layers.Input(shape=(None,31), name=\"input_A\") # (15, 20, 31)\n",
    "    input_B = keras.layers.Input(shape=(1,31), name=\"input_B\") # (15, 1, 31)\n",
    "\n",
    "    hidden1 = keras.layers.LSTM(rnn_units, return_sequences=True)(input_A) # (15,20,12)\n",
    "    hidden2 = keras.layers.LSTM(rnn_units, return_sequences=True)(hidden1) #(15,20,12)\n",
    "    \n",
    "    output_RNN = keras.layers.Dense(n_notes, activation='softmax', name = 'output_RNN')(hidden2) #(15,20,30)\n",
    "\n",
    "    e = keras.layers.Dense(1, activation='tanh')(hidden2) #(15,20,1)\n",
    "    e = keras.layers.Reshape([-1])(e) #(15,20)\n",
    "\n",
    "    alpha = keras.layers.Activation('softmax')(e) #(15,20)\n",
    "    c = keras.layers.Permute([2, 1])(keras.layers.RepeatVector(rnn_units)(alpha)) #(15,20,12)\n",
    "    c = keras.layers.Multiply()([hidden2, c]) #(15,20,12)\n",
    "    c = keras.layers.Lambda(lambda xin: K.sum(xin, axis=1), output_shape=(rnn_units,))(c) #(15,12)\n",
    "\n",
    "    output_A = keras.layers.Dense(n_notes, activation = 'softmax', name = 'output_A')(c) #(15,30) (0, cantus)\n",
    "    reshape = tf.reshape(output_A,[-1,1,30]) # (15, 1, 30)\n",
    "    if Type == \"_0_1\":\n",
    "        zero = tf.reshape(tf.zeros(batch_size),[batch_size,1,1])\n",
    "        input_output_A = tf.concat((reshape,zero),2) # (15, 1, 31)  (0, cantus)\n",
    "    elif Type == \"_1_0\":\n",
    "        one = tf.reshape(tf.ones(batch_size),[batch_size,1,1])\n",
    "        input_output_A = tf.concat((reshape,one),2) # (15, 1, 31)  (0, cantus)\n",
    "\n",
    "    aux1 = keras.layers.SimpleRNN(rnn_units)(input_B, initial_state=c) #(15,12)\n",
    "    aux2 = keras.layers.SimpleRNN(rnn_units)(input_output_A, initial_state=c) #(15,12)\n",
    "    output_B1 = keras.layers.Dense(n_notes, activation = 'softmax', name = 'output_B1')(aux1) #(15,30) (1, counter)\n",
    "    output_B2 = keras.layers.Dense(n_notes, activation = 'softmax', name = 'output_B2')(aux2) #(15,30) (1, counter)\n",
    "\n",
    "    model = keras.models.Model([input_A, input_B], [output_RNN, output_A, output_B1, output_B2])\n",
    "    \n",
    "    aux_model1 = keras.models.Model([input_A, input_B], output_B1)\n",
    "    aux_model2 = keras.models.Model(input_A, [output_A, output_B2])\n",
    "    \n",
    "    sub_model1 = keras.models.Model(input_A, output_A)\n",
    "    sub_model2 = keras.models.Model(input_A, output_B2)\n",
    "    \n",
    "    att_model = keras.models.Model([input_A, input_B], alpha)\n",
    "    \n",
    "    return model,aux_model1,aux_model2,sub_model1,sub_model2,att_model"
   ]
  },
  {
   "cell_type": "code",
   "execution_count": 8,
   "metadata": {},
   "outputs": [],
   "source": [
    "model_0_1_,aux_model1_0_1_,aux_model2_0_1_, sub_model1_0_1_,sub_model2_0_1_,att_model_0_1_ = creat_model(batch_size,'_0_1')\n",
    "model_1_0_,aux_model1_1_0_,aux_model2_1_0_, sub_model1_1_0_,sub_model2_1_0_,att_model_1_0_ = creat_model(batch_size,'_1_0')"
   ]
  },
  {
   "cell_type": "code",
   "execution_count": 9,
   "metadata": {},
   "outputs": [],
   "source": [
    "model_0_1_.load_weights('version6_model_0_1_step1_train1.h5')\n",
    "model_1_0_.load_weights('version6_model_1_0_step1_train1.h5')"
   ]
  },
  {
   "cell_type": "code",
   "execution_count": 24,
   "metadata": {},
   "outputs": [],
   "source": [
    "model_0_1_.load_weights('version6_model_0_1_step2_train1.h5')\n",
    "model_1_0_.load_weights('version6_model_1_0_step2_train1.h5')"
   ]
  },
  {
   "cell_type": "code",
   "execution_count": 15,
   "metadata": {},
   "outputs": [],
   "source": [
    "model_0_1_.load_weights('version6_model_0_1_step1_train1_random.h5')\n",
    "model_1_0_.load_weights('version6_model_1_0_step1_train1_random.h5')"
   ]
  },
  {
   "cell_type": "code",
   "execution_count": 18,
   "metadata": {},
   "outputs": [],
   "source": [
    "model_0_1_.load_weights('version6_model_0_1_step2_train1_random.h5')\n",
    "model_1_0_.load_weights('version6_model_1_0_step2_train1_random.h5')"
   ]
  },
  {
   "cell_type": "code",
   "execution_count": 21,
   "metadata": {},
   "outputs": [],
   "source": [
    "model_0_1_.load_weights('version6_model_0_1_step5_train1_random.h5')\n",
    "model_1_0_.load_weights('version6_model_1_0_step5_train1_random.h5')"
   ]
  },
  {
   "cell_type": "code",
   "execution_count": 27,
   "metadata": {},
   "outputs": [],
   "source": [
    "model_0_1_.load_weights('version6_model_0_1_step10_train1_random.h5')\n",
    "model_1_0_.load_weights('version6_model_1_0_step10_train1_random.h5')"
   ]
  },
  {
   "cell_type": "code",
   "execution_count": 25,
   "metadata": {},
   "outputs": [
    {
     "name": "stdout",
     "output_type": "stream",
     "text": [
      "action: [[3. 3. 3. 3. 3. 3. 3. 3. 3. 3.]\n",
      " [3. 3. 3. 3. 3. 3. 3. 3. 3. 3.]\n",
      " [3. 3. 3. 3. 3. 3. 3. 1. 3. 3.]\n",
      " [3. 3. 3. 3. 3. 3. 3. 3. 3. 3.]\n",
      " [3. 3. 3. 3. 3. 3. 3. 3. 3. 3.]\n",
      " [3. 3. 3. 3. 3. 3. 3. 3. 3. 3.]\n",
      " [3. 3. 3. 3. 3. 3. 5. 3. 3. 3.]\n",
      " [3. 3. 3. 3. 3. 3. 3. 3. 3. 3.]\n",
      " [3. 3. 3. 3. 3. 3. 3. 3. 2. 3.]\n",
      " [3. 3. 3. 3. 3. 3. 3. 3. 3. 3.]\n",
      " [4. 3. 3. 3. 3. 3. 3. 3. 3. 3.]\n",
      " [3. 3. 3. 3. 3. 3. 3. 3. 3. 3.]\n",
      " [3. 3. 3. 3. 3. 3. 3. 3. 3. 3.]\n",
      " [3. 3. 3. 3. 3. 3. 3. 3. 3. 3.]\n",
      " [3. 3. 3. 3. 3. 3. 3. 3. 3. 3.]\n",
      " [3. 3. 3. 3. 3. 3. 3. 3. 3. 3.]\n",
      " [3. 3. 3. 3. 3. 3. 3. 3. 3. 3.]\n",
      " [3. 3. 3. 3. 3. 3. 3. 3. 3. 3.]]\n",
      "observation: [[ 9.  9.  9.  9.  9.  9.  9.  9.  9.  9.]\n",
      " [ 9.  9.  9.  9.  9.  9.  9.  9.  9.  9.]\n",
      " [ 9.  9.  9.  9.  9.  9.  9.  9.  9.  9.]\n",
      " [ 9.  9.  9.  9.  9.  9.  9.  9.  9.  9.]\n",
      " [ 9.  9.  9.  9.  3.  9.  9.  9.  9.  9.]\n",
      " [ 9.  9.  9.  9.  9.  9.  9.  9.  9.  9.]\n",
      " [ 9.  9.  9.  9.  9. 12.  9.  9.  9.  9.]\n",
      " [ 9.  9.  9.  9.  9.  9.  9.  9.  9.  9.]\n",
      " [ 9.  9.  9.  9.  9.  9.  9.  9.  9.  9.]\n",
      " [ 9.  9.  9.  9.  9.  9.  9.  9.  9.  9.]\n",
      " [ 9.  9.  9.  9.  9.  9.  9.  9.  9.  9.]\n",
      " [ 9.  9.  9.  9.  9.  9.  9.  9.  9.  9.]\n",
      " [ 9.  9.  9.  9.  9.  9.  9.  9.  9.  9.]\n",
      " [ 9.  9.  9.  9.  9.  9.  9.  9.  9.  9.]\n",
      " [ 9.  9.  9.  9.  9.  9.  9.  9.  9.  9.]\n",
      " [ 9.  9.  9.  9.  9.  9.  9.  9.  9.  9.]\n",
      " [ 9.  9.  9.  9.  9.  9.  9.  9.  9.  9.]\n",
      " [ 9.  9.  9.  9.  9.  9.  9.  9.  9.  9.]]\n",
      "\n",
      "act/(pred_act_weight)      step0      step1      step2      step3      step4      step5      step6      step7      step8      step9sequence match\n",
      "  sequence0   3/(0.99)   3/(0.99)   3/(0.99)   3/(0.99)   3/(0.99)   3/(0.99)   3/(0.99)   3/(0.99)   3/(0.99)   3/(0.99)       0.99\n",
      "  sequence1   3/(0.99)   3/(0.99)   3/(0.99)   3/(0.99)   3/(0.99)   3/(0.99)   3/(0.99)   3/(0.99)   3/(0.99)   3/(0.99)       0.99\n",
      "  sequence2   3/(0.99)   3/(0.99)   3/(0.99)   3/(0.99)   3/(0.99)   3/(0.99)   3/(0.99)   1/(0.00)   3/(0.99)   3/(0.99)       0.89\n",
      "  sequence3   3/(0.99)   3/(0.99)   3/(0.99)   3/(0.99)   3/(0.99)   3/(0.99)   3/(0.99)   3/(0.99)   3/(0.99)   3/(0.99)       0.99\n",
      "  sequence4   3/(0.99)   3/(0.99)   3/(0.99)   3/(0.99)   3/(0.99)   3/(0.99)   3/(0.99)   3/(0.99)   3/(0.99)   3/(0.99)       0.99\n",
      "  sequence5   3/(0.99)   3/(0.99)   3/(0.99)   3/(0.99)   3/(0.99)   3/(0.99)   3/(0.99)   3/(0.99)   3/(0.99)   3/(0.99)       0.99\n",
      "  sequence6   3/(0.99)   3/(0.99)   3/(0.99)   3/(0.99)   3/(0.99)   3/(0.99)   5/(0.00)   3/(0.99)   3/(0.99)   3/(0.99)       0.89\n",
      "  sequence7   3/(0.99)   3/(0.99)   3/(0.99)   3/(0.99)   3/(0.99)   3/(0.99)   3/(0.99)   3/(0.99)   3/(0.99)   3/(0.99)       0.99\n",
      "  sequence8   3/(0.99)   3/(0.99)   3/(0.99)   3/(0.99)   3/(0.99)   3/(0.99)   3/(0.99)   3/(0.99)   2/(0.00)   3/(0.99)       0.89\n",
      "  sequence9   3/(0.99)   3/(0.99)   3/(0.99)   3/(0.99)   3/(0.99)   3/(0.99)   3/(0.99)   3/(0.99)   3/(0.99)   3/(0.99)       0.99\n",
      " sequence10   4/(0.00)   3/(0.99)   3/(0.99)   3/(0.99)   3/(0.99)   3/(0.99)   3/(0.99)   3/(0.99)   3/(0.99)   3/(0.99)       0.89\n",
      " sequence11   3/(0.99)   3/(0.99)   3/(0.99)   3/(0.99)   3/(0.99)   3/(0.99)   3/(0.99)   3/(0.99)   3/(0.99)   3/(0.99)       0.99\n",
      " sequence12   3/(0.99)   3/(0.99)   3/(0.99)   3/(0.99)   3/(0.99)   3/(0.99)   3/(0.99)   3/(0.99)   3/(0.99)   3/(0.99)       0.99\n",
      " sequence13   3/(0.99)   3/(0.99)   3/(0.99)   3/(0.99)   3/(0.99)   3/(0.99)   3/(0.99)   3/(0.99)   3/(0.99)   3/(0.99)       0.99\n",
      " sequence14   3/(0.99)   3/(0.99)   3/(0.99)   3/(0.99)   3/(0.99)   3/(0.99)   3/(0.99)   3/(0.99)   3/(0.99)   3/(0.99)       0.99\n",
      " sequence15   3/(0.99)   3/(0.99)   3/(0.99)   3/(0.99)   3/(0.99)   3/(0.99)   3/(0.99)   3/(0.99)   3/(0.99)   3/(0.99)       0.99\n",
      " sequence16   3/(0.99)   3/(0.99)   3/(0.99)   3/(0.99)   3/(0.99)   3/(0.99)   3/(0.99)   3/(0.99)   3/(0.99)   3/(0.99)       0.99\n",
      " sequence17   3/(0.99)   3/(0.99)   3/(0.99)   3/(0.99)   3/(0.99)   3/(0.99)   3/(0.99)   3/(0.99)   3/(0.99)   3/(0.99)       0.99\n",
      " step match       0.93       0.99       0.99       0.99       0.99       0.99       0.93       0.93       0.93       0.99       0.97\n",
      "\n",
      "obv/(pred_obv_weight)      step0      step1      step2      step3      step4      step5      step6      step7      step8      step9sequence match\n",
      "  sequence0   9/(0.99)   9/(0.99)   9/(0.99)   9/(0.99)   9/(0.99)   9/(0.99)   9/(0.99)   9/(0.99)   9/(0.99)   9/(0.99)       0.99\n",
      "  sequence1   9/(0.99)   9/(0.99)   9/(0.99)   9/(0.99)   9/(0.99)   9/(0.99)   9/(0.99)   9/(0.99)   9/(0.99)   9/(0.99)       0.99\n",
      "  sequence2   9/(0.99)   9/(0.99)   9/(0.99)   9/(0.99)   9/(0.99)   9/(0.99)   9/(0.99)   9/(0.99)   9/(0.99)   9/(0.99)       0.99\n",
      "  sequence3   9/(0.99)   9/(0.99)   9/(0.99)   9/(0.99)   9/(0.99)   9/(0.99)   9/(0.99)   9/(0.99)   9/(0.99)   9/(0.99)       0.99\n",
      "  sequence4   9/(0.99)   9/(0.99)   9/(0.99)   9/(0.99)   3/(0.00)   9/(0.99)   9/(0.99)   9/(0.99)   9/(0.99)   9/(0.99)       0.89\n",
      "  sequence5   9/(0.99)   9/(0.99)   9/(0.99)   9/(0.99)   9/(0.99)   9/(0.99)   9/(0.99)   9/(0.99)   9/(0.99)   9/(0.99)       0.99\n",
      "  sequence6   9/(0.99)   9/(0.99)   9/(0.99)   9/(0.99)   9/(0.98)  12/(0.00)   9/(0.99)   9/(0.99)   9/(0.99)   9/(0.99)       0.89\n",
      "  sequence7   9/(0.99)   9/(0.99)   9/(0.99)   9/(0.99)   9/(0.99)   9/(0.99)   9/(0.99)   9/(0.99)   9/(0.99)   9/(0.99)       0.99\n",
      "  sequence8   9/(0.99)   9/(0.99)   9/(0.99)   9/(0.99)   9/(0.99)   9/(0.98)   9/(0.98)   9/(0.99)   9/(0.99)   9/(0.99)       0.99\n",
      "  sequence9   9/(0.99)   9/(0.99)   9/(0.99)   9/(0.99)   9/(0.99)   9/(0.99)   9/(0.99)   9/(0.99)   9/(0.99)   9/(0.99)       0.99\n",
      " sequence10   9/(0.99)   9/(0.99)   9/(0.99)   9/(0.99)   9/(0.99)   9/(0.99)   9/(0.99)   9/(0.99)   9/(0.99)   9/(0.99)       0.99\n",
      " sequence11   9/(0.99)   9/(0.99)   9/(0.99)   9/(0.99)   9/(0.99)   9/(0.99)   9/(0.99)   9/(0.99)   9/(0.99)   9/(0.99)       0.99\n",
      " sequence12   9/(0.99)   9/(0.99)   9/(0.99)   9/(0.99)   9/(0.99)   9/(0.99)   9/(0.99)   9/(0.99)   9/(0.99)   9/(0.99)       0.99\n",
      " sequence13   9/(0.99)   9/(0.99)   9/(0.98)   9/(0.98)   9/(0.98)   9/(0.99)   9/(0.99)   9/(0.99)   9/(0.99)   9/(0.99)       0.99\n",
      " sequence14   9/(0.99)   9/(0.99)   9/(0.99)   9/(0.99)   9/(0.99)   9/(0.99)   9/(0.99)   9/(0.99)   9/(0.99)   9/(0.99)       0.99\n",
      " sequence15   9/(0.99)   9/(0.99)   9/(0.99)   9/(0.98)   9/(0.98)   9/(0.98)   9/(0.99)   9/(0.99)   9/(0.99)   9/(0.99)       0.99\n",
      " sequence16   9/(0.98)   9/(0.99)   9/(0.99)   9/(0.99)   9/(0.98)   9/(0.98)   9/(0.98)   9/(0.99)   9/(0.99)   9/(0.99)       0.99\n",
      " sequence17   9/(0.99)   9/(0.99)   9/(0.99)   9/(0.99)   9/(0.99)   9/(0.99)   9/(0.99)   9/(0.99)   9/(0.99)   9/(0.99)       0.99\n",
      " step match       0.99       0.99       0.99       0.99       0.93       0.93       0.99       0.99       0.99       0.99       0.98\n"
     ]
    }
   ],
   "source": [
    "# version 4/5/6/7/8/9/10 generate sequence\n",
    "\n",
    "seq_length = 10\n",
    "\n",
    "#generate_mode = \"max\"\n",
    "generate_mode = \"random\"\n",
    "\n",
    "for window in shuffle_dataset.take(1):\n",
    "    sequence = window\n",
    "    initial = window\n",
    "    \n",
    "    pred_0_1_1 = np.zeros((batch_size,seq_length))\n",
    "    pred_1_0_0 = np.zeros((batch_size,seq_length))\n",
    "    \n",
    "    obv_weight = np.zeros((batch_size,seq_length))\n",
    "    act_weight = np.zeros((batch_size,seq_length))\n",
    "\n",
    "    for s in range(seq_length):\n",
    "\n",
    "        [pred_o,a] = aux_model2_0_1_.predict(initial) #(18,30)\n",
    "\n",
    "        for i in range(batch_size):\n",
    "            if generate_mode == \"max\":\n",
    "                pred_0_1_1[i,s] = np.where(a[i,:] == np.max(a[i,:]))[0][0]\n",
    "            elif generate_mode == \"random\":\n",
    "                pred_0_1_1[i,s] = np.random.choice(30, 1, p=a[i,:])[0]\n",
    "\n",
    "\n",
    "        [pred_a,o] = aux_model2_1_0_.predict(initial) #(18,30)\n",
    "        \n",
    "        for i in range(batch_size):\n",
    "            if generate_mode == \"max\":\n",
    "                pred_1_0_0[i,s] = np.where(o[i,:] == np.max(o[i,:]))[0][0]\n",
    "            elif generate_mode == \"random\":\n",
    "                pred_1_0_0[i,s] = np.random.choice(30, 1, p=o[i,:])[0]\n",
    "            \n",
    "            index = int(pred_1_0_0[i,s])\n",
    "            obv_weight[i,s] = pred_o[i,index]\n",
    "            \n",
    "            index = int(pred_0_1_1[i,s])\n",
    "            act_weight[i,s] = pred_a[i,index]\n",
    "            \n",
    "        \n",
    "        one_hot = tf.one_hot(pred_0_1_1[:,s], 30) #(18,30)\n",
    "        reshape = tf.reshape(one_hot,[batch_size,1,30])\n",
    "        one = tf.reshape(tf.ones(batch_size),[batch_size,1,1])\n",
    "        out_0_1_1 = tf.concat((reshape,one),2) # (18, 1, 31)  (1, counter)\n",
    "        \n",
    "        one_hot = tf.one_hot(pred_1_0_0[:,s], 30) #(18,30)\n",
    "        reshape = tf.reshape(one_hot,[batch_size,1,30])\n",
    "        zero = tf.reshape(tf.zeros(batch_size),[batch_size,1,1])\n",
    "        out_1_0_0 = tf.concat((reshape,zero),2) # (18, 1, 31)  (1, counter)\n",
    "\n",
    "        sequence = tf.concat((sequence,out_1_0_0,out_0_1_1),1)\n",
    "        initial = sequence[:,-20:,:]\n",
    "        \n",
    "    print('action:',pred_0_1_1)\n",
    "    print('observation:',pred_1_0_0)\n",
    "    print('')\n",
    "    \n",
    "    \n",
    "    step = [];\n",
    "    for j in range(seq_length):\n",
    "        step.append(\"step\" + str(j))\n",
    "    step.append(\"sequence match\")\n",
    "        \n",
    "    sample = [];\n",
    "    for i in range(batch_size):\n",
    "        sample.append(\"sequence\" + str(i))\n",
    "    sample.append(\"step match\")\n",
    "    \n",
    "    table = [];\n",
    "    for i in range(batch_size):\n",
    "        seq = [];\n",
    "        for j in range(seq_length):\n",
    "            seq.append(str(int(pred_0_1_1[i,j])) + \"/(\" + '%.2f'%(act_weight[i,j]) + \")\")\n",
    "        match_a = np.sum(act_weight[i,:])/seq_length\n",
    "        seq.append('%.2f'%(match_a))\n",
    "        table.append(seq)\n",
    "        \n",
    "    last_row = [];\n",
    "    for j in range(seq_length):\n",
    "        match_a = np.sum(act_weight[:,j])/batch_size\n",
    "        last_row.append('%.2f'%(match_a))\n",
    "    total_a = np.sum(act_weight)/(seq_length*batch_size)\n",
    "    last_row.append('%.2f'%(total_a))\n",
    "    table.append(last_row)\n",
    "    \n",
    "    format_row = \"{:>11}\" * (seq_length + 2)\n",
    "    print(format_row.format(\"act/(pred_act_weight)\", *step))\n",
    "    for team, row in zip(sample, table):\n",
    "        print(format_row.format(team, *row))\n",
    "\n",
    "    print('')\n",
    "        \n",
    "    table2 = [];\n",
    "    for i in range(batch_size):\n",
    "        seq = [];\n",
    "        for j in range(seq_length):\n",
    "            seq.append(str(int(pred_1_0_0[i,j])) + \"/(\" + '%.2f'%(obv_weight[i,j]) + \")\")\n",
    "        match_o = np.sum(obv_weight[i,:])/seq_length\n",
    "        seq.append('%.2f'%(match_o))\n",
    "        table2.append(seq)\n",
    "        \n",
    "    last_row = [];\n",
    "    for j in range(seq_length):\n",
    "        match_o = np.sum(obv_weight[:,j])/batch_size\n",
    "        last_row.append('%.2f'%(match_o))\n",
    "    total_o = np.sum(obv_weight)/(seq_length*batch_size)\n",
    "    last_row.append('%.2f'%(total_o))\n",
    "    table2.append(last_row)\n",
    "    \n",
    "    format_row = \"{:>11}\" * (seq_length + 2)\n",
    "    print(format_row.format(\"obv/(pred_obv_weight)\", *step))\n",
    "    for team, row in zip(sample, table2):\n",
    "        print(format_row.format(team, *row))"
   ]
  },
  {
   "cell_type": "code",
   "execution_count": 19,
   "metadata": {},
   "outputs": [],
   "source": [
    "sample = 3\n",
    "music = tf.reshape(sequence[6,:,:],[-1,31])\n",
    "#music = music[-20:,:]\n",
    "row,col = music.shape\n",
    "cantus_lst = [];\n",
    "counter_lst = [];\n",
    "for i in range(row):\n",
    "    clas = np.where(music[i,:-1] == 1)[0][0]\n",
    "    if music[i,-1] == 0:\n",
    "        cantus_lst.append(clas+43)\n",
    "    elif music[i,-1] == 1:\n",
    "        counter_lst.append(clas+55)"
   ]
  },
  {
   "cell_type": "code",
   "execution_count": 24,
   "metadata": {},
   "outputs": [
    {
     "data": {
      "text/plain": [
       "[70, 66, 71, 69, 65, 62, 58, 51, 52, 49, 52, 52, 52, 52, 52, 52, 52, 51, 51]"
      ]
     },
     "execution_count": 24,
     "metadata": {},
     "output_type": "execute_result"
    }
   ],
   "source": [
    "cantus_lst"
   ]
  },
  {
   "cell_type": "code",
   "execution_count": 25,
   "metadata": {},
   "outputs": [
    {
     "data": {
      "text/plain": [
       "[77, 75, 74, 73, 68, 70, 62, 63, 59, 57, 55, 55, 55, 55, 55, 55, 55, 55, 55]"
      ]
     },
     "execution_count": 25,
     "metadata": {},
     "output_type": "execute_result"
    }
   ],
   "source": [
    "counter_lst"
   ]
  },
  {
   "cell_type": "code",
   "execution_count": 26,
   "metadata": {},
   "outputs": [
    {
     "data": {
      "text/plain": [
       "array([ 7,  9,  3,  4,  3,  8,  4, 12,  7,  8,  3,  3,  3,  3,  3,  3,  3,\n",
       "        4,  4], dtype=int64)"
      ]
     },
     "execution_count": 26,
     "metadata": {},
     "output_type": "execute_result"
    }
   ],
   "source": [
    "np.array(counter_lst) - np.array(cantus_lst) # real harmonic"
   ]
  },
  {
   "cell_type": "code",
   "execution_count": 27,
   "metadata": {},
   "outputs": [
    {
     "name": "stdout",
     "output_type": "stream",
     "text": [
      "Using preset Piano Merlin for piano\n",
      "Using preset Piano Merlin for piano\n"
     ]
    }
   ],
   "source": [
    "s = Session()\n",
    "s.tempo = 180\n",
    "piano1 = s.new_part(\"piano\")\n",
    "piano2 = s.new_part(\"piano\")\n",
    "\n",
    "def cantus():\n",
    "    for i in cantus_lst:\n",
    "        piano2.play_note(i,1,4)\n",
    "        \n",
    "def counter():\n",
    "    for i in counter_lst:\n",
    "        piano1.play_note(i,1,4)\n",
    "        \n",
    "        \n",
    "s.fast_forward_to_beat(100)\n",
    "\n",
    "s.start_transcribing()\n",
    "s.fork(counter)\n",
    "s.fork(cantus)\n",
    "s.wait_for_children_to_finish()\n",
    "performance = s.stop_transcribing()\n",
    "performance.to_score(title = \"First Species Counterpoint\", composer = \"My programme\",time_signature = \"4/4\").show_xml()"
   ]
  },
  {
   "cell_type": "code",
   "execution_count": null,
   "metadata": {},
   "outputs": [],
   "source": []
  }
 ],
 "metadata": {
  "kernelspec": {
   "display_name": "Python 3",
   "language": "python",
   "name": "python3"
  },
  "language_info": {
   "codemirror_mode": {
    "name": "ipython",
    "version": 3
   },
   "file_extension": ".py",
   "mimetype": "text/x-python",
   "name": "python",
   "nbconvert_exporter": "python",
   "pygments_lexer": "ipython3",
   "version": "3.7.6"
  }
 },
 "nbformat": 4,
 "nbformat_minor": 4
}
