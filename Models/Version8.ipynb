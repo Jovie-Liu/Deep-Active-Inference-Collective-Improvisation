{
 "cells": [
  {
   "cell_type": "markdown",
   "metadata": {},
   "source": [
    "***\n",
    "*Project:* Deep Active Inference\n",
    "\n",
    "*Author:* Jingwei Liu (Music department, UC San Diego)\n",
    "***\n",
    "\n",
    "# <span style=\"background-color:darkorange; color:white; padding:2px 6px\">Tutorial</span> \n",
    "\n",
    "\n",
    "# Version 8: Synchronization (hidden state distributions; one-side adaption)"
   ]
  },
  {
   "cell_type": "markdown",
   "metadata": {},
   "source": [
    "* Real-time synchronization\n",
    "\n",
    "* Access to hidden state distributions\n",
    "\n",
    "* One-side adaption (agent)\n",
    "\n",
    "* Minimize under KL-Divergence"
   ]
  },
  {
   "cell_type": "code",
   "execution_count": 1,
   "metadata": {},
   "outputs": [
    {
     "name": "stderr",
     "output_type": "stream",
     "text": [
      "WARNING:root:pynput was not found; mouse and keyboard input will not be available.\n",
      "Using TensorFlow backend.\n"
     ]
    }
   ],
   "source": [
    "import numpy as np\n",
    "import pandas as pd\n",
    "import csv\n",
    "from scamp import *\n",
    "import tensorflow as tf\n",
    "from tensorflow import keras\n",
    "from tensorflow.keras.layers import Dense,Flatten,Softmax,Input\n",
    "import keras.backend as K "
   ]
  },
  {
   "cell_type": "code",
   "execution_count": 2,
   "metadata": {},
   "outputs": [
    {
     "data": {
      "text/plain": [
       "<tf.Variable 'Variable:0' shape=(2, 20000) dtype=int32, numpy=\n",
       "array([[15, 12, 23, ..., 10, 13,  9],\n",
       "       [ 0,  1,  0, ...,  1,  0,  1]])>"
      ]
     },
     "execution_count": 2,
     "metadata": {},
     "output_type": "execute_result"
    }
   ],
   "source": [
    "df = pd.read_csv('Species.csv', sep=\",\",index_col = 0)\n",
    "n = df.shape[0]\n",
    "X = tf.Variable(np.zeros((2,n*2)),dtype='int32')  # any data tensor\n",
    "for i in range(0,2*n,2):\n",
    "    X[0,i].assign(df['Cantus'][i/2] - 43)\n",
    "    X[1,i].assign(0)\n",
    "    X[0,i+1].assign(df['Counter'][i/2] - 55)\n",
    "    X[1,i+1].assign(1)\n",
    "X"
   ]
  },
  {
   "cell_type": "code",
   "execution_count": 3,
   "metadata": {},
   "outputs": [
    {
     "data": {
      "text/plain": [
       "<tf.Tensor: shape=(20000, 31), dtype=float32, numpy=\n",
       "array([[0., 0., 0., ..., 0., 0., 0.],\n",
       "       [0., 0., 0., ..., 0., 0., 1.],\n",
       "       [0., 0., 0., ..., 0., 0., 0.],\n",
       "       ...,\n",
       "       [0., 0., 0., ..., 0., 0., 1.],\n",
       "       [0., 0., 0., ..., 0., 0., 0.],\n",
       "       [0., 0., 0., ..., 0., 0., 1.]], dtype=float32)>"
      ]
     },
     "execution_count": 3,
     "metadata": {},
     "output_type": "execute_result"
    }
   ],
   "source": [
    "depth = 30\n",
    "X = tf.concat([tf.one_hot(X[0,:], depth),tf.dtypes.cast(tf.reshape(X[1,:],[20000,1]),tf.float32)],1)\n",
    "X"
   ]
  },
  {
   "cell_type": "code",
   "execution_count": 4,
   "metadata": {},
   "outputs": [],
   "source": [
    "train_dataset = tf.data.Dataset.from_tensor_slices(X[:18000,:])\n",
    "test_dataset = tf.data.Dataset.from_tensor_slices(X[18000:,:])"
   ]
  },
  {
   "cell_type": "code",
   "execution_count": 5,
   "metadata": {},
   "outputs": [],
   "source": [
    "batch_size = 18"
   ]
  },
  {
   "cell_type": "code",
   "execution_count": 6,
   "metadata": {},
   "outputs": [],
   "source": [
    "n_steps = 20\n",
    "window_length = n_steps\n",
    "dataset = test_dataset.window(window_length, shift=2, drop_remainder=True)\n",
    "dataset = dataset.flat_map(lambda window: window.batch(window_length))\n",
    "shuffle_dataset = dataset.shuffle(20000).batch(batch_size,drop_remainder=True)"
   ]
  },
  {
   "cell_type": "code",
   "execution_count": 7,
   "metadata": {},
   "outputs": [],
   "source": [
    "def creat_model(batch_size,Type):\n",
    "    \n",
    "    rnn_units = 12\n",
    "    n_notes = 30\n",
    "\n",
    "    input_A = keras.layers.Input(shape=(None,31), name=\"input_A\") # (15, 20, 31)\n",
    "    input_B = keras.layers.Input(shape=(1,31), name=\"input_B\") # (15, 1, 31)\n",
    "\n",
    "    hidden1 = keras.layers.LSTM(rnn_units, return_sequences=True)(input_A) # (15,20,12)\n",
    "    hidden2 = keras.layers.LSTM(rnn_units, return_sequences=True)(hidden1) #(15,20,12)\n",
    "    \n",
    "    output_RNN = keras.layers.Dense(n_notes, activation='softmax', name = 'output_RNN')(hidden2) #(15,20,30)\n",
    "\n",
    "    e = keras.layers.Dense(1, activation='tanh')(hidden2) #(15,20,1)\n",
    "    e = keras.layers.Reshape([-1])(e) #(15,20)\n",
    "\n",
    "    alpha = keras.layers.Activation('softmax')(e) #(15,20)\n",
    "    c = keras.layers.Permute([2, 1])(keras.layers.RepeatVector(rnn_units)(alpha)) #(15,20,12)\n",
    "    c = keras.layers.Multiply()([hidden2, c]) #(15,20,12)\n",
    "    c = keras.layers.Lambda(lambda xin: K.sum(xin, axis=1), output_shape=(rnn_units,))(c) #(15,12)\n",
    "\n",
    "    output_A = keras.layers.Dense(n_notes, activation = 'softmax', name = 'output_A')(c) #(15,30) (0, cantus)\n",
    "    reshape = tf.reshape(output_A,[-1,1,30]) # (15, 1, 30)\n",
    "    if Type == \"_0_1\":\n",
    "        zero = tf.reshape(tf.zeros(batch_size),[batch_size,1,1])\n",
    "        input_output_A = tf.concat((reshape,zero),2) # (15, 1, 31)  (0, cantus)\n",
    "    elif Type == \"_1_0\":\n",
    "        one = tf.reshape(tf.ones(batch_size),[batch_size,1,1])\n",
    "        input_output_A = tf.concat((reshape,one),2) # (15, 1, 31)  (0, cantus)\n",
    "\n",
    "    aux1 = keras.layers.SimpleRNN(rnn_units)(input_B, initial_state=c) #(15,12)\n",
    "    aux2 = keras.layers.SimpleRNN(rnn_units)(input_output_A, initial_state=c) #(15,12)\n",
    "    output_B1 = keras.layers.Dense(n_notes, activation = 'softmax', name = 'output_B1')(aux1) #(15,30) (1, counter)\n",
    "    output_B2 = keras.layers.Dense(n_notes, activation = 'softmax', name = 'output_B2')(aux2) #(15,30) (1, counter)\n",
    "\n",
    "    model = keras.models.Model([input_A, input_B], [output_RNN, output_A, output_B1, output_B2])\n",
    "    \n",
    "    aux_model1 = keras.models.Model([input_A, input_B], output_B1)\n",
    "    aux_model2 = keras.models.Model(input_A, [output_A, output_B2])\n",
    "    \n",
    "    sub_model1 = keras.models.Model(input_A, output_A)\n",
    "    sub_model2 = keras.models.Model(input_A, output_B2)\n",
    "    \n",
    "    att_model = keras.models.Model([input_A, input_B], alpha)\n",
    "    \n",
    "    return model,aux_model1,aux_model2,sub_model1,sub_model2,att_model"
   ]
  },
  {
   "cell_type": "code",
   "execution_count": 8,
   "metadata": {},
   "outputs": [],
   "source": [
    "model_0_1_,aux_model1_0_1_,aux_model2_0_1_, sub_model1_0_1_,sub_model2_0_1_,att_model_0_1_ = creat_model(batch_size,'_0_1')\n",
    "model_1_0_,aux_model1_1_0_,aux_model2_1_0_, sub_model1_1_0_,sub_model2_1_0_,att_model_1_0_ = creat_model(batch_size,'_1_0')"
   ]
  },
  {
   "cell_type": "code",
   "execution_count": 9,
   "metadata": {},
   "outputs": [],
   "source": [
    "model_1_0_.load_weights('model_1_0_weight.h5')"
   ]
  },
  {
   "cell_type": "code",
   "execution_count": 32,
   "metadata": {},
   "outputs": [],
   "source": [
    "model_0_1_.load_weights('version8_model_0_1_step1_train1.h5')"
   ]
  },
  {
   "cell_type": "code",
   "execution_count": 35,
   "metadata": {},
   "outputs": [],
   "source": [
    "model_0_1_.load_weights('version8_model_0_1_step2_train1.h5')"
   ]
  },
  {
   "cell_type": "code",
   "execution_count": 38,
   "metadata": {},
   "outputs": [],
   "source": [
    "model_0_1_.load_weights('version8_model_0_1_step5_train1.h5')"
   ]
  },
  {
   "cell_type": "code",
   "execution_count": 110,
   "metadata": {},
   "outputs": [],
   "source": [
    "model_0_1_.load_weights('version8_model_0_1_step10_train1.h5')"
   ]
  },
  {
   "cell_type": "code",
   "execution_count": 96,
   "metadata": {},
   "outputs": [],
   "source": [
    "model_0_1_.load_weights('version8_model_0_1_step1_train1_random.h5')"
   ]
  },
  {
   "cell_type": "code",
   "execution_count": 99,
   "metadata": {},
   "outputs": [],
   "source": [
    "model_0_1_.load_weights('version8_model_0_1_step2_train1_random.h5')"
   ]
  },
  {
   "cell_type": "code",
   "execution_count": 127,
   "metadata": {},
   "outputs": [],
   "source": [
    "model_0_1_.load_weights('version8_model_0_1_step5_train1_random.h5')"
   ]
  },
  {
   "cell_type": "code",
   "execution_count": 128,
   "metadata": {},
   "outputs": [
    {
     "name": "stdout",
     "output_type": "stream",
     "text": [
      "action: [[18. 16. 15. 23. 20. 23. 20. 17. 21. 17.]\n",
      " [20. 18. 24. 21. 17. 17. 23. 20. 23. 23.]\n",
      " [17. 19. 16. 16. 12. 20. 19. 15. 18. 25.]\n",
      " [21. 17. 23. 17. 15. 18. 10. 15.  9.  6.]\n",
      " [15. 16. 15. 14.  7. 22. 10. 14. 13. 17.]\n",
      " [18. 15. 16. 16. 10. 13. 20. 15. 16. 21.]\n",
      " [20. 17. 19. 19. 25. 17. 14. 15. 11. 14.]\n",
      " [18. 13. 17. 24. 16. 20. 19. 19. 17.  7.]\n",
      " [19. 21. 19. 19. 20. 15. 20. 15. 11.  9.]\n",
      " [ 6. 12. 14. 11. 13.  8. 12. 12. 11.  9.]\n",
      " [14. 15. 19. 16. 24. 21. 16. 20. 22. 19.]\n",
      " [18. 20. 20. 13. 11. 11. 21. 13. 20. 17.]\n",
      " [12. 17. 16. 23. 26. 18. 11. 14. 15. 16.]\n",
      " [16. 21. 16. 16. 14. 14. 11. 11. 13. 14.]\n",
      " [ 8.  5.  2.  3.  5. 14.  7.  9. 12. 10.]\n",
      " [17. 24. 27. 15. 16. 19. 18. 15. 16. 19.]\n",
      " [19. 13. 10.  9. 14. 10. 14.  5.  8.  8.]\n",
      " [15.  9.  7. 10.  6. 14. 15. 11. 16.  7.]]\n",
      "observation: [[21. 29. 28. 26. 26. 25. 29. 26. 24. 20.]\n",
      " [29. 28. 28. 26. 29. 29. 23. 27. 25. 28.]\n",
      " [22. 22. 22. 27. 26. 25. 24. 29. 27. 25.]\n",
      " [29. 27. 22. 25. 25. 18. 21. 21. 18. 18.]\n",
      " [18. 21. 21. 22. 20. 17. 18. 16. 10. 12.]\n",
      " [27. 29. 18. 20. 23. 21. 21. 13. 19. 21.]\n",
      " [23. 25. 25. 28. 28. 25. 22. 18. 27. 19.]\n",
      " [20. 19. 21. 26. 22. 24. 23. 19. 17. 14.]\n",
      " [25. 26. 29. 25. 25. 22. 18. 19. 19. 18.]\n",
      " [ 9.  8. 11. 16. 19. 19. 20. 22. 20. 21.]\n",
      " [20. 21. 23. 28. 27. 27. 25. 28. 23. 22.]\n",
      " [24. 22. 23. 29. 26. 21. 22. 24. 21. 20.]\n",
      " [26. 27. 28. 23. 24. 26. 28. 20. 22. 20.]\n",
      " [23. 18. 23. 21. 22. 22. 16. 13. 15. 11.]\n",
      " [11.  8.  9.  5. 11. 16. 20. 12. 13. 17.]\n",
      " [24. 21. 29. 25. 19. 23. 17. 29. 28. 28.]\n",
      " [15. 18. 13. 19. 21. 21. 23. 21. 18. 14.]\n",
      " [15. 14. 12. 13. 14. 15. 16. 19. 17. 20.]]\n",
      "\n",
      "act/(pred_act_weight)      step0      step1      step2      step3      step4      step5      step6      step7      step8      step9sequence match\n",
      "  sequence0  18/(0.09)  16/(0.08)  15/(0.05)  23/(0.07)  20/(0.10)  23/(0.08)  20/(0.11)  17/(0.06)  21/(0.10)  17/(0.08)       0.08\n",
      "  sequence1  20/(0.12)  18/(0.07)  24/(0.10)  21/(0.11)  17/(0.08)  17/(0.07)  23/(0.07)  20/(0.11)  23/(0.09)  23/(0.08)       0.09\n",
      "  sequence2  17/(0.10)  19/(0.08)  16/(0.09)  16/(0.09)  12/(0.01)  20/(0.08)  19/(0.11)  15/(0.07)  18/(0.10)  25/(0.05)       0.08\n",
      "  sequence3  21/(0.09)  17/(0.07)  23/(0.07)  17/(0.09)  15/(0.08)  18/(0.09)  10/(0.04)  15/(0.09)   9/(0.03)   6/(0.02)       0.07\n",
      "  sequence4  15/(0.11)  16/(0.08)  15/(0.08)  14/(0.08)   7/(0.01)  22/(0.01)  10/(0.07)  14/(0.08)  13/(0.10)  17/(0.03)       0.06\n",
      "  sequence5  18/(0.10)  15/(0.04)  16/(0.06)  16/(0.09)  10/(0.02)  13/(0.10)  20/(0.04)  15/(0.08)  16/(0.08)  21/(0.03)       0.06\n",
      "  sequence6  20/(0.07)  17/(0.10)  19/(0.11)  19/(0.12)  25/(0.05)  17/(0.08)  14/(0.04)  15/(0.10)  11/(0.04)  14/(0.07)       0.08\n",
      "  sequence7  18/(0.10)  13/(0.06)  17/(0.08)  24/(0.01)  16/(0.07)  20/(0.08)  19/(0.10)  19/(0.10)  17/(0.10)   7/(0.01)       0.07\n",
      "  sequence8  19/(0.11)  21/(0.10)  19/(0.11)  19/(0.10)  20/(0.10)  15/(0.06)  20/(0.07)  15/(0.10)  11/(0.06)   9/(0.05)       0.09\n",
      "  sequence9   6/(0.10)  12/(0.01)  14/(0.01)  11/(0.07)  13/(0.09)   8/(0.03)  12/(0.11)  12/(0.10)  11/(0.07)   9/(0.07)       0.07\n",
      " sequence10  14/(0.09)  15/(0.12)  19/(0.05)  16/(0.10)  24/(0.05)  21/(0.11)  16/(0.04)  20/(0.09)  22/(0.09)  19/(0.10)       0.08\n",
      " sequence11  18/(0.10)  20/(0.08)  20/(0.08)  13/(0.05)  11/(0.02)  11/(0.04)  21/(0.04)  13/(0.06)  20/(0.06)  17/(0.09)       0.06\n",
      " sequence12  12/(0.01)  17/(0.10)  16/(0.07)  23/(0.08)  26/(0.03)  18/(0.10)  11/(0.01)  14/(0.05)  15/(0.11)  16/(0.09)       0.06\n",
      " sequence13  16/(0.05)  21/(0.10)  16/(0.08)  16/(0.09)  14/(0.09)  14/(0.10)  11/(0.07)  11/(0.09)  13/(0.07)  14/(0.07)       0.08\n",
      " sequence14   8/(0.08)   5/(0.11)   2/(0.11)   3/(0.12)   5/(0.11)  14/(0.01)   7/(0.07)   9/(0.09)  12/(0.05)  10/(0.08)       0.08\n",
      " sequence15  17/(0.09)  24/(0.02)  27/(0.00)  15/(0.04)  16/(0.07)  19/(0.06)  18/(0.11)  15/(0.10)  16/(0.08)  19/(0.11)       0.07\n",
      " sequence16  19/(0.03)  13/(0.09)  10/(0.07)   9/(0.08)  14/(0.10)  10/(0.06)  14/(0.10)   5/(0.00)   8/(0.05)   8/(0.08)       0.07\n",
      " sequence17  15/(0.05)   9/(0.08)   7/(0.10)  10/(0.08)   6/(0.08)  14/(0.04)  15/(0.04)  11/(0.10)  16/(0.08)   7/(0.04)       0.07\n",
      " step match       0.08       0.08       0.07       0.08       0.06       0.07       0.07       0.08       0.08       0.06       0.07\n",
      "\n",
      "obv/(pred_obv_weight)      step0      step1      step2      step3      step4      step5      step6      step7      step8      step9sequence match\n",
      "  sequence0  21/(0.05)  29/(0.06)  28/(0.08)  26/(0.11)  26/(0.12)  25/(0.11)  29/(0.12)  26/(0.14)  24/(0.10)  20/(0.05)       0.09\n",
      "  sequence1  29/(0.12)  28/(0.14)  28/(0.12)  26/(0.13)  29/(0.13)  29/(0.12)  23/(0.09)  27/(0.10)  25/(0.10)  28/(0.12)       0.12\n",
      "  sequence2  22/(0.10)  22/(0.11)  22/(0.10)  27/(0.07)  26/(0.12)  25/(0.09)  24/(0.10)  29/(0.08)  27/(0.11)  25/(0.10)       0.10\n",
      "  sequence3  29/(0.12)  27/(0.15)  22/(0.07)  25/(0.10)  25/(0.09)  18/(0.04)  21/(0.10)  21/(0.09)  18/(0.11)  18/(0.10)       0.10\n",
      "  sequence4  18/(0.11)  21/(0.09)  21/(0.09)  22/(0.10)  20/(0.09)  17/(0.08)  18/(0.09)  16/(0.08)  10/(0.01)  12/(0.07)       0.08\n",
      "  sequence5  27/(0.10)  29/(0.10)  18/(0.02)  20/(0.09)  23/(0.08)  21/(0.10)  21/(0.09)  13/(0.01)  19/(0.11)  21/(0.10)       0.08\n",
      "  sequence6  23/(0.09)  25/(0.08)  25/(0.10)  28/(0.07)  28/(0.09)  25/(0.12)  22/(0.08)  18/(0.07)  27/(0.02)  19/(0.09)       0.08\n",
      "  sequence7  20/(0.07)  19/(0.08)  21/(0.09)  26/(0.05)  22/(0.09)  24/(0.10)  23/(0.10)  19/(0.05)  17/(0.03)  14/(0.02)       0.07\n",
      "  sequence8  25/(0.11)  26/(0.13)  29/(0.11)  25/(0.11)  25/(0.11)  22/(0.08)  18/(0.06)  19/(0.11)  19/(0.12)  18/(0.12)       0.10\n",
      "  sequence9   9/(0.08)   8/(0.09)  11/(0.12)  16/(0.07)  19/(0.10)  19/(0.10)  20/(0.08)  22/(0.05)  20/(0.10)  21/(0.08)       0.09\n",
      " sequence10  20/(0.09)  21/(0.09)  23/(0.08)  28/(0.04)  27/(0.11)  27/(0.13)  25/(0.11)  28/(0.10)  23/(0.09)  22/(0.09)       0.09\n",
      " sequence11  24/(0.10)  22/(0.10)  23/(0.10)  29/(0.05)  26/(0.09)  21/(0.10)  22/(0.08)  24/(0.07)  21/(0.09)  20/(0.05)       0.08\n",
      " sequence12  26/(0.13)  27/(0.09)  28/(0.08)  23/(0.09)  24/(0.10)  26/(0.10)  28/(0.10)  20/(0.05)  22/(0.10)  20/(0.08)       0.09\n",
      " sequence13  23/(0.07)  18/(0.03)  23/(0.09)  21/(0.09)  22/(0.11)  22/(0.10)  16/(0.04)  13/(0.04)  15/(0.09)  11/(0.05)       0.07\n",
      " sequence14  11/(0.12)   8/(0.07)   9/(0.10)   5/(0.05)  11/(0.11)  16/(0.04)  20/(0.05)  12/(0.04)  13/(0.08)  17/(0.09)       0.07\n",
      " sequence15  24/(0.08)  21/(0.10)  29/(0.05)  25/(0.10)  19/(0.03)  23/(0.09)  17/(0.02)  29/(0.04)  28/(0.06)  28/(0.10)       0.07\n",
      " sequence16  15/(0.05)  18/(0.08)  13/(0.04)  19/(0.07)  21/(0.07)  21/(0.08)  23/(0.06)  21/(0.10)  18/(0.08)  14/(0.10)       0.07\n",
      " sequence17  15/(0.09)  14/(0.10)  12/(0.08)  13/(0.11)  14/(0.10)  15/(0.08)  16/(0.10)  19/(0.11)  17/(0.11)  20/(0.09)       0.10\n",
      " step match       0.09       0.09       0.08       0.08       0.10       0.09       0.08       0.07       0.08       0.08       0.09\n"
     ]
    }
   ],
   "source": [
    "# version 4/5/6/7/8/9/10 generate sequence\n",
    "\n",
    "seq_length = 10\n",
    "\n",
    "#generate_mode = \"max\"\n",
    "generate_mode = \"random\"\n",
    "\n",
    "for window in shuffle_dataset.take(1):\n",
    "    sequence = window\n",
    "    initial = window\n",
    "    \n",
    "    pred_0_1_1 = np.zeros((batch_size,seq_length))\n",
    "    pred_1_0_0 = np.zeros((batch_size,seq_length))\n",
    "    \n",
    "    obv_weight = np.zeros((batch_size,seq_length))\n",
    "    act_weight = np.zeros((batch_size,seq_length))\n",
    "\n",
    "    for s in range(seq_length):\n",
    "\n",
    "        [pred_o,a] = aux_model2_0_1_.predict(initial) #(18,30)\n",
    "\n",
    "        for i in range(batch_size):\n",
    "            if generate_mode == \"max\":\n",
    "                pred_0_1_1[i,s] = np.where(a[i,:] == np.max(a[i,:]))[0][0]\n",
    "            elif generate_mode == \"random\":\n",
    "                pred_0_1_1[i,s] = np.random.choice(30, 1, p=a[i,:])[0]\n",
    "\n",
    "\n",
    "        [pred_a,o] = aux_model2_1_0_.predict(initial) #(18,30)\n",
    "        \n",
    "        for i in range(batch_size):\n",
    "            if generate_mode == \"max\":\n",
    "                pred_1_0_0[i,s] = np.where(o[i,:] == np.max(o[i,:]))[0][0]\n",
    "            elif generate_mode == \"random\":\n",
    "                pred_1_0_0[i,s] = np.random.choice(30, 1, p=o[i,:])[0]\n",
    "            \n",
    "            index = int(pred_1_0_0[i,s])\n",
    "            obv_weight[i,s] = pred_o[i,index]\n",
    "            \n",
    "            index = int(pred_0_1_1[i,s])\n",
    "            act_weight[i,s] = pred_a[i,index]\n",
    "            \n",
    "        \n",
    "        one_hot = tf.one_hot(pred_0_1_1[:,s], 30) #(18,30)\n",
    "        reshape = tf.reshape(one_hot,[batch_size,1,30])\n",
    "        one = tf.reshape(tf.ones(batch_size),[batch_size,1,1])\n",
    "        out_0_1_1 = tf.concat((reshape,one),2) # (18, 1, 31)  (1, counter)\n",
    "        \n",
    "        one_hot = tf.one_hot(pred_1_0_0[:,s], 30) #(18,30)\n",
    "        reshape = tf.reshape(one_hot,[batch_size,1,30])\n",
    "        zero = tf.reshape(tf.zeros(batch_size),[batch_size,1,1])\n",
    "        out_1_0_0 = tf.concat((reshape,zero),2) # (18, 1, 31)  (1, counter)\n",
    "\n",
    "        sequence = tf.concat((sequence,out_1_0_0,out_0_1_1),1)\n",
    "        initial = sequence[:,-20:,:]\n",
    "        \n",
    "    print('action:',pred_0_1_1)\n",
    "    print('observation:',pred_1_0_0)\n",
    "    print('')\n",
    "    \n",
    "    \n",
    "    step = [];\n",
    "    for j in range(seq_length):\n",
    "        step.append(\"step\" + str(j))\n",
    "    step.append(\"sequence match\")\n",
    "        \n",
    "    sample = [];\n",
    "    for i in range(batch_size):\n",
    "        sample.append(\"sequence\" + str(i))\n",
    "    sample.append(\"step match\")\n",
    "    \n",
    "    table = [];\n",
    "    for i in range(batch_size):\n",
    "        seq = [];\n",
    "        for j in range(seq_length):\n",
    "            seq.append(str(int(pred_0_1_1[i,j])) + \"/(\" + '%.2f'%(act_weight[i,j]) + \")\")\n",
    "        match_a = np.sum(act_weight[i,:])/seq_length\n",
    "        seq.append('%.2f'%(match_a))\n",
    "        table.append(seq)\n",
    "        \n",
    "    last_row = [];\n",
    "    for j in range(seq_length):\n",
    "        match_a = np.sum(act_weight[:,j])/batch_size\n",
    "        last_row.append('%.2f'%(match_a))\n",
    "    total_a = np.sum(act_weight)/(seq_length*batch_size)\n",
    "    last_row.append('%.2f'%(total_a))\n",
    "    table.append(last_row)\n",
    "    \n",
    "    format_row = \"{:>11}\" * (seq_length + 2)\n",
    "    print(format_row.format(\"act/(pred_act_weight)\", *step))\n",
    "    for team, row in zip(sample, table):\n",
    "        print(format_row.format(team, *row))\n",
    "\n",
    "    print('')\n",
    "        \n",
    "    table2 = [];\n",
    "    for i in range(batch_size):\n",
    "        seq = [];\n",
    "        for j in range(seq_length):\n",
    "            seq.append(str(int(pred_1_0_0[i,j])) + \"/(\" + '%.2f'%(obv_weight[i,j]) + \")\")\n",
    "        match_o = np.sum(obv_weight[i,:])/seq_length\n",
    "        seq.append('%.2f'%(match_o))\n",
    "        table2.append(seq)\n",
    "        \n",
    "    last_row = [];\n",
    "    for j in range(seq_length):\n",
    "        match_o = np.sum(obv_weight[:,j])/batch_size\n",
    "        last_row.append('%.2f'%(match_o))\n",
    "    total_o = np.sum(obv_weight)/(seq_length*batch_size)\n",
    "    last_row.append('%.2f'%(total_o))\n",
    "    table2.append(last_row)\n",
    "    \n",
    "    format_row = \"{:>11}\" * (seq_length + 2)\n",
    "    print(format_row.format(\"obv/(pred_obv_weight)\", *step))\n",
    "    for team, row in zip(sample, table2):\n",
    "        print(format_row.format(team, *row))"
   ]
  },
  {
   "cell_type": "code",
   "execution_count": 129,
   "metadata": {},
   "outputs": [
    {
     "name": "stdout",
     "output_type": "stream",
     "text": [
      "[ 8  3  3  7  9  9  4  7  8  4  9 -1 -1  9  6 10  3  3  9  9]\n",
      "[ 4  7  8  8  8  9  3  4  3  4  3  2  8  7  0  0 12  5 10  7]\n",
      "[ 8  9  3  4  3  4  9  9 12  7  7  9  6  1 -2  7  7 -2  3 12]\n",
      "[ 4  8  3  8  9  3  7  9 12  7  4  2 13  4  2 12  1  6  3  0]\n",
      "[ 3  4  4  7 12  7  3  9  7  4  9  7  6  4 -1 17  4 10 15 17]\n",
      "[ 8 12  3  7  4  4  9  3  7  4  3 -2 10  8 -1  4 11 14  9 12]\n",
      "[ 3  8  9  9  8  8  4  4  9  3  9  4  6  3  9  4  4  9 -4  7]\n",
      "[ 7  9  7  3  9  4  9  4  7  8 10  6  8 10  6  8  8 12 12  5]\n",
      "[ 4  8  8  9  3  8  9 12  3  7  6  7  2  6  7  5 14  8  4  3]\n",
      "[ 4  7  9  9  8  8  9  4  3  3  9 16 15  7  6  1  4  2  3  0]\n",
      "[ 7 12  8  9  3  8  8  9  7  3  6  6  8  0  9  6  3  4 11  9]\n",
      "[12  9  8  9  8  9  4  7  4  7  6 10  9 -4 -3  2 11  1 11  9]\n",
      "[ 3  7  8 12  3  4  9  9  7  4 -2  2  0 12 14  4 -5  6  5  8]\n",
      "[ 8  3  4  8  4  4  9  7 12  9  5 15  5  7  4  4  7 10 10 15]\n",
      "[ 7  3  4  4  9 12  8  8  8  4  9  9  5 10  6 10 -1  9 11  5]\n",
      "[ 3  4  7  8  8  9  9  9  4  3  5 15 10  2  9  8 13 -2  0  3]\n",
      "[ 3 12  4  7  3  7  4  3  4  7 16  7  9  2  5  1  3 -4  2  6]\n",
      "[ 3  7  9 12  8 12  9  9  4  3 12  7  7  9  4 11 11  4 11 -1]\n"
     ]
    }
   ],
   "source": [
    "for sample in range(batch_size):\n",
    "    music = tf.reshape(sequence[sample,:,:],[-1,31])\n",
    "    #music = music[-20:,:]\n",
    "    row,col = music.shape\n",
    "    cantus_lst = [];\n",
    "    counter_lst = [];\n",
    "    for i in range(row):\n",
    "        clas = np.where(music[i,:-1] == 1)[0][0]\n",
    "        if music[i,-1] == 0:\n",
    "            cantus_lst.append(clas+43)\n",
    "        elif music[i,-1] == 1:\n",
    "            counter_lst.append(clas+55)\n",
    "    print(np.array(counter_lst) - np.array(cantus_lst))"
   ]
  },
  {
   "cell_type": "code",
   "execution_count": 130,
   "metadata": {},
   "outputs": [],
   "source": [
    "sample = 3\n",
    "music = tf.reshape(sequence[sample,:,:],[-1,31])\n",
    "#music = music[-20:,:]\n",
    "row,col = music.shape\n",
    "cantus_lst = [];\n",
    "counter_lst = [];\n",
    "for i in range(row):\n",
    "    clas = np.where(music[i,:-1] == 1)[0][0]\n",
    "    if music[i,-1] == 0:\n",
    "        cantus_lst.append(clas+43)\n",
    "    elif music[i,-1] == 1:\n",
    "        counter_lst.append(clas+55)"
   ]
  },
  {
   "cell_type": "code",
   "execution_count": 131,
   "metadata": {},
   "outputs": [
    {
     "data": {
      "text/plain": [
       "[58,\n",
       " 62,\n",
       " 66,\n",
       " 64,\n",
       " 65,\n",
       " 70,\n",
       " 69,\n",
       " 70,\n",
       " 68,\n",
       " 69,\n",
       " 72,\n",
       " 70,\n",
       " 65,\n",
       " 68,\n",
       " 68,\n",
       " 61,\n",
       " 64,\n",
       " 64,\n",
       " 61,\n",
       " 61]"
      ]
     },
     "execution_count": 131,
     "metadata": {},
     "output_type": "execute_result"
    }
   ],
   "source": [
    "cantus_lst"
   ]
  },
  {
   "cell_type": "code",
   "execution_count": 132,
   "metadata": {},
   "outputs": [
    {
     "data": {
      "text/plain": [
       "[62,\n",
       " 70,\n",
       " 69,\n",
       " 72,\n",
       " 74,\n",
       " 73,\n",
       " 76,\n",
       " 79,\n",
       " 80,\n",
       " 76,\n",
       " 76,\n",
       " 72,\n",
       " 78,\n",
       " 72,\n",
       " 70,\n",
       " 73,\n",
       " 65,\n",
       " 70,\n",
       " 64,\n",
       " 61]"
      ]
     },
     "execution_count": 132,
     "metadata": {},
     "output_type": "execute_result"
    }
   ],
   "source": [
    "counter_lst"
   ]
  },
  {
   "cell_type": "code",
   "execution_count": 133,
   "metadata": {},
   "outputs": [
    {
     "data": {
      "text/plain": [
       "array([ 4,  8,  3,  8,  9,  3,  7,  9, 12,  7,  4,  2, 13,  4,  2, 12,  1,\n",
       "        6,  3,  0], dtype=int64)"
      ]
     },
     "execution_count": 133,
     "metadata": {},
     "output_type": "execute_result"
    }
   ],
   "source": [
    "np.array(counter_lst) - np.array(cantus_lst) # real harmonic"
   ]
  },
  {
   "cell_type": "code",
   "execution_count": 134,
   "metadata": {},
   "outputs": [
    {
     "data": {
      "text/plain": [
       "array([ 8, -1,  3,  2, -1,  3,  3,  1, -4,  0, -4,  6, -6, -2,  3, -8,  5,\n",
       "       -6, -3], dtype=int64)"
      ]
     },
     "execution_count": 134,
     "metadata": {},
     "output_type": "execute_result"
    }
   ],
   "source": [
    "np.diff(counter_lst)"
   ]
  },
  {
   "cell_type": "code",
   "execution_count": 135,
   "metadata": {},
   "outputs": [
    {
     "data": {
      "text/plain": [
       "array([ 4,  4, -2,  1,  5, -1,  1, -2,  1,  3, -2, -5,  3,  0, -7,  3,  0,\n",
       "       -3,  0], dtype=int64)"
      ]
     },
     "execution_count": 135,
     "metadata": {},
     "output_type": "execute_result"
    }
   ],
   "source": [
    "np.diff(cantus_lst)"
   ]
  },
  {
   "cell_type": "code",
   "execution_count": 136,
   "metadata": {},
   "outputs": [
    {
     "name": "stdout",
     "output_type": "stream",
     "text": [
      "Using preset Piano Merlin for piano\n",
      "Using preset Piano Merlin for piano\n"
     ]
    }
   ],
   "source": [
    "s = Session()\n",
    "s.tempo = 200\n",
    "piano1 = s.new_part(\"piano\")\n",
    "piano2 = s.new_part(\"piano\")\n",
    "\n",
    "def cantus():\n",
    "    for i in cantus_lst:\n",
    "        piano2.play_note(i,1,4)\n",
    "        \n",
    "def counter():\n",
    "    for i in counter_lst:\n",
    "        piano1.play_note(i,1,4)\n",
    "        \n",
    "        \n",
    "s.fast_forward_to_beat(100)\n",
    "\n",
    "s.start_transcribing()\n",
    "s.fork(counter)\n",
    "s.fork(cantus)\n",
    "s.wait_for_children_to_finish()\n",
    "performance = s.stop_transcribing()\n",
    "performance.to_score(title = \"First Species Counterpoint\", composer = \"My programme\",time_signature = \"4/4\").show_xml()"
   ]
  },
  {
   "cell_type": "code",
   "execution_count": null,
   "metadata": {},
   "outputs": [],
   "source": []
  }
 ],
 "metadata": {
  "kernelspec": {
   "display_name": "Python 3",
   "language": "python",
   "name": "python3"
  },
  "language_info": {
   "codemirror_mode": {
    "name": "ipython",
    "version": 3
   },
   "file_extension": ".py",
   "mimetype": "text/x-python",
   "name": "python",
   "nbconvert_exporter": "python",
   "pygments_lexer": "ipython3",
   "version": "3.7.6"
  }
 },
 "nbformat": 4,
 "nbformat_minor": 4
}
