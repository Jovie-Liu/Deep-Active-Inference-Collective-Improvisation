{
 "cells": [
  {
   "cell_type": "code",
   "execution_count": 1,
   "metadata": {},
   "outputs": [
    {
     "name": "stderr",
     "output_type": "stream",
     "text": [
      "WARNING:root:pynput was not found; mouse and keyboard input will not be available.\n"
     ]
    }
   ],
   "source": [
    "from scamp import *\n",
    "import matplotlib\n",
    "import random\n",
    "import math"
   ]
  },
  {
   "cell_type": "code",
   "execution_count": 21,
   "metadata": {},
   "outputs": [],
   "source": [
    "s = Session(tempo = 120)\n",
    "# s.print_default_soundfont_presets()"
   ]
  },
  {
   "cell_type": "code",
   "execution_count": 22,
   "metadata": {},
   "outputs": [
    {
     "name": "stdout",
     "output_type": "stream",
     "text": [
      "Using preset Clarinet for clarinet\n",
      "Using preset Oboe for oboe\n"
     ]
    }
   ],
   "source": [
    "clarinet = s.new_part(\"clarinet\")\n",
    "oboe = s.new_part(\"oboe\")"
   ]
  },
  {
   "cell_type": "code",
   "execution_count": 23,
   "metadata": {},
   "outputs": [],
   "source": [
    "clarinet.play_note(60,0.8,1.5) #(midinote,velocity,duration(s))"
   ]
  },
  {
   "cell_type": "code",
   "execution_count": 24,
   "metadata": {},
   "outputs": [],
   "source": [
    "def try_it():\n",
    "    clarinet.play_note(60,0.8,0.5)\n",
    "    wait(0.5)\n",
    "    oboe.play_note(64,0.8,0.5)\n",
    "    wait(0.75)"
   ]
  },
  {
   "cell_type": "code",
   "execution_count": 25,
   "metadata": {},
   "outputs": [
    {
     "name": "stderr",
     "output_type": "stream",
     "text": [
      "WARNING:root:Clock is running noticeably behind real time (0.15421 s) on a wait call of 0.125 s; probably processing is too heavy.\n"
     ]
    }
   ],
   "source": [
    "for pitch in range(65,77):\n",
    "    clarinet.play_note(pitch,0.8,0.25)"
   ]
  },
  {
   "cell_type": "code",
   "execution_count": 26,
   "metadata": {},
   "outputs": [],
   "source": [
    "def melody(s,m,l):\n",
    "    #current_clock().tempo = 100\n",
    "    current_clock().apply_rate_function(lambda t: 1+0.5*math.cos(2*t**0.7), duration_units = 'time')\n",
    "    pitch_list = [61,None,67,69,72] # None is rest\n",
    "    dur_list = [m,s,s,m,l]\n",
    "    oboe.play_note(70,0.8,4, blocking = False)\n",
    "    for pitch,dur in zip(pitch_list,dur_list):\n",
    "        clarinet.play_note(pitch,0.8,dur)"
   ]
  },
  {
   "cell_type": "code",
   "execution_count": 27,
   "metadata": {},
   "outputs": [
    {
     "name": "stderr",
     "output_type": "stream",
     "text": [
      "WARNING:root:Clock is running noticeably behind real time (0.11231 s) on a wait call of 0.25 s; probably processing is too heavy.\n",
      "WARNING:root:Clock is running noticeably behind real time (0.03137 s) on a wait call of 0 s; probably processing is too heavy.\n",
      "WARNING:root:Clock is running noticeably behind real time (0.0308 s) on a wait call of 0 s; probably processing is too heavy.\n"
     ]
    }
   ],
   "source": [
    "oboe.play_chord([67, 70, 74],[0.5,0.2,1],1)"
   ]
  },
  {
   "cell_type": "code",
   "execution_count": 28,
   "metadata": {},
   "outputs": [],
   "source": [
    "oboe.play_note([67.5, 74, 70.3],[0.5,0.3,1],3)"
   ]
  },
  {
   "cell_type": "code",
   "execution_count": 29,
   "metadata": {},
   "outputs": [
    {
     "data": {
      "image/png": "[encoded data removed]",
      "text/plain": [
       "<Figure size 432x288 with 1 Axes>"
      ]
     },
     "metadata": {
      "needs_background": "light"
     },
     "output_type": "display_data"
    }
   ],
   "source": [
    "fp_cresc = Envelope.from_levels_and_durations([0.8,0.2,1],[0.1,0.9],[-3,3])\n",
    "fp_cresc.show_plot()"
   ]
  },
  {
   "cell_type": "code",
   "execution_count": 30,
   "metadata": {},
   "outputs": [
    {
     "name": "stderr",
     "output_type": "stream",
     "text": [
      "WARNING:root:Clock is running noticeably behind real time (0.15543 s) on a wait call of 0.05 s; probably processing is too heavy.\n",
      "WARNING:root:Clock is running noticeably behind real time (0.02812 s) on a wait call of 0 s; probably processing is too heavy.\n",
      "WARNING:root:Clock is running noticeably behind real time (0.0303 s) on a wait call of 0 s; probably processing is too heavy.\n",
      "WARNING:root:Clock is running noticeably behind real time (0.03266 s) on a wait call of 0 s; probably processing is too heavy.\n"
     ]
    }
   ],
   "source": [
    "oboe.play_chord([67, 70, 74],fp_cresc,1)"
   ]
  },
  {
   "cell_type": "code",
   "execution_count": 31,
   "metadata": {},
   "outputs": [
    {
     "ename": "ValueError",
     "evalue": "Can't record with empty ensemble; did you call \"start_transcribing\" before adding parts to the session?",
     "output_type": "error",
     "traceback": [
      "\u001b[1;31m---------------------------------------------------------------------------\u001b[0m",
      "\u001b[1;31mValueError\u001b[0m                                Traceback (most recent call last)",
      "\u001b[1;32m<ipython-input-31-81bcfed70bbf>\u001b[0m in \u001b[0;36m<module>\u001b[1;34m\u001b[0m\n\u001b[0;32m      3\u001b[0m \u001b[0mclk\u001b[0m \u001b[1;33m=\u001b[0m \u001b[0mfork\u001b[0m\u001b[1;33m(\u001b[0m\u001b[0mtry_it\u001b[0m\u001b[1;33m,\u001b[0m\u001b[0minitial_tempo\u001b[0m \u001b[1;33m=\u001b[0m \u001b[1;36m60\u001b[0m\u001b[1;33m)\u001b[0m\u001b[1;33m\u001b[0m\u001b[1;33m\u001b[0m\u001b[0m\n\u001b[0;32m      4\u001b[0m \u001b[0mclk\u001b[0m\u001b[1;33m.\u001b[0m\u001b[0mset_tempo_target\u001b[0m\u001b[1;33m(\u001b[0m\u001b[1;36m120\u001b[0m\u001b[1;33m,\u001b[0m\u001b[1;36m3\u001b[0m\u001b[1;33m,\u001b[0m\u001b[1;33m-\u001b[0m\u001b[1;36m2\u001b[0m\u001b[1;33m)\u001b[0m\u001b[1;33m\u001b[0m\u001b[1;33m\u001b[0m\u001b[0m\n\u001b[1;32m----> 5\u001b[1;33m \u001b[0ms\u001b[0m\u001b[1;33m.\u001b[0m\u001b[0mstart_transcribing\u001b[0m\u001b[1;33m(\u001b[0m\u001b[1;33m)\u001b[0m\u001b[1;33m\u001b[0m\u001b[1;33m\u001b[0m\u001b[0m\n\u001b[0m\u001b[0;32m      6\u001b[0m \u001b[0mfork\u001b[0m\u001b[1;33m(\u001b[0m\u001b[0mmelody\u001b[0m\u001b[1;33m,\u001b[0m\u001b[0margs\u001b[0m \u001b[1;33m=\u001b[0m \u001b[1;33m[\u001b[0m\u001b[1;36m0.5\u001b[0m\u001b[1;33m,\u001b[0m\u001b[1;36m1\u001b[0m\u001b[1;33m,\u001b[0m\u001b[1;36m1.5\u001b[0m\u001b[1;33m]\u001b[0m\u001b[1;33m)\u001b[0m\u001b[1;33m\u001b[0m\u001b[1;33m\u001b[0m\u001b[0m\n\u001b[0;32m      7\u001b[0m \u001b[0ms\u001b[0m\u001b[1;33m.\u001b[0m\u001b[0mwait_for_children_to_finish\u001b[0m\u001b[1;33m(\u001b[0m\u001b[1;33m)\u001b[0m\u001b[1;33m\u001b[0m\u001b[1;33m\u001b[0m\u001b[0m\n",
      "\u001b[1;32m~\\AppData\\Roaming\\Python\\Python37\\site-packages\\scamp\\session.py\u001b[0m in \u001b[0;36mstart_transcribing\u001b[1;34m(self, instrument_or_instruments, clock, units)\u001b[0m\n\u001b[0;32m    368\u001b[0m         \"\"\"\n\u001b[0;32m    369\u001b[0m         \u001b[1;32mif\u001b[0m \u001b[0minstrument_or_instruments\u001b[0m \u001b[1;32mis\u001b[0m \u001b[1;32mNone\u001b[0m \u001b[1;32mand\u001b[0m \u001b[0mlen\u001b[0m\u001b[1;33m(\u001b[0m\u001b[0mself\u001b[0m\u001b[1;33m.\u001b[0m\u001b[0minstruments\u001b[0m\u001b[1;33m)\u001b[0m \u001b[1;33m==\u001b[0m \u001b[1;36m0\u001b[0m\u001b[1;33m:\u001b[0m\u001b[1;33m\u001b[0m\u001b[1;33m\u001b[0m\u001b[0m\n\u001b[1;32m--> 370\u001b[1;33m             raise ValueError(\"Can't record with empty ensemble; did you call \\\"start_transcribing\\\" before adding \"\n\u001b[0m\u001b[0;32m    371\u001b[0m                              \"parts to the session?\")\n\u001b[0;32m    372\u001b[0m \u001b[1;33m\u001b[0m\u001b[0m\n",
      "\u001b[1;31mValueError\u001b[0m: Can't record with empty ensemble; did you call \"start_transcribing\" before adding parts to the session?"
     ]
    }
   ],
   "source": [
    "s = Session()\n",
    "\n",
    "clk = fork(try_it,initial_tempo = 60)\n",
    "clk.set_tempo_target(120,3,-2)\n",
    "s.start_transcribing()\n",
    "fork(melody,args = [0.5,1,1.5])\n",
    "s.wait_for_children_to_finish()\n",
    "performance = s.stop_transcribing()\n",
    "performance.to_score(title = \"First Species Counterpoint\", composer = \"My programme\",time_signature = \"4/4\").show_xml()"
   ]
  },
  {
   "cell_type": "code",
   "execution_count": 32,
   "metadata": {},
   "outputs": [],
   "source": [
    "s = Session()\n",
    "s.tempo = 120 # beats per second\n",
    "s.set_tempo_target(60,3,-2) # tempo = 120 -> 60, duration = 3 beats, curve_shape = sooner\n",
    "#s.rate = 2 # beats per second\n",
    "#s.beat_length = 0.5 \n",
    "pitch_list = [61,64,67,69,72]\n",
    "for i in range(10):\n",
    "    oboe.play_note(random.choice(pitch_list),0.8,0.5)\n",
    "    #s.tempo = random.uniform(60,200)"
   ]
  },
  {
   "cell_type": "code",
   "execution_count": 33,
   "metadata": {},
   "outputs": [
    {
     "name": "stdout",
     "output_type": "stream",
     "text": [
      "Using preset Piano Merlin for piano\n"
     ]
    }
   ],
   "source": [
    "s = Session()\n",
    "piano = s.new_part(\"piano\")"
   ]
  },
  {
   "cell_type": "code",
   "execution_count": 34,
   "metadata": {},
   "outputs": [],
   "source": [
    "piano.play_chord([64, 67],1,1)"
   ]
  },
  {
   "cell_type": "code",
   "execution_count": null,
   "metadata": {},
   "outputs": [],
   "source": []
  }
 ],
 "metadata": {
  "kernelspec": {
   "display_name": "Python 3",
   "language": "python",
   "name": "python3"
  },
  "language_info": {
   "codemirror_mode": {
    "name": "ipython",
    "version": 3
   },
   "file_extension": ".py",
   "mimetype": "text/x-python",
   "name": "python",
   "nbconvert_exporter": "python",
   "pygments_lexer": "ipython3",
   "version": "3.7.6"
  }
 },
 "nbformat": 4,
 "nbformat_minor": 4
}
