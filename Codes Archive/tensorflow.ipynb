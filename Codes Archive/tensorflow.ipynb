{
 "cells": [
  {
   "cell_type": "code",
   "execution_count": 23,
   "metadata": {},
   "outputs": [],
   "source": [
    "import tensorflow as tf\n",
    "import pandas as pd\n",
    "import matplotlib.pyplot as plt\n",
    "from tensorflow import keras"
   ]
  },
  {
   "cell_type": "code",
   "execution_count": 2,
   "metadata": {},
   "outputs": [],
   "source": [
    "from tensorflow.keras.models import Sequential\n",
    "from tensorflow.keras.layers import Dense,Flatten,Softmax,Input"
   ]
  },
  {
   "cell_type": "code",
   "execution_count": 3,
   "metadata": {},
   "outputs": [],
   "source": [
    "model = Sequential([\n",
    "    Flatten(input_shape = (10,10)),\n",
    "    Dense(16,activation = 'relu',name = \"layer_1\"),\n",
    "    Dense(16,activation = \"relu\"),\n",
    "    Dense(10,activation = \"softmax\")\n",
    "])"
   ]
  },
  {
   "cell_type": "code",
   "execution_count": 4,
   "metadata": {},
   "outputs": [
    {
     "data": {
      "text/plain": [
       "[<tf.Variable 'layer_1/kernel:0' shape=(100, 16) dtype=float32, numpy=\n",
       " array([[-0.11621615, -0.20894954,  0.21264568, ..., -0.10686608,\n",
       "          0.02741823,  0.19421852],\n",
       "        [ 0.08528543,  0.03080735,  0.12830293, ...,  0.0660691 ,\n",
       "          0.1900051 , -0.17984003],\n",
       "        [-0.11616832, -0.18449241,  0.17609769, ..., -0.11486598,\n",
       "          0.12028018, -0.13370726],\n",
       "        ...,\n",
       "        [ 0.14384341, -0.14467362,  0.2032561 , ...,  0.20143864,\n",
       "         -0.21612227, -0.04339944],\n",
       "        [ 0.02007556,  0.15138799,  0.1689829 , ...,  0.0701462 ,\n",
       "         -0.11633099,  0.14211708],\n",
       "        [ 0.06277704,  0.13365227,  0.20092157, ..., -0.18363476,\n",
       "         -0.01363187, -0.14405432]], dtype=float32)>,\n",
       " <tf.Variable 'layer_1/bias:0' shape=(16,) dtype=float32, numpy=\n",
       " array([0., 0., 0., 0., 0., 0., 0., 0., 0., 0., 0., 0., 0., 0., 0., 0.],\n",
       "       dtype=float32)>,\n",
       " <tf.Variable 'dense/kernel:0' shape=(16, 16) dtype=float32, numpy=\n",
       " array([[ 0.20590732, -0.18197522, -0.09607592,  0.10543701,  0.367754  ,\n",
       "          0.25264367, -0.34178135,  0.02437496, -0.39507037, -0.19469096,\n",
       "          0.35240045,  0.27454564, -0.40397632, -0.18874165, -0.37083414,\n",
       "         -0.36543208],\n",
       "        [-0.03669605, -0.35242355, -0.39563838,  0.19008324, -0.39028198,\n",
       "         -0.10856619,  0.14313677,  0.06665641,  0.34357736, -0.13043278,\n",
       "         -0.39480144,  0.2725444 , -0.2724259 , -0.42261824,  0.2849889 ,\n",
       "         -0.1948038 ],\n",
       "        [ 0.03060716, -0.03305441, -0.04014131, -0.18627694,  0.42386445,\n",
       "         -0.17196935,  0.06349102, -0.1365766 ,  0.3953115 ,  0.16748884,\n",
       "          0.1641312 , -0.28811592,  0.04088193, -0.23756891, -0.23556341,\n",
       "         -0.42518753],\n",
       "        [-0.16814664, -0.27791196,  0.13587686,  0.3303595 , -0.15577292,\n",
       "         -0.25178564,  0.18567732,  0.40446404, -0.2227373 ,  0.4103485 ,\n",
       "          0.40800467,  0.04882118,  0.15659758,  0.01888031, -0.26471025,\n",
       "         -0.24326126],\n",
       "        [-0.22505118, -0.19919959,  0.12741324,  0.24430451, -0.3969082 ,\n",
       "          0.15384898, -0.43049222,  0.35520098, -0.2146748 , -0.17815396,\n",
       "          0.03092119, -0.26483577, -0.07227442,  0.06699356,  0.20314649,\n",
       "          0.19399825],\n",
       "        [ 0.34092012, -0.00815943,  0.33231255,  0.24234977,  0.10267636,\n",
       "         -0.16662419,  0.25851628,  0.10515228, -0.37483203,  0.0038608 ,\n",
       "          0.12883767,  0.32554516, -0.3099692 , -0.18526593,  0.10565159,\n",
       "          0.35217825],\n",
       "        [ 0.11426297, -0.03085339, -0.14924392,  0.11249122, -0.00230685,\n",
       "         -0.15523979,  0.24125805,  0.24084148, -0.19742513,  0.2960938 ,\n",
       "          0.35357216,  0.25654802, -0.37767833, -0.32683596,  0.38491055,\n",
       "          0.36592558],\n",
       "        [ 0.2639039 , -0.24911281,  0.2581083 , -0.3148661 ,  0.19471386,\n",
       "          0.20568231, -0.1186665 , -0.18306127, -0.37387854, -0.28767663,\n",
       "          0.00765562, -0.06857789,  0.43003914,  0.42095074, -0.114764  ,\n",
       "          0.19359651],\n",
       "        [ 0.25860772, -0.02815905, -0.2546397 ,  0.15620509, -0.09352025,\n",
       "          0.07721624, -0.13478768, -0.01085478, -0.22807811, -0.34652153,\n",
       "          0.19772801, -0.23153226,  0.15548924,  0.054239  , -0.12868825,\n",
       "          0.13205901],\n",
       "        [ 0.20306131, -0.1070013 ,  0.08064756,  0.24426064, -0.33605367,\n",
       "         -0.03682983, -0.228116  , -0.24652866,  0.22856167,  0.17923793,\n",
       "         -0.38407353,  0.05623698,  0.31506047, -0.1018748 ,  0.10725382,\n",
       "          0.15251109],\n",
       "        [-0.19422743,  0.39319584,  0.33161518, -0.41502044,  0.23479614,\n",
       "         -0.12888667, -0.39817867, -0.1379033 , -0.0285781 , -0.35676926,\n",
       "          0.3763093 ,  0.211867  , -0.12380663, -0.39228356, -0.37043533,\n",
       "          0.41413322],\n",
       "        [ 0.04291686,  0.419575  , -0.17553282, -0.27747205,  0.3389738 ,\n",
       "         -0.18119338, -0.3132146 , -0.2459306 , -0.42574793, -0.09169045,\n",
       "          0.33269408, -0.4326619 , -0.21772178,  0.3046458 ,  0.34977403,\n",
       "          0.14890602],\n",
       "        [-0.07232481, -0.20530035, -0.10540843, -0.14295363,  0.2931914 ,\n",
       "         -0.18038267,  0.15263698, -0.16552645, -0.3919224 ,  0.37824407,\n",
       "          0.26846114, -0.10749695,  0.31787196, -0.28748968, -0.3264646 ,\n",
       "          0.23696342],\n",
       "        [-0.18669082,  0.03506559, -0.42911   ,  0.3591738 , -0.35867143,\n",
       "         -0.3837574 ,  0.26007053, -0.03398603, -0.1166802 , -0.18580566,\n",
       "         -0.12642413, -0.03127211,  0.34363005,  0.21182284,  0.18788984,\n",
       "         -0.01029131],\n",
       "        [-0.2318583 , -0.15687302,  0.29533073, -0.23768051, -0.427103  ,\n",
       "         -0.37827265, -0.12150112,  0.03742316, -0.1179454 ,  0.11335024,\n",
       "          0.1348714 ,  0.36743453, -0.37311497, -0.12602296, -0.05156544,\n",
       "          0.04475224],\n",
       "        [ 0.25296864,  0.32824525, -0.06641731,  0.2258878 ,  0.34545407,\n",
       "          0.11212543, -0.06976563,  0.07892194,  0.26829025, -0.10348129,\n",
       "         -0.379217  , -0.05818787,  0.32291135,  0.29294088,  0.01106137,\n",
       "         -0.190879  ]], dtype=float32)>,\n",
       " <tf.Variable 'dense/bias:0' shape=(16,) dtype=float32, numpy=\n",
       " array([0., 0., 0., 0., 0., 0., 0., 0., 0., 0., 0., 0., 0., 0., 0., 0.],\n",
       "       dtype=float32)>,\n",
       " <tf.Variable 'dense_1/kernel:0' shape=(16, 10) dtype=float32, numpy=\n",
       " array([[-0.3118916 , -0.15574151,  0.4683187 ,  0.3279425 , -0.3794191 ,\n",
       "         -0.33167183, -0.408082  ,  0.34546083, -0.36010474, -0.03269655],\n",
       "        [-0.40588742, -0.25380558, -0.18467611,  0.25918686, -0.18135214,\n",
       "          0.40747797,  0.05865651, -0.19865939,  0.19969314, -0.3940008 ],\n",
       "        [-0.4699911 ,  0.429766  ,  0.2622466 ,  0.2578888 , -0.11064145,\n",
       "         -0.23465264, -0.06188676, -0.16838706, -0.28849646, -0.14366233],\n",
       "        [-0.00583303, -0.15474865, -0.21839154, -0.30885404,  0.30299252,\n",
       "         -0.09010151,  0.27722532, -0.2581782 ,  0.00312203,  0.2511556 ],\n",
       "        [ 0.3489169 , -0.16759932, -0.46597466, -0.11756164, -0.17603487,\n",
       "          0.01420054, -0.07354951, -0.05586717,  0.05966496, -0.44293597],\n",
       "        [-0.3162043 ,  0.43134886, -0.18940574, -0.00532794,  0.36297882,\n",
       "         -0.04914078,  0.14277577,  0.10154915, -0.21805435,  0.08087057],\n",
       "        [-0.42500648,  0.41519272, -0.03550968,  0.05705065, -0.36603284,\n",
       "         -0.3290537 ,  0.31051064,  0.4109398 , -0.19304752,  0.17463851],\n",
       "        [-0.07567877, -0.270446  , -0.14622799, -0.31890315,  0.17661542,\n",
       "         -0.06299877, -0.4126153 ,  0.38065434, -0.39715147, -0.25304303],\n",
       "        [ 0.45902264,  0.43661505, -0.23108494, -0.16176996, -0.3963754 ,\n",
       "         -0.31099868,  0.30945593, -0.25046766,  0.25750375, -0.1622788 ],\n",
       "        [ 0.2619282 , -0.43462837,  0.20536494, -0.2335522 ,  0.46262622,\n",
       "         -0.26875347,  0.25029552,  0.08578217,  0.11962998,  0.24474019],\n",
       "        [-0.08633605, -0.22621915, -0.16513479,  0.38661605, -0.2803226 ,\n",
       "          0.47033364,  0.43450397,  0.4283743 , -0.00676349, -0.16800302],\n",
       "        [-0.14643356, -0.35777873,  0.24223971, -0.22519705,  0.42319548,\n",
       "         -0.10216993, -0.422658  , -0.3606394 , -0.2337302 ,  0.00932753],\n",
       "        [ 0.15368408, -0.3900792 ,  0.14135838, -0.23873125, -0.12858379,\n",
       "          0.2150411 , -0.0096882 ,  0.36246377,  0.25368702,  0.3512721 ],\n",
       "        [ 0.3923189 ,  0.31333363,  0.09285235, -0.35262752, -0.29442525,\n",
       "          0.38486278, -0.26259688, -0.20348215,  0.16699755, -0.1329484 ],\n",
       "        [-0.08310884,  0.00276893, -0.44124457,  0.40360606, -0.29778516,\n",
       "          0.18280673, -0.05763623, -0.19810459, -0.27422467, -0.02678573],\n",
       "        [-0.14855874,  0.01489222, -0.3103637 ,  0.43898654,  0.02025872,\n",
       "         -0.47051898, -0.39814675,  0.26545894,  0.15660167,  0.21490651]],\n",
       "       dtype=float32)>,\n",
       " <tf.Variable 'dense_1/bias:0' shape=(10,) dtype=float32, numpy=array([0., 0., 0., 0., 0., 0., 0., 0., 0., 0.], dtype=float32)>]"
      ]
     },
     "execution_count": 4,
     "metadata": {},
     "output_type": "execute_result"
    }
   ],
   "source": [
    "model.weights"
   ]
  },
  {
   "cell_type": "code",
   "execution_count": 5,
   "metadata": {},
   "outputs": [
    {
     "name": "stdout",
     "output_type": "stream",
     "text": [
      "Model: \"sequential\"\n",
      "_________________________________________________________________\n",
      "Layer (type)                 Output Shape              Param #   \n",
      "=================================================================\n",
      "flatten (Flatten)            (None, 100)               0         \n",
      "_________________________________________________________________\n",
      "layer_1 (Dense)              (None, 16)                1616      \n",
      "_________________________________________________________________\n",
      "dense (Dense)                (None, 16)                272       \n",
      "_________________________________________________________________\n",
      "dense_1 (Dense)              (None, 10)                170       \n",
      "=================================================================\n",
      "Total params: 2,058\n",
      "Trainable params: 2,058\n",
      "Non-trainable params: 0\n",
      "_________________________________________________________________\n"
     ]
    }
   ],
   "source": [
    "model.summary()"
   ]
  },
  {
   "cell_type": "code",
   "execution_count": 6,
   "metadata": {},
   "outputs": [
    {
     "data": {
      "text/plain": [
       "'layer_1'"
      ]
     },
     "execution_count": 6,
     "metadata": {},
     "output_type": "execute_result"
    }
   ],
   "source": [
    "hidden1 = model.layers[1]\n",
    "hidden1.name"
   ]
  },
  {
   "cell_type": "code",
   "execution_count": 7,
   "metadata": {},
   "outputs": [
    {
     "data": {
      "text/plain": [
       "<tensorflow.python.keras.layers.core.Flatten at 0x1f5944a07c8>"
      ]
     },
     "execution_count": 7,
     "metadata": {},
     "output_type": "execute_result"
    }
   ],
   "source": [
    "model.get_layer('flatten')"
   ]
  },
  {
   "cell_type": "code",
   "execution_count": 10,
   "metadata": {},
   "outputs": [
    {
     "data": {
      "text/plain": [
       "(100, 16)"
      ]
     },
     "execution_count": 10,
     "metadata": {},
     "output_type": "execute_result"
    }
   ],
   "source": [
    "weights, biases = hidden1.get_weights()\n",
    "weights.shape"
   ]
  },
  {
   "cell_type": "code",
   "execution_count": 12,
   "metadata": {},
   "outputs": [
    {
     "data": {
      "text/plain": [
       "(16,)"
      ]
     },
     "execution_count": 12,
     "metadata": {},
     "output_type": "execute_result"
    }
   ],
   "source": [
    "biases.shape"
   ]
  },
  {
   "cell_type": "code",
   "execution_count": 13,
   "metadata": {},
   "outputs": [],
   "source": [
    "model.compile(loss=\"sparse_categorical_crossentropy\",\n",
    "              optimizer=\"sgd\",\n",
    "              metrics=[\"accuracy\"])"
   ]
  },
  {
   "cell_type": "code",
   "execution_count": 14,
   "metadata": {},
   "outputs": [
    {
     "ename": "NameError",
     "evalue": "name 'X_train' is not defined",
     "output_type": "error",
     "traceback": [
      "\u001b[1;31m---------------------------------------------------------------------------\u001b[0m",
      "\u001b[1;31mNameError\u001b[0m                                 Traceback (most recent call last)",
      "\u001b[1;32m<ipython-input-14-16df68b2f187>\u001b[0m in \u001b[0;36m<module>\u001b[1;34m\u001b[0m\n\u001b[1;32m----> 1\u001b[1;33m history = model.fit(X_train, y_train, epochs=30,\n\u001b[0m\u001b[0;32m      2\u001b[0m               validation_data=(X_valid, y_valid))\n",
      "\u001b[1;31mNameError\u001b[0m: name 'X_train' is not defined"
     ]
    }
   ],
   "source": [
    "history = model.fit(X_train, y_train, epochs=30,\n",
    "              validation_data=(X_valid, y_valid))"
   ]
  },
  {
   "cell_type": "code",
   "execution_count": 16,
   "metadata": {},
   "outputs": [
    {
     "ename": "NameError",
     "evalue": "name 'history' is not defined",
     "output_type": "error",
     "traceback": [
      "\u001b[1;31m---------------------------------------------------------------------------\u001b[0m",
      "\u001b[1;31mNameError\u001b[0m                                 Traceback (most recent call last)",
      "\u001b[1;32m<ipython-input-16-cdb96ccf6945>\u001b[0m in \u001b[0;36m<module>\u001b[1;34m\u001b[0m\n\u001b[1;32m----> 1\u001b[1;33m \u001b[0mhistory\u001b[0m\u001b[1;33m.\u001b[0m\u001b[0mparams\u001b[0m\u001b[1;33m\u001b[0m\u001b[1;33m\u001b[0m\u001b[0m\n\u001b[0m\u001b[0;32m      2\u001b[0m \u001b[0mhistory\u001b[0m\u001b[1;33m.\u001b[0m\u001b[0mepoch\u001b[0m\u001b[1;33m\u001b[0m\u001b[1;33m\u001b[0m\u001b[0m\n",
      "\u001b[1;31mNameError\u001b[0m: name 'history' is not defined"
     ]
    }
   ],
   "source": [
    "history.params\n",
    "history.epoch"
   ]
  },
  {
   "cell_type": "code",
   "execution_count": 17,
   "metadata": {},
   "outputs": [
    {
     "ename": "NameError",
     "evalue": "name 'history' is not defined",
     "output_type": "error",
     "traceback": [
      "\u001b[1;31m---------------------------------------------------------------------------\u001b[0m",
      "\u001b[1;31mNameError\u001b[0m                                 Traceback (most recent call last)",
      "\u001b[1;32m<ipython-input-17-11539fbc1f8e>\u001b[0m in \u001b[0;36m<module>\u001b[1;34m\u001b[0m\n\u001b[1;32m----> 1\u001b[1;33m \u001b[0mpd\u001b[0m\u001b[1;33m.\u001b[0m\u001b[0mDataFrame\u001b[0m\u001b[1;33m(\u001b[0m\u001b[0mhistory\u001b[0m\u001b[1;33m.\u001b[0m\u001b[0mhistory\u001b[0m\u001b[1;33m)\u001b[0m\u001b[1;33m.\u001b[0m\u001b[0mplot\u001b[0m\u001b[1;33m(\u001b[0m\u001b[0mfigsize\u001b[0m\u001b[1;33m=\u001b[0m\u001b[1;33m(\u001b[0m\u001b[1;36m8\u001b[0m\u001b[1;33m,\u001b[0m \u001b[1;36m5\u001b[0m\u001b[1;33m)\u001b[0m\u001b[1;33m)\u001b[0m\u001b[1;33m\u001b[0m\u001b[1;33m\u001b[0m\u001b[0m\n\u001b[0m\u001b[0;32m      2\u001b[0m \u001b[0mplt\u001b[0m\u001b[1;33m.\u001b[0m\u001b[0mgrid\u001b[0m\u001b[1;33m(\u001b[0m\u001b[1;32mTrue\u001b[0m\u001b[1;33m)\u001b[0m\u001b[1;33m\u001b[0m\u001b[1;33m\u001b[0m\u001b[0m\n\u001b[0;32m      3\u001b[0m \u001b[0mplt\u001b[0m\u001b[1;33m.\u001b[0m\u001b[0mgca\u001b[0m\u001b[1;33m(\u001b[0m\u001b[1;33m)\u001b[0m\u001b[1;33m.\u001b[0m\u001b[0mset_ylim\u001b[0m\u001b[1;33m(\u001b[0m\u001b[1;36m0\u001b[0m\u001b[1;33m,\u001b[0m \u001b[1;36m1\u001b[0m\u001b[1;33m)\u001b[0m \u001b[1;31m# set the vertical range to [0-1]\u001b[0m\u001b[1;33m\u001b[0m\u001b[1;33m\u001b[0m\u001b[0m\n\u001b[0;32m      4\u001b[0m \u001b[0mplt\u001b[0m\u001b[1;33m.\u001b[0m\u001b[0mshow\u001b[0m\u001b[1;33m(\u001b[0m\u001b[1;33m)\u001b[0m\u001b[1;33m\u001b[0m\u001b[1;33m\u001b[0m\u001b[0m\n",
      "\u001b[1;31mNameError\u001b[0m: name 'history' is not defined"
     ]
    }
   ],
   "source": [
    "pd.DataFrame(history.history).plot(figsize=(8, 5))\n",
    "plt.grid(True)\n",
    "plt.gca().set_ylim(0, 1) # set the vertical range to [0-1]\n",
    "plt.show()"
   ]
  },
  {
   "cell_type": "code",
   "execution_count": 18,
   "metadata": {},
   "outputs": [
    {
     "ename": "NameError",
     "evalue": "name 'X_test' is not defined",
     "output_type": "error",
     "traceback": [
      "\u001b[1;31m---------------------------------------------------------------------------\u001b[0m",
      "\u001b[1;31mNameError\u001b[0m                                 Traceback (most recent call last)",
      "\u001b[1;32m<ipython-input-18-acc519fcce62>\u001b[0m in \u001b[0;36m<module>\u001b[1;34m\u001b[0m\n\u001b[1;32m----> 1\u001b[1;33m \u001b[0mmodel\u001b[0m\u001b[1;33m.\u001b[0m\u001b[0mevaluate\u001b[0m\u001b[1;33m(\u001b[0m\u001b[0mX_test\u001b[0m\u001b[1;33m,\u001b[0m \u001b[0my_test\u001b[0m\u001b[1;33m)\u001b[0m\u001b[1;33m\u001b[0m\u001b[1;33m\u001b[0m\u001b[0m\n\u001b[0m",
      "\u001b[1;31mNameError\u001b[0m: name 'X_test' is not defined"
     ]
    }
   ],
   "source": [
    "model.evaluate(X_test, y_test)"
   ]
  },
  {
   "cell_type": "code",
   "execution_count": 19,
   "metadata": {},
   "outputs": [
    {
     "ename": "NameError",
     "evalue": "name 'X_test' is not defined",
     "output_type": "error",
     "traceback": [
      "\u001b[1;31m---------------------------------------------------------------------------\u001b[0m",
      "\u001b[1;31mNameError\u001b[0m                                 Traceback (most recent call last)",
      "\u001b[1;32m<ipython-input-19-14aba1f240f9>\u001b[0m in \u001b[0;36m<module>\u001b[1;34m\u001b[0m\n\u001b[1;32m----> 1\u001b[1;33m \u001b[0mX_new\u001b[0m \u001b[1;33m=\u001b[0m \u001b[0mX_test\u001b[0m\u001b[1;33m[\u001b[0m\u001b[1;33m:\u001b[0m\u001b[1;36m3\u001b[0m\u001b[1;33m]\u001b[0m\u001b[1;33m\u001b[0m\u001b[1;33m\u001b[0m\u001b[0m\n\u001b[0m\u001b[0;32m      2\u001b[0m \u001b[0my_proba\u001b[0m \u001b[1;33m=\u001b[0m \u001b[0mmodel\u001b[0m\u001b[1;33m.\u001b[0m\u001b[0mpredict\u001b[0m\u001b[1;33m(\u001b[0m\u001b[0mX_new\u001b[0m\u001b[1;33m)\u001b[0m\u001b[1;33m\u001b[0m\u001b[1;33m\u001b[0m\u001b[0m\n\u001b[0;32m      3\u001b[0m \u001b[0my_proba\u001b[0m\u001b[1;33m.\u001b[0m\u001b[0mround\u001b[0m\u001b[1;33m(\u001b[0m\u001b[1;36m2\u001b[0m\u001b[1;33m)\u001b[0m\u001b[1;33m\u001b[0m\u001b[1;33m\u001b[0m\u001b[0m\n",
      "\u001b[1;31mNameError\u001b[0m: name 'X_test' is not defined"
     ]
    }
   ],
   "source": [
    "X_new = X_test[:3]\n",
    "y_proba = model.predict(X_new)\n",
    "y_proba.round(2)"
   ]
  },
  {
   "cell_type": "code",
   "execution_count": 20,
   "metadata": {},
   "outputs": [
    {
     "ename": "NameError",
     "evalue": "name 'X_new' is not defined",
     "output_type": "error",
     "traceback": [
      "\u001b[1;31m---------------------------------------------------------------------------\u001b[0m",
      "\u001b[1;31mNameError\u001b[0m                                 Traceback (most recent call last)",
      "\u001b[1;32m<ipython-input-20-116b43200197>\u001b[0m in \u001b[0;36m<module>\u001b[1;34m\u001b[0m\n\u001b[1;32m----> 1\u001b[1;33m \u001b[0my_pred\u001b[0m \u001b[1;33m=\u001b[0m \u001b[0mmodel\u001b[0m\u001b[1;33m.\u001b[0m\u001b[0mpredict_classes\u001b[0m\u001b[1;33m(\u001b[0m\u001b[0mX_new\u001b[0m\u001b[1;33m)\u001b[0m \u001b[1;31m# class with highest posibility\u001b[0m\u001b[1;33m\u001b[0m\u001b[1;33m\u001b[0m\u001b[0m\n\u001b[0m",
      "\u001b[1;31mNameError\u001b[0m: name 'X_new' is not defined"
     ]
    }
   ],
   "source": [
    "y_pred = model.predict_classes(X_new) # class with highest posibility"
   ]
  },
  {
   "cell_type": "code",
   "execution_count": 21,
   "metadata": {},
   "outputs": [],
   "source": [
    "model.save(\"my_keras_model.h5\")"
   ]
  },
  {
   "cell_type": "code",
   "execution_count": 24,
   "metadata": {},
   "outputs": [],
   "source": [
    "model = keras.models.load_model(\"my_keras_model.h5\")"
   ]
  },
  {
   "cell_type": "code",
   "execution_count": 25,
   "metadata": {},
   "outputs": [
    {
     "ename": "NameError",
     "evalue": "name 'X_train' is not defined",
     "output_type": "error",
     "traceback": [
      "\u001b[1;31m---------------------------------------------------------------------------\u001b[0m",
      "\u001b[1;31mNameError\u001b[0m                                 Traceback (most recent call last)",
      "\u001b[1;32m<ipython-input-25-cf4ce388c09d>\u001b[0m in \u001b[0;36m<module>\u001b[1;34m\u001b[0m\n\u001b[0;32m      1\u001b[0m \u001b[0mcheckpoint_cb\u001b[0m \u001b[1;33m=\u001b[0m \u001b[0mkeras\u001b[0m\u001b[1;33m.\u001b[0m\u001b[0mcallbacks\u001b[0m\u001b[1;33m.\u001b[0m\u001b[0mModelCheckpoint\u001b[0m\u001b[1;33m(\u001b[0m\u001b[1;34m\"my_keras_model.h5\"\u001b[0m\u001b[1;33m)\u001b[0m\u001b[1;33m\u001b[0m\u001b[1;33m\u001b[0m\u001b[0m\n\u001b[1;32m----> 2\u001b[1;33m \u001b[0mhistory\u001b[0m \u001b[1;33m=\u001b[0m \u001b[0mmodel\u001b[0m\u001b[1;33m.\u001b[0m\u001b[0mfit\u001b[0m\u001b[1;33m(\u001b[0m\u001b[0mX_train\u001b[0m\u001b[1;33m,\u001b[0m \u001b[0my_train\u001b[0m\u001b[1;33m,\u001b[0m \u001b[0mepochs\u001b[0m\u001b[1;33m=\u001b[0m\u001b[1;36m10\u001b[0m\u001b[1;33m,\u001b[0m \u001b[0mcallbacks\u001b[0m\u001b[1;33m=\u001b[0m\u001b[1;33m[\u001b[0m\u001b[0mcheckpoint_cb\u001b[0m\u001b[1;33m]\u001b[0m\u001b[1;33m)\u001b[0m\u001b[1;33m\u001b[0m\u001b[1;33m\u001b[0m\u001b[0m\n\u001b[0m",
      "\u001b[1;31mNameError\u001b[0m: name 'X_train' is not defined"
     ]
    }
   ],
   "source": [
    "checkpoint_cb = keras.callbacks.ModelCheckpoint(\"my_keras_model.h5\",save_best_only=True)\n",
    "history = model.fit(X_train, y_train, epochs=10, \n",
    "                    validation_data=(X_valid, y_valid), \n",
    "                    callbacks=[checkpoint_cb])\n",
    "model = keras.models.load_model(\"my_keras_model.h5\")"
   ]
  },
  {
   "cell_type": "code",
   "execution_count": 26,
   "metadata": {},
   "outputs": [
    {
     "ename": "NameError",
     "evalue": "name 'X_train' is not defined",
     "output_type": "error",
     "traceback": [
      "\u001b[1;31m---------------------------------------------------------------------------\u001b[0m",
      "\u001b[1;31mNameError\u001b[0m                                 Traceback (most recent call last)",
      "\u001b[1;32m<ipython-input-26-518e7804e03b>\u001b[0m in \u001b[0;36m<module>\u001b[1;34m\u001b[0m\n\u001b[0;32m      1\u001b[0m early_stopping_cb = keras.callbacks.EarlyStopping(patience=10,\n\u001b[0;32m      2\u001b[0m                                                   restore_best_weights=True)\n\u001b[1;32m----> 3\u001b[1;33m history = model.fit(X_train, y_train, epochs=100,\n\u001b[0m\u001b[0;32m      4\u001b[0m                     \u001b[0mvalidation_data\u001b[0m\u001b[1;33m=\u001b[0m\u001b[1;33m(\u001b[0m\u001b[0mX_valid\u001b[0m\u001b[1;33m,\u001b[0m \u001b[0my_valid\u001b[0m\u001b[1;33m)\u001b[0m\u001b[1;33m,\u001b[0m\u001b[1;33m\u001b[0m\u001b[1;33m\u001b[0m\u001b[0m\n\u001b[0;32m      5\u001b[0m                     callbacks=[checkpoint_cb, early_stopping_cb])\n",
      "\u001b[1;31mNameError\u001b[0m: name 'X_train' is not defined"
     ]
    }
   ],
   "source": [
    "early_stopping_cb = keras.callbacks.EarlyStopping(patience=10,\n",
    "                                                  restore_best_weights=True)\n",
    "history = model.fit(X_train, y_train, epochs=100,\n",
    "                    validation_data=(X_valid, y_valid),\n",
    "                    callbacks=[checkpoint_cb, early_stopping_cb])"
   ]
  },
  {
   "cell_type": "code",
   "execution_count": null,
   "metadata": {},
   "outputs": [],
   "source": []
  }
 ],
 "metadata": {
  "kernelspec": {
   "display_name": "Python 3",
   "language": "python",
   "name": "python3"
  },
  "language_info": {
   "codemirror_mode": {
    "name": "ipython",
    "version": 3
   },
   "file_extension": ".py",
   "mimetype": "text/x-python",
   "name": "python",
   "nbconvert_exporter": "python",
   "pygments_lexer": "ipython3",
   "version": "3.7.6"
  }
 },
 "nbformat": 4,
 "nbformat_minor": 4
}
