{
 "cells": [
  {
   "cell_type": "code",
   "execution_count": 1,
   "metadata": {},
   "outputs": [
    {
     "name": "stderr",
     "output_type": "stream",
     "text": [
      "WARNING:root:pynput was not found; mouse and keyboard input will not be available.\n",
      "Using TensorFlow backend.\n"
     ]
    }
   ],
   "source": [
    "import numpy as np\n",
    "import pandas as pd\n",
    "import csv\n",
    "from scamp import *\n",
    "import tensorflow as tf\n",
    "from tensorflow import keras\n",
    "from tensorflow.keras.layers import Dense,Flatten,Softmax,Input\n",
    "import keras.backend as K "
   ]
  },
  {
   "cell_type": "code",
   "execution_count": 2,
   "metadata": {},
   "outputs": [
    {
     "name": "stdout",
     "output_type": "stream",
     "text": [
      "      Cantus  Counter\n",
      "0         58       67\n",
      "1         66       69\n",
      "2         64       71\n",
      "3         68       76\n",
      "4         66       74\n",
      "...      ...      ...\n",
      "9995      64       72\n",
      "9996      56       60\n",
      "9997      57       61\n",
      "9998      61       65\n",
      "9999      56       64\n",
      "\n",
      "[10000 rows x 2 columns]\n"
     ]
    }
   ],
   "source": [
    "df = pd.read_csv('Species.csv', sep=\",\",index_col = 0)\n",
    "print(df)"
   ]
  },
  {
   "cell_type": "code",
   "execution_count": 3,
   "metadata": {},
   "outputs": [
    {
     "data": {
      "text/plain": [
       "10000"
      ]
     },
     "execution_count": 3,
     "metadata": {},
     "output_type": "execute_result"
    }
   ],
   "source": [
    "n = df.shape[0]\n",
    "n"
   ]
  },
  {
   "cell_type": "code",
   "execution_count": 4,
   "metadata": {},
   "outputs": [
    {
     "data": {
      "text/plain": [
       "<tf.Variable 'Variable:0' shape=(2, 20000) dtype=int32, numpy=\n",
       "array([[15, 12, 23, ..., 10, 13,  9],\n",
       "       [ 0,  1,  0, ...,  1,  0,  1]])>"
      ]
     },
     "execution_count": 4,
     "metadata": {},
     "output_type": "execute_result"
    }
   ],
   "source": [
    "X = tf.Variable(np.zeros((2,n*2)),dtype='int32')  # any data tensor\n",
    "for i in range(0,2*n,2):\n",
    "    X[0,i].assign(df['Cantus'][i/2] - 43)\n",
    "    X[1,i].assign(0)\n",
    "    X[0,i+1].assign(df['Counter'][i/2] - 55)\n",
    "    X[1,i+1].assign(1)\n",
    "X"
   ]
  },
  {
   "cell_type": "code",
   "execution_count": 5,
   "metadata": {},
   "outputs": [
    {
     "data": {
      "text/plain": [
       "<tf.Tensor: shape=(20000, 31), dtype=float32, numpy=\n",
       "array([[0., 0., 0., ..., 0., 0., 0.],\n",
       "       [0., 0., 0., ..., 0., 0., 1.],\n",
       "       [0., 0., 0., ..., 0., 0., 0.],\n",
       "       ...,\n",
       "       [0., 0., 0., ..., 0., 0., 1.],\n",
       "       [0., 0., 0., ..., 0., 0., 0.],\n",
       "       [0., 0., 0., ..., 0., 0., 1.]], dtype=float32)>"
      ]
     },
     "execution_count": 5,
     "metadata": {},
     "output_type": "execute_result"
    }
   ],
   "source": [
    "depth = 30\n",
    "X = tf.concat([tf.one_hot(X[0,:], depth),tf.dtypes.cast(tf.reshape(X[1,:],[20000,1]),tf.float32)],1)\n",
    "X"
   ]
  },
  {
   "cell_type": "code",
   "execution_count": 6,
   "metadata": {},
   "outputs": [],
   "source": [
    "train_dataset = tf.data.Dataset.from_tensor_slices(X[:16000,:])\n",
    "valid_dataset = tf.data.Dataset.from_tensor_slices(X[16000:19000,:])\n",
    "test_dataset = tf.data.Dataset.from_tensor_slices(X[19000:,:])"
   ]
  },
  {
   "cell_type": "code",
   "execution_count": 43,
   "metadata": {},
   "outputs": [],
   "source": [
    "def data_process(dataset,batch_size):\n",
    "    n_steps = 20\n",
    "    window_length = n_steps + 2 # target = input shifted 1 character ahead\n",
    "    dataset = dataset.window(window_length, shift=2, drop_remainder=True)\n",
    "    dataset = dataset.flat_map(lambda window: window.batch(window_length))\n",
    "    \n",
    "    shuffle_dataset = dataset.shuffle(20000).batch(batch_size,drop_remainder=True)\n",
    "    #map_dataset = shuffle_dataset.map(lambda windows: (windows[:,:-2,:], windows[:,-2:-1,:],windows[:,1:-1,:-1], windows[:,-2,:],windows[:,-1,:]))\n",
    "    map_dataset = shuffle_dataset.map(lambda windows: (windows[:,:-2,:], windows[:,-1:,:],tf.concat((windows[:,1:-2,:-1],windows[:,-1:,:-1]),1),windows[:,-1,:],windows[:,-2,:]))\n",
    "    final_dataset = map_dataset.map(\n",
    "        lambda X_batch, Y_batch, Z_batch, U_batch, V_batch: ((X_batch, Y_batch), (Z_batch, U_batch[:,:-1], V_batch[:,:-1])))\n",
    "    return final_dataset"
   ]
  },
  {
   "cell_type": "code",
   "execution_count": 10,
   "metadata": {},
   "outputs": [
    {
     "ename": "NameError",
     "evalue": "name 'data_process' is not defined",
     "output_type": "error",
     "traceback": [
      "\u001b[1;31m---------------------------------------------------------------------------\u001b[0m",
      "\u001b[1;31mNameError\u001b[0m                                 Traceback (most recent call last)",
      "\u001b[1;32m<ipython-input-10-65e5e7895960>\u001b[0m in \u001b[0;36m<module>\u001b[1;34m\u001b[0m\n\u001b[0;32m      1\u001b[0m \u001b[0mbatch_size\u001b[0m \u001b[1;33m=\u001b[0m \u001b[1;36m20\u001b[0m\u001b[1;33m\u001b[0m\u001b[1;33m\u001b[0m\u001b[0m\n\u001b[1;32m----> 2\u001b[1;33m \u001b[0mtrain\u001b[0m \u001b[1;33m=\u001b[0m \u001b[0mdata_process\u001b[0m\u001b[1;33m(\u001b[0m\u001b[0mtrain_dataset\u001b[0m\u001b[1;33m,\u001b[0m\u001b[0mbatch_size\u001b[0m\u001b[1;33m)\u001b[0m\u001b[1;33m\u001b[0m\u001b[1;33m\u001b[0m\u001b[0m\n\u001b[0m\u001b[0;32m      3\u001b[0m \u001b[0mvalid\u001b[0m \u001b[1;33m=\u001b[0m \u001b[0mdata_process\u001b[0m\u001b[1;33m(\u001b[0m\u001b[0mvalid_dataset\u001b[0m\u001b[1;33m,\u001b[0m\u001b[0mbatch_size\u001b[0m\u001b[1;33m)\u001b[0m\u001b[1;33m\u001b[0m\u001b[1;33m\u001b[0m\u001b[0m\n\u001b[0;32m      4\u001b[0m \u001b[0mtest\u001b[0m \u001b[1;33m=\u001b[0m \u001b[0mdata_process\u001b[0m\u001b[1;33m(\u001b[0m\u001b[0mtest_dataset\u001b[0m\u001b[1;33m,\u001b[0m\u001b[0mbatch_size\u001b[0m\u001b[1;33m)\u001b[0m\u001b[1;33m\u001b[0m\u001b[1;33m\u001b[0m\u001b[0m\n",
      "\u001b[1;31mNameError\u001b[0m: name 'data_process' is not defined"
     ]
    }
   ],
   "source": [
    "batch_size = 20\n",
    "train = data_process(train_dataset,batch_size)\n",
    "valid = data_process(valid_dataset,batch_size)\n",
    "test = data_process(test_dataset,batch_size)"
   ]
  },
  {
   "cell_type": "code",
   "execution_count": 11,
   "metadata": {},
   "outputs": [],
   "source": [
    "rnn_units = 12\n",
    "n_notes = 30\n",
    "\n",
    "input_A = keras.layers.Input(shape=(batch_size,31), name=\"input_A\") # (15, 20, 31)\n",
    "input_B = keras.layers.Input(shape=(1,31), name=\"input_B\") # (15, 1, 31)\n",
    "\n",
    "hidden1 = keras.layers.LSTM(rnn_units, return_sequences=True)(input_A) # (15,20,12)\n",
    "hidden2 = keras.layers.LSTM(rnn_units, return_sequences=True)(hidden1) #(15,20,12)\n",
    "\n",
    "output_RNN = keras.layers.Dense(n_notes, activation='softmax', name = 'output_RNN')(hidden2) #(15,20,30)\n",
    "\n",
    "e = keras.layers.Dense(1, activation='tanh')(hidden2) #(15,20,1)\n",
    "e = keras.layers.Reshape([-1])(e) #(15,20)\n",
    "\n",
    "alpha = keras.layers.Activation('softmax')(e) #(15,20)\n",
    "c = keras.layers.Permute([2, 1])(keras.layers.RepeatVector(rnn_units)(alpha)) #(15,20,12)\n",
    "c = keras.layers.Multiply()([hidden2, c]) #(15,20,12)\n",
    "c = keras.layers.Lambda(lambda xin: K.sum(xin, axis=1), output_shape=(rnn_units,))(c) #(15,12)\n",
    "\n",
    "output_A = keras.layers.Dense(n_notes, activation = 'softmax', name = 'output_A')(c) #(15,30) (0, cantus)\n",
    "reshape = tf.reshape(output_A,[-1,1,30]) # (15, 1, 30)\n",
    "\n",
    "#zero = tf.reshape(tf.zeros(batch_size),[batch_size,1,1])\n",
    "#input_output_A = tf.concat((reshape,zero),2) # (15, 1, 31)  (0, cantus)\n",
    "\n",
    "one = tf.reshape(tf.ones(batch_size),[batch_size,1,1])\n",
    "input_output_A = tf.concat((reshape,one),2) # (15, 1, 31)  (0, cantus)\n",
    "\n",
    "aux1 = keras.layers.SimpleRNN(rnn_units)(input_B, initial_state=c) #(15,12)\n",
    "aux2 = keras.layers.SimpleRNN(rnn_units)(input_output_A, initial_state=c) #(15,12)\n",
    "output_B1 = keras.layers.Dense(n_notes, activation = 'softmax', name = 'output_B1')(aux1) #(15,30) (1, counter)\n",
    "output_B2 = keras.layers.Dense(n_notes, activation = 'softmax', name = 'output_B2')(aux2) #(15,30) (1, counter)\n",
    "\n",
    "model = keras.models.Model([input_A, input_B], [output_RNN, output_A, output_B1])\n",
    "aux_model2 = keras.models.Model(input_A, [output_A, output_B2])\n",
    "sub_model = keras.models.Model(input_A, output_A)\n",
    "\n",
    "model.compile(loss=['categorical_crossentropy', 'categorical_crossentropy','categorical_crossentropy'],\n",
    "          loss_weights=[0.1, 0.3, 0.3, 0.3],optimizer=\"sgd\")\n"
   ]
  },
  {
   "cell_type": "code",
   "execution_count": 12,
   "metadata": {},
   "outputs": [
    {
     "name": "stdout",
     "output_type": "stream",
     "text": [
      "Model: \"functional_1\"\n",
      "__________________________________________________________________________________________________\n",
      "Layer (type)                    Output Shape         Param #     Connected to                     \n",
      "==================================================================================================\n",
      "input_A (InputLayer)            [(None, 20, 31)]     0                                            \n",
      "__________________________________________________________________________________________________\n",
      "lstm (LSTM)                     (None, 20, 12)       2112        input_A[0][0]                    \n",
      "__________________________________________________________________________________________________\n",
      "lstm_1 (LSTM)                   (None, 20, 12)       1200        lstm[0][0]                       \n",
      "__________________________________________________________________________________________________\n",
      "dense (Dense)                   (None, 20, 1)        13          lstm_1[0][0]                     \n",
      "__________________________________________________________________________________________________\n",
      "reshape (Reshape)               (None, 20)           0           dense[0][0]                      \n",
      "__________________________________________________________________________________________________\n",
      "activation (Activation)         (None, 20)           0           reshape[0][0]                    \n",
      "__________________________________________________________________________________________________\n",
      "repeat_vector (RepeatVector)    (None, 12, 20)       0           activation[0][0]                 \n",
      "__________________________________________________________________________________________________\n",
      "permute (Permute)               (None, 20, 12)       0           repeat_vector[0][0]              \n",
      "__________________________________________________________________________________________________\n",
      "multiply (Multiply)             (None, 20, 12)       0           lstm_1[0][0]                     \n",
      "                                                                 permute[0][0]                    \n",
      "__________________________________________________________________________________________________\n",
      "lambda (Lambda)                 (None, 12)           0           multiply[0][0]                   \n",
      "__________________________________________________________________________________________________\n",
      "input_B (InputLayer)            [(None, 1, 31)]      0                                            \n",
      "__________________________________________________________________________________________________\n",
      "simple_rnn (SimpleRNN)          (None, 12)           528         input_B[0][0]                    \n",
      "                                                                 lambda[0][0]                     \n",
      "__________________________________________________________________________________________________\n",
      "output_RNN (Dense)              (None, 20, 30)       390         lstm_1[0][0]                     \n",
      "__________________________________________________________________________________________________\n",
      "output_A (Dense)                (None, 30)           390         lambda[0][0]                     \n",
      "__________________________________________________________________________________________________\n",
      "output_B1 (Dense)               (None, 30)           390         simple_rnn[0][0]                 \n",
      "==================================================================================================\n",
      "Total params: 5,023\n",
      "Trainable params: 5,023\n",
      "Non-trainable params: 0\n",
      "__________________________________________________________________________________________________\n"
     ]
    }
   ],
   "source": [
    "model.summary()"
   ]
  },
  {
   "cell_type": "code",
   "execution_count": 47,
   "metadata": {},
   "outputs": [
    {
     "name": "stdout",
     "output_type": "stream",
     "text": [
      "Epoch 1/1000\n",
      "399/399 [==============================] - 3s 9ms/step - loss: 2.3834 - output_RNN_loss: 3.4017 - output_A_loss: 3.3932 - output_B1_loss: 3.4177 - val_loss: 2.3742 - val_output_RNN_loss: 3.4015 - val_output_A_loss: 3.3846 - val_output_B1_loss: 3.3955\n",
      "Epoch 2/1000\n",
      "399/399 [==============================] - 3s 7ms/step - loss: 2.3707 - output_RNN_loss: 3.4020 - output_A_loss: 3.3798 - output_B1_loss: 3.3887 - val_loss: 2.3625 - val_output_RNN_loss: 3.4014 - val_output_A_loss: 3.3720 - val_output_B1_loss: 3.3691\n",
      "Epoch 3/1000\n",
      "399/399 [==============================] - 3s 7ms/step - loss: 2.3608 - output_RNN_loss: 3.4018 - output_A_loss: 3.3690 - output_B1_loss: 3.3664 - val_loss: 2.3527 - val_output_RNN_loss: 3.4007 - val_output_A_loss: 3.3615 - val_output_B1_loss: 3.3473\n",
      "Epoch 4/1000\n",
      "399/399 [==============================] - 3s 7ms/step - loss: 2.3522 - output_RNN_loss: 3.4013 - output_A_loss: 3.3598 - output_B1_loss: 3.3470 - val_loss: 2.3441 - val_output_RNN_loss: 3.3996 - val_output_A_loss: 3.3523 - val_output_B1_loss: 3.3282\n",
      "Epoch 5/1000\n",
      "399/399 [==============================] - 3s 7ms/step - loss: 2.3446 - output_RNN_loss: 3.4004 - output_A_loss: 3.3517 - output_B1_loss: 3.3302 - val_loss: 2.3365 - val_output_RNN_loss: 3.3983 - val_output_A_loss: 3.3442 - val_output_B1_loss: 3.3112\n",
      "Epoch 6/1000\n",
      "399/399 [==============================] - 3s 6ms/step - loss: 2.3375 - output_RNN_loss: 3.3991 - output_A_loss: 3.3446 - output_B1_loss: 3.3141 - val_loss: 2.3295 - val_output_RNN_loss: 3.3966 - val_output_A_loss: 3.3366 - val_output_B1_loss: 3.2963\n",
      "Epoch 7/1000\n",
      "399/399 [==============================] - 3s 6ms/step - loss: 2.3311 - output_RNN_loss: 3.3979 - output_A_loss: 3.3379 - output_B1_loss: 3.2997 - val_loss: 2.3230 - val_output_RNN_loss: 3.3949 - val_output_A_loss: 3.3302 - val_output_B1_loss: 3.2816\n",
      "Epoch 8/1000\n",
      "399/399 [==============================] - 3s 6ms/step - loss: 2.3250 - output_RNN_loss: 3.3963 - output_A_loss: 3.3320 - output_B1_loss: 3.2858 - val_loss: 2.3169 - val_output_RNN_loss: 3.3932 - val_output_A_loss: 3.3241 - val_output_B1_loss: 3.2679\n",
      "Epoch 9/1000\n",
      "399/399 [==============================] - 3s 6ms/step - loss: 2.3193 - output_RNN_loss: 3.3948 - output_A_loss: 3.3263 - output_B1_loss: 3.2732 - val_loss: 2.3106 - val_output_RNN_loss: 3.3912 - val_output_A_loss: 3.3174 - val_output_B1_loss: 3.2543\n",
      "Epoch 10/1000\n",
      "399/399 [==============================] - 3s 6ms/step - loss: 2.3140 - output_RNN_loss: 3.3932 - output_A_loss: 3.3213 - output_B1_loss: 3.2609 - val_loss: 2.3058 - val_output_RNN_loss: 3.3893 - val_output_A_loss: 3.3128 - val_output_B1_loss: 3.2434\n",
      "Epoch 11/1000\n",
      "399/399 [==============================] - 5s 12ms/step - loss: 2.3090 - output_RNN_loss: 3.3915 - output_A_loss: 3.3165 - output_B1_loss: 3.2495 - val_loss: 2.3007 - val_output_RNN_loss: 3.3874 - val_output_A_loss: 3.3078 - val_output_B1_loss: 3.2322\n",
      "Epoch 12/1000\n",
      "399/399 [==============================] - 11s 28ms/step - loss: 2.3043 - output_RNN_loss: 3.3897 - output_A_loss: 3.3122 - output_B1_loss: 3.2389 - val_loss: 2.2957 - val_output_RNN_loss: 3.3853 - val_output_A_loss: 3.3033 - val_output_B1_loss: 3.2207\n",
      "Epoch 13/1000\n",
      "399/399 [==============================] - 10s 26ms/step - loss: 2.2999 - output_RNN_loss: 3.3881 - output_A_loss: 3.3082 - output_B1_loss: 3.2288 - val_loss: 2.2917 - val_output_RNN_loss: 3.3834 - val_output_A_loss: 3.2996 - val_output_B1_loss: 3.2116\n",
      "Epoch 14/1000\n",
      "399/399 [==============================] - 10s 25ms/step - loss: 2.2956 - output_RNN_loss: 3.3863 - output_A_loss: 3.3043 - output_B1_loss: 3.2190 - val_loss: 2.2870 - val_output_RNN_loss: 3.3814 - val_output_A_loss: 3.2948 - val_output_B1_loss: 3.2012\n",
      "Epoch 15/1000\n",
      "399/399 [==============================] - 10s 25ms/step - loss: 2.2918 - output_RNN_loss: 3.3845 - output_A_loss: 3.3011 - output_B1_loss: 3.2101 - val_loss: 2.2833 - val_output_RNN_loss: 3.3794 - val_output_A_loss: 3.2916 - val_output_B1_loss: 3.1930\n",
      "Epoch 16/1000\n",
      "399/399 [==============================] - 10s 25ms/step - loss: 2.2880 - output_RNN_loss: 3.3828 - output_A_loss: 3.2977 - output_B1_loss: 3.2014 - val_loss: 2.2794 - val_output_RNN_loss: 3.3773 - val_output_A_loss: 3.2879 - val_output_B1_loss: 3.1842\n",
      "Epoch 17/1000\n",
      "399/399 [==============================] - 10s 25ms/step - loss: 2.2843 - output_RNN_loss: 3.3810 - output_A_loss: 3.2948 - output_B1_loss: 3.1926 - val_loss: 2.2758 - val_output_RNN_loss: 3.3754 - val_output_A_loss: 3.2854 - val_output_B1_loss: 3.1755\n",
      "Epoch 18/1000\n",
      "399/399 [==============================] - 10s 25ms/step - loss: 2.2810 - output_RNN_loss: 3.3793 - output_A_loss: 3.2922 - output_B1_loss: 3.1847 - val_loss: 2.2722 - val_output_RNN_loss: 3.3736 - val_output_A_loss: 3.2822 - val_output_B1_loss: 3.1672\n",
      "Epoch 19/1000\n",
      "399/399 [==============================] - 10s 25ms/step - loss: 2.2777 - output_RNN_loss: 3.3775 - output_A_loss: 3.2898 - output_B1_loss: 3.1766 - val_loss: 2.2689 - val_output_RNN_loss: 3.3718 - val_output_A_loss: 3.2796 - val_output_B1_loss: 3.1594\n",
      "Epoch 20/1000\n",
      "399/399 [==============================] - 10s 26ms/step - loss: 2.2744 - output_RNN_loss: 3.3759 - output_A_loss: 3.2874 - output_B1_loss: 3.1688 - val_loss: 2.2653 - val_output_RNN_loss: 3.3697 - val_output_A_loss: 3.2760 - val_output_B1_loss: 3.1516\n",
      "Epoch 21/1000\n",
      "399/399 [==============================] - 10s 26ms/step - loss: 2.2713 - output_RNN_loss: 3.3741 - output_A_loss: 3.2854 - output_B1_loss: 3.1608 - val_loss: 2.2623 - val_output_RNN_loss: 3.3681 - val_output_A_loss: 3.2751 - val_output_B1_loss: 3.1433\n",
      "Epoch 22/1000\n",
      "399/399 [==============================] - 10s 26ms/step - loss: 2.2682 - output_RNN_loss: 3.3725 - output_A_loss: 3.2835 - output_B1_loss: 3.1530 - val_loss: 2.2587 - val_output_RNN_loss: 3.3662 - val_output_A_loss: 3.2725 - val_output_B1_loss: 3.1343.3723 - output_A_loss: 3.2841 - output_B1_loss: 3.15 - ETA: 0s - loss: 2.2680 - output_RNN_loss: 3.3724 - output_A_loss: 3.2837 - output_B1_\n",
      "Epoch 23/1000\n",
      "399/399 [==============================] - 10s 25ms/step - loss: 2.2651 - output_RNN_loss: 3.3708 - output_A_loss: 3.2816 - output_B1_loss: 3.1451 - val_loss: 2.2560 - val_output_RNN_loss: 3.3646 - val_output_A_loss: 3.2710 - val_output_B1_loss: 3.1276\n",
      "Epoch 24/1000\n",
      "399/399 [==============================] - 10s 24ms/step - loss: 2.2621 - output_RNN_loss: 3.3693 - output_A_loss: 3.2798 - output_B1_loss: 3.1374 - val_loss: 2.2529 - val_output_RNN_loss: 3.3627 - val_output_A_loss: 3.2697 - val_output_B1_loss: 3.1192\n",
      "Epoch 25/1000\n",
      "399/399 [==============================] - 10s 25ms/step - loss: 2.2592 - output_RNN_loss: 3.3677 - output_A_loss: 3.2785 - output_B1_loss: 3.1296 - val_loss: 2.2499 - val_output_RNN_loss: 3.3612 - val_output_A_loss: 3.2673 - val_output_B1_loss: 3.1119\n",
      "Epoch 26/1000\n",
      "399/399 [==============================] - 10s 25ms/step - loss: 2.2562 - output_RNN_loss: 3.3661 - output_A_loss: 3.2772 - output_B1_loss: 3.1213 - val_loss: 2.2470 - val_output_RNN_loss: 3.3595 - val_output_A_loss: 3.2667 - val_output_B1_loss: 3.1033\n",
      "Epoch 27/1000\n",
      "399/399 [==============================] - 10s 25ms/step - loss: 2.2531 - output_RNN_loss: 3.3647 - output_A_loss: 3.2759 - output_B1_loss: 3.1130 - val_loss: 2.2439 - val_output_RNN_loss: 3.3581 - val_output_A_loss: 3.2648 - val_output_B1_loss: 3.0956\n",
      "Epoch 28/1000\n",
      "399/399 [==============================] - 10s 25ms/step - loss: 2.2500 - output_RNN_loss: 3.3632 - output_A_loss: 3.2745 - output_B1_loss: 3.1043 - val_loss: 2.2410 - val_output_RNN_loss: 3.3564 - val_output_A_loss: 3.2642 - val_output_B1_loss: 3.0871\n",
      "Epoch 29/1000\n",
      "399/399 [==============================] - 11s 27ms/step - loss: 2.2468 - output_RNN_loss: 3.3618 - output_A_loss: 3.2733 - output_B1_loss: 3.0954 - val_loss: 2.2372 - val_output_RNN_loss: 3.3547 - val_output_A_loss: 3.2617 - val_output_B1_loss: 3.0774\n",
      "Epoch 30/1000\n",
      "399/399 [==============================] - 10s 25ms/step - loss: 2.2436 - output_RNN_loss: 3.3605 - output_A_loss: 3.2723 - output_B1_loss: 3.0863 - val_loss: 2.2336 - val_output_RNN_loss: 3.3534 - val_output_A_loss: 3.2592 - val_output_B1_loss: 3.0681\n",
      "Epoch 31/1000\n",
      "399/399 [==============================] - 10s 25ms/step - loss: 2.2405 - output_RNN_loss: 3.3593 - output_A_loss: 3.2714 - output_B1_loss: 3.0772 - val_loss: 2.2308 - val_output_RNN_loss: 3.3519 - val_output_A_loss: 3.2599 - val_output_B1_loss: 3.0589\n",
      "Epoch 32/1000\n",
      "399/399 [==============================] - 10s 25ms/step - loss: 2.2372 - output_RNN_loss: 3.3579 - output_A_loss: 3.2705 - output_B1_loss: 3.0675 - val_loss: 2.2278 - val_output_RNN_loss: 3.3509 - val_output_A_loss: 3.2596 - val_output_B1_loss: 3.0495\n",
      "Epoch 33/1000\n",
      "399/399 [==============================] - 10s 25ms/step - loss: 2.2337 - output_RNN_loss: 3.3567 - output_A_loss: 3.2694 - output_B1_loss: 3.0574 - val_loss: 2.2239 - val_output_RNN_loss: 3.3495 - val_output_A_loss: 3.2574 - val_output_B1_loss: 3.0391\n",
      "Epoch 34/1000\n",
      "399/399 [==============================] - 10s 25ms/step - loss: 2.2304 - output_RNN_loss: 3.3555 - output_A_loss: 3.2688 - output_B1_loss: 3.0475 - val_loss: 2.2204 - val_output_RNN_loss: 3.3480 - val_output_A_loss: 3.2575 - val_output_B1_loss: 3.0280\n",
      "Epoch 35/1000\n",
      "399/399 [==============================] - 10s 25ms/step - loss: 2.2268 - output_RNN_loss: 3.3544 - output_A_loss: 3.2678 - output_B1_loss: 3.0369 - val_loss: 2.2161 - val_output_RNN_loss: 3.3466 - val_output_A_loss: 3.2553 - val_output_B1_loss: 3.0162- output_A_loss: 3.2674 - output_B1_lo\n",
      "Epoch 36/1000\n",
      "399/399 [==============================] - 12s 29ms/step - loss: 2.2233 - output_RNN_loss: 3.3533 - output_A_loss: 3.2672 - output_B1_loss: 3.0260 - val_loss: 2.2131 - val_output_RNN_loss: 3.3459 - val_output_A_loss: 3.2551 - val_output_B1_loss: 3.0067\n",
      "Epoch 37/1000\n",
      "399/399 [==============================] - 12s 29ms/step - loss: 2.2195 - output_RNN_loss: 3.3523 - output_A_loss: 3.2662 - output_B1_loss: 3.0148 - val_loss: 2.2097 - val_output_RNN_loss: 3.3448 - val_output_A_loss: 3.2549 - val_output_B1_loss: 2.9958\n",
      "Epoch 38/1000\n",
      "399/399 [==============================] - 11s 28ms/step - loss: 2.2158 - output_RNN_loss: 3.3513 - output_A_loss: 3.2657 - output_B1_loss: 3.0032 - val_loss: 2.2061 - val_output_RNN_loss: 3.3441 - val_output_A_loss: 3.2546 - val_output_B1_loss: 2.9844\n",
      "Epoch 39/1000\n",
      "399/399 [==============================] - 11s 28ms/step - loss: 2.2120 - output_RNN_loss: 3.3503 - output_A_loss: 3.2651 - output_B1_loss: 2.9914 - val_loss: 2.2015 - val_output_RNN_loss: 3.3426 - val_output_A_loss: 3.2537 - val_output_B1_loss: 2.9704\n",
      "Epoch 40/1000\n",
      "399/399 [==============================] - 11s 26ms/step - loss: 2.2080 - output_RNN_loss: 3.3493 - output_A_loss: 3.2646 - output_B1_loss: 2.9790 - val_loss: 2.1974 - val_output_RNN_loss: 3.3419 - val_output_A_loss: 3.2523 - val_output_B1_loss: 2.9585\n",
      "Epoch 41/1000\n",
      "399/399 [==============================] - 12s 30ms/step - loss: 2.2038 - output_RNN_loss: 3.3484 - output_A_loss: 3.2638 - output_B1_loss: 2.9662 - val_loss: 2.1932 - val_output_RNN_loss: 3.3408 - val_output_A_loss: 3.2523 - val_output_B1_loss: 2.9448\n",
      "Epoch 42/1000\n",
      "399/399 [==============================] - 10s 26ms/step - loss: 2.1997 - output_RNN_loss: 3.3476 - output_A_loss: 3.2633 - output_B1_loss: 2.9532 - val_loss: 2.1881 - val_output_RNN_loss: 3.3398 - val_output_A_loss: 3.2502 - val_output_B1_loss: 2.9303\n",
      "Epoch 43/1000\n",
      "399/399 [==============================] - 10s 25ms/step - loss: 2.1952 - output_RNN_loss: 3.3467 - output_A_loss: 3.2622 - output_B1_loss: 2.9397 - val_loss: 2.1844 - val_output_RNN_loss: 3.3386 - val_output_A_loss: 3.2500 - val_output_B1_loss: 2.9185\n",
      "Epoch 44/1000\n",
      "399/399 [==============================] - 10s 25ms/step - loss: 2.1911 - output_RNN_loss: 3.3460 - output_A_loss: 3.2621 - output_B1_loss: 2.9261 - val_loss: 2.1804 - val_output_RNN_loss: 3.3378 - val_output_A_loss: 3.2506 - val_output_B1_loss: 2.9047\n",
      "Epoch 45/1000\n",
      "399/399 [==============================] - 10s 26ms/step - loss: 2.1866 - output_RNN_loss: 3.3451 - output_A_loss: 3.2616 - output_B1_loss: 2.9119 - val_loss: 2.1754 - val_output_RNN_loss: 3.3373 - val_output_A_loss: 3.2485 - val_output_B1_loss: 2.8906\n",
      "Epoch 46/1000\n",
      "399/399 [==============================] - 10s 25ms/step - loss: 2.1819 - output_RNN_loss: 3.3444 - output_A_loss: 3.2608 - output_B1_loss: 2.8975 - val_loss: 2.1709 - val_output_RNN_loss: 3.3366 - val_output_A_loss: 3.2488 - val_output_B1_loss: 2.8753\n",
      "Epoch 47/1000\n",
      "399/399 [==============================] - 10s 25ms/step - loss: 2.1770 - output_RNN_loss: 3.3436 - output_A_loss: 3.2600 - output_B1_loss: 2.8821 - val_loss: 2.1663 - val_output_RNN_loss: 3.3354 - val_output_A_loss: 3.2482 - val_output_B1_loss: 2.8611\n",
      "Epoch 48/1000\n",
      "399/399 [==============================] - 10s 25ms/step - loss: 2.1723 - output_RNN_loss: 3.3429 - output_A_loss: 3.2597 - output_B1_loss: 2.8670 - val_loss: 2.1611 - val_output_RNN_loss: 3.3349 - val_output_A_loss: 3.2472 - val_output_B1_loss: 2.8448\n",
      "Epoch 49/1000\n",
      "399/399 [==============================] - 10s 25ms/step - loss: 2.1673 - output_RNN_loss: 3.3422 - output_A_loss: 3.2588 - output_B1_loss: 2.8513 - val_loss: 2.1556 - val_output_RNN_loss: 3.3338 - val_output_A_loss: 3.2459 - val_output_B1_loss: 2.8281\n",
      "Epoch 50/1000\n",
      "399/399 [==============================] - 10s 25ms/step - loss: 2.1623 - output_RNN_loss: 3.3414 - output_A_loss: 3.2583 - output_B1_loss: 2.8354 - val_loss: 2.1505 - val_output_RNN_loss: 3.3329 - val_output_A_loss: 3.2446 - val_output_B1_loss: 2.8127\n",
      "Epoch 51/1000\n",
      "399/399 [==============================] - 10s 26ms/step - loss: 2.1569 - output_RNN_loss: 3.3407 - output_A_loss: 3.2575 - output_B1_loss: 2.8185 - val_loss: 2.1449 - val_output_RNN_loss: 3.3324 - val_output_A_loss: 3.2437 - val_output_B1_loss: 2.7952\n",
      "Epoch 52/1000\n",
      "399/399 [==============================] - 10s 26ms/step - loss: 2.1516 - output_RNN_loss: 3.3400 - output_A_loss: 3.2566 - output_B1_loss: 2.8022 - val_loss: 2.1402 - val_output_RNN_loss: 3.3314 - val_output_A_loss: 3.2439 - val_output_B1_loss: 2.7796\n",
      "Epoch 53/1000\n",
      "399/399 [==============================] - 10s 25ms/step - loss: 2.1459 - output_RNN_loss: 3.3391 - output_A_loss: 3.2554 - output_B1_loss: 2.7847 - val_loss: 2.1339 - val_output_RNN_loss: 3.3304 - val_output_A_loss: 3.2419 - val_output_B1_loss: 2.7609\n",
      "Epoch 54/1000\n",
      "399/399 [==============================] - 10s 25ms/step - loss: 2.1405 - output_RNN_loss: 3.3385 - output_A_loss: 3.2546 - output_B1_loss: 2.7677 - val_loss: 2.1286 - val_output_RNN_loss: 3.3300 - val_output_A_loss: 3.2420 - val_output_B1_loss: 2.7435\n",
      "Epoch 55/1000\n",
      "399/399 [==============================] - 10s 26ms/step - loss: 2.1348 - output_RNN_loss: 3.3378 - output_A_loss: 3.2535 - output_B1_loss: 2.7497 - val_loss: 2.1233 - val_output_RNN_loss: 3.3286 - val_output_A_loss: 3.2398 - val_output_B1_loss: 2.7283ut_RNN_l - ETA: 1s - loss: 2.1348 - output_RNN_loss: 3.3378 - output_A_los\n",
      "Epoch 56/1000\n",
      "399/399 [==============================] - 10s 25ms/step - loss: 2.1286 - output_RNN_loss: 3.3369 - output_A_loss: 3.2518 - output_B1_loss: 2.7314 - val_loss: 2.1171 - val_output_RNN_loss: 3.3280 - val_output_A_loss: 3.2397 - val_output_B1_loss: 2.7079\n",
      "Epoch 57/1000\n",
      "399/399 [==============================] - 10s 25ms/step - loss: 2.1231 - output_RNN_loss: 3.3360 - output_A_loss: 3.2507 - output_B1_loss: 2.7141 - val_loss: 2.1111 - val_output_RNN_loss: 3.3271 - val_output_A_loss: 3.2378 - val_output_B1_loss: 2.6902\n",
      "Epoch 58/1000\n",
      "399/399 [==============================] - 10s 25ms/step - loss: 2.1171 - output_RNN_loss: 3.3351 - output_A_loss: 3.2491 - output_B1_loss: 2.6963 - val_loss: 2.1050 - val_output_RNN_loss: 3.3257 - val_output_A_loss: 3.2351 - val_output_B1_loss: 2.6729\n",
      "Epoch 59/1000\n",
      "399/399 [==============================] - 10s 25ms/step - loss: 2.1117 - output_RNN_loss: 3.3343 - output_A_loss: 3.2479 - output_B1_loss: 2.6795 - val_loss: 2.1003 - val_output_RNN_loss: 3.3249 - val_output_A_loss: 3.2353 - val_output_B1_loss: 2.6573\n",
      "Epoch 60/1000\n",
      "399/399 [==============================] - 10s 25ms/step - loss: 2.1059 - output_RNN_loss: 3.3334 - output_A_loss: 3.2461 - output_B1_loss: 2.6623 - val_loss: 2.0943 - val_output_RNN_loss: 3.3241 - val_output_A_loss: 3.2333 - val_output_B1_loss: 2.6395output\n",
      "Epoch 61/1000\n"
     ]
    },
    {
     "name": "stdout",
     "output_type": "stream",
     "text": [
      "399/399 [==============================] - 10s 25ms/step - loss: 2.1006 - output_RNN_loss: 3.3325 - output_A_loss: 3.2446 - output_B1_loss: 2.6465 - val_loss: 2.0887 - val_output_RNN_loss: 3.3225 - val_output_A_loss: 3.2320 - val_output_B1_loss: 2.6229\n",
      "Epoch 62/1000\n",
      "399/399 [==============================] - 10s 26ms/step - loss: 2.0951 - output_RNN_loss: 3.3314 - output_A_loss: 3.2430 - output_B1_loss: 2.6304 - val_loss: 2.0835 - val_output_RNN_loss: 3.3215 - val_output_A_loss: 3.2292 - val_output_B1_loss: 2.6085\n",
      "Epoch 63/1000\n",
      "399/399 [==============================] - 10s 25ms/step - loss: 2.0899 - output_RNN_loss: 3.3304 - output_A_loss: 3.2417 - output_B1_loss: 2.6145 - val_loss: 2.0776 - val_output_RNN_loss: 3.3208 - val_output_A_loss: 3.2278 - val_output_B1_loss: 2.5907\n",
      "Epoch 64/1000\n",
      "399/399 [==============================] - 10s 26ms/step - loss: 2.0845 - output_RNN_loss: 3.3294 - output_A_loss: 3.2397 - output_B1_loss: 2.5989 - val_loss: 2.0738 - val_output_RNN_loss: 3.3194 - val_output_A_loss: 3.2279 - val_output_B1_loss: 2.5783\n",
      "Epoch 65/1000\n",
      "399/399 [==============================] - 10s 26ms/step - loss: 2.0795 - output_RNN_loss: 3.3281 - output_A_loss: 3.2383 - output_B1_loss: 2.5840 - val_loss: 2.0685 - val_output_RNN_loss: 3.3181 - val_output_A_loss: 3.2260 - val_output_B1_loss: 2.5630\n",
      "Epoch 66/1000\n",
      "399/399 [==============================] - 10s 25ms/step - loss: 2.0742 - output_RNN_loss: 3.3271 - output_A_loss: 3.2366 - output_B1_loss: 2.5685 - val_loss: 2.0629 - val_output_RNN_loss: 3.3171 - val_output_A_loss: 3.2237 - val_output_B1_loss: 2.5470\n",
      "Epoch 67/1000\n",
      "399/399 [==============================] - 11s 28ms/step - loss: 2.0691 - output_RNN_loss: 3.3258 - output_A_loss: 3.2349 - output_B1_loss: 2.5536 - val_loss: 2.0581 - val_output_RNN_loss: 3.3159 - val_output_A_loss: 3.2230 - val_output_B1_loss: 2.5320\n",
      "Epoch 68/1000\n",
      "399/399 [==============================] - 12s 29ms/step - loss: 2.0643 - output_RNN_loss: 3.3249 - output_A_loss: 3.2335 - output_B1_loss: 2.5392 - val_loss: 2.0531 - val_output_RNN_loss: 3.3144 - val_output_A_loss: 3.2211 - val_output_B1_loss: 2.5178\n",
      "Epoch 69/1000\n",
      "399/399 [==============================] - 11s 27ms/step - loss: 2.0593 - output_RNN_loss: 3.3235 - output_A_loss: 3.2316 - output_B1_loss: 2.5248 - val_loss: 2.0481 - val_output_RNN_loss: 3.3137 - val_output_A_loss: 3.2200 - val_output_B1_loss: 2.5025\n",
      "Epoch 70/1000\n",
      "399/399 [==============================] - 11s 29ms/step - loss: 2.0542 - output_RNN_loss: 3.3225 - output_A_loss: 3.2298 - output_B1_loss: 2.5101 - val_loss: 2.0431 - val_output_RNN_loss: 3.3124 - val_output_A_loss: 3.2177 - val_output_B1_loss: 2.4886 ETA: 2s - loss: 2.0 - ETA: 0s - loss: 2.0540 - output_RNN_loss: 3.3226 - output_A_loss: 3.2298 - output_B1_loss\n",
      "Epoch 71/1000\n",
      "399/399 [==============================] - 10s 26ms/step - loss: 2.0495 - output_RNN_loss: 3.3212 - output_A_loss: 3.2283 - output_B1_loss: 2.4961 - val_loss: 2.0382 - val_output_RNN_loss: 3.3111 - val_output_A_loss: 3.2157 - val_output_B1_loss: 2.4747\n",
      "Epoch 72/1000\n",
      "399/399 [==============================] - 10s 25ms/step - loss: 2.0446 - output_RNN_loss: 3.3199 - output_A_loss: 3.2261 - output_B1_loss: 2.4827 - val_loss: 2.0338 - val_output_RNN_loss: 3.3098 - val_output_A_loss: 3.2152 - val_output_B1_loss: 2.4609\n",
      "Epoch 73/1000\n",
      "399/399 [==============================] - 10s 25ms/step - loss: 2.0399 - output_RNN_loss: 3.3186 - output_A_loss: 3.2246 - output_B1_loss: 2.4687 - val_loss: 2.0289 - val_output_RNN_loss: 3.3083 - val_output_A_loss: 3.2121 - val_output_B1_loss: 2.4483\n",
      "Epoch 74/1000\n",
      "399/399 [==============================] - 10s 26ms/step - loss: 2.0350 - output_RNN_loss: 3.3173 - output_A_loss: 3.2225 - output_B1_loss: 2.4551 - val_loss: 2.0234 - val_output_RNN_loss: 3.3067 - val_output_A_loss: 3.2104 - val_output_B1_loss: 2.4321\n",
      "Epoch 75/1000\n",
      "399/399 [==============================] - 10s 25ms/step - loss: 2.0305 - output_RNN_loss: 3.3161 - output_A_loss: 3.2210 - output_B1_loss: 2.4419 - val_loss: 2.0195 - val_output_RNN_loss: 3.3052 - val_output_A_loss: 3.2091 - val_output_B1_loss: 2.4209\n",
      "Epoch 76/1000\n",
      "399/399 [==============================] - 10s 25ms/step - loss: 2.0259 - output_RNN_loss: 3.3146 - output_A_loss: 3.2192 - output_B1_loss: 2.4289 - val_loss: 2.0148 - val_output_RNN_loss: 3.3039 - val_output_A_loss: 3.2068 - val_output_B1_loss: 2.4077\n",
      "Epoch 77/1000\n",
      "399/399 [==============================] - 10s 25ms/step - loss: 2.0213 - output_RNN_loss: 3.3131 - output_A_loss: 3.2171 - output_B1_loss: 2.4163 - val_loss: 2.0097 - val_output_RNN_loss: 3.3023 - val_output_A_loss: 3.2048 - val_output_B1_loss: 2.3936\n",
      "Epoch 78/1000\n",
      "399/399 [==============================] - 10s 25ms/step - loss: 2.0167 - output_RNN_loss: 3.3116 - output_A_loss: 3.2150 - output_B1_loss: 2.4036 - val_loss: 2.0062 - val_output_RNN_loss: 3.3014 - val_output_A_loss: 3.2030 - val_output_B1_loss: 2.3839\n",
      "Epoch 79/1000\n",
      "399/399 [==============================] - 10s 25ms/step - loss: 2.0123 - output_RNN_loss: 3.3102 - output_A_loss: 3.2130 - output_B1_loss: 2.3911 - val_loss: 2.0010 - val_output_RNN_loss: 3.2993 - val_output_A_loss: 3.2001 - val_output_B1_loss: 2.3701\n",
      "Epoch 80/1000\n",
      "399/399 [==============================] - 10s 26ms/step - loss: 2.0076 - output_RNN_loss: 3.3085 - output_A_loss: 3.2102 - output_B1_loss: 2.3789 - val_loss: 1.9971 - val_output_RNN_loss: 3.2982 - val_output_A_loss: 3.1997 - val_output_B1_loss: 2.3579\n",
      "Epoch 81/1000\n",
      "399/399 [==============================] - 10s 25ms/step - loss: 2.0031 - output_RNN_loss: 3.3070 - output_A_loss: 3.2082 - output_B1_loss: 2.3666 - val_loss: 1.9926 - val_output_RNN_loss: 3.2963 - val_output_A_loss: 3.1957 - val_output_B1_loss: 2.3476\n",
      "Epoch 82/1000\n",
      "399/399 [==============================] - 10s 26ms/step - loss: 1.9989 - output_RNN_loss: 3.3053 - output_A_loss: 3.2058 - output_B1_loss: 2.3554 - val_loss: 1.9880 - val_output_RNN_loss: 3.2943 - val_output_A_loss: 3.1938 - val_output_B1_loss: 2.3348\n",
      "Epoch 83/1000\n",
      "399/399 [==============================] - 10s 25ms/step - loss: 1.9945 - output_RNN_loss: 3.3035 - output_A_loss: 3.2035 - output_B1_loss: 2.3437 - val_loss: 1.9833 - val_output_RNN_loss: 3.2928 - val_output_A_loss: 3.1903 - val_output_B1_loss: 2.3231\n",
      "Epoch 84/1000\n",
      "399/399 [==============================] - 10s 25ms/step - loss: 1.9900 - output_RNN_loss: 3.3017 - output_A_loss: 3.2008 - output_B1_loss: 2.3321 - val_loss: 1.9801 - val_output_RNN_loss: 3.2905 - val_output_A_loss: 3.1906 - val_output_B1_loss: 2.3129\n",
      "Epoch 85/1000\n",
      "399/399 [==============================] - 10s 25ms/step - loss: 1.9859 - output_RNN_loss: 3.2998 - output_A_loss: 3.1984 - output_B1_loss: 2.3213 - val_loss: 1.9753 - val_output_RNN_loss: 3.2886 - val_output_A_loss: 3.1866 - val_output_B1_loss: 2.3015\n",
      "Epoch 86/1000\n",
      "399/399 [==============================] - 10s 25ms/step - loss: 1.9815 - output_RNN_loss: 3.2978 - output_A_loss: 3.1955 - output_B1_loss: 2.3101 - val_loss: 1.9707 - val_output_RNN_loss: 3.2867 - val_output_A_loss: 3.1834 - val_output_B1_loss: 2.2902\n",
      "Epoch 87/1000\n",
      "399/399 [==============================] - 10s 25ms/step - loss: 1.9771 - output_RNN_loss: 3.2959 - output_A_loss: 3.1926 - output_B1_loss: 2.2993 - val_loss: 1.9667 - val_output_RNN_loss: 3.2844 - val_output_A_loss: 3.1820 - val_output_B1_loss: 2.2790\n",
      "Epoch 88/1000\n",
      "399/399 [==============================] - 10s 25ms/step - loss: 1.9730 - output_RNN_loss: 3.2936 - output_A_loss: 3.1900 - output_B1_loss: 2.2887 - val_loss: 1.9621 - val_output_RNN_loss: 3.2823 - val_output_A_loss: 3.1783 - val_output_B1_loss: 2.2678\n",
      "Epoch 89/1000\n",
      "399/399 [==============================] - 10s 25ms/step - loss: 1.9687 - output_RNN_loss: 3.2913 - output_A_loss: 3.1868 - output_B1_loss: 2.2783 - val_loss: 1.9575 - val_output_RNN_loss: 3.2800 - val_output_A_loss: 3.1742 - val_output_B1_loss: 2.2575\n",
      "Epoch 90/1000\n",
      "399/399 [==============================] - 10s 25ms/step - loss: 1.9645 - output_RNN_loss: 3.2891 - output_A_loss: 3.1838 - output_B1_loss: 2.2682 - val_loss: 1.9540 - val_output_RNN_loss: 3.2774 - val_output_A_loss: 3.1730 - val_output_B1_loss: 2.2479\n",
      "Epoch 91/1000\n",
      "399/399 [==============================] - 10s 25ms/step - loss: 1.9601 - output_RNN_loss: 3.2865 - output_A_loss: 3.1801 - output_B1_loss: 2.2581 - val_loss: 1.9508 - val_output_RNN_loss: 3.2751 - val_output_A_loss: 3.1706 - val_output_B1_loss: 2.2404\n",
      "Epoch 92/1000\n",
      "399/399 [==============================] - 10s 25ms/step - loss: 1.9559 - output_RNN_loss: 3.2840 - output_A_loss: 3.1768 - output_B1_loss: 2.2483 - val_loss: 1.9451 - val_output_RNN_loss: 3.2724 - val_output_A_loss: 3.1649 - val_output_B1_loss: 2.2279\n",
      "Epoch 93/1000\n",
      "399/399 [==============================] - 10s 26ms/step - loss: 1.9516 - output_RNN_loss: 3.2815 - output_A_loss: 3.1730 - output_B1_loss: 2.2385 - val_loss: 1.9421 - val_output_RNN_loss: 3.2699 - val_output_A_loss: 3.1642 - val_output_B1_loss: 2.2197\n",
      "Epoch 94/1000\n",
      "399/399 [==============================] - 10s 25ms/step - loss: 1.9471 - output_RNN_loss: 3.2786 - output_A_loss: 3.1692 - output_B1_loss: 2.2282 - val_loss: 1.9371 - val_output_RNN_loss: 3.2679 - val_output_A_loss: 3.1587 - val_output_B1_loss: 2.2090\n",
      "Epoch 95/1000\n",
      "399/399 [==============================] - 10s 25ms/step - loss: 1.9431 - output_RNN_loss: 3.2759 - output_A_loss: 3.1654 - output_B1_loss: 2.2197 - val_loss: 1.9335 - val_output_RNN_loss: 3.2645 - val_output_A_loss: 3.1554 - val_output_B1_loss: 2.2015\n",
      "Epoch 96/1000\n",
      "399/399 [==============================] - 10s 25ms/step - loss: 1.9389 - output_RNN_loss: 3.2730 - output_A_loss: 3.1613 - output_B1_loss: 2.2107 - val_loss: 1.9288 - val_output_RNN_loss: 3.2613 - val_output_A_loss: 3.1513 - val_output_B1_loss: 2.1909\n",
      "Epoch 97/1000\n",
      "399/399 [==============================] - 10s 25ms/step - loss: 1.9346 - output_RNN_loss: 3.2700 - output_A_loss: 3.1572 - output_B1_loss: 2.2015 - val_loss: 1.9248 - val_output_RNN_loss: 3.2582 - val_output_A_loss: 3.1473 - val_output_B1_loss: 2.1827\n",
      "Epoch 98/1000\n",
      "399/399 [==============================] - 10s 25ms/step - loss: 1.9303 - output_RNN_loss: 3.2670 - output_A_loss: 3.1529 - output_B1_loss: 2.1924 - val_loss: 1.9200 - val_output_RNN_loss: 3.2557 - val_output_A_loss: 3.1427 - val_output_B1_loss: 2.1722\n",
      "Epoch 99/1000\n",
      "399/399 [==============================] - 10s 25ms/step - loss: 1.9261 - output_RNN_loss: 3.2640 - output_A_loss: 3.1485 - output_B1_loss: 2.1840 - val_loss: 1.9170 - val_output_RNN_loss: 3.2523 - val_output_A_loss: 3.1388 - val_output_B1_loss: 2.1669\n",
      "Epoch 100/1000\n",
      "399/399 [==============================] - 10s 25ms/step - loss: 1.9218 - output_RNN_loss: 3.2611 - output_A_loss: 3.1440 - output_B1_loss: 2.1749 - val_loss: 1.9125 - val_output_RNN_loss: 3.2501 - val_output_A_loss: 3.1333 - val_output_B1_loss: 2.1584\n",
      "Epoch 101/1000\n",
      "399/399 [==============================] - 10s 26ms/step - loss: 1.9178 - output_RNN_loss: 3.2580 - output_A_loss: 3.1396 - output_B1_loss: 2.1669 - val_loss: 1.9084 - val_output_RNN_loss: 3.2467 - val_output_A_loss: 3.1303 - val_output_B1_loss: 2.1488\n",
      "Epoch 102/1000\n",
      "399/399 [==============================] - 10s 25ms/step - loss: 1.9134 - output_RNN_loss: 3.2550 - output_A_loss: 3.1349 - output_B1_loss: 2.1580 - val_loss: 1.9045 - val_output_RNN_loss: 3.2437 - val_output_A_loss: 3.1252 - val_output_B1_loss: 2.1419\n",
      "Epoch 103/1000\n",
      "399/399 [==============================] - 10s 26ms/step - loss: 1.9093 - output_RNN_loss: 3.2522 - output_A_loss: 3.1303 - output_B1_loss: 2.1498 - val_loss: 1.9010 - val_output_RNN_loss: 3.2411 - val_output_A_loss: 3.1224 - val_output_B1_loss: 2.1340\n",
      "Epoch 104/1000\n",
      "399/399 [==============================] - 10s 25ms/step - loss: 1.9053 - output_RNN_loss: 3.2494 - output_A_loss: 3.1254 - output_B1_loss: 2.1426 - val_loss: 1.8971 - val_output_RNN_loss: 3.2401 - val_output_A_loss: 3.1175 - val_output_B1_loss: 2.1262\n",
      "Epoch 105/1000\n",
      "399/399 [==============================] - 10s 25ms/step - loss: 1.9013 - output_RNN_loss: 3.2467 - output_A_loss: 3.1206 - output_B1_loss: 2.1347 - val_loss: 1.8927 - val_output_RNN_loss: 3.2366 - val_output_A_loss: 3.1131 - val_output_B1_loss: 2.1170\n",
      "Epoch 106/1000\n",
      "399/399 [==============================] - 10s 25ms/step - loss: 1.8975 - output_RNN_loss: 3.2441 - output_A_loss: 3.1161 - output_B1_loss: 2.1277 - val_loss: 1.8893 - val_output_RNN_loss: 3.2333 - val_output_A_loss: 3.1073 - val_output_B1_loss: 2.1124\n",
      "Epoch 107/1000\n",
      "399/399 [==============================] - 10s 25ms/step - loss: 1.8935 - output_RNN_loss: 3.2413 - output_A_loss: 3.1114 - output_B1_loss: 2.1199 - val_loss: 1.8852 - val_output_RNN_loss: 3.2331 - val_output_A_loss: 3.1031 - val_output_B1_loss: 2.1032\n",
      "Epoch 108/1000\n",
      "399/399 [==============================] - 10s 25ms/step - loss: 1.8898 - output_RNN_loss: 3.2392 - output_A_loss: 3.1067 - output_B1_loss: 2.1129 - val_loss: 1.8797 - val_output_RNN_loss: 3.2279 - val_output_A_loss: 3.0968 - val_output_B1_loss: 2.0928\n",
      "Epoch 109/1000\n",
      "399/399 [==============================] - 10s 25ms/step - loss: 1.8862 - output_RNN_loss: 3.2365 - output_A_loss: 3.1023 - output_B1_loss: 2.1062 - val_loss: 1.8773 - val_output_RNN_loss: 3.2259 - val_output_A_loss: 3.0944 - val_output_B1_loss: 2.0881\n",
      "Epoch 110/1000\n",
      "399/399 [==============================] - 11s 28ms/step - loss: 1.8825 - output_RNN_loss: 3.2343 - output_A_loss: 3.0977 - output_B1_loss: 2.0993 - val_loss: 1.8737 - val_output_RNN_loss: 3.2248 - val_output_A_loss: 3.0893 - val_output_B1_loss: 2.0815ut_RNN_loss: 3.2345 - output_A_loss: 3.0975 - output_B\n",
      "Epoch 111/1000\n",
      "399/399 [==============================] - 12s 30ms/step - loss: 1.8788 - output_RNN_loss: 3.2323 - output_A_loss: 3.0930 - output_B1_loss: 2.0924 - val_loss: 1.8709 - val_output_RNN_loss: 3.2205 - val_output_A_loss: 3.0870 - val_output_B1_loss: 2.0757\n",
      "Epoch 112/1000\n",
      "399/399 [==============================] - 11s 28ms/step - loss: 1.8755 - output_RNN_loss: 3.2299 - output_A_loss: 3.0886 - output_B1_loss: 2.0865 - val_loss: 1.8677 - val_output_RNN_loss: 3.2189 - val_output_A_loss: 3.0830 - val_output_B1_loss: 2.0697\n",
      "Epoch 113/1000\n",
      "399/399 [==============================] - 11s 26ms/step - loss: 1.8721 - output_RNN_loss: 3.2278 - output_A_loss: 3.0842 - output_B1_loss: 2.0803 - val_loss: 1.8635 - val_output_RNN_loss: 3.2186 - val_output_A_loss: 3.0751 - val_output_B1_loss: 2.0636s: 1.8698 - output_RNN_loss: 3.2294 - output_A_loss: 3.0788 - output_B\n",
      "Epoch 114/1000\n",
      "399/399 [==============================] - 10s 25ms/step - loss: 1.8686 - output_RNN_loss: 3.2259 - output_A_loss: 3.0798 - output_B1_loss: 2.0736 - val_loss: 1.8613 - val_output_RNN_loss: 3.2168 - val_output_A_loss: 3.0727 - val_output_B1_loss: 2.0594\n",
      "Epoch 115/1000\n",
      "399/399 [==============================] - 10s 26ms/step - loss: 1.8653 - output_RNN_loss: 3.2238 - output_A_loss: 3.0753 - output_B1_loss: 2.0676 - val_loss: 1.8586 - val_output_RNN_loss: 3.2134 - val_output_A_loss: 3.0708 - val_output_B1_loss: 2.0535\n",
      "Epoch 116/1000\n",
      "399/399 [==============================] - 10s 25ms/step - loss: 1.8622 - output_RNN_loss: 3.2218 - output_A_loss: 3.0711 - output_B1_loss: 2.0622 - val_loss: 1.8554 - val_output_RNN_loss: 3.2116 - val_output_A_loss: 3.0659 - val_output_B1_loss: 2.0482\n",
      "Epoch 117/1000\n",
      "399/399 [==============================] - 10s 25ms/step - loss: 1.8590 - output_RNN_loss: 3.2198 - output_A_loss: 3.0670 - output_B1_loss: 2.0562 - val_loss: 1.8514 - val_output_RNN_loss: 3.2105 - val_output_A_loss: 3.0597 - val_output_B1_loss: 2.0414\n",
      "Epoch 118/1000\n",
      "399/399 [==============================] - 10s 26ms/step - loss: 1.8555 - output_RNN_loss: 3.2181 - output_A_loss: 3.0624 - output_B1_loss: 2.0498 - val_loss: 1.8496 - val_output_RNN_loss: 3.2068 - val_output_A_loss: 3.0592 - val_output_B1_loss: 2.0370\n",
      "Epoch 119/1000\n",
      "399/399 [==============================] - 10s 25ms/step - loss: 1.8526 - output_RNN_loss: 3.2161 - output_A_loss: 3.0582 - output_B1_loss: 2.0452 - val_loss: 1.8457 - val_output_RNN_loss: 3.2053 - val_output_A_loss: 3.0531 - val_output_B1_loss: 2.0309\n",
      "Epoch 120/1000\n",
      "399/399 [==============================] - 10s 25ms/step - loss: 1.8498 - output_RNN_loss: 3.2140 - output_A_loss: 3.0547 - output_B1_loss: 2.0398 - val_loss: 1.8429 - val_output_RNN_loss: 3.2055 - val_output_A_loss: 3.0482 - val_output_B1_loss: 2.0264\n",
      "Epoch 121/1000\n"
     ]
    },
    {
     "name": "stdout",
     "output_type": "stream",
     "text": [
      "399/399 [==============================] - 10s 25ms/step - loss: 1.8468 - output_RNN_loss: 3.2124 - output_A_loss: 3.0503 - output_B1_loss: 2.0347 - val_loss: 1.8397 - val_output_RNN_loss: 3.2050 - val_output_A_loss: 3.0437 - val_output_B1_loss: 2.0204\n",
      "Epoch 122/1000\n",
      "399/399 [==============================] - 10s 25ms/step - loss: 1.8439 - output_RNN_loss: 3.2106 - output_A_loss: 3.0466 - output_B1_loss: 2.0296 - val_loss: 1.8379 - val_output_RNN_loss: 3.2019 - val_output_A_loss: 3.0398 - val_output_B1_loss: 2.0192\n",
      "Epoch 123/1000\n",
      "399/399 [==============================] - 10s 25ms/step - loss: 1.8407 - output_RNN_loss: 3.2086 - output_A_loss: 3.0420 - output_B1_loss: 2.0242 - val_loss: 1.8341 - val_output_RNN_loss: 3.2000 - val_output_A_loss: 3.0351 - val_output_B1_loss: 2.0119\n",
      "Epoch 124/1000\n",
      "399/399 [==============================] - 10s 25ms/step - loss: 1.8381 - output_RNN_loss: 3.2066 - output_A_loss: 3.0383 - output_B1_loss: 2.0197 - val_loss: 1.8326 - val_output_RNN_loss: 3.1976 - val_output_A_loss: 3.0353 - val_output_B1_loss: 2.0074\n",
      "Epoch 125/1000\n",
      "399/399 [==============================] - 10s 26ms/step - loss: 1.8351 - output_RNN_loss: 3.2049 - output_A_loss: 3.0348 - output_B1_loss: 2.0141 - val_loss: 1.8296 - val_output_RNN_loss: 3.1968 - val_output_A_loss: 3.0306 - val_output_B1_loss: 2.0026\n",
      "Epoch 126/1000\n",
      "399/399 [==============================] - 10s 26ms/step - loss: 1.8324 - output_RNN_loss: 3.2033 - output_A_loss: 3.0305 - output_B1_loss: 2.0095 - val_loss: 1.8274 - val_output_RNN_loss: 3.1947 - val_output_A_loss: 3.0270 - val_output_B1_loss: 1.9995\n",
      "Epoch 127/1000\n",
      "399/399 [==============================] - 11s 27ms/step - loss: 1.8297 - output_RNN_loss: 3.2008 - output_A_loss: 3.0267 - output_B1_loss: 2.0054 - val_loss: 1.8243 - val_output_RNN_loss: 3.1940 - val_output_A_loss: 3.0221 - val_output_B1_loss: 1.9942\n",
      "Epoch 128/1000\n",
      "399/399 [==============================] - 11s 28ms/step - loss: 1.8269 - output_RNN_loss: 3.1993 - output_A_loss: 3.0229 - output_B1_loss: 2.0004 - val_loss: 1.8226 - val_output_RNN_loss: 3.1914 - val_output_A_loss: 3.0205 - val_output_B1_loss: 1.9910\n",
      "Epoch 129/1000\n",
      "399/399 [==============================] - 10s 25ms/step - loss: 1.8243 - output_RNN_loss: 3.1970 - output_A_loss: 3.0194 - output_B1_loss: 1.9961 - val_loss: 1.8194 - val_output_RNN_loss: 3.1930 - val_output_A_loss: 3.0146 - val_output_B1_loss: 1.9857\n",
      "Epoch 130/1000\n",
      "399/399 [==============================] - 10s 26ms/step - loss: 1.8217 - output_RNN_loss: 3.1959 - output_A_loss: 3.0154 - output_B1_loss: 1.9916 - val_loss: 1.8176 - val_output_RNN_loss: 3.1867 - val_output_A_loss: 3.0124 - val_output_B1_loss: 1.9840\n",
      "Epoch 131/1000\n",
      "399/399 [==============================] - 11s 27ms/step - loss: 1.8191 - output_RNN_loss: 3.1929 - output_A_loss: 3.0115 - output_B1_loss: 1.9878 - val_loss: 1.8159 - val_output_RNN_loss: 3.1921 - val_output_A_loss: 3.0094 - val_output_B1_loss: 1.9796\n",
      "Epoch 132/1000\n",
      "399/399 [==============================] - 12s 30ms/step - loss: 1.8166 - output_RNN_loss: 3.1919 - output_A_loss: 3.0077 - output_B1_loss: 1.9835 - val_loss: 1.8116 - val_output_RNN_loss: 3.1859 - val_output_A_loss: 3.0032 - val_output_B1_loss: 1.9736\n",
      "Epoch 133/1000\n",
      "399/399 [==============================] - 10s 26ms/step - loss: 1.8139 - output_RNN_loss: 3.1897 - output_A_loss: 3.0040 - output_B1_loss: 1.9790 - val_loss: 1.8097 - val_output_RNN_loss: 3.1818 - val_output_A_loss: 3.0020 - val_output_B1_loss: 1.9696\n",
      "Epoch 134/1000\n",
      "399/399 [==============================] - 11s 27ms/step - loss: 1.8116 - output_RNN_loss: 3.1876 - output_A_loss: 3.0007 - output_B1_loss: 1.9753 - val_loss: 1.8077 - val_output_RNN_loss: 3.1805 - val_output_A_loss: 2.9985 - val_output_B1_loss: 1.9670\n",
      "Epoch 135/1000\n",
      "399/399 [==============================] - 10s 25ms/step - loss: 1.8089 - output_RNN_loss: 3.1856 - output_A_loss: 2.9969 - output_B1_loss: 1.9710 - val_loss: 1.8058 - val_output_RNN_loss: 3.1784 - val_output_A_loss: 2.9957 - val_output_B1_loss: 1.9641\n",
      "Epoch 136/1000\n",
      "399/399 [==============================] - 10s 26ms/step - loss: 1.8068 - output_RNN_loss: 3.1837 - output_A_loss: 2.9935 - output_B1_loss: 1.9679 - val_loss: 1.8034 - val_output_RNN_loss: 3.1805 - val_output_A_loss: 2.9922 - val_output_B1_loss: 1.9588\n",
      "Epoch 137/1000\n",
      "399/399 [==============================] - 10s 26ms/step - loss: 1.8042 - output_RNN_loss: 3.1823 - output_A_loss: 2.9900 - output_B1_loss: 1.9632 - val_loss: 1.8010 - val_output_RNN_loss: 3.1786 - val_output_A_loss: 2.9882 - val_output_B1_loss: 1.9557\n",
      "Epoch 138/1000\n",
      "399/399 [==============================] - 10s 25ms/step - loss: 1.8018 - output_RNN_loss: 3.1797 - output_A_loss: 2.9866 - output_B1_loss: 1.9595 - val_loss: 1.7997 - val_output_RNN_loss: 3.1715 - val_output_A_loss: 2.9870 - val_output_B1_loss: 1.9547\n",
      "Epoch 139/1000\n",
      "399/399 [==============================] - 10s 25ms/step - loss: 1.7995 - output_RNN_loss: 3.1778 - output_A_loss: 2.9831 - output_B1_loss: 1.9560 - val_loss: 1.7968 - val_output_RNN_loss: 3.1723 - val_output_A_loss: 2.9832 - val_output_B1_loss: 1.9488832 - output\n",
      "Epoch 140/1000\n",
      "399/399 [==============================] - 11s 26ms/step - loss: 1.7971 - output_RNN_loss: 3.1758 - output_A_loss: 2.9796 - output_B1_loss: 1.9523 - val_loss: 1.7944 - val_output_RNN_loss: 3.1698 - val_output_A_loss: 2.9801 - val_output_B1_loss: 1.9446\n",
      "Epoch 141/1000\n",
      "399/399 [==============================] - 10s 26ms/step - loss: 1.7949 - output_RNN_loss: 3.1736 - output_A_loss: 2.9762 - output_B1_loss: 1.9489 - val_loss: 1.7928 - val_output_RNN_loss: 3.1668 - val_output_A_loss: 2.9786 - val_output_B1_loss: 1.9417_loss: 3.1735 - ou\n",
      "Epoch 142/1000\n",
      "399/399 [==============================] - 11s 28ms/step - loss: 1.7924 - output_RNN_loss: 3.1714 - output_A_loss: 2.9731 - output_B1_loss: 1.9445 - val_loss: 1.7911 - val_output_RNN_loss: 3.1655 - val_output_A_loss: 2.9734 - val_output_B1_loss: 1.9417\n",
      "Epoch 143/1000\n",
      "399/399 [==============================] - 11s 28ms/step - loss: 1.7903 - output_RNN_loss: 3.1694 - output_A_loss: 2.9694 - output_B1_loss: 1.9419 - val_loss: 1.7898 - val_output_RNN_loss: 3.1613 - val_output_A_loss: 2.9726 - val_output_B1_loss: 1.9395\n",
      "Epoch 144/1000\n",
      "399/399 [==============================] - 11s 27ms/step - loss: 1.7879 - output_RNN_loss: 3.1677 - output_A_loss: 2.9653 - output_B1_loss: 1.9385 - val_loss: 1.7862 - val_output_RNN_loss: 3.1629 - val_output_A_loss: 2.9659 - val_output_B1_loss: 1.9339\n",
      "Epoch 145/1000\n",
      "399/399 [==============================] - 12s 29ms/step - loss: 1.7858 - output_RNN_loss: 3.1651 - output_A_loss: 2.9625 - output_B1_loss: 1.9352 - val_loss: 1.7840 - val_output_RNN_loss: 3.1598 - val_output_A_loss: 2.9632 - val_output_B1_loss: 1.9301\n",
      "Epoch 146/1000\n",
      "399/399 [==============================] - 12s 29ms/step - loss: 1.7836 - output_RNN_loss: 3.1629 - output_A_loss: 2.9600 - output_B1_loss: 1.9310 - val_loss: 1.7827 - val_output_RNN_loss: 3.1603 - val_output_A_loss: 2.9612 - val_output_B1_loss: 1.9276\n",
      "Epoch 147/1000\n",
      "399/399 [==============================] - 12s 30ms/step - loss: 1.7815 - output_RNN_loss: 3.1602 - output_A_loss: 2.9567 - output_B1_loss: 1.9283 - val_loss: 1.7806 - val_output_RNN_loss: 3.1576 - val_output_A_loss: 2.9574 - val_output_B1_loss: 1.9255ou\n",
      "Epoch 148/1000\n",
      "399/399 [==============================] - 10s 25ms/step - loss: 1.7793 - output_RNN_loss: 3.1592 - output_A_loss: 2.9523 - output_B1_loss: 1.9257 - val_loss: 1.7788 - val_output_RNN_loss: 3.1517 - val_output_A_loss: 2.9564 - val_output_B1_loss: 1.9224\n",
      "Epoch 149/1000\n",
      "399/399 [==============================] - 11s 27ms/step - loss: 1.7773 - output_RNN_loss: 3.1560 - output_A_loss: 2.9504 - output_B1_loss: 1.9220 - val_loss: 1.7764 - val_output_RNN_loss: 3.1558 - val_output_A_loss: 2.9516 - val_output_B1_loss: 1.9177\n",
      "Epoch 150/1000\n",
      "399/399 [==============================] - 11s 28ms/step - loss: 1.7754 - output_RNN_loss: 3.1547 - output_A_loss: 2.9472 - output_B1_loss: 1.9191 - val_loss: 1.7751 - val_output_RNN_loss: 3.1517 - val_output_A_loss: 2.9498 - val_output_B1_loss: 1.9166\n",
      "Epoch 151/1000\n",
      "399/399 [==============================] - 11s 28ms/step - loss: 1.7732 - output_RNN_loss: 3.1518 - output_A_loss: 2.9439 - output_B1_loss: 1.9163 - val_loss: 1.7720 - val_output_RNN_loss: 3.1495 - val_output_A_loss: 2.9447 - val_output_B1_loss: 1.9120\n",
      "Epoch 152/1000\n",
      "399/399 [==============================] - 11s 27ms/step - loss: 1.7713 - output_RNN_loss: 3.1496 - output_A_loss: 2.9415 - output_B1_loss: 1.9129 - val_loss: 1.7705 - val_output_RNN_loss: 3.1460 - val_output_A_loss: 2.9438 - val_output_B1_loss: 1.9091\n",
      "Epoch 153/1000\n",
      "399/399 [==============================] - 10s 25ms/step - loss: 1.7692 - output_RNN_loss: 3.1468 - output_A_loss: 2.9383 - output_B1_loss: 1.9101 - val_loss: 1.7692 - val_output_RNN_loss: 3.1411 - val_output_A_loss: 2.9420 - val_output_B1_loss: 1.9082\n",
      "Epoch 154/1000\n",
      "399/399 [==============================] - 10s 25ms/step - loss: 1.7673 - output_RNN_loss: 3.1447 - output_A_loss: 2.9355 - output_B1_loss: 1.9072 - val_loss: 1.7665 - val_output_RNN_loss: 3.1425 - val_output_A_loss: 2.9356 - val_output_B1_loss: 1.9051\n",
      "Epoch 155/1000\n",
      "399/399 [==============================] - 10s 25ms/step - loss: 1.7653 - output_RNN_loss: 3.1427 - output_A_loss: 2.9327 - output_B1_loss: 1.9042 - val_loss: 1.7684 - val_output_RNN_loss: 3.1356 - val_output_A_loss: 2.9426 - val_output_B1_loss: 1.9069\n",
      "Epoch 156/1000\n",
      "399/399 [==============================] - 10s 26ms/step - loss: 1.7636 - output_RNN_loss: 3.1401 - output_A_loss: 2.9304 - output_B1_loss: 1.9016 - val_loss: 1.7630 - val_output_RNN_loss: 3.1373 - val_output_A_loss: 2.9325 - val_output_B1_loss: 1.8984\n",
      "Epoch 157/1000\n",
      "399/399 [==============================] - 11s 27ms/step - loss: 1.7616 - output_RNN_loss: 3.1379 - output_A_loss: 2.9270 - output_B1_loss: 1.8989 - val_loss: 1.7613 - val_output_RNN_loss: 3.1394 - val_output_A_loss: 2.9301 - val_output_B1_loss: 1.8944\n",
      "Epoch 158/1000\n",
      "399/399 [==============================] - 11s 28ms/step - loss: 1.7595 - output_RNN_loss: 3.1354 - output_A_loss: 2.9241 - output_B1_loss: 1.8959 - val_loss: 1.7589 - val_output_RNN_loss: 3.1334 - val_output_A_loss: 2.9254 - val_output_B1_loss: 1.8933\n",
      "Epoch 159/1000\n",
      "399/399 [==============================] - 11s 29ms/step - loss: 1.7578 - output_RNN_loss: 3.1331 - output_A_loss: 2.9214 - output_B1_loss: 1.8934 - val_loss: 1.7580 - val_output_RNN_loss: 3.1360 - val_output_A_loss: 2.9247 - val_output_B1_loss: 1.8900\n",
      "Epoch 160/1000\n",
      "399/399 [==============================] - 11s 28ms/step - loss: 1.7557 - output_RNN_loss: 3.1308 - output_A_loss: 2.9184 - output_B1_loss: 1.8904 - val_loss: 1.7558 - val_output_RNN_loss: 3.1311 - val_output_A_loss: 2.9210 - val_output_B1_loss: 1.8879\n",
      "Epoch 161/1000\n",
      "399/399 [==============================] - 11s 27ms/step - loss: 1.7543 - output_RNN_loss: 3.1287 - output_A_loss: 2.9164 - output_B1_loss: 1.8884 - val_loss: 1.7539 - val_output_RNN_loss: 3.1296 - val_output_A_loss: 2.9185 - val_output_B1_loss: 1.8846\n",
      "Epoch 162/1000\n",
      "399/399 [==============================] - 11s 26ms/step - loss: 1.7525 - output_RNN_loss: 3.1269 - output_A_loss: 2.9130 - output_B1_loss: 1.8862 - val_loss: 1.7526 - val_output_RNN_loss: 3.1245 - val_output_A_loss: 2.9167 - val_output_B1_loss: 1.8837\n",
      "Epoch 163/1000\n",
      "399/399 [==============================] - 11s 27ms/step - loss: 1.7508 - output_RNN_loss: 3.1244 - output_A_loss: 2.9108 - output_B1_loss: 1.8837 - val_loss: 1.7502 - val_output_RNN_loss: 3.1212 - val_output_A_loss: 2.9136 - val_output_B1_loss: 1.8801\n",
      "Epoch 164/1000\n",
      "399/399 [==============================] - 11s 28ms/step - loss: 1.7488 - output_RNN_loss: 3.1220 - output_A_loss: 2.9081 - output_B1_loss: 1.8805 - val_loss: 1.7499 - val_output_RNN_loss: 3.1229 - val_output_A_loss: 2.9131 - val_output_B1_loss: 1.8791\n",
      "Epoch 165/1000\n",
      "399/399 [==============================] - 12s 31ms/step - loss: 1.7470 - output_RNN_loss: 3.1196 - output_A_loss: 2.9056 - output_B1_loss: 1.8779 - val_loss: 1.7497 - val_output_RNN_loss: 3.1163 - val_output_A_loss: 2.9142 - val_output_B1_loss: 1.8794\n",
      "Epoch 166/1000\n",
      "399/399 [==============================] - 12s 31ms/step - loss: 1.7456 - output_RNN_loss: 3.1177 - output_A_loss: 2.9039 - output_B1_loss: 1.8755 - val_loss: 1.7459 - val_output_RNN_loss: 3.1144 - val_output_A_loss: 2.9079 - val_output_B1_loss: 1.8737\n",
      "Epoch 167/1000\n",
      "399/399 [==============================] - 12s 30ms/step - loss: 1.7441 - output_RNN_loss: 3.1158 - output_A_loss: 2.9006 - output_B1_loss: 1.8743 - val_loss: 1.7450 - val_output_RNN_loss: 3.1101 - val_output_A_loss: 2.9068 - val_output_B1_loss: 1.8733\n",
      "Epoch 168/1000\n",
      "399/399 [==============================] - 12s 31ms/step - loss: 1.7424 - output_RNN_loss: 3.1125 - output_A_loss: 2.8988 - output_B1_loss: 1.8718 - val_loss: 1.7430 - val_output_RNN_loss: 3.1104 - val_output_A_loss: 2.9027 - val_output_B1_loss: 1.8705\n",
      "Epoch 169/1000\n",
      "399/399 [==============================] - 12s 29ms/step - loss: 1.7406 - output_RNN_loss: 3.1099 - output_A_loss: 2.8971 - output_B1_loss: 1.8683 - val_loss: 1.7418 - val_output_RNN_loss: 3.1084 - val_output_A_loss: 2.8996 - val_output_B1_loss: 1.8704\n",
      "Epoch 170/1000\n",
      "399/399 [==============================] - 11s 28ms/step - loss: 1.7393 - output_RNN_loss: 3.1082 - output_A_loss: 2.8946 - output_B1_loss: 1.8670 - val_loss: 1.7390 - val_output_RNN_loss: 3.1073 - val_output_A_loss: 2.8974 - val_output_B1_loss: 1.8635\n",
      "Epoch 171/1000\n",
      "399/399 [==============================] - 12s 30ms/step - loss: 1.7374 - output_RNN_loss: 3.1059 - output_A_loss: 2.8920 - output_B1_loss: 1.8642 - val_loss: 1.7379 - val_output_RNN_loss: 3.1067 - val_output_A_loss: 2.8967 - val_output_B1_loss: 1.8609\n",
      "Epoch 172/1000\n",
      "399/399 [==============================] - 10s 25ms/step - loss: 1.7360 - output_RNN_loss: 3.1037 - output_A_loss: 2.8899 - output_B1_loss: 1.8621 - val_loss: 1.7371 - val_output_RNN_loss: 3.1009 - val_output_A_loss: 2.8948 - val_output_B1_loss: 1.8617\n",
      "Epoch 173/1000\n",
      "399/399 [==============================] - 10s 25ms/step - loss: 1.7342 - output_RNN_loss: 3.1014 - output_A_loss: 2.8874 - output_B1_loss: 1.8596 - val_loss: 1.7388 - val_output_RNN_loss: 3.0959 - val_output_A_loss: 2.9013 - val_output_B1_loss: 1.8628\n",
      "Epoch 174/1000\n",
      "399/399 [==============================] - 10s 26ms/step - loss: 1.7329 - output_RNN_loss: 3.0991 - output_A_loss: 2.8849 - output_B1_loss: 1.8582 - val_loss: 1.7337 - val_output_RNN_loss: 3.1006 - val_output_A_loss: 2.8910 - val_output_B1_loss: 1.8545\n",
      "Epoch 175/1000\n",
      "399/399 [==============================] - 7s 17ms/step - loss: 1.7311 - output_RNN_loss: 3.0970 - output_A_loss: 2.8830 - output_B1_loss: 1.8550 - val_loss: 1.7318 - val_output_RNN_loss: 3.0959 - val_output_A_loss: 2.8875 - val_output_B1_loss: 1.8532\n",
      "Epoch 176/1000\n",
      "399/399 [==============================] - 3s 7ms/step - loss: 1.7298 - output_RNN_loss: 3.0947 - output_A_loss: 2.8805 - output_B1_loss: 1.8538 - val_loss: 1.7311 - val_output_RNN_loss: 3.0907 - val_output_A_loss: 2.8885 - val_output_B1_loss: 1.8516\n",
      "Epoch 177/1000\n",
      "399/399 [==============================] - 2s 6ms/step - loss: 1.7285 - output_RNN_loss: 3.0925 - output_A_loss: 2.8787 - output_B1_loss: 1.8522 - val_loss: 1.7311 - val_output_RNN_loss: 3.0890 - val_output_A_loss: 2.8875 - val_output_B1_loss: 1.8532\n",
      "Epoch 178/1000\n",
      "399/399 [==============================] - 2s 6ms/step - loss: 1.7268 - output_RNN_loss: 3.0894 - output_A_loss: 2.8761 - output_B1_loss: 1.8500 - val_loss: 1.7288 - val_output_RNN_loss: 3.0929 - val_output_A_loss: 2.8827 - val_output_B1_loss: 1.8491\n",
      "Epoch 179/1000\n",
      "399/399 [==============================] - 2s 6ms/step - loss: 1.7255 - output_RNN_loss: 3.0873 - output_A_loss: 2.8745 - output_B1_loss: 1.8481 - val_loss: 1.7277 - val_output_RNN_loss: 3.0885 - val_output_A_loss: 2.8810 - val_output_B1_loss: 1.8486\n",
      "Epoch 180/1000\n",
      "399/399 [==============================] - 2s 6ms/step - loss: 1.7239 - output_RNN_loss: 3.0865 - output_A_loss: 2.8721 - output_B1_loss: 1.8456 - val_loss: 1.7281 - val_output_RNN_loss: 3.0825 - val_output_A_loss: 2.8837 - val_output_B1_loss: 1.8491\n",
      "Epoch 181/1000\n",
      "399/399 [==============================] - 2s 6ms/step - loss: 1.7219 - output_RNN_loss: 3.0830 - output_A_loss: 2.8692 - output_B1_loss: 1.8429 - val_loss: 1.7236 - val_output_RNN_loss: 3.0827 - val_output_A_loss: 2.8761 - val_output_B1_loss: 1.8417\n"
     ]
    },
    {
     "name": "stdout",
     "output_type": "stream",
     "text": [
      "Epoch 182/1000\n",
      "399/399 [==============================] - 3s 6ms/step - loss: 1.7209 - output_RNN_loss: 3.0817 - output_A_loss: 2.8682 - output_B1_loss: 1.8410 - val_loss: 1.7215 - val_output_RNN_loss: 3.0784 - val_output_A_loss: 2.8734 - val_output_B1_loss: 1.8390\n",
      "Epoch 183/1000\n",
      "399/399 [==============================] - 2s 6ms/step - loss: 1.7199 - output_RNN_loss: 3.0791 - output_A_loss: 2.8669 - output_B1_loss: 1.8398 - val_loss: 1.7239 - val_output_RNN_loss: 3.0792 - val_output_A_loss: 2.8772 - val_output_B1_loss: 1.8426\n",
      "Epoch 184/1000\n",
      "399/399 [==============================] - 2s 6ms/step - loss: 1.7184 - output_RNN_loss: 3.0768 - output_A_loss: 2.8649 - output_B1_loss: 1.8375 - val_loss: 1.7195 - val_output_RNN_loss: 3.0796 - val_output_A_loss: 2.8698 - val_output_B1_loss: 1.8355\n",
      "Epoch 185/1000\n",
      "399/399 [==============================] - 3s 6ms/step - loss: 1.7172 - output_RNN_loss: 3.0752 - output_A_loss: 2.8631 - output_B1_loss: 1.8357 - val_loss: 1.7183 - val_output_RNN_loss: 3.0772 - val_output_A_loss: 2.8683 - val_output_B1_loss: 1.8336\n",
      "Epoch 186/1000\n",
      "399/399 [==============================] - 2s 6ms/step - loss: 1.7157 - output_RNN_loss: 3.0727 - output_A_loss: 2.8606 - output_B1_loss: 1.8341 - val_loss: 1.7195 - val_output_RNN_loss: 3.0711 - val_output_A_loss: 2.8716 - val_output_B1_loss: 1.8364\n",
      "Epoch 187/1000\n",
      "399/399 [==============================] - 2s 6ms/step - loss: 1.7142 - output_RNN_loss: 3.0703 - output_A_loss: 2.8580 - output_B1_loss: 1.8323 - val_loss: 1.7151 - val_output_RNN_loss: 3.0708 - val_output_A_loss: 2.8641 - val_output_B1_loss: 1.8293\n",
      "Epoch 188/1000\n",
      "399/399 [==============================] - 2s 6ms/step - loss: 1.7131 - output_RNN_loss: 3.0688 - output_A_loss: 2.8566 - output_B1_loss: 1.8307 - val_loss: 1.7150 - val_output_RNN_loss: 3.0681 - val_output_A_loss: 2.8650 - val_output_B1_loss: 1.8289\n",
      "Epoch 189/1000\n",
      "399/399 [==============================] - 2s 6ms/step - loss: 1.7117 - output_RNN_loss: 3.0659 - output_A_loss: 2.8546 - output_B1_loss: 1.8292 - val_loss: 1.7131 - val_output_RNN_loss: 3.0701 - val_output_A_loss: 2.8617 - val_output_B1_loss: 1.8252\n",
      "Epoch 190/1000\n",
      "399/399 [==============================] - 2s 6ms/step - loss: 1.7103 - output_RNN_loss: 3.0648 - output_A_loss: 2.8524 - output_B1_loss: 1.8270 - val_loss: 1.7150 - val_output_RNN_loss: 3.0633 - val_output_A_loss: 2.8659 - val_output_B1_loss: 1.8297\n",
      "Epoch 191/1000\n",
      "399/399 [==============================] - 2s 6ms/step - loss: 1.7089 - output_RNN_loss: 3.0625 - output_A_loss: 2.8503 - output_B1_loss: 1.8250 - val_loss: 1.7136 - val_output_RNN_loss: 3.0601 - val_output_A_loss: 2.8628 - val_output_B1_loss: 1.8292\n",
      "Epoch 192/1000\n",
      "399/399 [==============================] - 2s 6ms/step - loss: 1.7076 - output_RNN_loss: 3.0597 - output_A_loss: 2.8481 - output_B1_loss: 1.8239 - val_loss: 1.7140 - val_output_RNN_loss: 3.0630 - val_output_A_loss: 2.8642 - val_output_B1_loss: 1.8281\n",
      "Epoch 193/1000\n",
      "399/399 [==============================] - 2s 6ms/step - loss: 1.7066 - output_RNN_loss: 3.0577 - output_A_loss: 2.8474 - output_B1_loss: 1.8219 - val_loss: 1.7116 - val_output_RNN_loss: 3.0583 - val_output_A_loss: 2.8603 - val_output_B1_loss: 1.8255\n",
      "Epoch 194/1000\n",
      "399/399 [==============================] - 2s 6ms/step - loss: 1.7052 - output_RNN_loss: 3.0564 - output_A_loss: 2.8449 - output_B1_loss: 1.8203 - val_loss: 1.7093 - val_output_RNN_loss: 3.0550 - val_output_A_loss: 2.8570 - val_output_B1_loss: 1.8223\n",
      "Epoch 195/1000\n",
      "399/399 [==============================] - 3s 6ms/step - loss: 1.7036 - output_RNN_loss: 3.0537 - output_A_loss: 2.8432 - output_B1_loss: 1.8175 - val_loss: 1.7064 - val_output_RNN_loss: 3.0565 - val_output_A_loss: 2.8524 - val_output_B1_loss: 1.8169\n",
      "Epoch 196/1000\n",
      "399/399 [==============================] - 2s 6ms/step - loss: 1.7025 - output_RNN_loss: 3.0514 - output_A_loss: 2.8416 - output_B1_loss: 1.8161 - val_loss: 1.7068 - val_output_RNN_loss: 3.0506 - val_output_A_loss: 2.8545 - val_output_B1_loss: 1.8181\n",
      "Epoch 197/1000\n",
      "399/399 [==============================] - 2s 6ms/step - loss: 1.7011 - output_RNN_loss: 3.0499 - output_A_loss: 2.8381 - output_B1_loss: 1.8155 - val_loss: 1.7080 - val_output_RNN_loss: 3.0478 - val_output_A_loss: 2.8561 - val_output_B1_loss: 1.8213\n",
      "Epoch 198/1000\n",
      "399/399 [==============================] - 2s 6ms/step - loss: 1.7003 - output_RNN_loss: 3.0474 - output_A_loss: 2.8373 - output_B1_loss: 1.8145 - val_loss: 1.7068 - val_output_RNN_loss: 3.0517 - val_output_A_loss: 2.8541 - val_output_B1_loss: 1.8180\n",
      "Epoch 199/1000\n",
      "399/399 [==============================] - 2s 6ms/step - loss: 1.6992 - output_RNN_loss: 3.0463 - output_A_loss: 2.8353 - output_B1_loss: 1.8132 - val_loss: 1.7033 - val_output_RNN_loss: 3.0438 - val_output_A_loss: 2.8489 - val_output_B1_loss: 1.8141\n",
      "Epoch 200/1000\n",
      "399/399 [==============================] - 2s 6ms/step - loss: 1.6980 - output_RNN_loss: 3.0437 - output_A_loss: 2.8345 - output_B1_loss: 1.8108 - val_loss: 1.7014 - val_output_RNN_loss: 3.0435 - val_output_A_loss: 2.8464 - val_output_B1_loss: 1.8104\n",
      "Epoch 201/1000\n",
      "399/399 [==============================] - 2s 6ms/step - loss: 1.6967 - output_RNN_loss: 3.0416 - output_A_loss: 2.8315 - output_B1_loss: 1.8102 - val_loss: 1.7012 - val_output_RNN_loss: 3.0401 - val_output_A_loss: 2.8459 - val_output_B1_loss: 1.8116\n",
      "Epoch 202/1000\n",
      "399/399 [==============================] - 2s 6ms/step - loss: 1.6953 - output_RNN_loss: 3.0393 - output_A_loss: 2.8308 - output_B1_loss: 1.8072 - val_loss: 1.7022 - val_output_RNN_loss: 3.0398 - val_output_A_loss: 2.8477 - val_output_B1_loss: 1.8131\n",
      "Epoch 203/1000\n",
      "399/399 [==============================] - 2s 6ms/step - loss: 1.6945 - output_RNN_loss: 3.0374 - output_A_loss: 2.8289 - output_B1_loss: 1.8068 - val_loss: 1.6979 - val_output_RNN_loss: 3.0379 - val_output_A_loss: 2.8415 - val_output_B1_loss: 1.8057\n",
      "Epoch 204/1000\n",
      "399/399 [==============================] - 2s 6ms/step - loss: 1.6930 - output_RNN_loss: 3.0355 - output_A_loss: 2.8271 - output_B1_loss: 1.8046 - val_loss: 1.6978 - val_output_RNN_loss: 3.0372 - val_output_A_loss: 2.8392 - val_output_B1_loss: 1.8076\n",
      "Epoch 205/1000\n",
      "399/399 [==============================] - 2s 6ms/step - loss: 1.6918 - output_RNN_loss: 3.0330 - output_A_loss: 2.8263 - output_B1_loss: 1.8020 - val_loss: 1.6972 - val_output_RNN_loss: 3.0360 - val_output_A_loss: 2.8394 - val_output_B1_loss: 1.8059\n",
      "Epoch 206/1000\n",
      "399/399 [==============================] - 2s 6ms/step - loss: 1.6906 - output_RNN_loss: 3.0314 - output_A_loss: 2.8238 - output_B1_loss: 1.8011 - val_loss: 1.6944 - val_output_RNN_loss: 3.0338 - val_output_A_loss: 2.8369 - val_output_B1_loss: 1.7999\n",
      "Epoch 207/1000\n",
      "399/399 [==============================] - 2s 6ms/step - loss: 1.6892 - output_RNN_loss: 3.0298 - output_A_loss: 2.8212 - output_B1_loss: 1.7995 - val_loss: 1.6933 - val_output_RNN_loss: 3.0302 - val_output_A_loss: 2.8343 - val_output_B1_loss: 1.7998\n",
      "Epoch 208/1000\n",
      "399/399 [==============================] - 2s 6ms/step - loss: 1.6884 - output_RNN_loss: 3.0276 - output_A_loss: 2.8202 - output_B1_loss: 1.7984 - val_loss: 1.6921 - val_output_RNN_loss: 3.0307 - val_output_A_loss: 2.8324 - val_output_B1_loss: 1.7978\n",
      "Epoch 209/1000\n",
      "399/399 [==============================] - 2s 6ms/step - loss: 1.6872 - output_RNN_loss: 3.0259 - output_A_loss: 2.8183 - output_B1_loss: 1.7971 - val_loss: 1.6924 - val_output_RNN_loss: 3.0279 - val_output_A_loss: 2.8318 - val_output_B1_loss: 1.8003\n",
      "Epoch 210/1000\n",
      "399/399 [==============================] - 2s 6ms/step - loss: 1.6861 - output_RNN_loss: 3.0237 - output_A_loss: 2.8163 - output_B1_loss: 1.7962 - val_loss: 1.6971 - val_output_RNN_loss: 3.0236 - val_output_A_loss: 2.8428 - val_output_B1_loss: 1.8065\n",
      "Epoch 211/1000\n",
      "399/399 [==============================] - 2s 6ms/step - loss: 1.6853 - output_RNN_loss: 3.0212 - output_A_loss: 2.8163 - output_B1_loss: 1.7943 - val_loss: 1.6892 - val_output_RNN_loss: 3.0224 - val_output_A_loss: 2.8281 - val_output_B1_loss: 1.7950\n",
      "Epoch 212/1000\n",
      "399/399 [==============================] - 2s 6ms/step - loss: 1.6842 - output_RNN_loss: 3.0197 - output_A_loss: 2.8139 - output_B1_loss: 1.7935 - val_loss: 1.6891 - val_output_RNN_loss: 3.0226 - val_output_A_loss: 2.8281 - val_output_B1_loss: 1.7945\n"
     ]
    },
    {
     "name": "stdout",
     "output_type": "stream",
     "text": [
      "Epoch 213/1000\n",
      "399/399 [==============================] - 2s 6ms/step - loss: 1.6829 - output_RNN_loss: 3.0181 - output_A_loss: 2.8125 - output_B1_loss: 1.7912 - val_loss: 1.6899 - val_output_RNN_loss: 3.0194 - val_output_A_loss: 2.8293 - val_output_B1_loss: 1.7971\n",
      "Epoch 214/1000\n",
      "399/399 [==============================] - 2s 6ms/step - loss: 1.6818 - output_RNN_loss: 3.0154 - output_A_loss: 2.8112 - output_B1_loss: 1.7897 - val_loss: 1.6883 - val_output_RNN_loss: 3.0185 - val_output_A_loss: 2.8280 - val_output_B1_loss: 1.7934\n",
      "Epoch 215/1000\n",
      "399/399 [==============================] - 2s 6ms/step - loss: 1.6809 - output_RNN_loss: 3.0140 - output_A_loss: 2.8097 - output_B1_loss: 1.7886 - val_loss: 1.6856 - val_output_RNN_loss: 3.0142 - val_output_A_loss: 2.8223 - val_output_B1_loss: 1.7915\n",
      "Epoch 216/1000\n",
      "399/399 [==============================] - 3s 6ms/step - loss: 1.6800 - output_RNN_loss: 3.0117 - output_A_loss: 2.8085 - output_B1_loss: 1.7877 - val_loss: 1.6871 - val_output_RNN_loss: 3.0161 - val_output_A_loss: 2.8250 - val_output_B1_loss: 1.7934\n",
      "Epoch 217/1000\n",
      "399/399 [==============================] - 2s 6ms/step - loss: 1.6787 - output_RNN_loss: 3.0102 - output_A_loss: 2.8065 - output_B1_loss: 1.7859 - val_loss: 1.6833 - val_output_RNN_loss: 3.0136 - val_output_A_loss: 2.8204 - val_output_B1_loss: 1.7859\n",
      "Epoch 218/1000\n",
      "399/399 [==============================] - 2s 6ms/step - loss: 1.6779 - output_RNN_loss: 3.0078 - output_A_loss: 2.8051 - output_B1_loss: 1.7851 - val_loss: 1.6827 - val_output_RNN_loss: 3.0141 - val_output_A_loss: 2.8209 - val_output_B1_loss: 1.7833\n",
      "Epoch 219/1000\n",
      "399/399 [==============================] - 2s 6ms/step - loss: 1.6768 - output_RNN_loss: 3.0072 - output_A_loss: 2.8034 - output_B1_loss: 1.7835 - val_loss: 1.6815 - val_output_RNN_loss: 3.0101 - val_output_A_loss: 2.8177 - val_output_B1_loss: 1.7841\n",
      "Epoch 220/1000\n",
      "399/399 [==============================] - 2s 6ms/step - loss: 1.6761 - output_RNN_loss: 3.0043 - output_A_loss: 2.8021 - output_B1_loss: 1.7834 - val_loss: 1.6811 - val_output_RNN_loss: 3.0087 - val_output_A_loss: 2.8168 - val_output_B1_loss: 1.7841\n",
      "Epoch 221/1000\n",
      "399/399 [==============================] - 2s 6ms/step - loss: 1.6747 - output_RNN_loss: 3.0031 - output_A_loss: 2.8004 - output_B1_loss: 1.7809 - val_loss: 1.6797 - val_output_RNN_loss: 3.0060 - val_output_A_loss: 2.8152 - val_output_B1_loss: 1.7818\n",
      "Epoch 222/1000\n",
      "399/399 [==============================] - 2s 6ms/step - loss: 1.6738 - output_RNN_loss: 3.0012 - output_A_loss: 2.8003 - output_B1_loss: 1.7788 - val_loss: 1.6796 - val_output_RNN_loss: 3.0052 - val_output_A_loss: 2.8157 - val_output_B1_loss: 1.7814\n",
      "Epoch 223/1000\n",
      "399/399 [==============================] - 2s 6ms/step - loss: 1.6733 - output_RNN_loss: 2.9997 - output_A_loss: 2.7985 - output_B1_loss: 1.7792 - val_loss: 1.6791 - val_output_RNN_loss: 3.0048 - val_output_A_loss: 2.8157 - val_output_B1_loss: 1.7797\n",
      "Epoch 224/1000\n",
      "399/399 [==============================] - 3s 6ms/step - loss: 1.6720 - output_RNN_loss: 2.9977 - output_A_loss: 2.7964 - output_B1_loss: 1.7775 - val_loss: 1.6790 - val_output_RNN_loss: 3.0051 - val_output_A_loss: 2.8122 - val_output_B1_loss: 1.7828\n",
      "Epoch 225/1000\n",
      "399/399 [==============================] - 2s 6ms/step - loss: 1.6715 - output_RNN_loss: 2.9964 - output_A_loss: 2.7963 - output_B1_loss: 1.7767 - val_loss: 1.6785 - val_output_RNN_loss: 2.9997 - val_output_A_loss: 2.8119 - val_output_B1_loss: 1.7830\n",
      "Epoch 226/1000\n",
      "399/399 [==============================] - 2s 6ms/step - loss: 1.6701 - output_RNN_loss: 2.9940 - output_A_loss: 2.7940 - output_B1_loss: 1.7750 - val_loss: 1.6754 - val_output_RNN_loss: 2.9971 - val_output_A_loss: 2.8110 - val_output_B1_loss: 1.7745\n",
      "Epoch 227/1000\n",
      "399/399 [==============================] - 3s 6ms/step - loss: 1.6693 - output_RNN_loss: 2.9922 - output_A_loss: 2.7927 - output_B1_loss: 1.7743 - val_loss: 1.6742 - val_output_RNN_loss: 2.9964 - val_output_A_loss: 2.8081 - val_output_B1_loss: 1.7737\n",
      "Epoch 228/1000\n",
      "399/399 [==============================] - 2s 6ms/step - loss: 1.6685 - output_RNN_loss: 2.9908 - output_A_loss: 2.7918 - output_B1_loss: 1.7729 - val_loss: 1.6738 - val_output_RNN_loss: 2.9944 - val_output_A_loss: 2.8066 - val_output_B1_loss: 1.7746\n",
      "Epoch 229/1000\n",
      "399/399 [==============================] - 2s 6ms/step - loss: 1.6674 - output_RNN_loss: 2.9899 - output_A_loss: 2.7899 - output_B1_loss: 1.7715 - val_loss: 1.6755 - val_output_RNN_loss: 2.9917 - val_output_A_loss: 2.8081 - val_output_B1_loss: 1.7797\n",
      "Epoch 230/1000\n",
      "399/399 [==============================] - 2s 6ms/step - loss: 1.6667 - output_RNN_loss: 2.9881 - output_A_loss: 2.7896 - output_B1_loss: 1.7700 - val_loss: 1.6726 - val_output_RNN_loss: 2.9895 - val_output_A_loss: 2.8060 - val_output_B1_loss: 1.7728\n",
      "Epoch 231/1000\n",
      "399/399 [==============================] - 2s 6ms/step - loss: 1.6657 - output_RNN_loss: 2.9858 - output_A_loss: 2.7883 - output_B1_loss: 1.7688 - val_loss: 1.6713 - val_output_RNN_loss: 2.9904 - val_output_A_loss: 2.8031 - val_output_B1_loss: 1.7709\n",
      "Epoch 232/1000\n",
      "399/399 [==============================] - 2s 6ms/step - loss: 1.6650 - output_RNN_loss: 2.9845 - output_A_loss: 2.7869 - output_B1_loss: 1.7681 - val_loss: 1.6711 - val_output_RNN_loss: 2.9884 - val_output_A_loss: 2.8037 - val_output_B1_loss: 1.7706\n",
      "Epoch 233/1000\n",
      "399/399 [==============================] - 2s 6ms/step - loss: 1.6642 - output_RNN_loss: 2.9833 - output_A_loss: 2.7858 - output_B1_loss: 1.7672 - val_loss: 1.6693 - val_output_RNN_loss: 2.9874 - val_output_A_loss: 2.7999 - val_output_B1_loss: 1.7687\n",
      "Epoch 234/1000\n",
      "399/399 [==============================] - 2s 6ms/step - loss: 1.6635 - output_RNN_loss: 2.9813 - output_A_loss: 2.7848 - output_B1_loss: 1.7664 - val_loss: 1.6699 - val_output_RNN_loss: 2.9837 - val_output_A_loss: 2.8015 - val_output_B1_loss: 1.7702\n",
      "Epoch 235/1000\n",
      "399/399 [==============================] - 2s 6ms/step - loss: 1.6623 - output_RNN_loss: 2.9797 - output_A_loss: 2.7830 - output_B1_loss: 1.7648 - val_loss: 1.6693 - val_output_RNN_loss: 2.9816 - val_output_A_loss: 2.8037 - val_output_B1_loss: 1.7667\n",
      "Epoch 236/1000\n",
      "399/399 [==============================] - 3s 6ms/step - loss: 1.6618 - output_RNN_loss: 2.9782 - output_A_loss: 2.7828 - output_B1_loss: 1.7637 - val_loss: 1.6678 - val_output_RNN_loss: 2.9815 - val_output_A_loss: 2.7986 - val_output_B1_loss: 1.7669\n",
      "Epoch 237/1000\n",
      "399/399 [==============================] - 2s 6ms/step - loss: 1.6609 - output_RNN_loss: 2.9765 - output_A_loss: 2.7805 - output_B1_loss: 1.7636 - val_loss: 1.6655 - val_output_RNN_loss: 2.9788 - val_output_A_loss: 2.7958 - val_output_B1_loss: 1.7630\n",
      "Epoch 238/1000\n",
      "399/399 [==============================] - 2s 6ms/step - loss: 1.6596 - output_RNN_loss: 2.9753 - output_A_loss: 2.7790 - output_B1_loss: 1.7614 - val_loss: 1.6658 - val_output_RNN_loss: 2.9794 - val_output_A_loss: 2.7956 - val_output_B1_loss: 1.7639\n",
      "Epoch 239/1000\n",
      "399/399 [==============================] - 2s 6ms/step - loss: 1.6595 - output_RNN_loss: 2.9737 - output_A_loss: 2.7800 - output_B1_loss: 1.7604 - val_loss: 1.6660 - val_output_RNN_loss: 2.9783 - val_output_A_loss: 2.7951 - val_output_B1_loss: 1.7655\n",
      "Epoch 240/1000\n",
      "399/399 [==============================] - 2s 6ms/step - loss: 1.6584 - output_RNN_loss: 2.9723 - output_A_loss: 2.7785 - output_B1_loss: 1.7586 - val_loss: 1.6691 - val_output_RNN_loss: 2.9763 - val_output_A_loss: 2.8071 - val_output_B1_loss: 1.7644\n",
      "Epoch 241/1000\n",
      "399/399 [==============================] - 2s 6ms/step - loss: 1.6578 - output_RNN_loss: 2.9707 - output_A_loss: 2.7776 - output_B1_loss: 1.7582 - val_loss: 1.6642 - val_output_RNN_loss: 2.9741 - val_output_A_loss: 2.7946 - val_output_B1_loss: 1.7612\n",
      "Epoch 242/1000\n",
      "399/399 [==============================] - 3s 6ms/step - loss: 1.6573 - output_RNN_loss: 2.9696 - output_A_loss: 2.7759 - output_B1_loss: 1.7585 - val_loss: 1.6643 - val_output_RNN_loss: 2.9726 - val_output_A_loss: 2.7953 - val_output_B1_loss: 1.7615\n",
      "Epoch 243/1000\n",
      "399/399 [==============================] - 2s 6ms/step - loss: 1.6565 - output_RNN_loss: 2.9679 - output_A_loss: 2.7755 - output_B1_loss: 1.7570 - val_loss: 1.6639 - val_output_RNN_loss: 2.9697 - val_output_A_loss: 2.7937 - val_output_B1_loss: 1.7629\n"
     ]
    },
    {
     "name": "stdout",
     "output_type": "stream",
     "text": [
      "Epoch 244/1000\n",
      "399/399 [==============================] - 2s 6ms/step - loss: 1.6556 - output_RNN_loss: 2.9660 - output_A_loss: 2.7747 - output_B1_loss: 1.7553 - val_loss: 1.6624 - val_output_RNN_loss: 2.9704 - val_output_A_loss: 2.7898 - val_output_B1_loss: 1.7614\n",
      "Epoch 245/1000\n",
      "399/399 [==============================] - 2s 6ms/step - loss: 1.6547 - output_RNN_loss: 2.9653 - output_A_loss: 2.7723 - output_B1_loss: 1.7550 - val_loss: 1.6625 - val_output_RNN_loss: 2.9687 - val_output_A_loss: 2.7920 - val_output_B1_loss: 1.7600\n",
      "Epoch 246/1000\n",
      "399/399 [==============================] - 2s 6ms/step - loss: 1.6541 - output_RNN_loss: 2.9639 - output_A_loss: 2.7722 - output_B1_loss: 1.7534 - val_loss: 1.6610 - val_output_RNN_loss: 2.9682 - val_output_A_loss: 2.7911 - val_output_B1_loss: 1.7563\n",
      "Epoch 247/1000\n",
      "399/399 [==============================] - 2s 6ms/step - loss: 1.6532 - output_RNN_loss: 2.9619 - output_A_loss: 2.7712 - output_B1_loss: 1.7523 - val_loss: 1.6616 - val_output_RNN_loss: 2.9668 - val_output_A_loss: 2.7907 - val_output_B1_loss: 1.7591\n",
      "Epoch 248/1000\n",
      "399/399 [==============================] - 2s 6ms/step - loss: 1.6525 - output_RNN_loss: 2.9608 - output_A_loss: 2.7699 - output_B1_loss: 1.7514 - val_loss: 1.6600 - val_output_RNN_loss: 2.9664 - val_output_A_loss: 2.7897 - val_output_B1_loss: 1.7548\n",
      "Epoch 249/1000\n",
      "399/399 [==============================] - 2s 6ms/step - loss: 1.6521 - output_RNN_loss: 2.9595 - output_A_loss: 2.7693 - output_B1_loss: 1.7513 - val_loss: 1.6585 - val_output_RNN_loss: 2.9636 - val_output_A_loss: 2.7857 - val_output_B1_loss: 1.7547\n",
      "Epoch 250/1000\n",
      "399/399 [==============================] - 2s 6ms/step - loss: 1.6512 - output_RNN_loss: 2.9585 - output_A_loss: 2.7677 - output_B1_loss: 1.7500 - val_loss: 1.6603 - val_output_RNN_loss: 2.9620 - val_output_A_loss: 2.7898 - val_output_B1_loss: 1.7571\n",
      "Epoch 251/1000\n",
      "399/399 [==============================] - 2s 6ms/step - loss: 1.6507 - output_RNN_loss: 2.9566 - output_A_loss: 2.7665 - output_B1_loss: 1.7504 - val_loss: 1.6571 - val_output_RNN_loss: 2.9586 - val_output_A_loss: 2.7846 - val_output_B1_loss: 1.7528\n",
      "Epoch 252/1000\n",
      "399/399 [==============================] - 2s 6ms/step - loss: 1.6498 - output_RNN_loss: 2.9550 - output_A_loss: 2.7655 - output_B1_loss: 1.7489 - val_loss: 1.6569 - val_output_RNN_loss: 2.9584 - val_output_A_loss: 2.7843 - val_output_B1_loss: 1.7526\n",
      "Epoch 253/1000\n",
      "399/399 [==============================] - 2s 6ms/step - loss: 1.6492 - output_RNN_loss: 2.9536 - output_A_loss: 2.7661 - output_B1_loss: 1.7467 - val_loss: 1.6571 - val_output_RNN_loss: 2.9594 - val_output_A_loss: 2.7842 - val_output_B1_loss: 1.7530\n",
      "Epoch 254/1000\n",
      "399/399 [==============================] - 2s 6ms/step - loss: 1.6483 - output_RNN_loss: 2.9529 - output_A_loss: 2.7633 - output_B1_loss: 1.7468 - val_loss: 1.6596 - val_output_RNN_loss: 2.9579 - val_output_A_loss: 2.7894 - val_output_B1_loss: 1.7565\n",
      "Epoch 255/1000\n",
      "399/399 [==============================] - 2s 6ms/step - loss: 1.6479 - output_RNN_loss: 2.9517 - output_A_loss: 2.7634 - output_B1_loss: 1.7455 - val_loss: 1.6569 - val_output_RNN_loss: 2.9555 - val_output_A_loss: 2.7836 - val_output_B1_loss: 1.7544\n",
      "Epoch 256/1000\n",
      "399/399 [==============================] - 2s 6ms/step - loss: 1.6469 - output_RNN_loss: 2.9502 - output_A_loss: 2.7618 - output_B1_loss: 1.7444 - val_loss: 1.6549 - val_output_RNN_loss: 2.9537 - val_output_A_loss: 2.7813 - val_output_B1_loss: 1.7505\n",
      "Epoch 257/1000\n",
      "399/399 [==============================] - 2s 6ms/step - loss: 1.6466 - output_RNN_loss: 2.9490 - output_A_loss: 2.7624 - output_B1_loss: 1.7434 - val_loss: 1.6553 - val_output_RNN_loss: 2.9514 - val_output_A_loss: 2.7849 - val_output_B1_loss: 1.7488\n",
      "Epoch 258/1000\n",
      "399/399 [==============================] - 3s 6ms/step - loss: 1.6459 - output_RNN_loss: 2.9479 - output_A_loss: 2.7602 - output_B1_loss: 1.7434 - val_loss: 1.6548 - val_output_RNN_loss: 2.9509 - val_output_A_loss: 2.7840 - val_output_B1_loss: 1.7485\n",
      "Epoch 259/1000\n",
      "399/399 [==============================] - 2s 6ms/step - loss: 1.6456 - output_RNN_loss: 2.9461 - output_A_loss: 2.7605 - output_B1_loss: 1.7429 - val_loss: 1.6536 - val_output_RNN_loss: 2.9525 - val_output_A_loss: 2.7788 - val_output_B1_loss: 1.7490\n",
      "Epoch 260/1000\n",
      "399/399 [==============================] - 2s 6ms/step - loss: 1.6444 - output_RNN_loss: 2.9457 - output_A_loss: 2.7586 - output_B1_loss: 1.7408 - val_loss: 1.6534 - val_output_RNN_loss: 2.9478 - val_output_A_loss: 2.7834 - val_output_B1_loss: 1.7453\n",
      "Epoch 261/1000\n",
      "399/399 [==============================] - 3s 6ms/step - loss: 1.6436 - output_RNN_loss: 2.9440 - output_A_loss: 2.7579 - output_B1_loss: 1.7394 - val_loss: 1.6532 - val_output_RNN_loss: 2.9503 - val_output_A_loss: 2.7776 - val_output_B1_loss: 1.7497\n",
      "Epoch 262/1000\n",
      "399/399 [==============================] - 2s 6ms/step - loss: 1.6438 - output_RNN_loss: 2.9432 - output_A_loss: 2.7584 - output_B1_loss: 1.7397 - val_loss: 1.6513 - val_output_RNN_loss: 2.9456 - val_output_A_loss: 2.7773 - val_output_B1_loss: 1.7453\n",
      "Epoch 263/1000\n",
      "399/399 [==============================] - 2s 6ms/step - loss: 1.6430 - output_RNN_loss: 2.9415 - output_A_loss: 2.7560 - output_B1_loss: 1.7402 - val_loss: 1.6531 - val_output_RNN_loss: 2.9455 - val_output_A_loss: 2.7812 - val_output_B1_loss: 1.7473\n",
      "Epoch 264/1000\n",
      "399/399 [==============================] - 2s 6ms/step - loss: 1.6420 - output_RNN_loss: 2.9405 - output_A_loss: 2.7559 - output_B1_loss: 1.7372 - val_loss: 1.6514 - val_output_RNN_loss: 2.9475 - val_output_A_loss: 2.7773 - val_output_B1_loss: 1.7449\n",
      "Epoch 265/1000\n",
      "399/399 [==============================] - 2s 6ms/step - loss: 1.6417 - output_RNN_loss: 2.9398 - output_A_loss: 2.7548 - output_B1_loss: 1.7375 - val_loss: 1.6500 - val_output_RNN_loss: 2.9429 - val_output_A_loss: 2.7752 - val_output_B1_loss: 1.7440\n",
      "Epoch 266/1000\n",
      "399/399 [==============================] - 2s 6ms/step - loss: 1.6410 - output_RNN_loss: 2.9382 - output_A_loss: 2.7541 - output_B1_loss: 1.7367 - val_loss: 1.6499 - val_output_RNN_loss: 2.9426 - val_output_A_loss: 2.7738 - val_output_B1_loss: 1.7449\n",
      "Epoch 267/1000\n",
      "399/399 [==============================] - 3s 6ms/step - loss: 1.6400 - output_RNN_loss: 2.9368 - output_A_loss: 2.7528 - output_B1_loss: 1.7349 - val_loss: 1.6504 - val_output_RNN_loss: 2.9425 - val_output_A_loss: 2.7745 - val_output_B1_loss: 1.7461\n",
      "Epoch 268/1000\n",
      "399/399 [==============================] - 2s 6ms/step - loss: 1.6397 - output_RNN_loss: 2.9355 - output_A_loss: 2.7527 - output_B1_loss: 1.7344 - val_loss: 1.6478 - val_output_RNN_loss: 2.9390 - val_output_A_loss: 2.7734 - val_output_B1_loss: 1.7397\n",
      "Epoch 269/1000\n",
      "399/399 [==============================] - 2s 6ms/step - loss: 1.6391 - output_RNN_loss: 2.9345 - output_A_loss: 2.7516 - output_B1_loss: 1.7340 - val_loss: 1.6471 - val_output_RNN_loss: 2.9401 - val_output_A_loss: 2.7714 - val_output_B1_loss: 1.7389\n",
      "Epoch 270/1000\n",
      "399/399 [==============================] - 2s 6ms/step - loss: 1.6385 - output_RNN_loss: 2.9339 - output_A_loss: 2.7510 - output_B1_loss: 1.7326 - val_loss: 1.6485 - val_output_RNN_loss: 2.9377 - val_output_A_loss: 2.7717 - val_output_B1_loss: 1.7441\n",
      "Epoch 271/1000\n",
      "399/399 [==============================] - 2s 6ms/step - loss: 1.6382 - output_RNN_loss: 2.9325 - output_A_loss: 2.7501 - output_B1_loss: 1.7330 - val_loss: 1.6529 - val_output_RNN_loss: 2.9374 - val_output_A_loss: 2.7826 - val_output_B1_loss: 1.7478\n",
      "Epoch 272/1000\n",
      "399/399 [==============================] - 3s 7ms/step - loss: 1.6374 - output_RNN_loss: 2.9311 - output_A_loss: 2.7488 - output_B1_loss: 1.7321 - val_loss: 1.6465 - val_output_RNN_loss: 2.9355 - val_output_A_loss: 2.7722 - val_output_B1_loss: 1.7378\n",
      "Epoch 273/1000\n",
      "399/399 [==============================] - 2s 6ms/step - loss: 1.6368 - output_RNN_loss: 2.9302 - output_A_loss: 2.7482 - output_B1_loss: 1.7311 - val_loss: 1.6458 - val_output_RNN_loss: 2.9339 - val_output_A_loss: 2.7699 - val_output_B1_loss: 1.7383\n",
      "Epoch 274/1000\n",
      "399/399 [==============================] - 3s 6ms/step - loss: 1.6363 - output_RNN_loss: 2.9285 - output_A_loss: 2.7476 - output_B1_loss: 1.7305 - val_loss: 1.6444 - val_output_RNN_loss: 2.9333 - val_output_A_loss: 2.7677 - val_output_B1_loss: 1.7359\n"
     ]
    },
    {
     "name": "stdout",
     "output_type": "stream",
     "text": [
      "Epoch 275/1000\n",
      "399/399 [==============================] - 2s 6ms/step - loss: 1.6360 - output_RNN_loss: 2.9283 - output_A_loss: 2.7480 - output_B1_loss: 1.7294 - val_loss: 1.6481 - val_output_RNN_loss: 2.9320 - val_output_A_loss: 2.7729 - val_output_B1_loss: 1.7434\n",
      "Epoch 276/1000\n",
      "399/399 [==============================] - 2s 6ms/step - loss: 1.6351 - output_RNN_loss: 2.9271 - output_A_loss: 2.7457 - output_B1_loss: 1.7288 - val_loss: 1.6452 - val_output_RNN_loss: 2.9316 - val_output_A_loss: 2.7666 - val_output_B1_loss: 1.7401\n",
      "Epoch 277/1000\n",
      "399/399 [==============================] - 3s 6ms/step - loss: 1.6343 - output_RNN_loss: 2.9259 - output_A_loss: 2.7453 - output_B1_loss: 1.7270 - val_loss: 1.6438 - val_output_RNN_loss: 2.9300 - val_output_A_loss: 2.7653 - val_output_B1_loss: 1.7374\n",
      "Epoch 278/1000\n",
      "399/399 [==============================] - 2s 6ms/step - loss: 1.6343 - output_RNN_loss: 2.9243 - output_A_loss: 2.7452 - output_B1_loss: 1.7276 - val_loss: 1.6467 - val_output_RNN_loss: 2.9268 - val_output_A_loss: 2.7770 - val_output_B1_loss: 1.7363\n",
      "Epoch 279/1000\n",
      "399/399 [==============================] - 2s 6ms/step - loss: 1.6337 - output_RNN_loss: 2.9234 - output_A_loss: 2.7439 - output_B1_loss: 1.7272 - val_loss: 1.6443 - val_output_RNN_loss: 2.9288 - val_output_A_loss: 2.7685 - val_output_B1_loss: 1.7363\n",
      "Epoch 280/1000\n",
      "399/399 [==============================] - 2s 6ms/step - loss: 1.6332 - output_RNN_loss: 2.9229 - output_A_loss: 2.7438 - output_B1_loss: 1.7260 - val_loss: 1.6433 - val_output_RNN_loss: 2.9267 - val_output_A_loss: 2.7676 - val_output_B1_loss: 1.7344\n",
      "Epoch 281/1000\n",
      "399/399 [==============================] - 2s 6ms/step - loss: 1.6325 - output_RNN_loss: 2.9218 - output_A_loss: 2.7429 - output_B1_loss: 1.7250 - val_loss: 1.6418 - val_output_RNN_loss: 2.9253 - val_output_A_loss: 2.7645 - val_output_B1_loss: 1.7331\n",
      "Epoch 282/1000\n",
      "399/399 [==============================] - 2s 6ms/step - loss: 1.6321 - output_RNN_loss: 2.9202 - output_A_loss: 2.7423 - output_B1_loss: 1.7248 - val_loss: 1.6415 - val_output_RNN_loss: 2.9257 - val_output_A_loss: 2.7647 - val_output_B1_loss: 1.7316\n",
      "Epoch 283/1000\n",
      "399/399 [==============================] - 2s 6ms/step - loss: 1.6311 - output_RNN_loss: 2.9202 - output_A_loss: 2.7405 - output_B1_loss: 1.7232 - val_loss: 1.6423 - val_output_RNN_loss: 2.9222 - val_output_A_loss: 2.7671 - val_output_B1_loss: 1.7331\n",
      "Epoch 284/1000\n",
      "399/399 [==============================] - 2s 6ms/step - loss: 1.6306 - output_RNN_loss: 2.9180 - output_A_loss: 2.7400 - output_B1_loss: 1.7226 - val_loss: 1.6396 - val_output_RNN_loss: 2.9233 - val_output_A_loss: 2.7617 - val_output_B1_loss: 1.7291\n",
      "Epoch 285/1000\n",
      "399/399 [==============================] - 2s 6ms/step - loss: 1.6302 - output_RNN_loss: 2.9176 - output_A_loss: 2.7388 - output_B1_loss: 1.7225 - val_loss: 1.6404 - val_output_RNN_loss: 2.9229 - val_output_A_loss: 2.7628 - val_output_B1_loss: 1.7307\n",
      "Epoch 286/1000\n",
      "399/399 [==============================] - 2s 6ms/step - loss: 1.6293 - output_RNN_loss: 2.9167 - output_A_loss: 2.7386 - output_B1_loss: 1.7201 - val_loss: 1.6398 - val_output_RNN_loss: 2.9220 - val_output_A_loss: 2.7635 - val_output_B1_loss: 1.7286\n",
      "Epoch 287/1000\n",
      "399/399 [==============================] - 2s 6ms/step - loss: 1.6291 - output_RNN_loss: 2.9157 - output_A_loss: 2.7378 - output_B1_loss: 1.7207 - val_loss: 1.6381 - val_output_RNN_loss: 2.9210 - val_output_A_loss: 2.7576 - val_output_B1_loss: 1.7290\n",
      "Epoch 288/1000\n",
      "399/399 [==============================] - 2s 6ms/step - loss: 1.6291 - output_RNN_loss: 2.9147 - output_A_loss: 2.7382 - output_B1_loss: 1.7206 - val_loss: 1.6384 - val_output_RNN_loss: 2.9196 - val_output_A_loss: 2.7590 - val_output_B1_loss: 1.7290\n",
      "Epoch 289/1000\n",
      "399/399 [==============================] - 2s 6ms/step - loss: 1.6284 - output_RNN_loss: 2.9137 - output_A_loss: 2.7362 - output_B1_loss: 1.7205 - val_loss: 1.6388 - val_output_RNN_loss: 2.9221 - val_output_A_loss: 2.7617 - val_output_B1_loss: 1.7269\n",
      "Epoch 290/1000\n",
      "399/399 [==============================] - 2s 6ms/step - loss: 1.6279 - output_RNN_loss: 2.9124 - output_A_loss: 2.7361 - output_B1_loss: 1.7194 - val_loss: 1.6380 - val_output_RNN_loss: 2.9187 - val_output_A_loss: 2.7583 - val_output_B1_loss: 1.7287\n",
      "Epoch 291/1000\n",
      "399/399 [==============================] - 2s 6ms/step - loss: 1.6271 - output_RNN_loss: 2.9115 - output_A_loss: 2.7352 - output_B1_loss: 1.7181 - val_loss: 1.6377 - val_output_RNN_loss: 2.9176 - val_output_A_loss: 2.7579 - val_output_B1_loss: 1.7287\n",
      "Epoch 292/1000\n",
      "399/399 [==============================] - 2s 6ms/step - loss: 1.6267 - output_RNN_loss: 2.9104 - output_A_loss: 2.7345 - output_B1_loss: 1.7177 - val_loss: 1.6378 - val_output_RNN_loss: 2.9157 - val_output_A_loss: 2.7582 - val_output_B1_loss: 1.7291\n",
      "Epoch 293/1000\n",
      "399/399 [==============================] - 2s 6ms/step - loss: 1.6263 - output_RNN_loss: 2.9097 - output_A_loss: 2.7341 - output_B1_loss: 1.7170 - val_loss: 1.6358 - val_output_RNN_loss: 2.9145 - val_output_A_loss: 2.7562 - val_output_B1_loss: 1.7250\n",
      "Epoch 294/1000\n",
      "399/399 [==============================] - 2s 6ms/step - loss: 1.6257 - output_RNN_loss: 2.9087 - output_A_loss: 2.7338 - output_B1_loss: 1.7157 - val_loss: 1.6362 - val_output_RNN_loss: 2.9148 - val_output_A_loss: 2.7565 - val_output_B1_loss: 1.7260\n",
      "Epoch 295/1000\n",
      "399/399 [==============================] - 2s 6ms/step - loss: 1.6256 - output_RNN_loss: 2.9075 - output_A_loss: 2.7332 - output_B1_loss: 1.7162 - val_loss: 1.6344 - val_output_RNN_loss: 2.9123 - val_output_A_loss: 2.7530 - val_output_B1_loss: 1.7244\n",
      "Epoch 296/1000\n",
      "399/399 [==============================] - 2s 6ms/step - loss: 1.6250 - output_RNN_loss: 2.9067 - output_A_loss: 2.7334 - output_B1_loss: 1.7143 - val_loss: 1.6375 - val_output_RNN_loss: 2.9131 - val_output_A_loss: 2.7577 - val_output_B1_loss: 1.7297\n",
      "Epoch 297/1000\n",
      "399/399 [==============================] - 2s 6ms/step - loss: 1.6247 - output_RNN_loss: 2.9058 - output_A_loss: 2.7312 - output_B1_loss: 1.7157 - val_loss: 1.6343 - val_output_RNN_loss: 2.9099 - val_output_A_loss: 2.7526 - val_output_B1_loss: 1.7252\n",
      "Epoch 298/1000\n",
      "399/399 [==============================] - 2s 6ms/step - loss: 1.6242 - output_RNN_loss: 2.9042 - output_A_loss: 2.7311 - output_B1_loss: 1.7147 - val_loss: 1.6339 - val_output_RNN_loss: 2.9086 - val_output_A_loss: 2.7537 - val_output_B1_loss: 1.7230\n",
      "Epoch 299/1000\n",
      "399/399 [==============================] - 2s 6ms/step - loss: 1.6234 - output_RNN_loss: 2.9038 - output_A_loss: 2.7294 - output_B1_loss: 1.7140 - val_loss: 1.6327 - val_output_RNN_loss: 2.9101 - val_output_A_loss: 2.7508 - val_output_B1_loss: 1.7217\n",
      "Epoch 300/1000\n",
      "399/399 [==============================] - 2s 6ms/step - loss: 1.6227 - output_RNN_loss: 2.9025 - output_A_loss: 2.7288 - output_B1_loss: 1.7128 - val_loss: 1.6326 - val_output_RNN_loss: 2.9079 - val_output_A_loss: 2.7524 - val_output_B1_loss: 1.7204\n",
      "Epoch 301/1000\n",
      "399/399 [==============================] - 2s 6ms/step - loss: 1.6219 - output_RNN_loss: 2.9022 - output_A_loss: 2.7276 - output_B1_loss: 1.7115 - val_loss: 1.6377 - val_output_RNN_loss: 2.9091 - val_output_A_loss: 2.7610 - val_output_B1_loss: 1.7284\n",
      "Epoch 302/1000\n",
      "399/399 [==============================] - 2s 6ms/step - loss: 1.6218 - output_RNN_loss: 2.9010 - output_A_loss: 2.7273 - output_B1_loss: 1.7117 - val_loss: 1.6397 - val_output_RNN_loss: 2.9081 - val_output_A_loss: 2.7657 - val_output_B1_loss: 1.7305\n",
      "Epoch 303/1000\n",
      "399/399 [==============================] - 2s 6ms/step - loss: 1.6212 - output_RNN_loss: 2.8998 - output_A_loss: 2.7269 - output_B1_loss: 1.7105 - val_loss: 1.6326 - val_output_RNN_loss: 2.9052 - val_output_A_loss: 2.7511 - val_output_B1_loss: 1.7226\n",
      "Epoch 304/1000\n",
      "399/399 [==============================] - 2s 6ms/step - loss: 1.6212 - output_RNN_loss: 2.8992 - output_A_loss: 2.7266 - output_B1_loss: 1.7111 - val_loss: 1.6315 - val_output_RNN_loss: 2.9035 - val_output_A_loss: 2.7494 - val_output_B1_loss: 1.7211\n",
      "Epoch 305/1000\n",
      "399/399 [==============================] - 2s 6ms/step - loss: 1.6207 - output_RNN_loss: 2.8973 - output_A_loss: 2.7268 - output_B1_loss: 1.7098 - val_loss: 1.6333 - val_output_RNN_loss: 2.9057 - val_output_A_loss: 2.7517 - val_output_B1_loss: 1.7241\n"
     ]
    },
    {
     "name": "stdout",
     "output_type": "stream",
     "text": [
      "Epoch 306/1000\n",
      "399/399 [==============================] - 2s 6ms/step - loss: 1.6200 - output_RNN_loss: 2.8975 - output_A_loss: 2.7249 - output_B1_loss: 1.7094 - val_loss: 1.6368 - val_output_RNN_loss: 2.9035 - val_output_A_loss: 2.7608 - val_output_B1_loss: 1.7275\n",
      "Epoch 307/1000\n",
      "399/399 [==============================] - 2s 6ms/step - loss: 1.6201 - output_RNN_loss: 2.8963 - output_A_loss: 2.7253 - output_B1_loss: 1.7097 - val_loss: 1.6300 - val_output_RNN_loss: 2.9027 - val_output_A_loss: 2.7468 - val_output_B1_loss: 1.7190\n",
      "Epoch 308/1000\n",
      "399/399 [==============================] - 2s 6ms/step - loss: 1.6196 - output_RNN_loss: 2.8950 - output_A_loss: 2.7245 - output_B1_loss: 1.7091 - val_loss: 1.6301 - val_output_RNN_loss: 2.9024 - val_output_A_loss: 2.7463 - val_output_B1_loss: 1.7198\n",
      "Epoch 309/1000\n",
      "399/399 [==============================] - 2s 6ms/step - loss: 1.6190 - output_RNN_loss: 2.8945 - output_A_loss: 2.7237 - output_B1_loss: 1.7081 - val_loss: 1.6282 - val_output_RNN_loss: 2.9005 - val_output_A_loss: 2.7441 - val_output_B1_loss: 1.7165\n",
      "Epoch 310/1000\n",
      "399/399 [==============================] - 3s 6ms/step - loss: 1.6184 - output_RNN_loss: 2.8938 - output_A_loss: 2.7225 - output_B1_loss: 1.7074 - val_loss: 1.6276 - val_output_RNN_loss: 2.8994 - val_output_A_loss: 2.7440 - val_output_B1_loss: 1.7149\n",
      "Epoch 311/1000\n",
      "399/399 [==============================] - 2s 6ms/step - loss: 1.6179 - output_RNN_loss: 2.8925 - output_A_loss: 2.7229 - output_B1_loss: 1.7060 - val_loss: 1.6282 - val_output_RNN_loss: 2.8972 - val_output_A_loss: 2.7461 - val_output_B1_loss: 1.7154\n",
      "Epoch 312/1000\n",
      "399/399 [==============================] - 2s 6ms/step - loss: 1.6175 - output_RNN_loss: 2.8919 - output_A_loss: 2.7208 - output_B1_loss: 1.7068 - val_loss: 1.6291 - val_output_RNN_loss: 2.8985 - val_output_A_loss: 2.7455 - val_output_B1_loss: 1.7187\n",
      "Epoch 313/1000\n",
      "399/399 [==============================] - 2s 6ms/step - loss: 1.6169 - output_RNN_loss: 2.8910 - output_A_loss: 2.7206 - output_B1_loss: 1.7053 - val_loss: 1.6319 - val_output_RNN_loss: 2.8967 - val_output_A_loss: 2.7510 - val_output_B1_loss: 1.7232\n",
      "Epoch 314/1000\n",
      "399/399 [==============================] - 2s 6ms/step - loss: 1.6168 - output_RNN_loss: 2.8897 - output_A_loss: 2.7201 - output_B1_loss: 1.7059 - val_loss: 1.6270 - val_output_RNN_loss: 2.8967 - val_output_A_loss: 2.7420 - val_output_B1_loss: 1.7157\n",
      "Epoch 315/1000\n",
      "399/399 [==============================] - 2s 6ms/step - loss: 1.6162 - output_RNN_loss: 2.8893 - output_A_loss: 2.7200 - output_B1_loss: 1.7044 - val_loss: 1.6261 - val_output_RNN_loss: 2.8950 - val_output_A_loss: 2.7418 - val_output_B1_loss: 1.7134\n",
      "Epoch 316/1000\n",
      "399/399 [==============================] - 2s 6ms/step - loss: 1.6156 - output_RNN_loss: 2.8885 - output_A_loss: 2.7186 - output_B1_loss: 1.7038 - val_loss: 1.6293 - val_output_RNN_loss: 2.8955 - val_output_A_loss: 2.7469 - val_output_B1_loss: 1.7189\n",
      "Epoch 317/1000\n",
      "399/399 [==============================] - 2s 6ms/step - loss: 1.6152 - output_RNN_loss: 2.8874 - output_A_loss: 2.7176 - output_B1_loss: 1.7038 - val_loss: 1.6256 - val_output_RNN_loss: 2.8925 - val_output_A_loss: 2.7408 - val_output_B1_loss: 1.7139\n",
      "Epoch 318/1000\n",
      "399/399 [==============================] - 2s 6ms/step - loss: 1.6155 - output_RNN_loss: 2.8860 - output_A_loss: 2.7191 - output_B1_loss: 1.7039 - val_loss: 1.6258 - val_output_RNN_loss: 2.8915 - val_output_A_loss: 2.7422 - val_output_B1_loss: 1.7134\n",
      "Epoch 319/1000\n",
      "399/399 [==============================] - 2s 6ms/step - loss: 1.6147 - output_RNN_loss: 2.8852 - output_A_loss: 2.7186 - output_B1_loss: 1.7019 - val_loss: 1.6260 - val_output_RNN_loss: 2.8917 - val_output_A_loss: 2.7421 - val_output_B1_loss: 1.7138\n",
      "Epoch 320/1000\n",
      "399/399 [==============================] - 2s 6ms/step - loss: 1.6142 - output_RNN_loss: 2.8848 - output_A_loss: 2.7178 - output_B1_loss: 1.7013 - val_loss: 1.6255 - val_output_RNN_loss: 2.8906 - val_output_A_loss: 2.7421 - val_output_B1_loss: 1.7127\n",
      "Epoch 321/1000\n",
      "399/399 [==============================] - 2s 6ms/step - loss: 1.6135 - output_RNN_loss: 2.8840 - output_A_loss: 2.7163 - output_B1_loss: 1.7006 - val_loss: 1.6270 - val_output_RNN_loss: 2.8901 - val_output_A_loss: 2.7427 - val_output_B1_loss: 1.7172\n",
      "Epoch 322/1000\n",
      "399/399 [==============================] - 2s 6ms/step - loss: 1.6130 - output_RNN_loss: 2.8829 - output_A_loss: 2.7157 - output_B1_loss: 1.7000 - val_loss: 1.6243 - val_output_RNN_loss: 2.8881 - val_output_A_loss: 2.7414 - val_output_B1_loss: 1.7104\n",
      "Epoch 323/1000\n",
      "399/399 [==============================] - 2s 6ms/step - loss: 1.6128 - output_RNN_loss: 2.8820 - output_A_loss: 2.7154 - output_B1_loss: 1.6999 - val_loss: 1.6249 - val_output_RNN_loss: 2.8892 - val_output_A_loss: 2.7397 - val_output_B1_loss: 1.7135\n",
      "Epoch 324/1000\n",
      "399/399 [==============================] - 2s 6ms/step - loss: 1.6126 - output_RNN_loss: 2.8812 - output_A_loss: 2.7143 - output_B1_loss: 1.7006 - val_loss: 1.6232 - val_output_RNN_loss: 2.8878 - val_output_A_loss: 2.7361 - val_output_B1_loss: 1.7119\n",
      "Epoch 325/1000\n",
      "399/399 [==============================] - 2s 6ms/step - loss: 1.6121 - output_RNN_loss: 2.8804 - output_A_loss: 2.7134 - output_B1_loss: 1.7001 - val_loss: 1.6236 - val_output_RNN_loss: 2.8879 - val_output_A_loss: 2.7389 - val_output_B1_loss: 1.7104\n",
      "Epoch 326/1000\n",
      "399/399 [==============================] - 3s 6ms/step - loss: 1.6113 - output_RNN_loss: 2.8795 - output_A_loss: 2.7132 - output_B1_loss: 1.6981 - val_loss: 1.6215 - val_output_RNN_loss: 2.8845 - val_output_A_loss: 2.7370 - val_output_B1_loss: 1.7065\n",
      "Epoch 327/1000\n",
      "399/399 [==============================] - 2s 6ms/step - loss: 1.6111 - output_RNN_loss: 2.8785 - output_A_loss: 2.7122 - output_B1_loss: 1.6985 - val_loss: 1.6232 - val_output_RNN_loss: 2.8852 - val_output_A_loss: 2.7367 - val_output_B1_loss: 1.7123\n",
      "Epoch 328/1000\n",
      "399/399 [==============================] - 2s 6ms/step - loss: 1.6111 - output_RNN_loss: 2.8782 - output_A_loss: 2.7129 - output_B1_loss: 1.6978 - val_loss: 1.6236 - val_output_RNN_loss: 2.8849 - val_output_A_loss: 2.7387 - val_output_B1_loss: 1.7116\n",
      "Epoch 329/1000\n",
      "399/399 [==============================] - 2s 6ms/step - loss: 1.6104 - output_RNN_loss: 2.8772 - output_A_loss: 2.7121 - output_B1_loss: 1.6967 - val_loss: 1.6231 - val_output_RNN_loss: 2.8824 - val_output_A_loss: 2.7391 - val_output_B1_loss: 1.7104\n",
      "Epoch 330/1000\n",
      "399/399 [==============================] - 2s 6ms/step - loss: 1.6105 - output_RNN_loss: 2.8762 - output_A_loss: 2.7124 - output_B1_loss: 1.6972 - val_loss: 1.6213 - val_output_RNN_loss: 2.8820 - val_output_A_loss: 2.7361 - val_output_B1_loss: 1.7075\n",
      "Epoch 331/1000\n",
      "399/399 [==============================] - 2s 6ms/step - loss: 1.6097 - output_RNN_loss: 2.8755 - output_A_loss: 2.7115 - output_B1_loss: 1.6956 - val_loss: 1.6242 - val_output_RNN_loss: 2.8813 - val_output_A_loss: 2.7383 - val_output_B1_loss: 1.7152\n",
      "Epoch 332/1000\n",
      "399/399 [==============================] - 2s 6ms/step - loss: 1.6089 - output_RNN_loss: 2.8739 - output_A_loss: 2.7100 - output_B1_loss: 1.6951 - val_loss: 1.6245 - val_output_RNN_loss: 2.8822 - val_output_A_loss: 2.7378 - val_output_B1_loss: 1.7164\n",
      "Epoch 333/1000\n",
      "399/399 [==============================] - 2s 6ms/step - loss: 1.6090 - output_RNN_loss: 2.8738 - output_A_loss: 2.7102 - output_B1_loss: 1.6951 - val_loss: 1.6203 - val_output_RNN_loss: 2.8798 - val_output_A_loss: 2.7316 - val_output_B1_loss: 1.7095\n",
      "Epoch 334/1000\n",
      "399/399 [==============================] - 3s 6ms/step - loss: 1.6082 - output_RNN_loss: 2.8727 - output_A_loss: 2.7092 - output_B1_loss: 1.6940 - val_loss: 1.6194 - val_output_RNN_loss: 2.8798 - val_output_A_loss: 2.7311 - val_output_B1_loss: 1.7069\n",
      "Epoch 335/1000\n",
      "399/399 [==============================] - 2s 6ms/step - loss: 1.6085 - output_RNN_loss: 2.8719 - output_A_loss: 2.7094 - output_B1_loss: 1.6948 - val_loss: 1.6192 - val_output_RNN_loss: 2.8785 - val_output_A_loss: 2.7323 - val_output_B1_loss: 1.7057\n",
      "Epoch 336/1000\n",
      "399/399 [==============================] - 2s 6ms/step - loss: 1.6078 - output_RNN_loss: 2.8707 - output_A_loss: 2.7081 - output_B1_loss: 1.6943 - val_loss: 1.6210 - val_output_RNN_loss: 2.8789 - val_output_A_loss: 2.7325 - val_output_B1_loss: 1.7111\n"
     ]
    },
    {
     "name": "stdout",
     "output_type": "stream",
     "text": [
      "Epoch 337/1000\n",
      "399/399 [==============================] - 2s 6ms/step - loss: 1.6070 - output_RNN_loss: 2.8709 - output_A_loss: 2.7073 - output_B1_loss: 1.6922 - val_loss: 1.6216 - val_output_RNN_loss: 2.8760 - val_output_A_loss: 2.7374 - val_output_B1_loss: 1.7091\n",
      "Epoch 338/1000\n",
      "399/399 [==============================] - 2s 6ms/step - loss: 1.6069 - output_RNN_loss: 2.8691 - output_A_loss: 2.7066 - output_B1_loss: 1.6933 - val_loss: 1.6239 - val_output_RNN_loss: 2.8775 - val_output_A_loss: 2.7383 - val_output_B1_loss: 1.7155\n",
      "Epoch 339/1000\n",
      "399/399 [==============================] - 2s 6ms/step - loss: 1.6065 - output_RNN_loss: 2.8682 - output_A_loss: 2.7063 - output_B1_loss: 1.6927 - val_loss: 1.6206 - val_output_RNN_loss: 2.8783 - val_output_A_loss: 2.7343 - val_output_B1_loss: 1.7082\n",
      "Epoch 340/1000\n",
      "399/399 [==============================] - 2s 6ms/step - loss: 1.6062 - output_RNN_loss: 2.8681 - output_A_loss: 2.7062 - output_B1_loss: 1.6917 - val_loss: 1.6177 - val_output_RNN_loss: 2.8738 - val_output_A_loss: 2.7297 - val_output_B1_loss: 1.7045\n",
      "Epoch 341/1000\n",
      "399/399 [==============================] - 3s 6ms/step - loss: 1.6057 - output_RNN_loss: 2.8670 - output_A_loss: 2.7046 - output_B1_loss: 1.6921 - val_loss: 1.6173 - val_output_RNN_loss: 2.8724 - val_output_A_loss: 2.7294 - val_output_B1_loss: 1.7040\n",
      "Epoch 342/1000\n",
      "399/399 [==============================] - 2s 6ms/step - loss: 1.6055 - output_RNN_loss: 2.8659 - output_A_loss: 2.7051 - output_B1_loss: 1.6912 - val_loss: 1.6169 - val_output_RNN_loss: 2.8733 - val_output_A_loss: 2.7315 - val_output_B1_loss: 1.7005\n",
      "Epoch 343/1000\n",
      "399/399 [==============================] - 2s 6ms/step - loss: 1.6050 - output_RNN_loss: 2.8652 - output_A_loss: 2.7042 - output_B1_loss: 1.6906 - val_loss: 1.6172 - val_output_RNN_loss: 2.8717 - val_output_A_loss: 2.7299 - val_output_B1_loss: 1.7035\n",
      "Epoch 344/1000\n",
      "399/399 [==============================] - 2s 6ms/step - loss: 1.6047 - output_RNN_loss: 2.8650 - output_A_loss: 2.7032 - output_B1_loss: 1.6908 - val_loss: 1.6158 - val_output_RNN_loss: 2.8715 - val_output_A_loss: 2.7251 - val_output_B1_loss: 1.7039\n",
      "Epoch 345/1000\n",
      "399/399 [==============================] - 2s 6ms/step - loss: 1.6044 - output_RNN_loss: 2.8635 - output_A_loss: 2.7034 - output_B1_loss: 1.6902 - val_loss: 1.6154 - val_output_RNN_loss: 2.8699 - val_output_A_loss: 2.7249 - val_output_B1_loss: 1.7031\n",
      "Epoch 346/1000\n",
      "399/399 [==============================] - 3s 6ms/step - loss: 1.6037 - output_RNN_loss: 2.8626 - output_A_loss: 2.7028 - output_B1_loss: 1.6886 - val_loss: 1.6149 - val_output_RNN_loss: 2.8701 - val_output_A_loss: 2.7248 - val_output_B1_loss: 1.7017\n",
      "Epoch 347/1000\n",
      "399/399 [==============================] - 2s 6ms/step - loss: 1.6034 - output_RNN_loss: 2.8621 - output_A_loss: 2.7021 - output_B1_loss: 1.6886 - val_loss: 1.6168 - val_output_RNN_loss: 2.8678 - val_output_A_loss: 2.7319 - val_output_B1_loss: 1.7015\n",
      "Epoch 348/1000\n",
      "399/399 [==============================] - 2s 6ms/step - loss: 1.6033 - output_RNN_loss: 2.8615 - output_A_loss: 2.7014 - output_B1_loss: 1.6892 - val_loss: 1.6158 - val_output_RNN_loss: 2.8674 - val_output_A_loss: 2.7259 - val_output_B1_loss: 1.7043\n",
      "Epoch 349/1000\n",
      "399/399 [==============================] - 2s 6ms/step - loss: 1.6026 - output_RNN_loss: 2.8602 - output_A_loss: 2.7018 - output_B1_loss: 1.6867 - val_loss: 1.6179 - val_output_RNN_loss: 2.8679 - val_output_A_loss: 2.7306 - val_output_B1_loss: 1.7066\n",
      "Epoch 350/1000\n",
      "399/399 [==============================] - 2s 6ms/step - loss: 1.6024 - output_RNN_loss: 2.8593 - output_A_loss: 2.7011 - output_B1_loss: 1.6872 - val_loss: 1.6136 - val_output_RNN_loss: 2.8658 - val_output_A_loss: 2.7237 - val_output_B1_loss: 1.6995\n",
      "Epoch 351/1000\n",
      "399/399 [==============================] - 2s 6ms/step - loss: 1.6017 - output_RNN_loss: 2.8587 - output_A_loss: 2.6995 - output_B1_loss: 1.6868 - val_loss: 1.6159 - val_output_RNN_loss: 2.8636 - val_output_A_loss: 2.7306 - val_output_B1_loss: 1.7012\n",
      "Epoch 352/1000\n",
      "399/399 [==============================] - 2s 6ms/step - loss: 1.6015 - output_RNN_loss: 2.8576 - output_A_loss: 2.6993 - output_B1_loss: 1.6865 - val_loss: 1.6140 - val_output_RNN_loss: 2.8645 - val_output_A_loss: 2.7243 - val_output_B1_loss: 1.7010\n",
      "Epoch 353/1000\n",
      "399/399 [==============================] - 2s 6ms/step - loss: 1.6011 - output_RNN_loss: 2.8572 - output_A_loss: 2.6983 - output_B1_loss: 1.6863 - val_loss: 1.6190 - val_output_RNN_loss: 2.8622 - val_output_A_loss: 2.7395 - val_output_B1_loss: 1.7030\n",
      "Epoch 354/1000\n",
      "399/399 [==============================] - 2s 6ms/step - loss: 1.6010 - output_RNN_loss: 2.8562 - output_A_loss: 2.6992 - output_B1_loss: 1.6856 - val_loss: 1.6133 - val_output_RNN_loss: 2.8643 - val_output_A_loss: 2.7214 - val_output_B1_loss: 1.7016\n",
      "Epoch 355/1000\n",
      "399/399 [==============================] - 2s 6ms/step - loss: 1.6008 - output_RNN_loss: 2.8560 - output_A_loss: 2.6988 - output_B1_loss: 1.6852 - val_loss: 1.6136 - val_output_RNN_loss: 2.8624 - val_output_A_loss: 2.7232 - val_output_B1_loss: 1.7013\n",
      "Epoch 356/1000\n",
      "399/399 [==============================] - 2s 6ms/step - loss: 1.5999 - output_RNN_loss: 2.8546 - output_A_loss: 2.6966 - output_B1_loss: 1.6848 - val_loss: 1.6118 - val_output_RNN_loss: 2.8614 - val_output_A_loss: 2.7209 - val_output_B1_loss: 1.6980\n",
      "Epoch 357/1000\n",
      "399/399 [==============================] - 2s 6ms/step - loss: 1.6002 - output_RNN_loss: 2.8538 - output_A_loss: 2.6972 - output_B1_loss: 1.6856 - val_loss: 1.6116 - val_output_RNN_loss: 2.8597 - val_output_A_loss: 2.7205 - val_output_B1_loss: 1.6982\n",
      "Epoch 358/1000\n",
      "399/399 [==============================] - 2s 6ms/step - loss: 1.5996 - output_RNN_loss: 2.8531 - output_A_loss: 2.6971 - output_B1_loss: 1.6837 - val_loss: 1.6135 - val_output_RNN_loss: 2.8600 - val_output_A_loss: 2.7241 - val_output_B1_loss: 1.7008\n",
      "Epoch 359/1000\n",
      "399/399 [==============================] - 3s 6ms/step - loss: 1.5993 - output_RNN_loss: 2.8522 - output_A_loss: 2.6957 - output_B1_loss: 1.6846 - val_loss: 1.6113 - val_output_RNN_loss: 2.8598 - val_output_A_loss: 2.7218 - val_output_B1_loss: 1.6958\n",
      "Epoch 360/1000\n",
      "399/399 [==============================] - 2s 6ms/step - loss: 1.5984 - output_RNN_loss: 2.8516 - output_A_loss: 2.6962 - output_B1_loss: 1.6813 - val_loss: 1.6136 - val_output_RNN_loss: 2.8597 - val_output_A_loss: 2.7253 - val_output_B1_loss: 1.7002\n",
      "Epoch 361/1000\n",
      "399/399 [==============================] - 2s 6ms/step - loss: 1.5981 - output_RNN_loss: 2.8508 - output_A_loss: 2.6952 - output_B1_loss: 1.6816 - val_loss: 1.6109 - val_output_RNN_loss: 2.8600 - val_output_A_loss: 2.7184 - val_output_B1_loss: 1.6980\n",
      "Epoch 362/1000\n",
      "399/399 [==============================] - 2s 6ms/step - loss: 1.5982 - output_RNN_loss: 2.8504 - output_A_loss: 2.6953 - output_B1_loss: 1.6819 - val_loss: 1.6119 - val_output_RNN_loss: 2.8597 - val_output_A_loss: 2.7205 - val_output_B1_loss: 1.6993\n",
      "Epoch 363/1000\n",
      "399/399 [==============================] - 2s 6ms/step - loss: 1.5978 - output_RNN_loss: 2.8493 - output_A_loss: 2.6943 - output_B1_loss: 1.6820 - val_loss: 1.6095 - val_output_RNN_loss: 2.8565 - val_output_A_loss: 2.7162 - val_output_B1_loss: 1.6966\n",
      "Epoch 364/1000\n",
      "399/399 [==============================] - 3s 6ms/step - loss: 1.5976 - output_RNN_loss: 2.8489 - output_A_loss: 2.6941 - output_B1_loss: 1.6815 - val_loss: 1.6116 - val_output_RNN_loss: 2.8545 - val_output_A_loss: 2.7232 - val_output_B1_loss: 1.6973\n",
      "Epoch 365/1000\n",
      "399/399 [==============================] - 2s 6ms/step - loss: 1.5975 - output_RNN_loss: 2.8477 - output_A_loss: 2.6937 - output_B1_loss: 1.6822 - val_loss: 1.6108 - val_output_RNN_loss: 2.8550 - val_output_A_loss: 2.7214 - val_output_B1_loss: 1.6963\n",
      "Epoch 366/1000\n",
      "399/399 [==============================] - 2s 6ms/step - loss: 1.5965 - output_RNN_loss: 2.8467 - output_A_loss: 2.6923 - output_B1_loss: 1.6805 - val_loss: 1.6111 - val_output_RNN_loss: 2.8553 - val_output_A_loss: 2.7210 - val_output_B1_loss: 1.6977\n",
      "Epoch 367/1000\n",
      "399/399 [==============================] - 2s 6ms/step - loss: 1.5965 - output_RNN_loss: 2.8465 - output_A_loss: 2.6918 - output_B1_loss: 1.6812 - val_loss: 1.6125 - val_output_RNN_loss: 2.8545 - val_output_A_loss: 2.7199 - val_output_B1_loss: 1.7036\n"
     ]
    },
    {
     "name": "stdout",
     "output_type": "stream",
     "text": [
      "Epoch 368/1000\n",
      "399/399 [==============================] - 2s 6ms/step - loss: 1.5959 - output_RNN_loss: 2.8452 - output_A_loss: 2.6925 - output_B1_loss: 1.6787 - val_loss: 1.6074 - val_output_RNN_loss: 2.8532 - val_output_A_loss: 2.7149 - val_output_B1_loss: 1.6921\n",
      "Epoch 369/1000\n",
      "399/399 [==============================] - 2s 6ms/step - loss: 1.5956 - output_RNN_loss: 2.8445 - output_A_loss: 2.6919 - output_B1_loss: 1.6788 - val_loss: 1.6158 - val_output_RNN_loss: 2.8510 - val_output_A_loss: 2.7384 - val_output_B1_loss: 1.6972\n",
      "Epoch 370/1000\n",
      "399/399 [==============================] - 2s 6ms/step - loss: 1.5955 - output_RNN_loss: 2.8440 - output_A_loss: 2.6904 - output_B1_loss: 1.6798 - val_loss: 1.6094 - val_output_RNN_loss: 2.8518 - val_output_A_loss: 2.7186 - val_output_B1_loss: 1.6954\n",
      "Epoch 371/1000\n",
      "399/399 [==============================] - 2s 6ms/step - loss: 1.5952 - output_RNN_loss: 2.8434 - output_A_loss: 2.6900 - output_B1_loss: 1.6795 - val_loss: 1.6076 - val_output_RNN_loss: 2.8498 - val_output_A_loss: 2.7157 - val_output_B1_loss: 1.6929\n",
      "Epoch 372/1000\n",
      "399/399 [==============================] - 2s 6ms/step - loss: 1.5946 - output_RNN_loss: 2.8416 - output_A_loss: 2.6895 - output_B1_loss: 1.6786 - val_loss: 1.6083 - val_output_RNN_loss: 2.8513 - val_output_A_loss: 2.7160 - val_output_B1_loss: 1.6947\n",
      "Epoch 373/1000\n",
      "399/399 [==============================] - 3s 7ms/step - loss: 1.5951 - output_RNN_loss: 2.8415 - output_A_loss: 2.6901 - output_B1_loss: 1.6797 - val_loss: 1.6077 - val_output_RNN_loss: 2.8494 - val_output_A_loss: 2.7160 - val_output_B1_loss: 1.6932\n",
      "Epoch 374/1000\n",
      "399/399 [==============================] - 3s 6ms/step - loss: 1.5944 - output_RNN_loss: 2.8404 - output_A_loss: 2.6900 - output_B1_loss: 1.6778 - val_loss: 1.6075 - val_output_RNN_loss: 2.8490 - val_output_A_loss: 2.7149 - val_output_B1_loss: 1.6937\n",
      "Epoch 375/1000\n",
      "399/399 [==============================] - 2s 6ms/step - loss: 1.5937 - output_RNN_loss: 2.8402 - output_A_loss: 2.6880 - output_B1_loss: 1.6776 - val_loss: 1.6088 - val_output_RNN_loss: 2.8478 - val_output_A_loss: 2.7172 - val_output_B1_loss: 1.6960\n",
      "Epoch 376/1000\n",
      "399/399 [==============================] - 2s 6ms/step - loss: 1.5937 - output_RNN_loss: 2.8394 - output_A_loss: 2.6884 - output_B1_loss: 1.6774 - val_loss: 1.6113 - val_output_RNN_loss: 2.8469 - val_output_A_loss: 2.7223 - val_output_B1_loss: 1.6996\n",
      "Epoch 377/1000\n",
      "399/399 [==============================] - 2s 6ms/step - loss: 1.5933 - output_RNN_loss: 2.8388 - output_A_loss: 2.6878 - output_B1_loss: 1.6769 - val_loss: 1.6121 - val_output_RNN_loss: 2.8509 - val_output_A_loss: 2.7268 - val_output_B1_loss: 1.6965\n",
      "Epoch 378/1000\n",
      "399/399 [==============================] - 2s 6ms/step - loss: 1.5927 - output_RNN_loss: 2.8377 - output_A_loss: 2.6871 - output_B1_loss: 1.6760 - val_loss: 1.6063 - val_output_RNN_loss: 2.8464 - val_output_A_loss: 2.7130 - val_output_B1_loss: 1.6925\n",
      "Epoch 379/1000\n",
      "399/399 [==============================] - 3s 6ms/step - loss: 1.5925 - output_RNN_loss: 2.8372 - output_A_loss: 2.6872 - output_B1_loss: 1.6752 - val_loss: 1.6071 - val_output_RNN_loss: 2.8467 - val_output_A_loss: 2.7130 - val_output_B1_loss: 1.6952\n",
      "Epoch 380/1000\n",
      "399/399 [==============================] - 2s 6ms/step - loss: 1.5919 - output_RNN_loss: 2.8367 - output_A_loss: 2.6859 - output_B1_loss: 1.6748 - val_loss: 1.6068 - val_output_RNN_loss: 2.8457 - val_output_A_loss: 2.7119 - val_output_B1_loss: 1.6954\n",
      "Epoch 381/1000\n",
      "399/399 [==============================] - 2s 6ms/step - loss: 1.5915 - output_RNN_loss: 2.8360 - output_A_loss: 2.6859 - output_B1_loss: 1.6737 - val_loss: 1.6079 - val_output_RNN_loss: 2.8442 - val_output_A_loss: 2.7149 - val_output_B1_loss: 1.6968\n",
      "Epoch 382/1000\n",
      "399/399 [==============================] - 3s 6ms/step - loss: 1.5911 - output_RNN_loss: 2.8348 - output_A_loss: 2.6862 - output_B1_loss: 1.6724 - val_loss: 1.6062 - val_output_RNN_loss: 2.8441 - val_output_A_loss: 2.7104 - val_output_B1_loss: 1.6956\n",
      "Epoch 383/1000\n",
      "399/399 [==============================] - 2s 6ms/step - loss: 1.5912 - output_RNN_loss: 2.8341 - output_A_loss: 2.6850 - output_B1_loss: 1.6742 - val_loss: 1.6068 - val_output_RNN_loss: 2.8432 - val_output_A_loss: 2.7132 - val_output_B1_loss: 1.6950\n",
      "Epoch 384/1000\n",
      "399/399 [==============================] - 2s 6ms/step - loss: 1.5909 - output_RNN_loss: 2.8333 - output_A_loss: 2.6855 - output_B1_loss: 1.6730 - val_loss: 1.6080 - val_output_RNN_loss: 2.8421 - val_output_A_loss: 2.7145 - val_output_B1_loss: 1.6981\n",
      "Epoch 385/1000\n",
      "399/399 [==============================] - 2s 6ms/step - loss: 1.5906 - output_RNN_loss: 2.8325 - output_A_loss: 2.6846 - output_B1_loss: 1.6734 - val_loss: 1.6057 - val_output_RNN_loss: 2.8407 - val_output_A_loss: 2.7120 - val_output_B1_loss: 1.6934\n",
      "Epoch 386/1000\n",
      "399/399 [==============================] - 3s 6ms/step - loss: 1.5905 - output_RNN_loss: 2.8319 - output_A_loss: 2.6845 - output_B1_loss: 1.6732 - val_loss: 1.6057 - val_output_RNN_loss: 2.8405 - val_output_A_loss: 2.7099 - val_output_B1_loss: 1.6956\n",
      "Epoch 387/1000\n",
      "399/399 [==============================] - 2s 6ms/step - loss: 1.5900 - output_RNN_loss: 2.8309 - output_A_loss: 2.6832 - output_B1_loss: 1.6732 - val_loss: 1.6050 - val_output_RNN_loss: 2.8404 - val_output_A_loss: 2.7103 - val_output_B1_loss: 1.6929\n",
      "Epoch 388/1000\n",
      "399/399 [==============================] - 2s 6ms/step - loss: 1.5895 - output_RNN_loss: 2.8306 - output_A_loss: 2.6838 - output_B1_loss: 1.6709 - val_loss: 1.6034 - val_output_RNN_loss: 2.8385 - val_output_A_loss: 2.7111 - val_output_B1_loss: 1.6876\n",
      "Epoch 389/1000\n",
      "399/399 [==============================] - 2s 6ms/step - loss: 1.5893 - output_RNN_loss: 2.8292 - output_A_loss: 2.6830 - output_B1_loss: 1.6715 - val_loss: 1.6028 - val_output_RNN_loss: 2.8391 - val_output_A_loss: 2.7063 - val_output_B1_loss: 1.6899\n",
      "Epoch 390/1000\n",
      "399/399 [==============================] - 3s 6ms/step - loss: 1.5891 - output_RNN_loss: 2.8295 - output_A_loss: 2.6818 - output_B1_loss: 1.6720 - val_loss: 1.6024 - val_output_RNN_loss: 2.8365 - val_output_A_loss: 2.7084 - val_output_B1_loss: 1.6874\n",
      "Epoch 391/1000\n",
      "399/399 [==============================] - 3s 7ms/step - loss: 1.5888 - output_RNN_loss: 2.8277 - output_A_loss: 2.6815 - output_B1_loss: 1.6720 - val_loss: 1.6046 - val_output_RNN_loss: 2.8375 - val_output_A_loss: 2.7088 - val_output_B1_loss: 1.6941\n",
      "Epoch 392/1000\n",
      "399/399 [==============================] - 3s 6ms/step - loss: 1.5881 - output_RNN_loss: 2.8274 - output_A_loss: 2.6823 - output_B1_loss: 1.6690 - val_loss: 1.6016 - val_output_RNN_loss: 2.8354 - val_output_A_loss: 2.7067 - val_output_B1_loss: 1.6869\n",
      "Epoch 393/1000\n",
      "399/399 [==============================] - 3s 7ms/step - loss: 1.5882 - output_RNN_loss: 2.8270 - output_A_loss: 2.6808 - output_B1_loss: 1.6710 - val_loss: 1.6021 - val_output_RNN_loss: 2.8351 - val_output_A_loss: 2.7067 - val_output_B1_loss: 1.6887\n",
      "Epoch 394/1000\n",
      "399/399 [==============================] - 3s 7ms/step - loss: 1.5876 - output_RNN_loss: 2.8256 - output_A_loss: 2.6804 - output_B1_loss: 1.6698 - val_loss: 1.6037 - val_output_RNN_loss: 2.8341 - val_output_A_loss: 2.7116 - val_output_B1_loss: 1.6894\n",
      "Epoch 395/1000\n",
      "399/399 [==============================] - 3s 7ms/step - loss: 1.5878 - output_RNN_loss: 2.8260 - output_A_loss: 2.6808 - output_B1_loss: 1.6697 - val_loss: 1.6033 - val_output_RNN_loss: 2.8343 - val_output_A_loss: 2.7090 - val_output_B1_loss: 1.6906\n",
      "Epoch 396/1000\n",
      "399/399 [==============================] - 3s 7ms/step - loss: 1.5873 - output_RNN_loss: 2.8244 - output_A_loss: 2.6796 - output_B1_loss: 1.6701 - val_loss: 1.6070 - val_output_RNN_loss: 2.8348 - val_output_A_loss: 2.7148 - val_output_B1_loss: 1.6970\n",
      "Epoch 397/1000\n",
      "399/399 [==============================] - 3s 7ms/step - loss: 1.5868 - output_RNN_loss: 2.8236 - output_A_loss: 2.6790 - output_B1_loss: 1.6692 - val_loss: 1.6016 - val_output_RNN_loss: 2.8318 - val_output_A_loss: 2.7109 - val_output_B1_loss: 1.6839\n",
      "Epoch 398/1000\n",
      "399/399 [==============================] - 3s 6ms/step - loss: 1.5865 - output_RNN_loss: 2.8231 - output_A_loss: 2.6783 - output_B1_loss: 1.6690 - val_loss: 1.6017 - val_output_RNN_loss: 2.8314 - val_output_A_loss: 2.7084 - val_output_B1_loss: 1.6867\n"
     ]
    },
    {
     "name": "stdout",
     "output_type": "stream",
     "text": [
      "Epoch 399/1000\n",
      "399/399 [==============================] - 2s 6ms/step - loss: 1.5864 - output_RNN_loss: 2.8223 - output_A_loss: 2.6780 - output_B1_loss: 1.6692 - val_loss: 1.6018 - val_output_RNN_loss: 2.8308 - val_output_A_loss: 2.7104 - val_output_B1_loss: 1.6855\n",
      "Epoch 400/1000\n",
      "399/399 [==============================] - 3s 6ms/step - loss: 1.5862 - output_RNN_loss: 2.8221 - output_A_loss: 2.6778 - output_B1_loss: 1.6689 - val_loss: 1.6006 - val_output_RNN_loss: 2.8296 - val_output_A_loss: 2.7060 - val_output_B1_loss: 1.6861\n",
      "Epoch 401/1000\n",
      "399/399 [==============================] - 3s 6ms/step - loss: 1.5856 - output_RNN_loss: 2.8209 - output_A_loss: 2.6776 - output_B1_loss: 1.6673 - val_loss: 1.5993 - val_output_RNN_loss: 2.8284 - val_output_A_loss: 2.7023 - val_output_B1_loss: 1.6858\n",
      "Epoch 402/1000\n",
      "399/399 [==============================] - 2s 6ms/step - loss: 1.5859 - output_RNN_loss: 2.8201 - output_A_loss: 2.6794 - output_B1_loss: 1.6670 - val_loss: 1.5996 - val_output_RNN_loss: 2.8276 - val_output_A_loss: 2.7047 - val_output_B1_loss: 1.6847\n",
      "Epoch 403/1000\n",
      "399/399 [==============================] - 2s 6ms/step - loss: 1.5850 - output_RNN_loss: 2.8193 - output_A_loss: 2.6763 - output_B1_loss: 1.6673 - val_loss: 1.6005 - val_output_RNN_loss: 2.8280 - val_output_A_loss: 2.7040 - val_output_B1_loss: 1.6882\n",
      "Epoch 404/1000\n",
      "399/399 [==============================] - 2s 6ms/step - loss: 1.5848 - output_RNN_loss: 2.8190 - output_A_loss: 2.6762 - output_B1_loss: 1.6669 - val_loss: 1.6001 - val_output_RNN_loss: 2.8266 - val_output_A_loss: 2.7046 - val_output_B1_loss: 1.6867\n",
      "Epoch 405/1000\n",
      "399/399 [==============================] - 2s 6ms/step - loss: 1.5847 - output_RNN_loss: 2.8171 - output_A_loss: 2.6779 - output_B1_loss: 1.6654 - val_loss: 1.5996 - val_output_RNN_loss: 2.8277 - val_output_A_loss: 2.7031 - val_output_B1_loss: 1.6864\n",
      "Epoch 406/1000\n",
      "399/399 [==============================] - 3s 6ms/step - loss: 1.5844 - output_RNN_loss: 2.8173 - output_A_loss: 2.6761 - output_B1_loss: 1.6660 - val_loss: 1.6029 - val_output_RNN_loss: 2.8268 - val_output_A_loss: 2.7066 - val_output_B1_loss: 1.6941\n",
      "Epoch 407/1000\n",
      "399/399 [==============================] - 3s 7ms/step - loss: 1.5841 - output_RNN_loss: 2.8163 - output_A_loss: 2.6758 - output_B1_loss: 1.6657 - val_loss: 1.5982 - val_output_RNN_loss: 2.8251 - val_output_A_loss: 2.7044 - val_output_B1_loss: 1.6810\n",
      "Epoch 408/1000\n",
      "399/399 [==============================] - 3s 6ms/step - loss: 1.5836 - output_RNN_loss: 2.8155 - output_A_loss: 2.6747 - output_B1_loss: 1.6654 - val_loss: 1.5990 - val_output_RNN_loss: 2.8251 - val_output_A_loss: 2.7021 - val_output_B1_loss: 1.6863\n",
      "Epoch 409/1000\n",
      "399/399 [==============================] - 3s 6ms/step - loss: 1.5836 - output_RNN_loss: 2.8153 - output_A_loss: 2.6747 - output_B1_loss: 1.6656 - val_loss: 1.5980 - val_output_RNN_loss: 2.8240 - val_output_A_loss: 2.7008 - val_output_B1_loss: 1.6843\n",
      "Epoch 410/1000\n",
      "399/399 [==============================] - 2s 6ms/step - loss: 1.5833 - output_RNN_loss: 2.8145 - output_A_loss: 2.6748 - output_B1_loss: 1.6647 - val_loss: 1.5985 - val_output_RNN_loss: 2.8234 - val_output_A_loss: 2.6989 - val_output_B1_loss: 1.6883\n",
      "Epoch 411/1000\n",
      "399/399 [==============================] - 3s 6ms/step - loss: 1.5828 - output_RNN_loss: 2.8137 - output_A_loss: 2.6737 - output_B1_loss: 1.6642 - val_loss: 1.6025 - val_output_RNN_loss: 2.8215 - val_output_A_loss: 2.7174 - val_output_B1_loss: 1.6838\n",
      "Epoch 412/1000\n",
      "399/399 [==============================] - 3s 7ms/step - loss: 1.5826 - output_RNN_loss: 2.8134 - output_A_loss: 2.6730 - output_B1_loss: 1.6646 - val_loss: 1.5976 - val_output_RNN_loss: 2.8220 - val_output_A_loss: 2.7003 - val_output_B1_loss: 1.6845\n",
      "Epoch 413/1000\n",
      "399/399 [==============================] - 12s 30ms/step - loss: 1.5826 - output_RNN_loss: 2.8116 - output_A_loss: 2.6744 - output_B1_loss: 1.6636 - val_loss: 1.5975 - val_output_RNN_loss: 2.8225 - val_output_A_loss: 2.6984 - val_output_B1_loss: 1.6856\n",
      "Epoch 414/1000\n",
      "399/399 [==============================] - 11s 27ms/step - loss: 1.5821 - output_RNN_loss: 2.8116 - output_A_loss: 2.6718 - output_B1_loss: 1.6648 - val_loss: 1.6008 - val_output_RNN_loss: 2.8221 - val_output_A_loss: 2.7052 - val_output_B1_loss: 1.6902\n",
      "Epoch 415/1000\n",
      "399/399 [==============================] - 10s 25ms/step - loss: 1.5819 - output_RNN_loss: 2.8110 - output_A_loss: 2.6726 - output_B1_loss: 1.6635 - val_loss: 1.5959 - val_output_RNN_loss: 2.8214 - val_output_A_loss: 2.6987 - val_output_B1_loss: 1.6806\n",
      "Epoch 416/1000\n",
      "399/399 [==============================] - 10s 25ms/step - loss: 1.5816 - output_RNN_loss: 2.8102 - output_A_loss: 2.6725 - output_B1_loss: 1.6627 - val_loss: 1.5963 - val_output_RNN_loss: 2.8192 - val_output_A_loss: 2.6972 - val_output_B1_loss: 1.6839\n",
      "Epoch 417/1000\n",
      "399/399 [==============================] - 10s 25ms/step - loss: 1.5812 - output_RNN_loss: 2.8098 - output_A_loss: 2.6713 - output_B1_loss: 1.6626 - val_loss: 1.5993 - val_output_RNN_loss: 2.8176 - val_output_A_loss: 2.7085 - val_output_B1_loss: 1.6832\n",
      "Epoch 418/1000\n",
      "399/399 [==============================] - 10s 25ms/step - loss: 1.5806 - output_RNN_loss: 2.8083 - output_A_loss: 2.6707 - output_B1_loss: 1.6618 - val_loss: 1.5955 - val_output_RNN_loss: 2.8184 - val_output_A_loss: 2.6977 - val_output_B1_loss: 1.6812\n",
      "Epoch 419/1000\n",
      "399/399 [==============================] - 10s 25ms/step - loss: 1.5806 - output_RNN_loss: 2.8079 - output_A_loss: 2.6703 - output_B1_loss: 1.6623 - val_loss: 1.5965 - val_output_RNN_loss: 2.8185 - val_output_A_loss: 2.6985 - val_output_B1_loss: 1.6836\n",
      "Epoch 420/1000\n",
      "399/399 [==============================] - 11s 27ms/step - loss: 1.5805 - output_RNN_loss: 2.8077 - output_A_loss: 2.6705 - output_B1_loss: 1.6621 - val_loss: 1.5966 - val_output_RNN_loss: 2.8159 - val_output_A_loss: 2.7038 - val_output_B1_loss: 1.6794\n",
      "Epoch 421/1000\n",
      "399/399 [==============================] - 10s 25ms/step - loss: 1.5802 - output_RNN_loss: 2.8064 - output_A_loss: 2.6693 - output_B1_loss: 1.6624 - val_loss: 1.5960 - val_output_RNN_loss: 2.8158 - val_output_A_loss: 2.6981 - val_output_B1_loss: 1.6832\n",
      "Epoch 422/1000\n",
      "399/399 [==============================] - 10s 25ms/step - loss: 1.5796 - output_RNN_loss: 2.8059 - output_A_loss: 2.6698 - output_B1_loss: 1.6603 - val_loss: 1.5947 - val_output_RNN_loss: 2.8153 - val_output_A_loss: 2.6986 - val_output_B1_loss: 1.6787\n",
      "Epoch 423/1000\n",
      "399/399 [==============================] - 10s 25ms/step - loss: 1.5791 - output_RNN_loss: 2.8053 - output_A_loss: 2.6683 - output_B1_loss: 1.6604 - val_loss: 1.5963 - val_output_RNN_loss: 2.8150 - val_output_A_loss: 2.7023 - val_output_B1_loss: 1.6805\n",
      "Epoch 424/1000\n",
      "399/399 [==============================] - 10s 25ms/step - loss: 1.5794 - output_RNN_loss: 2.8050 - output_A_loss: 2.6695 - output_B1_loss: 1.6600 - val_loss: 1.5980 - val_output_RNN_loss: 2.8144 - val_output_A_loss: 2.7001 - val_output_B1_loss: 1.6885\n",
      "Epoch 425/1000\n",
      "399/399 [==============================] - 11s 27ms/step - loss: 1.5784 - output_RNN_loss: 2.8046 - output_A_loss: 2.6665 - output_B1_loss: 1.6599 - val_loss: 1.5956 - val_output_RNN_loss: 2.8144 - val_output_A_loss: 2.6986 - val_output_B1_loss: 1.6820\n",
      "Epoch 426/1000\n",
      "399/399 [==============================] - 10s 25ms/step - loss: 1.5785 - output_RNN_loss: 2.8030 - output_A_loss: 2.6683 - output_B1_loss: 1.6592 - val_loss: 1.5935 - val_output_RNN_loss: 2.8128 - val_output_A_loss: 2.6949 - val_output_B1_loss: 1.6792\n",
      "Epoch 427/1000\n",
      "399/399 [==============================] - 10s 25ms/step - loss: 1.5784 - output_RNN_loss: 2.8026 - output_A_loss: 2.6661 - output_B1_loss: 1.6610 - val_loss: 1.5993 - val_output_RNN_loss: 2.8115 - val_output_A_loss: 2.7077 - val_output_B1_loss: 1.6859\n",
      "Epoch 428/1000\n",
      "399/399 [==============================] - 10s 25ms/step - loss: 1.5781 - output_RNN_loss: 2.8018 - output_A_loss: 2.6670 - output_B1_loss: 1.6595 - val_loss: 1.5987 - val_output_RNN_loss: 2.8137 - val_output_A_loss: 2.7041 - val_output_B1_loss: 1.6868\n",
      "Epoch 429/1000\n",
      "399/399 [==============================] - 10s 25ms/step - loss: 1.5780 - output_RNN_loss: 2.8011 - output_A_loss: 2.6672 - output_B1_loss: 1.6590 - val_loss: 1.5937 - val_output_RNN_loss: 2.8118 - val_output_A_loss: 2.6955 - val_output_B1_loss: 1.6796\n"
     ]
    },
    {
     "name": "stdout",
     "output_type": "stream",
     "text": [
      "Epoch 430/1000\n",
      "399/399 [==============================] - 10s 25ms/step - loss: 1.5779 - output_RNN_loss: 2.8006 - output_A_loss: 2.6667 - output_B1_loss: 1.6593 - val_loss: 1.5939 - val_output_RNN_loss: 2.8098 - val_output_A_loss: 2.6947 - val_output_B1_loss: 1.6818\n",
      "Epoch 431/1000\n",
      "399/399 [==============================] - 10s 25ms/step - loss: 1.5777 - output_RNN_loss: 2.8001 - output_A_loss: 2.6664 - output_B1_loss: 1.6592 - val_loss: 1.5925 - val_output_RNN_loss: 2.8093 - val_output_A_loss: 2.6935 - val_output_B1_loss: 1.6785\n",
      "Epoch 432/1000\n",
      "399/399 [==============================] - 10s 25ms/step - loss: 1.5769 - output_RNN_loss: 2.7990 - output_A_loss: 2.6652 - output_B1_loss: 1.6582 - val_loss: 1.5946 - val_output_RNN_loss: 2.8080 - val_output_A_loss: 2.6994 - val_output_B1_loss: 1.6799\n",
      "Epoch 433/1000\n",
      "399/399 [==============================] - 10s 25ms/step - loss: 1.5774 - output_RNN_loss: 2.7981 - output_A_loss: 2.6664 - output_B1_loss: 1.6588 - val_loss: 1.5916 - val_output_RNN_loss: 2.8089 - val_output_A_loss: 2.6914 - val_output_B1_loss: 1.6777\n",
      "Epoch 434/1000\n",
      "399/399 [==============================] - 10s 25ms/step - loss: 1.5763 - output_RNN_loss: 2.7975 - output_A_loss: 2.6640 - output_B1_loss: 1.6578 - val_loss: 1.5958 - val_output_RNN_loss: 2.8079 - val_output_A_loss: 2.6986 - val_output_B1_loss: 1.6849NN_loss: 2\n",
      "Epoch 435/1000\n",
      "399/399 [==============================] - 10s 25ms/step - loss: 1.5764 - output_RNN_loss: 2.7970 - output_A_loss: 2.6653 - output_B1_loss: 1.6569 - val_loss: 1.5912 - val_output_RNN_loss: 2.8067 - val_output_A_loss: 2.6921 - val_output_B1_loss: 1.6762\n",
      "Epoch 436/1000\n",
      "399/399 [==============================] - 10s 24ms/step - loss: 1.5762 - output_RNN_loss: 2.7965 - output_A_loss: 2.6649 - output_B1_loss: 1.6570 - val_loss: 1.5936 - val_output_RNN_loss: 2.8081 - val_output_A_loss: 2.6944 - val_output_B1_loss: 1.6816\n",
      "Epoch 437/1000\n",
      "399/399 [==============================] - 10s 25ms/step - loss: 1.5758 - output_RNN_loss: 2.7958 - output_A_loss: 2.6641 - output_B1_loss: 1.6566 - val_loss: 1.5911 - val_output_RNN_loss: 2.8066 - val_output_A_loss: 2.6925 - val_output_B1_loss: 1.6755\n",
      "Epoch 438/1000\n",
      "399/399 [==============================] - 11s 26ms/step - loss: 1.5755 - output_RNN_loss: 2.7954 - output_A_loss: 2.6644 - output_B1_loss: 1.6554 - val_loss: 1.5920 - val_output_RNN_loss: 2.8052 - val_output_A_loss: 2.6945 - val_output_B1_loss: 1.6771\n",
      "Epoch 439/1000\n",
      "399/399 [==============================] - 10s 25ms/step - loss: 1.5751 - output_RNN_loss: 2.7942 - output_A_loss: 2.6629 - output_B1_loss: 1.6560 - val_loss: 1.5981 - val_output_RNN_loss: 2.8067 - val_output_A_loss: 2.7020 - val_output_B1_loss: 1.6893\n",
      "Epoch 440/1000\n",
      "399/399 [==============================] - 10s 25ms/step - loss: 1.5752 - output_RNN_loss: 2.7936 - output_A_loss: 2.6643 - output_B1_loss: 1.6551 - val_loss: 1.5908 - val_output_RNN_loss: 2.8032 - val_output_A_loss: 2.6931 - val_output_B1_loss: 1.6751\n",
      "Epoch 441/1000\n",
      "399/399 [==============================] - 10s 25ms/step - loss: 1.5750 - output_RNN_loss: 2.7925 - output_A_loss: 2.6633 - output_B1_loss: 1.6559 - val_loss: 1.5951 - val_output_RNN_loss: 2.8035 - val_output_A_loss: 2.6940 - val_output_B1_loss: 1.6884\n",
      "Epoch 442/1000\n",
      "399/399 [==============================] - 10s 25ms/step - loss: 1.5747 - output_RNN_loss: 2.7926 - output_A_loss: 2.6633 - output_B1_loss: 1.6549 - val_loss: 1.5905 - val_output_RNN_loss: 2.8023 - val_output_A_loss: 2.6920 - val_output_B1_loss: 1.6755\n",
      "Epoch 443/1000\n",
      "399/399 [==============================] - 10s 25ms/step - loss: 1.5741 - output_RNN_loss: 2.7919 - output_A_loss: 2.6617 - output_B1_loss: 1.6547 - val_loss: 1.5926 - val_output_RNN_loss: 2.8046 - val_output_A_loss: 2.6914 - val_output_B1_loss: 1.6823\n",
      "Epoch 444/1000\n",
      "399/399 [==============================] - 10s 25ms/step - loss: 1.5739 - output_RNN_loss: 2.7913 - output_A_loss: 2.6619 - output_B1_loss: 1.6538 - val_loss: 1.5915 - val_output_RNN_loss: 2.8019 - val_output_A_loss: 2.6920 - val_output_B1_loss: 1.6790\n",
      "Epoch 445/1000\n",
      "399/399 [==============================] - 10s 25ms/step - loss: 1.5734 - output_RNN_loss: 2.7900 - output_A_loss: 2.6599 - output_B1_loss: 1.6549 - val_loss: 1.5910 - val_output_RNN_loss: 2.8030 - val_output_A_loss: 2.6911 - val_output_B1_loss: 1.6779\n",
      "Epoch 446/1000\n",
      "399/399 [==============================] - 10s 25ms/step - loss: 1.5733 - output_RNN_loss: 2.7901 - output_A_loss: 2.6603 - output_B1_loss: 1.6539 - val_loss: 1.5902 - val_output_RNN_loss: 2.8010 - val_output_A_loss: 2.6900 - val_output_B1_loss: 1.6771\n",
      "Epoch 447/1000\n",
      "399/399 [==============================] - 10s 25ms/step - loss: 1.5734 - output_RNN_loss: 2.7895 - output_A_loss: 2.6603 - output_B1_loss: 1.6545 - val_loss: 1.6044 - val_output_RNN_loss: 2.7978 - val_output_A_loss: 2.7242 - val_output_B1_loss: 1.6911\n",
      "Epoch 448/1000\n",
      "399/399 [==============================] - 10s 25ms/step - loss: 1.5728 - output_RNN_loss: 2.7887 - output_A_loss: 2.6589 - output_B1_loss: 1.6543 - val_loss: 1.5882 - val_output_RNN_loss: 2.7984 - val_output_A_loss: 2.6882 - val_output_B1_loss: 1.6729\n",
      "Epoch 449/1000\n",
      "399/399 [==============================] - 10s 25ms/step - loss: 1.5728 - output_RNN_loss: 2.7879 - output_A_loss: 2.6593 - output_B1_loss: 1.6542 - val_loss: 1.5911 - val_output_RNN_loss: 2.7989 - val_output_A_loss: 2.6900 - val_output_B1_loss: 1.6805\n",
      "Epoch 450/1000\n",
      "399/399 [==============================] - 10s 25ms/step - loss: 1.5723 - output_RNN_loss: 2.7871 - output_A_loss: 2.6594 - output_B1_loss: 1.6526 - val_loss: 1.5901 - val_output_RNN_loss: 2.8000 - val_output_A_loss: 2.6892 - val_output_B1_loss: 1.6777\n",
      "Epoch 451/1000\n",
      "399/399 [==============================] - 10s 25ms/step - loss: 1.5724 - output_RNN_loss: 2.7864 - output_A_loss: 2.6588 - output_B1_loss: 1.6537 - val_loss: 1.5875 - val_output_RNN_loss: 2.7973 - val_output_A_loss: 2.6855 - val_output_B1_loss: 1.6737\n",
      "Epoch 452/1000\n",
      "399/399 [==============================] - 10s 25ms/step - loss: 1.5720 - output_RNN_loss: 2.7855 - output_A_loss: 2.6580 - output_B1_loss: 1.6535 - val_loss: 1.5878 - val_output_RNN_loss: 2.7976 - val_output_A_loss: 2.6852 - val_output_B1_loss: 1.6750\n",
      "Epoch 453/1000\n",
      "399/399 [==============================] - 10s 25ms/step - loss: 1.5717 - output_RNN_loss: 2.7852 - output_A_loss: 2.6580 - output_B1_loss: 1.6525 - val_loss: 1.5892 - val_output_RNN_loss: 2.7976 - val_output_A_loss: 2.6873 - val_output_B1_loss: 1.6774\n",
      "Epoch 454/1000\n",
      "399/399 [==============================] - 10s 25ms/step - loss: 1.5716 - output_RNN_loss: 2.7852 - output_A_loss: 2.6578 - output_B1_loss: 1.6524 - val_loss: 1.5895 - val_output_RNN_loss: 2.7978 - val_output_A_loss: 2.6913 - val_output_B1_loss: 1.6743\n",
      "Epoch 455/1000\n",
      "399/399 [==============================] - 10s 25ms/step - loss: 1.5714 - output_RNN_loss: 2.7843 - output_A_loss: 2.6571 - output_B1_loss: 1.6527 - val_loss: 1.5902 - val_output_RNN_loss: 2.7954 - val_output_A_loss: 2.6893 - val_output_B1_loss: 1.6797\n",
      "Epoch 456/1000\n",
      "399/399 [==============================] - 10s 25ms/step - loss: 1.5713 - output_RNN_loss: 2.7837 - output_A_loss: 2.6573 - output_B1_loss: 1.6523 - val_loss: 1.5899 - val_output_RNN_loss: 2.7944 - val_output_A_loss: 2.6894 - val_output_B1_loss: 1.6789\n",
      "Epoch 457/1000\n",
      "399/399 [==============================] - 10s 25ms/step - loss: 1.5710 - output_RNN_loss: 2.7823 - output_A_loss: 2.6569 - output_B1_loss: 1.6523 - val_loss: 1.5867 - val_output_RNN_loss: 2.7945 - val_output_A_loss: 2.6853 - val_output_B1_loss: 1.6723\n",
      "Epoch 458/1000\n",
      "399/399 [==============================] - 10s 26ms/step - loss: 1.5706 - output_RNN_loss: 2.7821 - output_A_loss: 2.6568 - output_B1_loss: 1.6510 - val_loss: 1.5886 - val_output_RNN_loss: 2.7934 - val_output_A_loss: 2.6870 - val_output_B1_loss: 1.6772\n",
      "Epoch 459/1000\n",
      "399/399 [==============================] - 10s 26ms/step - loss: 1.5703 - output_RNN_loss: 2.7815 - output_A_loss: 2.6569 - output_B1_loss: 1.6503 - val_loss: 1.5869 - val_output_RNN_loss: 2.7924 - val_output_A_loss: 2.6867 - val_output_B1_loss: 1.6721\n",
      "Epoch 460/1000\n",
      "399/399 [==============================] - 10s 25ms/step - loss: 1.5698 - output_RNN_loss: 2.7806 - output_A_loss: 2.6559 - output_B1_loss: 1.6501 - val_loss: 1.5896 - val_output_RNN_loss: 2.7942 - val_output_A_loss: 2.6885 - val_output_B1_loss: 1.6786\n",
      "Epoch 461/1000\n",
      "399/399 [==============================] - 10s 25ms/step - loss: 1.5697 - output_RNN_loss: 2.7806 - output_A_loss: 2.6544 - output_B1_loss: 1.6510 - val_loss: 1.5882 - val_output_RNN_loss: 2.7929 - val_output_A_loss: 2.6856 - val_output_B1_loss: 1.6776\n",
      "Epoch 462/1000\n",
      "399/399 [==============================] - 10s 25ms/step - loss: 1.5695 - output_RNN_loss: 2.7802 - output_A_loss: 2.6555 - output_B1_loss: 1.6494 - val_loss: 1.5883 - val_output_RNN_loss: 2.7900 - val_output_A_loss: 2.6885 - val_output_B1_loss: 1.6757\n",
      "Epoch 463/1000\n",
      "399/399 [==============================] - 10s 25ms/step - loss: 1.5692 - output_RNN_loss: 2.7783 - output_A_loss: 2.6543 - output_B1_loss: 1.6503 - val_loss: 1.5904 - val_output_RNN_loss: 2.7917 - val_output_A_loss: 2.6911 - val_output_B1_loss: 1.6796\n",
      "Epoch 464/1000\n",
      "399/399 [==============================] - 10s 25ms/step - loss: 1.5690 - output_RNN_loss: 2.7785 - output_A_loss: 2.6547 - output_B1_loss: 1.6490 - val_loss: 1.5861 - val_output_RNN_loss: 2.7889 - val_output_A_loss: 2.6831 - val_output_B1_loss: 1.6743\n",
      "Epoch 465/1000\n",
      "399/399 [==============================] - 10s 25ms/step - loss: 1.5689 - output_RNN_loss: 2.7776 - output_A_loss: 2.6542 - output_B1_loss: 1.6495 - val_loss: 1.5854 - val_output_RNN_loss: 2.7898 - val_output_A_loss: 2.6817 - val_output_B1_loss: 1.6730\n",
      "Epoch 466/1000\n",
      "399/399 [==============================] - 10s 25ms/step - loss: 1.5689 - output_RNN_loss: 2.7771 - output_A_loss: 2.6557 - output_B1_loss: 1.6483 - val_loss: 1.5845 - val_output_RNN_loss: 2.7880 - val_output_A_loss: 2.6842 - val_output_B1_loss: 1.6681\n",
      "Epoch 467/1000\n",
      "399/399 [==============================] - 10s 25ms/step - loss: 1.5687 - output_RNN_loss: 2.7768 - output_A_loss: 2.6539 - output_B1_loss: 1.6496 - val_loss: 1.5858 - val_output_RNN_loss: 2.7886 - val_output_A_loss: 2.6830 - val_output_B1_loss: 1.6734\n",
      "Epoch 468/1000\n",
      "399/399 [==============================] - 10s 25ms/step - loss: 1.5687 - output_RNN_loss: 2.7750 - output_A_loss: 2.6548 - output_B1_loss: 1.6493 - val_loss: 1.5836 - val_output_RNN_loss: 2.7902 - val_output_A_loss: 2.6784 - val_output_B1_loss: 1.6703\n",
      "Epoch 469/1000\n",
      "399/399 [==============================] - 10s 25ms/step - loss: 1.5682 - output_RNN_loss: 2.7752 - output_A_loss: 2.6526 - output_B1_loss: 1.6497 - val_loss: 1.5858 - val_output_RNN_loss: 2.7879 - val_output_A_loss: 2.6847 - val_output_B1_loss: 1.6722\n",
      "Epoch 470/1000\n",
      "399/399 [==============================] - 10s 26ms/step - loss: 1.5676 - output_RNN_loss: 2.7748 - output_A_loss: 2.6526 - output_B1_loss: 1.6478 - val_loss: 1.5846 - val_output_RNN_loss: 2.7870 - val_output_A_loss: 2.6825 - val_output_B1_loss: 1.6704\n",
      "Epoch 471/1000\n",
      "399/399 [==============================] - 10s 24ms/step - loss: 1.5673 - output_RNN_loss: 2.7745 - output_A_loss: 2.6521 - output_B1_loss: 1.6474 - val_loss: 1.5856 - val_output_RNN_loss: 2.7852 - val_output_A_loss: 2.6871 - val_output_B1_loss: 1.6699\n",
      "Epoch 472/1000\n",
      "399/399 [==============================] - 10s 25ms/step - loss: 1.5674 - output_RNN_loss: 2.7734 - output_A_loss: 2.6521 - output_B1_loss: 1.6480 - val_loss: 1.5868 - val_output_RNN_loss: 2.7856 - val_output_A_loss: 2.6842 - val_output_B1_loss: 1.6767\n",
      "Epoch 473/1000\n",
      "399/399 [==============================] - 10s 25ms/step - loss: 1.5674 - output_RNN_loss: 2.7722 - output_A_loss: 2.6534 - output_B1_loss: 1.6472 - val_loss: 1.5841 - val_output_RNN_loss: 2.7851 - val_output_A_loss: 2.6821 - val_output_B1_loss: 1.6696\n",
      "Epoch 474/1000\n",
      "399/399 [==============================] - 10s 25ms/step - loss: 1.5669 - output_RNN_loss: 2.7722 - output_A_loss: 2.6518 - output_B1_loss: 1.6470 - val_loss: 1.5837 - val_output_RNN_loss: 2.7846 - val_output_A_loss: 2.6801 - val_output_B1_loss: 1.6709\n",
      "Epoch 475/1000\n",
      "399/399 [==============================] - 10s 25ms/step - loss: 1.5671 - output_RNN_loss: 2.7716 - output_A_loss: 2.6523 - output_B1_loss: 1.6473 - val_loss: 1.5854 - val_output_RNN_loss: 2.7842 - val_output_A_loss: 2.6840 - val_output_B1_loss: 1.6724\n",
      "Epoch 476/1000\n",
      "399/399 [==============================] - 10s 26ms/step - loss: 1.5663 - output_RNN_loss: 2.7713 - output_A_loss: 2.6499 - output_B1_loss: 1.6474 - val_loss: 1.5865 - val_output_RNN_loss: 2.7824 - val_output_A_loss: 2.6892 - val_output_B1_loss: 1.6717\n",
      "Epoch 477/1000\n",
      "399/399 [==============================] - 10s 25ms/step - loss: 1.5660 - output_RNN_loss: 2.7697 - output_A_loss: 2.6510 - output_B1_loss: 1.6458 - val_loss: 1.5828 - val_output_RNN_loss: 2.7853 - val_output_A_loss: 2.6786 - val_output_B1_loss: 1.6691\n",
      "Epoch 478/1000\n",
      "399/399 [==============================] - 10s 25ms/step - loss: 1.5658 - output_RNN_loss: 2.7704 - output_A_loss: 2.6499 - output_B1_loss: 1.6459 - val_loss: 1.5829 - val_output_RNN_loss: 2.7817 - val_output_A_loss: 2.6813 - val_output_B1_loss: 1.6677oss: 2.7705 - output_A\n",
      "Epoch 479/1000\n",
      "399/399 [==============================] - 10s 25ms/step - loss: 1.5657 - output_RNN_loss: 2.7689 - output_A_loss: 2.6506 - output_B1_loss: 1.6453 - val_loss: 1.5848 - val_output_RNN_loss: 2.7815 - val_output_A_loss: 2.6829 - val_output_B1_loss: 1.6725\n",
      "Epoch 480/1000\n",
      "399/399 [==============================] - 10s 25ms/step - loss: 1.5658 - output_RNN_loss: 2.7685 - output_A_loss: 2.6504 - output_B1_loss: 1.6463 - val_loss: 1.5819 - val_output_RNN_loss: 2.7801 - val_output_A_loss: 2.6784 - val_output_B1_loss: 1.6679\n",
      "Epoch 481/1000\n",
      "399/399 [==============================] - 10s 25ms/step - loss: 1.5654 - output_RNN_loss: 2.7679 - output_A_loss: 2.6497 - output_B1_loss: 1.6456 - val_loss: 1.5816 - val_output_RNN_loss: 2.7804 - val_output_A_loss: 2.6767 - val_output_B1_loss: 1.6684\n",
      "Epoch 482/1000\n",
      "399/399 [==============================] - 10s 25ms/step - loss: 1.5650 - output_RNN_loss: 2.7676 - output_A_loss: 2.6497 - output_B1_loss: 1.6445 - val_loss: 1.5817 - val_output_RNN_loss: 2.7792 - val_output_A_loss: 2.6758 - val_output_B1_loss: 1.6701\n",
      "Epoch 483/1000\n",
      "399/399 [==============================] - 10s 25ms/step - loss: 1.5647 - output_RNN_loss: 2.7669 - output_A_loss: 2.6490 - output_B1_loss: 1.6443 - val_loss: 1.5823 - val_output_RNN_loss: 2.7783 - val_output_A_loss: 2.6830 - val_output_B1_loss: 1.6651\n",
      "Epoch 484/1000\n",
      "399/399 [==============================] - 10s 25ms/step - loss: 1.5650 - output_RNN_loss: 2.7664 - output_A_loss: 2.6494 - output_B1_loss: 1.6450 - val_loss: 1.5816 - val_output_RNN_loss: 2.7789 - val_output_A_loss: 2.6770 - val_output_B1_loss: 1.6687\n",
      "Epoch 485/1000\n",
      "399/399 [==============================] - 10s 25ms/step - loss: 1.5645 - output_RNN_loss: 2.7652 - output_A_loss: 2.6485 - output_B1_loss: 1.6447 - val_loss: 1.5848 - val_output_RNN_loss: 2.7803 - val_output_A_loss: 2.6809 - val_output_B1_loss: 1.6750\n",
      "Epoch 486/1000\n",
      "399/399 [==============================] - 10s 25ms/step - loss: 1.5641 - output_RNN_loss: 2.7652 - output_A_loss: 2.6480 - output_B1_loss: 1.6440 - val_loss: 1.5826 - val_output_RNN_loss: 2.7770 - val_output_A_loss: 2.6808 - val_output_B1_loss: 1.6688\n",
      "Epoch 487/1000\n",
      "399/399 [==============================] - 10s 25ms/step - loss: 1.5643 - output_RNN_loss: 2.7642 - output_A_loss: 2.6476 - output_B1_loss: 1.6455 - val_loss: 1.5811 - val_output_RNN_loss: 2.7769 - val_output_A_loss: 2.6771 - val_output_B1_loss: 1.6675\n",
      "Epoch 488/1000\n",
      "399/399 [==============================] - 10s 25ms/step - loss: 1.5640 - output_RNN_loss: 2.7639 - output_A_loss: 2.6475 - output_B1_loss: 1.6446 - val_loss: 1.5802 - val_output_RNN_loss: 2.7750 - val_output_A_loss: 2.6761 - val_output_B1_loss: 1.6661\n",
      "Epoch 489/1000\n",
      "399/399 [==============================] - 11s 26ms/step - loss: 1.5640 - output_RNN_loss: 2.7631 - output_A_loss: 2.6474 - output_B1_loss: 1.6449 - val_loss: 1.5816 - val_output_RNN_loss: 2.7750 - val_output_A_loss: 2.6808 - val_output_B1_loss: 1.6661\n",
      "Epoch 490/1000\n"
     ]
    },
    {
     "name": "stdout",
     "output_type": "stream",
     "text": [
      "399/399 [==============================] - 10s 24ms/step - loss: 1.5633 - output_RNN_loss: 2.7628 - output_A_loss: 2.6471 - output_B1_loss: 1.6431 - val_loss: 1.5807 - val_output_RNN_loss: 2.7754 - val_output_A_loss: 2.6764 - val_output_B1_loss: 1.6675\n",
      "Epoch 491/1000\n",
      "399/399 [==============================] - 10s 25ms/step - loss: 1.5635 - output_RNN_loss: 2.7619 - output_A_loss: 2.6466 - output_B1_loss: 1.6444 - val_loss: 1.5807 - val_output_RNN_loss: 2.7743 - val_output_A_loss: 2.6772 - val_output_B1_loss: 1.6669\n",
      "Epoch 492/1000\n",
      "399/399 [==============================] - 10s 25ms/step - loss: 1.5629 - output_RNN_loss: 2.7616 - output_A_loss: 2.6456 - output_B1_loss: 1.6437 - val_loss: 1.5852 - val_output_RNN_loss: 2.7765 - val_output_A_loss: 2.6838 - val_output_B1_loss: 1.6748\n",
      "Epoch 493/1000\n",
      "399/399 [==============================] - 10s 25ms/step - loss: 1.5628 - output_RNN_loss: 2.7615 - output_A_loss: 2.6459 - output_B1_loss: 1.6431 - val_loss: 1.5816 - val_output_RNN_loss: 2.7743 - val_output_A_loss: 2.6803 - val_output_B1_loss: 1.6671\n",
      "Epoch 494/1000\n",
      "399/399 [==============================] - 10s 25ms/step - loss: 1.5628 - output_RNN_loss: 2.7604 - output_A_loss: 2.6456 - output_B1_loss: 1.6435 - val_loss: 1.5799 - val_output_RNN_loss: 2.7735 - val_output_A_loss: 2.6783 - val_output_B1_loss: 1.6636\n",
      "Epoch 495/1000\n",
      "399/399 [==============================] - 10s 25ms/step - loss: 1.5621 - output_RNN_loss: 2.7601 - output_A_loss: 2.6455 - output_B1_loss: 1.6414 - val_loss: 1.5840 - val_output_RNN_loss: 2.7745 - val_output_A_loss: 2.6890 - val_output_B1_loss: 1.6662\n",
      "Epoch 496/1000\n",
      "399/399 [==============================] - 10s 25ms/step - loss: 1.5620 - output_RNN_loss: 2.7599 - output_A_loss: 2.6442 - output_B1_loss: 1.6424 - val_loss: 1.5823 - val_output_RNN_loss: 2.7728 - val_output_A_loss: 2.6805 - val_output_B1_loss: 1.6695\n",
      "Epoch 497/1000\n",
      "399/399 [==============================] - 10s 25ms/step - loss: 1.5618 - output_RNN_loss: 2.7588 - output_A_loss: 2.6438 - output_B1_loss: 1.6425 - val_loss: 1.5789 - val_output_RNN_loss: 2.7712 - val_output_A_loss: 2.6742 - val_output_B1_loss: 1.6651\n",
      "Epoch 498/1000\n",
      "399/399 [==============================] - 10s 25ms/step - loss: 1.5619 - output_RNN_loss: 2.7580 - output_A_loss: 2.6442 - output_B1_loss: 1.6427 - val_loss: 1.5794 - val_output_RNN_loss: 2.7721 - val_output_A_loss: 2.6762 - val_output_B1_loss: 1.6644\n",
      "Epoch 499/1000\n",
      "399/399 [==============================] - 10s 25ms/step - loss: 1.5618 - output_RNN_loss: 2.7575 - output_A_loss: 2.6446 - output_B1_loss: 1.6421 - val_loss: 1.5884 - val_output_RNN_loss: 2.7762 - val_output_A_loss: 2.6925 - val_output_B1_loss: 1.6766\n",
      "Epoch 500/1000\n",
      "399/399 [==============================] - 10s 24ms/step - loss: 1.5611 - output_RNN_loss: 2.7576 - output_A_loss: 2.6438 - output_B1_loss: 1.6406 - val_loss: 1.5794 - val_output_RNN_loss: 2.7696 - val_output_A_loss: 2.6755 - val_output_B1_loss: 1.6660\n",
      "Epoch 501/1000\n",
      "399/399 [==============================] - 10s 25ms/step - loss: 1.5612 - output_RNN_loss: 2.7564 - output_A_loss: 2.6445 - output_B1_loss: 1.6407 - val_loss: 1.5785 - val_output_RNN_loss: 2.7720 - val_output_A_loss: 2.6717 - val_output_B1_loss: 1.6659\n",
      "Epoch 502/1000\n",
      "399/399 [==============================] - 10s 25ms/step - loss: 1.5609 - output_RNN_loss: 2.7563 - output_A_loss: 2.6427 - output_B1_loss: 1.6417 - val_loss: 1.5777 - val_output_RNN_loss: 2.7698 - val_output_A_loss: 2.6712 - val_output_B1_loss: 1.6644\n",
      "Epoch 503/1000\n",
      "399/399 [==============================] - 10s 24ms/step - loss: 1.5608 - output_RNN_loss: 2.7557 - output_A_loss: 2.6437 - output_B1_loss: 1.6405 - val_loss: 1.5811 - val_output_RNN_loss: 2.7700 - val_output_A_loss: 2.6760 - val_output_B1_loss: 1.6710\n",
      "Epoch 504/1000\n",
      "399/399 [==============================] - 10s 25ms/step - loss: 1.5601 - output_RNN_loss: 2.7549 - output_A_loss: 2.6422 - output_B1_loss: 1.6396 - val_loss: 1.5778 - val_output_RNN_loss: 2.7677 - val_output_A_loss: 2.6726 - val_output_B1_loss: 1.6642\n",
      "Epoch 505/1000\n",
      "399/399 [==============================] - 10s 25ms/step - loss: 1.5604 - output_RNN_loss: 2.7549 - output_A_loss: 2.6428 - output_B1_loss: 1.6402 - val_loss: 1.5775 - val_output_RNN_loss: 2.7684 - val_output_A_loss: 2.6706 - val_output_B1_loss: 1.6648\n",
      "Epoch 506/1000\n",
      "399/399 [==============================] - 10s 25ms/step - loss: 1.5603 - output_RNN_loss: 2.7539 - output_A_loss: 2.6425 - output_B1_loss: 1.6404 - val_loss: 1.5810 - val_output_RNN_loss: 2.7662 - val_output_A_loss: 2.6789 - val_output_B1_loss: 1.6690\n",
      "Epoch 507/1000\n",
      "399/399 [==============================] - 10s 24ms/step - loss: 1.5600 - output_RNN_loss: 2.7528 - output_A_loss: 2.6414 - output_B1_loss: 1.6409 - val_loss: 1.5819 - val_output_RNN_loss: 2.7683 - val_output_A_loss: 2.6797 - val_output_B1_loss: 1.6704\n",
      "Epoch 508/1000\n",
      "399/399 [==============================] - 10s 25ms/step - loss: 1.5599 - output_RNN_loss: 2.7525 - output_A_loss: 2.6416 - output_B1_loss: 1.6406 - val_loss: 1.5762 - val_output_RNN_loss: 2.7671 - val_output_A_loss: 2.6689 - val_output_B1_loss: 1.6629\n",
      "Epoch 509/1000\n",
      "399/399 [==============================] - 10s 25ms/step - loss: 1.5597 - output_RNN_loss: 2.7521 - output_A_loss: 2.6418 - output_B1_loss: 1.6400 - val_loss: 1.5767 - val_output_RNN_loss: 2.7662 - val_output_A_loss: 2.6687 - val_output_B1_loss: 1.6649\n",
      "Epoch 510/1000\n",
      "399/399 [==============================] - 10s 25ms/step - loss: 1.5595 - output_RNN_loss: 2.7518 - output_A_loss: 2.6413 - output_B1_loss: 1.6398 - val_loss: 1.5866 - val_output_RNN_loss: 2.7675 - val_output_A_loss: 2.6853 - val_output_B1_loss: 1.6808\n",
      "Epoch 511/1000\n",
      "399/399 [==============================] - 10s 25ms/step - loss: 1.5594 - output_RNN_loss: 2.7509 - output_A_loss: 2.6416 - output_B1_loss: 1.6394 - val_loss: 1.5775 - val_output_RNN_loss: 2.7643 - val_output_A_loss: 2.6733 - val_output_B1_loss: 1.6637\n",
      "Epoch 512/1000\n",
      "399/399 [==============================] - 10s 25ms/step - loss: 1.5593 - output_RNN_loss: 2.7508 - output_A_loss: 2.6417 - output_B1_loss: 1.6392 - val_loss: 1.5775 - val_output_RNN_loss: 2.7629 - val_output_A_loss: 2.6723 - val_output_B1_loss: 1.6651\n",
      "Epoch 513/1000\n",
      "399/399 [==============================] - 10s 25ms/step - loss: 1.5589 - output_RNN_loss: 2.7498 - output_A_loss: 2.6404 - output_B1_loss: 1.6393 - val_loss: 1.5779 - val_output_RNN_loss: 2.7655 - val_output_A_loss: 2.6731 - val_output_B1_loss: 1.6647\n",
      "Epoch 514/1000\n",
      "399/399 [==============================] - 10s 25ms/step - loss: 1.5587 - output_RNN_loss: 2.7501 - output_A_loss: 2.6408 - output_B1_loss: 1.6380 - val_loss: 1.5749 - val_output_RNN_loss: 2.7633 - val_output_A_loss: 2.6681 - val_output_B1_loss: 1.6605\n",
      "Epoch 515/1000\n",
      "399/399 [==============================] - 10s 25ms/step - loss: 1.5586 - output_RNN_loss: 2.7490 - output_A_loss: 2.6398 - output_B1_loss: 1.6391 - val_loss: 1.5782 - val_output_RNN_loss: 2.7637 - val_output_A_loss: 2.6735 - val_output_B1_loss: 1.6658\n",
      "Epoch 516/1000\n",
      "399/399 [==============================] - 10s 25ms/step - loss: 1.5581 - output_RNN_loss: 2.7487 - output_A_loss: 2.6398 - output_B1_loss: 1.6377 - val_loss: 1.5756 - val_output_RNN_loss: 2.7629 - val_output_A_loss: 2.6685 - val_output_B1_loss: 1.6624\n",
      "Epoch 517/1000\n",
      "399/399 [==============================] - 10s 25ms/step - loss: 1.5583 - output_RNN_loss: 2.7479 - output_A_loss: 2.6396 - output_B1_loss: 1.6386 - val_loss: 1.5758 - val_output_RNN_loss: 2.7604 - val_output_A_loss: 2.6718 - val_output_B1_loss: 1.6608\n",
      "Epoch 518/1000\n",
      "399/399 [==============================] - 10s 25ms/step - loss: 1.5580 - output_RNN_loss: 2.7471 - output_A_loss: 2.6396 - output_B1_loss: 1.6381 - val_loss: 1.5771 - val_output_RNN_loss: 2.7619 - val_output_A_loss: 2.6720 - val_output_B1_loss: 1.6644\n",
      "Epoch 519/1000\n",
      "399/399 [==============================] - 10s 25ms/step - loss: 1.5576 - output_RNN_loss: 2.7467 - output_A_loss: 2.6383 - output_B1_loss: 1.6380 - val_loss: 1.5780 - val_output_RNN_loss: 2.7632 - val_output_A_loss: 2.6711 - val_output_B1_loss: 1.6677\n",
      "Epoch 520/1000\n",
      "399/399 [==============================] - 10s 25ms/step - loss: 1.5575 - output_RNN_loss: 2.7463 - output_A_loss: 2.6379 - output_B1_loss: 1.6384 - val_loss: 1.5765 - val_output_RNN_loss: 2.7606 - val_output_A_loss: 2.6715 - val_output_B1_loss: 1.6635\n",
      "Epoch 521/1000\n",
      "399/399 [==============================] - 10s 25ms/step - loss: 1.5574 - output_RNN_loss: 2.7458 - output_A_loss: 2.6385 - output_B1_loss: 1.6378 - val_loss: 1.5776 - val_output_RNN_loss: 2.7602 - val_output_A_loss: 2.6711 - val_output_B1_loss: 1.6676\n",
      "Epoch 522/1000\n",
      "399/399 [==============================] - 10s 25ms/step - loss: 1.5571 - output_RNN_loss: 2.7451 - output_A_loss: 2.6385 - output_B1_loss: 1.6369 - val_loss: 1.5766 - val_output_RNN_loss: 2.7588 - val_output_A_loss: 2.6701 - val_output_B1_loss: 1.6657\n",
      "Epoch 523/1000\n",
      "399/399 [==============================] - 10s 25ms/step - loss: 1.5573 - output_RNN_loss: 2.7444 - output_A_loss: 2.6378 - output_B1_loss: 1.6385 - val_loss: 1.5787 - val_output_RNN_loss: 2.7586 - val_output_A_loss: 2.6805 - val_output_B1_loss: 1.6623\n",
      "Epoch 524/1000\n",
      "399/399 [==============================] - 10s 25ms/step - loss: 1.5568 - output_RNN_loss: 2.7437 - output_A_loss: 2.6387 - output_B1_loss: 1.6361 - val_loss: 1.5781 - val_output_RNN_loss: 2.7605 - val_output_A_loss: 2.6707 - val_output_B1_loss: 1.6694\n"
     ]
    }
   ],
   "source": [
    "checkpoint_cb = keras.callbacks.ModelCheckpoint(\"model_1_0_partial.h5\",\n",
    "                                                save_best_only=True)\n",
    "early_stopping_cb = keras.callbacks.EarlyStopping(patience=10,\n",
    "                                                  restore_best_weights=True)\n",
    "history = model.fit(train, epochs=1000,\n",
    "                    validation_data = valid,\n",
    "                    callbacks=[checkpoint_cb, early_stopping_cb])\n",
    "# model = keras.models.load_model(\"my_keras_model.h5\") # roll back to best model"
   ]
  },
  {
   "cell_type": "code",
   "execution_count": 36,
   "metadata": {},
   "outputs": [
    {
     "name": "stdout",
     "output_type": "stream",
     "text": [
      "24/24 [==============================] - 0s 3ms/step - loss: 2.3412 - output_RNN_loss: 2.7116 - output_A_loss: 2.6246 - output_B1_loss: 1.6881 - output_B2_loss: 2.5874\n"
     ]
    }
   ],
   "source": [
    "total_loss, output_RNN_loss, output_A_loss, output_B1_loss, output_B2_loss = model.evaluate(test)"
   ]
  },
  {
   "cell_type": "code",
   "execution_count": 51,
   "metadata": {},
   "outputs": [],
   "source": [
    "model.save(\"model_1_0.h5\")\n",
    "sub_model.save(\"sub_model_1_0.h5\")\n",
    "att_model.save(\"att_model_1_0.h5\")"
   ]
  },
  {
   "cell_type": "code",
   "execution_count": 48,
   "metadata": {},
   "outputs": [],
   "source": [
    "model.save_weights('model_1_0_partial_weight.h5')"
   ]
  },
  {
   "cell_type": "code",
   "execution_count": 13,
   "metadata": {},
   "outputs": [],
   "source": [
    "model.load_weights('model_1_0_partial_weight.h5')"
   ]
  },
  {
   "cell_type": "code",
   "execution_count": 14,
   "metadata": {},
   "outputs": [
    {
     "ename": "InvalidArgumentError",
     "evalue": " ConcatOp : Dimensions of inputs should match: shape[0] = [1,1,30] vs. shape[1] = [20,1,1]\n\t [[node functional_3/tf_op_layer_concat/concat (defined at <ipython-input-14-422bd8fd0ab4>:2) ]] [Op:__inference_predict_function_242697]\n\nFunction call stack:\npredict_function\n",
     "output_type": "error",
     "traceback": [
      "\u001b[1;31m---------------------------------------------------------------------------\u001b[0m",
      "\u001b[1;31mInvalidArgumentError\u001b[0m                      Traceback (most recent call last)",
      "\u001b[1;32m<ipython-input-14-422bd8fd0ab4>\u001b[0m in \u001b[0;36m<module>\u001b[1;34m\u001b[0m\n\u001b[0;32m      1\u001b[0m \u001b[0mX_start_A\u001b[0m \u001b[1;33m=\u001b[0m \u001b[0mtf\u001b[0m\u001b[1;33m.\u001b[0m\u001b[0mreshape\u001b[0m\u001b[1;33m(\u001b[0m\u001b[0mX\u001b[0m\u001b[1;33m[\u001b[0m\u001b[1;36m19000\u001b[0m\u001b[1;33m:\u001b[0m\u001b[1;36m19020\u001b[0m\u001b[1;33m,\u001b[0m\u001b[1;33m:\u001b[0m\u001b[1;33m]\u001b[0m\u001b[1;33m,\u001b[0m\u001b[1;33m[\u001b[0m\u001b[1;36m1\u001b[0m\u001b[1;33m,\u001b[0m\u001b[1;36m20\u001b[0m\u001b[1;33m,\u001b[0m\u001b[1;36m31\u001b[0m\u001b[1;33m]\u001b[0m\u001b[1;33m)\u001b[0m\u001b[1;33m\u001b[0m\u001b[1;33m\u001b[0m\u001b[0m\n\u001b[1;32m----> 2\u001b[1;33m \u001b[1;33m[\u001b[0m\u001b[0moutput_A\u001b[0m\u001b[1;33m,\u001b[0m \u001b[0moutput_B2\u001b[0m\u001b[1;33m]\u001b[0m \u001b[1;33m=\u001b[0m \u001b[0maux_model2\u001b[0m\u001b[1;33m.\u001b[0m\u001b[0mpredict\u001b[0m\u001b[1;33m(\u001b[0m\u001b[0mX_start_A\u001b[0m\u001b[1;33m)\u001b[0m\u001b[1;33m.\u001b[0m\u001b[0mreshape\u001b[0m\u001b[1;33m(\u001b[0m\u001b[1;33m[\u001b[0m\u001b[1;36m30\u001b[0m\u001b[1;33m,\u001b[0m\u001b[1;33m]\u001b[0m\u001b[1;33m)\u001b[0m\u001b[1;33m\u001b[0m\u001b[1;33m\u001b[0m\u001b[0m\n\u001b[0m\u001b[0;32m      3\u001b[0m \u001b[0moutput_A\u001b[0m\u001b[1;33m\u001b[0m\u001b[1;33m\u001b[0m\u001b[0m\n",
      "\u001b[1;32mD:\\Anaconda\\lib\\site-packages\\tensorflow\\python\\keras\\engine\\training.py\u001b[0m in \u001b[0;36m_method_wrapper\u001b[1;34m(self, *args, **kwargs)\u001b[0m\n\u001b[0;32m    128\u001b[0m       raise ValueError('{} is not supported in multi-worker mode.'.format(\n\u001b[0;32m    129\u001b[0m           method.__name__))\n\u001b[1;32m--> 130\u001b[1;33m     \u001b[1;32mreturn\u001b[0m \u001b[0mmethod\u001b[0m\u001b[1;33m(\u001b[0m\u001b[0mself\u001b[0m\u001b[1;33m,\u001b[0m \u001b[1;33m*\u001b[0m\u001b[0margs\u001b[0m\u001b[1;33m,\u001b[0m \u001b[1;33m**\u001b[0m\u001b[0mkwargs\u001b[0m\u001b[1;33m)\u001b[0m\u001b[1;33m\u001b[0m\u001b[1;33m\u001b[0m\u001b[0m\n\u001b[0m\u001b[0;32m    131\u001b[0m \u001b[1;33m\u001b[0m\u001b[0m\n\u001b[0;32m    132\u001b[0m   return tf_decorator.make_decorator(\n",
      "\u001b[1;32mD:\\Anaconda\\lib\\site-packages\\tensorflow\\python\\keras\\engine\\training.py\u001b[0m in \u001b[0;36mpredict\u001b[1;34m(self, x, batch_size, verbose, steps, callbacks, max_queue_size, workers, use_multiprocessing)\u001b[0m\n\u001b[0;32m   1597\u001b[0m           \u001b[1;32mfor\u001b[0m \u001b[0mstep\u001b[0m \u001b[1;32min\u001b[0m \u001b[0mdata_handler\u001b[0m\u001b[1;33m.\u001b[0m\u001b[0msteps\u001b[0m\u001b[1;33m(\u001b[0m\u001b[1;33m)\u001b[0m\u001b[1;33m:\u001b[0m\u001b[1;33m\u001b[0m\u001b[1;33m\u001b[0m\u001b[0m\n\u001b[0;32m   1598\u001b[0m             \u001b[0mcallbacks\u001b[0m\u001b[1;33m.\u001b[0m\u001b[0mon_predict_batch_begin\u001b[0m\u001b[1;33m(\u001b[0m\u001b[0mstep\u001b[0m\u001b[1;33m)\u001b[0m\u001b[1;33m\u001b[0m\u001b[1;33m\u001b[0m\u001b[0m\n\u001b[1;32m-> 1599\u001b[1;33m             \u001b[0mtmp_batch_outputs\u001b[0m \u001b[1;33m=\u001b[0m \u001b[0mpredict_function\u001b[0m\u001b[1;33m(\u001b[0m\u001b[0miterator\u001b[0m\u001b[1;33m)\u001b[0m\u001b[1;33m\u001b[0m\u001b[1;33m\u001b[0m\u001b[0m\n\u001b[0m\u001b[0;32m   1600\u001b[0m             \u001b[1;32mif\u001b[0m \u001b[0mdata_handler\u001b[0m\u001b[1;33m.\u001b[0m\u001b[0mshould_sync\u001b[0m\u001b[1;33m:\u001b[0m\u001b[1;33m\u001b[0m\u001b[1;33m\u001b[0m\u001b[0m\n\u001b[0;32m   1601\u001b[0m               \u001b[0mcontext\u001b[0m\u001b[1;33m.\u001b[0m\u001b[0masync_wait\u001b[0m\u001b[1;33m(\u001b[0m\u001b[1;33m)\u001b[0m\u001b[1;33m\u001b[0m\u001b[1;33m\u001b[0m\u001b[0m\n",
      "\u001b[1;32mD:\\Anaconda\\lib\\site-packages\\tensorflow\\python\\eager\\def_function.py\u001b[0m in \u001b[0;36m__call__\u001b[1;34m(self, *args, **kwds)\u001b[0m\n\u001b[0;32m    778\u001b[0m       \u001b[1;32melse\u001b[0m\u001b[1;33m:\u001b[0m\u001b[1;33m\u001b[0m\u001b[1;33m\u001b[0m\u001b[0m\n\u001b[0;32m    779\u001b[0m         \u001b[0mcompiler\u001b[0m \u001b[1;33m=\u001b[0m \u001b[1;34m\"nonXla\"\u001b[0m\u001b[1;33m\u001b[0m\u001b[1;33m\u001b[0m\u001b[0m\n\u001b[1;32m--> 780\u001b[1;33m         \u001b[0mresult\u001b[0m \u001b[1;33m=\u001b[0m \u001b[0mself\u001b[0m\u001b[1;33m.\u001b[0m\u001b[0m_call\u001b[0m\u001b[1;33m(\u001b[0m\u001b[1;33m*\u001b[0m\u001b[0margs\u001b[0m\u001b[1;33m,\u001b[0m \u001b[1;33m**\u001b[0m\u001b[0mkwds\u001b[0m\u001b[1;33m)\u001b[0m\u001b[1;33m\u001b[0m\u001b[1;33m\u001b[0m\u001b[0m\n\u001b[0m\u001b[0;32m    781\u001b[0m \u001b[1;33m\u001b[0m\u001b[0m\n\u001b[0;32m    782\u001b[0m       \u001b[0mnew_tracing_count\u001b[0m \u001b[1;33m=\u001b[0m \u001b[0mself\u001b[0m\u001b[1;33m.\u001b[0m\u001b[0m_get_tracing_count\u001b[0m\u001b[1;33m(\u001b[0m\u001b[1;33m)\u001b[0m\u001b[1;33m\u001b[0m\u001b[1;33m\u001b[0m\u001b[0m\n",
      "\u001b[1;32mD:\\Anaconda\\lib\\site-packages\\tensorflow\\python\\eager\\def_function.py\u001b[0m in \u001b[0;36m_call\u001b[1;34m(self, *args, **kwds)\u001b[0m\n\u001b[0;32m    844\u001b[0m               *args, **kwds)\n\u001b[0;32m    845\u001b[0m       \u001b[1;31m# If we did not create any variables the trace we have is good enough.\u001b[0m\u001b[1;33m\u001b[0m\u001b[1;33m\u001b[0m\u001b[1;33m\u001b[0m\u001b[0m\n\u001b[1;32m--> 846\u001b[1;33m       \u001b[1;32mreturn\u001b[0m \u001b[0mself\u001b[0m\u001b[1;33m.\u001b[0m\u001b[0m_concrete_stateful_fn\u001b[0m\u001b[1;33m.\u001b[0m\u001b[0m_filtered_call\u001b[0m\u001b[1;33m(\u001b[0m\u001b[0mcanon_args\u001b[0m\u001b[1;33m,\u001b[0m \u001b[0mcanon_kwds\u001b[0m\u001b[1;33m)\u001b[0m  \u001b[1;31m# pylint: disable=protected-access\u001b[0m\u001b[1;33m\u001b[0m\u001b[1;33m\u001b[0m\u001b[0m\n\u001b[0m\u001b[0;32m    847\u001b[0m \u001b[1;33m\u001b[0m\u001b[0m\n\u001b[0;32m    848\u001b[0m     \u001b[1;32mdef\u001b[0m \u001b[0mfn_with_cond\u001b[0m\u001b[1;33m(\u001b[0m\u001b[1;33m*\u001b[0m\u001b[0minner_args\u001b[0m\u001b[1;33m,\u001b[0m \u001b[1;33m**\u001b[0m\u001b[0minner_kwds\u001b[0m\u001b[1;33m)\u001b[0m\u001b[1;33m:\u001b[0m\u001b[1;33m\u001b[0m\u001b[1;33m\u001b[0m\u001b[0m\n",
      "\u001b[1;32mD:\\Anaconda\\lib\\site-packages\\tensorflow\\python\\eager\\function.py\u001b[0m in \u001b[0;36m_filtered_call\u001b[1;34m(self, args, kwargs, cancellation_manager)\u001b[0m\n\u001b[0;32m   1846\u001b[0m                            resource_variable_ops.BaseResourceVariable))],\n\u001b[0;32m   1847\u001b[0m         \u001b[0mcaptured_inputs\u001b[0m\u001b[1;33m=\u001b[0m\u001b[0mself\u001b[0m\u001b[1;33m.\u001b[0m\u001b[0mcaptured_inputs\u001b[0m\u001b[1;33m,\u001b[0m\u001b[1;33m\u001b[0m\u001b[1;33m\u001b[0m\u001b[0m\n\u001b[1;32m-> 1848\u001b[1;33m         cancellation_manager=cancellation_manager)\n\u001b[0m\u001b[0;32m   1849\u001b[0m \u001b[1;33m\u001b[0m\u001b[0m\n\u001b[0;32m   1850\u001b[0m   \u001b[1;32mdef\u001b[0m \u001b[0m_call_flat\u001b[0m\u001b[1;33m(\u001b[0m\u001b[0mself\u001b[0m\u001b[1;33m,\u001b[0m \u001b[0margs\u001b[0m\u001b[1;33m,\u001b[0m \u001b[0mcaptured_inputs\u001b[0m\u001b[1;33m,\u001b[0m \u001b[0mcancellation_manager\u001b[0m\u001b[1;33m=\u001b[0m\u001b[1;32mNone\u001b[0m\u001b[1;33m)\u001b[0m\u001b[1;33m:\u001b[0m\u001b[1;33m\u001b[0m\u001b[1;33m\u001b[0m\u001b[0m\n",
      "\u001b[1;32mD:\\Anaconda\\lib\\site-packages\\tensorflow\\python\\eager\\function.py\u001b[0m in \u001b[0;36m_call_flat\u001b[1;34m(self, args, captured_inputs, cancellation_manager)\u001b[0m\n\u001b[0;32m   1922\u001b[0m       \u001b[1;31m# No tape is watching; skip to running the function.\u001b[0m\u001b[1;33m\u001b[0m\u001b[1;33m\u001b[0m\u001b[1;33m\u001b[0m\u001b[0m\n\u001b[0;32m   1923\u001b[0m       return self._build_call_outputs(self._inference_function.call(\n\u001b[1;32m-> 1924\u001b[1;33m           ctx, args, cancellation_manager=cancellation_manager))\n\u001b[0m\u001b[0;32m   1925\u001b[0m     forward_backward = self._select_forward_and_backward_functions(\n\u001b[0;32m   1926\u001b[0m         \u001b[0margs\u001b[0m\u001b[1;33m,\u001b[0m\u001b[1;33m\u001b[0m\u001b[1;33m\u001b[0m\u001b[0m\n",
      "\u001b[1;32mD:\\Anaconda\\lib\\site-packages\\tensorflow\\python\\eager\\function.py\u001b[0m in \u001b[0;36mcall\u001b[1;34m(self, ctx, args, cancellation_manager)\u001b[0m\n\u001b[0;32m    548\u001b[0m               \u001b[0minputs\u001b[0m\u001b[1;33m=\u001b[0m\u001b[0margs\u001b[0m\u001b[1;33m,\u001b[0m\u001b[1;33m\u001b[0m\u001b[1;33m\u001b[0m\u001b[0m\n\u001b[0;32m    549\u001b[0m               \u001b[0mattrs\u001b[0m\u001b[1;33m=\u001b[0m\u001b[0mattrs\u001b[0m\u001b[1;33m,\u001b[0m\u001b[1;33m\u001b[0m\u001b[1;33m\u001b[0m\u001b[0m\n\u001b[1;32m--> 550\u001b[1;33m               ctx=ctx)\n\u001b[0m\u001b[0;32m    551\u001b[0m         \u001b[1;32melse\u001b[0m\u001b[1;33m:\u001b[0m\u001b[1;33m\u001b[0m\u001b[1;33m\u001b[0m\u001b[0m\n\u001b[0;32m    552\u001b[0m           outputs = execute.execute_with_cancellation(\n",
      "\u001b[1;32mD:\\Anaconda\\lib\\site-packages\\tensorflow\\python\\eager\\execute.py\u001b[0m in \u001b[0;36mquick_execute\u001b[1;34m(op_name, num_outputs, inputs, attrs, ctx, name)\u001b[0m\n\u001b[0;32m     58\u001b[0m     \u001b[0mctx\u001b[0m\u001b[1;33m.\u001b[0m\u001b[0mensure_initialized\u001b[0m\u001b[1;33m(\u001b[0m\u001b[1;33m)\u001b[0m\u001b[1;33m\u001b[0m\u001b[1;33m\u001b[0m\u001b[0m\n\u001b[0;32m     59\u001b[0m     tensors = pywrap_tfe.TFE_Py_Execute(ctx._handle, device_name, op_name,\n\u001b[1;32m---> 60\u001b[1;33m                                         inputs, attrs, num_outputs)\n\u001b[0m\u001b[0;32m     61\u001b[0m   \u001b[1;32mexcept\u001b[0m \u001b[0mcore\u001b[0m\u001b[1;33m.\u001b[0m\u001b[0m_NotOkStatusException\u001b[0m \u001b[1;32mas\u001b[0m \u001b[0me\u001b[0m\u001b[1;33m:\u001b[0m\u001b[1;33m\u001b[0m\u001b[1;33m\u001b[0m\u001b[0m\n\u001b[0;32m     62\u001b[0m     \u001b[1;32mif\u001b[0m \u001b[0mname\u001b[0m \u001b[1;32mis\u001b[0m \u001b[1;32mnot\u001b[0m \u001b[1;32mNone\u001b[0m\u001b[1;33m:\u001b[0m\u001b[1;33m\u001b[0m\u001b[1;33m\u001b[0m\u001b[0m\n",
      "\u001b[1;31mInvalidArgumentError\u001b[0m:  ConcatOp : Dimensions of inputs should match: shape[0] = [1,1,30] vs. shape[1] = [20,1,1]\n\t [[node functional_3/tf_op_layer_concat/concat (defined at <ipython-input-14-422bd8fd0ab4>:2) ]] [Op:__inference_predict_function_242697]\n\nFunction call stack:\npredict_function\n"
     ]
    }
   ],
   "source": [
    "X_start_A = tf.reshape(X[19000:19020,:],[1,20,31])\n",
    "[output_A, output_B2] = aux_model2.predict(X_start_A).reshape([30,])\n",
    "output_A"
   ]
  },
  {
   "cell_type": "code",
   "execution_count": 48,
   "metadata": {},
   "outputs": [
    {
     "data": {
      "text/plain": [
       "6"
      ]
     },
     "execution_count": 48,
     "metadata": {},
     "output_type": "execute_result"
    }
   ],
   "source": [
    "pred_A_class_random = np.random.choice(30, 1, p=output_A)[0]\n",
    "pred_A_class_random"
   ]
  },
  {
   "cell_type": "code",
   "execution_count": 49,
   "metadata": {},
   "outputs": [
    {
     "data": {
      "text/plain": [
       "<tf.Tensor: shape=(1, 1, 31), dtype=float32, numpy=\n",
       "array([[[0., 0., 0., 0., 0., 0., 1., 0., 0., 0., 0., 0., 0., 0., 0., 0.,\n",
       "         0., 0., 0., 0., 0., 0., 0., 0., 0., 0., 0., 0., 0., 0., 0.]]],\n",
       "      dtype=float32)>"
      ]
     },
     "execution_count": 49,
     "metadata": {},
     "output_type": "execute_result"
    }
   ],
   "source": [
    "one_hot = tf.reshape(tf.one_hot(pred_A_class_random, 30),[1,1,30])\n",
    "out_0 = tf.concat((one_hot,[[[0]]]),2)\n",
    "out_0"
   ]
  },
  {
   "cell_type": "code",
   "execution_count": 50,
   "metadata": {},
   "outputs": [
    {
     "name": "stderr",
     "output_type": "stream",
     "text": [
      "WARNING:tensorflow:6 out of the last 27 calls to <function Model.make_predict_function.<locals>.predict_function at 0x000001CA81444828> triggered tf.function retracing. Tracing is expensive and the excessive number of tracings could be due to (1) creating @tf.function repeatedly in a loop, (2) passing tensors with different shapes, (3) passing Python objects instead of tensors. For (1), please define your @tf.function outside of the loop. For (2), @tf.function has experimental_relax_shapes=True option that relaxes argument shapes that can avoid unnecessary retracing. For (3), please refer to https://www.tensorflow.org/tutorials/customization/performance#python_or_tensor_args and https://www.tensorflow.org/api_docs/python/tf/function for  more details.\n"
     ]
    },
    {
     "name": "stdout",
     "output_type": "stream",
     "text": [
      "y_pred_A: [[0.03155782 0.0325329  0.03173704 0.03192566 0.03506639 0.03417719\n",
      "  0.0338481  0.03291002 0.03165215 0.03471051 0.03455314 0.03086988\n",
      "  0.03325387 0.03299863 0.03273064 0.0354063  0.03468685 0.03317405\n",
      "  0.03461605 0.03439218 0.03557383 0.03242486 0.03168539 0.03368177\n",
      "  0.03217451 0.03288629 0.03588217 0.03389754 0.03139951 0.03359476]] y_pred_B: [[0.03185337 0.03439081 0.02634412 0.02846782 0.03581786 0.0269027\n",
      "  0.03651585 0.03407611 0.0364597  0.03747211 0.02995922 0.0256372\n",
      "  0.0303991  0.0301232  0.02858168 0.02684872 0.04141647 0.03798914\n",
      "  0.0398167  0.03374988 0.04703412 0.02937686 0.03111148 0.03577967\n",
      "  0.03487676 0.04168951 0.02990909 0.03666779 0.03080825 0.02992463]]\n"
     ]
    }
   ],
   "source": [
    "y_pred_A, y_pred_B = model.predict((X_start_A,out_0))\n",
    "print('y_pred_A:',y_pred_A, 'y_pred_B:',y_pred_B)"
   ]
  },
  {
   "cell_type": "code",
   "execution_count": 36,
   "metadata": {},
   "outputs": [],
   "source": [
    "def generate_sequence(initial,seq_length):\n",
    "    \"\"\"\n",
    "    Arguments:\n",
    "    initial -- initial sequence of shape (1,20,31) (1 sample, sequence of length 20, vector fearure: one-hot(30);cantus(0),counter(1))\n",
    "    seq_length -- # pairs of notes generated\n",
    "    \n",
    "    \"\"\"\n",
    "    ### START CODE HERE ###\n",
    "    sequence = initial\n",
    "    for i in range(seq_length):\n",
    "        output_A = sub_model.predict(initial).reshape([30,])\n",
    "        pred_A_class_random = np.random.choice(30, 1, p=output_A)[0]\n",
    "        pred_A_class_max = np.where(output_A == np.max(output_A))[0][0]\n",
    "\n",
    "        one_hot = tf.reshape(tf.one_hot(pred_A_class_random, 30),[1,1,30])\n",
    "        out_0 = tf.concat((one_hot,[[[1]]]),2)\n",
    "        sequence = tf.concat((sequence,out_0),1)\n",
    "\n",
    "        y_pred_RNN, y_pred_A, y_pred_B = model.predict((initial,out_0))\n",
    "        output_B = y_pred_B.reshape([30,])\n",
    "        pred_B_class_random = np.random.choice(30, 1, p=output_B)[0]\n",
    "        pred_B_class_max = np.where(output_B == np.max(output_B))[0][0]\n",
    "\n",
    "        one_hot = tf.reshape(tf.one_hot(pred_B_class_random, 30),[1,1,30])\n",
    "        out_1 = tf.concat((one_hot,[[[0]]]),2)\n",
    "        sequence = tf.concat((sequence,out_1),1)\n",
    "\n",
    "        initial = sequence[:,-20:,:]\n",
    "        \n",
    "    return sequence"
   ]
  },
  {
   "cell_type": "code",
   "execution_count": 44,
   "metadata": {},
   "outputs": [],
   "source": [
    "X_start_A = tf.reshape(X[19000:19020,:],[1,20,31])\n",
    "seq_length = 10\n",
    "sequence = generate_sequence(X_start_A,seq_length)"
   ]
  },
  {
   "cell_type": "code",
   "execution_count": 45,
   "metadata": {},
   "outputs": [
    {
     "data": {
      "text/plain": [
       "<tf.Tensor: shape=(1, 40, 31), dtype=float32, numpy=\n",
       "array([[[0., 0., 0., ..., 0., 0., 0.],\n",
       "        [0., 0., 0., ..., 0., 0., 1.],\n",
       "        [0., 0., 0., ..., 0., 0., 0.],\n",
       "        ...,\n",
       "        [0., 0., 0., ..., 0., 0., 0.],\n",
       "        [0., 0., 0., ..., 0., 0., 1.],\n",
       "        [0., 0., 0., ..., 0., 0., 0.]]], dtype=float32)>"
      ]
     },
     "execution_count": 45,
     "metadata": {},
     "output_type": "execute_result"
    }
   ],
   "source": [
    "new_sequence = sequence[:,20:,:]\n",
    "sequence"
   ]
  },
  {
   "cell_type": "code",
   "execution_count": 46,
   "metadata": {},
   "outputs": [
    {
     "data": {
      "text/plain": [
       "(40, 31)"
      ]
     },
     "execution_count": 46,
     "metadata": {},
     "output_type": "execute_result"
    }
   ],
   "source": [
    "sequence = tf.reshape(sequence,[20+2*seq_length,31])\n",
    "sequence = np.array(sequence)\n",
    "sequence.shape"
   ]
  },
  {
   "cell_type": "code",
   "execution_count": 47,
   "metadata": {},
   "outputs": [],
   "source": [
    "sequence = sequence[-20:,:]\n",
    "row,col = sequence.shape\n",
    "cantus_lst = [];\n",
    "counter_lst = [];\n",
    "for i in range(row):\n",
    "    clas = np.where(sequence[i,:-1] == 1)[0][0]\n",
    "    if sequence[i,-1] == 0:\n",
    "        cantus_lst.append(clas+43)\n",
    "    elif sequence[i,-1] == 1:\n",
    "        counter_lst.append(clas+55)"
   ]
  },
  {
   "cell_type": "code",
   "execution_count": 48,
   "metadata": {},
   "outputs": [
    {
     "data": {
      "text/plain": [
       "[67, 68, 69, 71, 66, 63, 67, 62, 63, 62]"
      ]
     },
     "execution_count": 48,
     "metadata": {},
     "output_type": "execute_result"
    }
   ],
   "source": [
    "cantus_lst"
   ]
  },
  {
   "cell_type": "code",
   "execution_count": 49,
   "metadata": {},
   "outputs": [
    {
     "data": {
      "text/plain": [
       "[77, 77, 73, 79, 78, 67, 73, 66, 67, 66]"
      ]
     },
     "execution_count": 49,
     "metadata": {},
     "output_type": "execute_result"
    }
   ],
   "source": [
    "counter_lst"
   ]
  },
  {
   "cell_type": "code",
   "execution_count": 50,
   "metadata": {},
   "outputs": [
    {
     "data": {
      "text/plain": [
       "array([10,  9,  4,  8, 12,  4,  6,  4,  4,  4], dtype=int64)"
      ]
     },
     "execution_count": 50,
     "metadata": {},
     "output_type": "execute_result"
    }
   ],
   "source": [
    "np.array(counter_lst) - np.array(cantus_lst) # real harmonic"
   ]
  },
  {
   "cell_type": "code",
   "execution_count": 71,
   "metadata": {},
   "outputs": [
    {
     "name": "stdout",
     "output_type": "stream",
     "text": [
      "Using preset Piano Merlin for piano\n",
      "Using preset Piano Merlin for piano\n"
     ]
    }
   ],
   "source": [
    "s = Session()\n",
    "s.tempo = 180\n",
    "piano1 = s.new_part(\"piano\")\n",
    "piano2 = s.new_part(\"piano\")\n",
    "\n",
    "def cantus():\n",
    "    for i in cantus_lst:\n",
    "        piano2.play_note(i,1,4)\n",
    "        \n",
    "def counter():\n",
    "    for i in counter_lst:\n",
    "        piano1.play_note(i,1,4)\n",
    "        \n",
    "        \n",
    "s.fast_forward_to_beat(100)\n",
    "\n",
    "s.start_transcribing()\n",
    "s.fork(counter)\n",
    "s.fork(cantus)\n",
    "s.wait_for_children_to_finish()\n",
    "performance = s.stop_transcribing()\n",
    "performance.to_score(title = \"First Species Counterpoint\", composer = \"My programme\",time_signature = \"4/4\").show_xml()"
   ]
  },
  {
   "cell_type": "code",
   "execution_count": 72,
   "metadata": {},
   "outputs": [
    {
     "data": {
      "text/plain": [
       "array([4, 3, 9, 8, 3, 8, 8, 9, 9, 3, 8, 4, 4, 7, 7, 6, 9, 7, 8, 3],\n",
       "      dtype=int64)"
      ]
     },
     "execution_count": 72,
     "metadata": {},
     "output_type": "execute_result"
    }
   ],
   "source": [
    "np.array(counter_lst) - np.array(cantus_lst) # harmonic"
   ]
  },
  {
   "cell_type": "code",
   "execution_count": 73,
   "metadata": {},
   "outputs": [
    {
     "data": {
      "text/plain": [
       "array([ -1,  -4,  -2,   3,   3,  -1,  -2,   3,  10, -15,  13,  -4,   0,\n",
       "        -2,  -5,  -1,  -1,  -1,  12], dtype=int64)"
      ]
     },
     "execution_count": 73,
     "metadata": {},
     "output_type": "execute_result"
    }
   ],
   "source": [
    "np.diff(cantus_lst)"
   ]
  },
  {
   "cell_type": "code",
   "execution_count": 74,
   "metadata": {},
   "outputs": [
    {
     "data": {
      "text/plain": [
       "array([ -2,   2,  -3,  -2,   8,  -1,  -1,   3,   4, -10,   9,  -4,   3,\n",
       "        -2,  -6,   2,  -3,   0,   7], dtype=int64)"
      ]
     },
     "execution_count": 74,
     "metadata": {},
     "output_type": "execute_result"
    }
   ],
   "source": [
    "np.diff(counter_lst)"
   ]
  },
  {
   "cell_type": "code",
   "execution_count": null,
   "metadata": {},
   "outputs": [],
   "source": []
  },
  {
   "cell_type": "code",
   "execution_count": 32,
   "metadata": {},
   "outputs": [],
   "source": [
    "model1 = keras.models.load_model(\"my_keras_model.h5\")"
   ]
  },
  {
   "cell_type": "code",
   "execution_count": 35,
   "metadata": {},
   "outputs": [],
   "source": [
    "sub = keras.models.load_model(\"sub_model.h5\")"
   ]
  },
  {
   "cell_type": "code",
   "execution_count": 37,
   "metadata": {},
   "outputs": [
    {
     "data": {
      "text/plain": [
       "array([0.0002585 , 0.00053626, 0.0003319 , 0.0008722 , 0.00056339,\n",
       "       0.00058614, 0.00078768, 0.00098308, 0.00130475, 0.00173629,\n",
       "       0.00228998, 0.00487447, 0.00683993, 0.00934752, 0.01578839,\n",
       "       0.01636755, 0.02636185, 0.0402819 , 0.05282699, 0.06961218,\n",
       "       0.06363309, 0.07971542, 0.08033299, 0.09574662, 0.08555523,\n",
       "       0.08963284, 0.07672965, 0.07218166, 0.04997258, 0.053949  ],\n",
       "      dtype=float32)"
      ]
     },
     "execution_count": 37,
     "metadata": {},
     "output_type": "execute_result"
    }
   ],
   "source": [
    "X_start_A = tf.reshape(X[9000:9020,:],[1,20,31])\n",
    "sub.predict(X_start_A).reshape([30,])"
   ]
  },
  {
   "cell_type": "code",
   "execution_count": 39,
   "metadata": {},
   "outputs": [
    {
     "data": {
      "text/plain": [
       "array([[0.02218576, 0.02161889, 0.02157068, 0.02155778, 0.02155401,\n",
       "        0.02155203, 0.02155126, 0.02155054, 0.02155021, 0.02154984,\n",
       "        0.02154955, 0.02154944, 0.02154973, 0.0215589 , 0.02210564,\n",
       "        0.04799915, 0.15077986, 0.15857086, 0.1590038 , 0.1590921 ]],\n",
       "      dtype=float32)"
      ]
     },
     "execution_count": 39,
     "metadata": {},
     "output_type": "execute_result"
    }
   ],
   "source": [
    "att_model.predict((X_start_A,out_0))"
   ]
  },
  {
   "cell_type": "code",
   "execution_count": 74,
   "metadata": {},
   "outputs": [
    {
     "name": "stdout",
     "output_type": "stream",
     "text": [
      "1/1 [==============================] - 0s 2ms/step - loss: 2.4345\n"
     ]
    }
   ],
   "source": [
    "out_A = tf.reshape(X[9020,:-1],[1,30])\n",
    "history = sub_model.fit(X_start_A,out_A)"
   ]
  },
  {
   "cell_type": "code",
   "execution_count": 75,
   "metadata": {},
   "outputs": [
    {
     "ename": "ValueError",
     "evalue": "You are trying to load a weight file containing 6 layers into a model with 4 layers.",
     "output_type": "error",
     "traceback": [
      "\u001b[1;31m---------------------------------------------------------------------------\u001b[0m",
      "\u001b[1;31mValueError\u001b[0m                                Traceback (most recent call last)",
      "\u001b[1;32m<ipython-input-75-3de155a07091>\u001b[0m in \u001b[0;36m<module>\u001b[1;34m\u001b[0m\n\u001b[1;32m----> 1\u001b[1;33m \u001b[0msub_model\u001b[0m\u001b[1;33m.\u001b[0m\u001b[0mload_weights\u001b[0m\u001b[1;33m(\u001b[0m\u001b[1;34m'model_0_1_weight.h5'\u001b[0m\u001b[1;33m)\u001b[0m\u001b[1;33m\u001b[0m\u001b[1;33m\u001b[0m\u001b[0m\n\u001b[0m",
      "\u001b[1;32mD:\\Anaconda\\lib\\site-packages\\tensorflow\\python\\keras\\engine\\training.py\u001b[0m in \u001b[0;36mload_weights\u001b[1;34m(self, filepath, by_name, skip_mismatch, options)\u001b[0m\n\u001b[0;32m   2209\u001b[0m             f, self.layers, skip_mismatch=skip_mismatch)\n\u001b[0;32m   2210\u001b[0m       \u001b[1;32melse\u001b[0m\u001b[1;33m:\u001b[0m\u001b[1;33m\u001b[0m\u001b[1;33m\u001b[0m\u001b[0m\n\u001b[1;32m-> 2211\u001b[1;33m         \u001b[0mhdf5_format\u001b[0m\u001b[1;33m.\u001b[0m\u001b[0mload_weights_from_hdf5_group\u001b[0m\u001b[1;33m(\u001b[0m\u001b[0mf\u001b[0m\u001b[1;33m,\u001b[0m \u001b[0mself\u001b[0m\u001b[1;33m.\u001b[0m\u001b[0mlayers\u001b[0m\u001b[1;33m)\u001b[0m\u001b[1;33m\u001b[0m\u001b[1;33m\u001b[0m\u001b[0m\n\u001b[0m\u001b[0;32m   2212\u001b[0m \u001b[1;33m\u001b[0m\u001b[0m\n\u001b[0;32m   2213\u001b[0m   \u001b[1;32mdef\u001b[0m \u001b[0m_updated_config\u001b[0m\u001b[1;33m(\u001b[0m\u001b[0mself\u001b[0m\u001b[1;33m)\u001b[0m\u001b[1;33m:\u001b[0m\u001b[1;33m\u001b[0m\u001b[1;33m\u001b[0m\u001b[0m\n",
      "\u001b[1;32mD:\\Anaconda\\lib\\site-packages\\tensorflow\\python\\keras\\saving\\hdf5_format.py\u001b[0m in \u001b[0;36mload_weights_from_hdf5_group\u001b[1;34m(f, layers)\u001b[0m\n\u001b[0;32m    684\u001b[0m                      \u001b[1;34m'containing '\u001b[0m \u001b[1;33m+\u001b[0m \u001b[0mstr\u001b[0m\u001b[1;33m(\u001b[0m\u001b[0mlen\u001b[0m\u001b[1;33m(\u001b[0m\u001b[0mlayer_names\u001b[0m\u001b[1;33m)\u001b[0m\u001b[1;33m)\u001b[0m \u001b[1;33m+\u001b[0m\u001b[1;33m\u001b[0m\u001b[1;33m\u001b[0m\u001b[0m\n\u001b[0;32m    685\u001b[0m                      \u001b[1;34m' layers into a model with '\u001b[0m \u001b[1;33m+\u001b[0m \u001b[0mstr\u001b[0m\u001b[1;33m(\u001b[0m\u001b[0mlen\u001b[0m\u001b[1;33m(\u001b[0m\u001b[0mfiltered_layers\u001b[0m\u001b[1;33m)\u001b[0m\u001b[1;33m)\u001b[0m \u001b[1;33m+\u001b[0m\u001b[1;33m\u001b[0m\u001b[1;33m\u001b[0m\u001b[0m\n\u001b[1;32m--> 686\u001b[1;33m                      ' layers.')\n\u001b[0m\u001b[0;32m    687\u001b[0m \u001b[1;33m\u001b[0m\u001b[0m\n\u001b[0;32m    688\u001b[0m   \u001b[1;31m# We batch weight value assignments in a single backend call\u001b[0m\u001b[1;33m\u001b[0m\u001b[1;33m\u001b[0m\u001b[1;33m\u001b[0m\u001b[0m\n",
      "\u001b[1;31mValueError\u001b[0m: You are trying to load a weight file containing 6 layers into a model with 4 layers."
     ]
    }
   ],
   "source": [
    "model.load_weights('model_0_1_weight.h5')"
   ]
  },
  {
   "cell_type": "code",
   "execution_count": null,
   "metadata": {},
   "outputs": [],
   "source": []
  }
 ],
 "metadata": {
  "kernelspec": {
   "display_name": "Python 3",
   "language": "python",
   "name": "python3"
  },
  "language_info": {
   "codemirror_mode": {
    "name": "ipython",
    "version": 3
   },
   "file_extension": ".py",
   "mimetype": "text/x-python",
   "name": "python",
   "nbconvert_exporter": "python",
   "pygments_lexer": "ipython3",
   "version": "3.7.6"
  }
 },
 "nbformat": 4,
 "nbformat_minor": 4
}
