{
 "cells": [
  {
   "cell_type": "markdown",
   "metadata": {},
   "source": [
    "***\n",
    "*Project:* Free Energy Synchronization\n",
    "\n",
    "*Author:* Jingwei Liu (Music department, UC San Diego)\n",
    "***\n",
    "\n",
    "# <span style=\"background-color:darkorange; color:white; padding:2px 6px\">Tutorial</span> \n",
    "\n",
    "\n",
    "# 12 Tone First Species Counterpoint"
   ]
  },
  {
   "cell_type": "code",
   "execution_count": 17,
   "metadata": {},
   "outputs": [],
   "source": [
    "import numpy as np\n",
    "import pandas as pd\n",
    "import csv\n",
    "from scamp import *\n",
    "import tensorflow as tf\n",
    "from tensorflow import keras"
   ]
  },
  {
   "cell_type": "code",
   "execution_count": 2,
   "metadata": {},
   "outputs": [],
   "source": [
    "n = 200;\n",
    "cantus_range_list = np.arange(43,73)\n",
    "counter_range_list = np.arange(55,85)\n",
    "melodic_interval = np.array([1,2,3,4,5,7,8,12])\n",
    "melodic_interval_small = np.array([1,2,3,4])\n",
    "harmonic_interval = np.array([3,4,7,8,9,12])\n",
    "cantus_lst = [];\n",
    "counter_lst = [];\n",
    "st = np.random.choice(cantus_range_list)\n",
    "cantus_lst.append(st)\n",
    "counter_lst.append(np.random.choice(st + harmonic_interval))\n",
    "\n",
    "for i in range(n):\n",
    "    num = np.shape(cantus_lst)[0]\n",
    "    cantus_choose_lst = np.concatenate((cantus_lst[-1] + melodic_interval, cantus_lst[-1] - melodic_interval))\n",
    "    cantus_choose_lst = np.maximum(cantus_choose_lst,43)\n",
    "    cantus_choose_lst = np.minimum(cantus_choose_lst,72)\n",
    "    cantus_choose_lst = np.unique(cantus_choose_lst)\n",
    "\n",
    "    counter_choose_lst = np.concatenate((counter_lst[-1] + melodic_interval, counter_lst[-1] - melodic_interval))\n",
    "    counter_choose_lst = np.maximum(counter_choose_lst,55)\n",
    "    counter_choose_lst = np.minimum(counter_choose_lst,84)\n",
    "    counter_choose_lst = np.unique(counter_choose_lst)\n",
    "\n",
    "    harmonic_diff = np.array(counter_lst) - np.array(cantus_lst)\n",
    "    harmonic_diff = harmonic_diff[-10:]\n",
    "\n",
    "    lst = []\n",
    "    for j in cantus_choose_lst:\n",
    "        for k in counter_choose_lst:\n",
    "            if k-j in harmonic_interval and np.shape(np.where(harmonic_diff == k-j))[1] < 3:\n",
    "                if k-j != 7 and k-j != 12:\n",
    "                    lst.append([j,k])\n",
    "                else:\n",
    "                    if (k - counter_lst[-1])*(j - cantus_lst[-1]) < 0 and (np.abs(k - counter_lst[-1]) <= 2 or np.abs(j - cantus_lst[-1]) <= 2):\n",
    "                        lst.append([j,k])\n",
    "    if lst != []:\n",
    "        save_lst = lst\n",
    "    else:\n",
    "        save_lst = [[np.random.choice(cantus_choose_lst),np.random.choice(counter_choose_lst)]]\n",
    "    \n",
    "    if num == 1:\n",
    "        indes = np.random.randint(len(lst), size = 1)[0]\n",
    "        [a,b] = lst[indes]\n",
    "        cantus_lst.append(a)\n",
    "        counter_lst.append(b)     \n",
    "    else:\n",
    "        cantus_dif_last = cantus_lst[-2] - cantus_lst[-1]\n",
    "        counter_dif_last = counter_lst[-2] - counter_lst[-1]\n",
    "        if np.abs(cantus_dif_last) >= 5:\n",
    "            sign = np.sign(cantus_dif_last)\n",
    "            a = cantus_lst[-1] + sign*1\n",
    "            b = cantus_lst[-1] + sign*2\n",
    "            cantus = np.array(lst)[:,0]\n",
    "            Ind = [];\n",
    "            for index in range(len(cantus)):\n",
    "                if cantus[index] != a and cantus[index] != b:\n",
    "                    Ind.append(index)\n",
    "            lst = np.delete(lst, Ind, axis=0)\n",
    "        if np.abs(counter_dif_last) >= 5:\n",
    "            sign = np.sign(counter_dif_last)\n",
    "            a = counter_lst[-1] + sign*1\n",
    "            b = counter_lst[-1] + sign*2\n",
    "            counter = np.array(lst)[:,1]\n",
    "            Ind = [];\n",
    "            for index in range(len(counter)):\n",
    "                if counter[index] != a and counter[index] != b:\n",
    "                    Ind.append(index)\n",
    "            lst = np.delete(lst, Ind, axis=0)\n",
    "            \n",
    "        cantus_diff = np.diff(cantus_lst)[-10:]\n",
    "        counter_diff = np.diff(counter_lst)[-10:]\n",
    "        \n",
    "        cantus_num_leap = np.shape(np.where(np.abs(cantus_diff) >= 5))[1]\n",
    "        counter_num_leap = np.shape(np.where(np.abs(counter_diff) >= 5))[1]\n",
    "        \n",
    "        if cantus_num_leap >= 2:\n",
    "            cantus = np.array(lst)[:,0]\n",
    "            Ind = [];\n",
    "            for index in range(len(cantus)):\n",
    "                if np.abs(cantus[index] - cantus_lst[-1]) >= 5:\n",
    "                    Ind.append(index)\n",
    "            lst = np.delete(lst, Ind, axis=0)\n",
    "        if counter_num_leap >= 2:\n",
    "            counter = np.array(lst)[:,1]\n",
    "            Ind = [];\n",
    "            for index in range(len(counter)):\n",
    "                if np.abs(counter[index] - counter_lst[-1]) >= 5:\n",
    "                    Ind.append(index)\n",
    "            lst = np.delete(lst, Ind, axis=0)\n",
    "        \n",
    "        cantus = np.array(lst)[:,0]\n",
    "        Ind = [];\n",
    "        for index in range(len(cantus)):\n",
    "            if np.shape(np.where(cantus_lst[-10:] == cantus[index]))[1] >= 3:\n",
    "                Ind.append(index)\n",
    "        lst = np.delete(lst, Ind, axis=0)\n",
    "        \n",
    "        counter = np.array(lst)[:,1]\n",
    "        Ind = [];\n",
    "        for index in range(len(counter)):\n",
    "            if np.shape(np.where(counter_lst[-10:] == counter[index]))[1] >= 3:\n",
    "                Ind.append(index)\n",
    "        lst = np.delete(lst, Ind, axis=0)\n",
    "        \n",
    "        if len(lst) == 0:\n",
    "            lst = save_lst\n",
    "\n",
    "        indes = np.random.randint(len(lst), size = 1)[0]\n",
    "        [a,b] = lst[indes]\n",
    "        cantus_lst.append(a)\n",
    "        counter_lst.append(b)"
   ]
  },
  {
   "cell_type": "code",
   "execution_count": 3,
   "metadata": {},
   "outputs": [
    {
     "data": {
      "text/plain": [
       "[43,\n",
       " 51,\n",
       " 55,\n",
       " 53,\n",
       " 48,\n",
       " 50,\n",
       " 48,\n",
       " 45,\n",
       " 46,\n",
       " 44,\n",
       " 48,\n",
       " 44,\n",
       " 56,\n",
       " 54,\n",
       " 56,\n",
       " 55,\n",
       " 67,\n",
       " 65,\n",
       " 63,\n",
       " 62,\n",
       " 66,\n",
       " 65,\n",
       " 62,\n",
       " 61,\n",
       " 65,\n",
       " 66,\n",
       " 64,\n",
       " 68,\n",
       " 71,\n",
       " 70,\n",
       " 68,\n",
       " 70,\n",
       " 67,\n",
       " 70,\n",
       " 72,\n",
       " 69,\n",
       " 64,\n",
       " 65,\n",
       " 60,\n",
       " 61,\n",
       " 60,\n",
       " 57,\n",
       " 58,\n",
       " 57,\n",
       " 56,\n",
       " 60,\n",
       " 56,\n",
       " 58,\n",
       " 54,\n",
       " 57,\n",
       " 61,\n",
       " 64,\n",
       " 60,\n",
       " 53,\n",
       " 55,\n",
       " 60,\n",
       " 59,\n",
       " 57,\n",
       " 60,\n",
       " 57,\n",
       " 55,\n",
       " 56,\n",
       " 52,\n",
       " 50,\n",
       " 51,\n",
       " 46,\n",
       " 48,\n",
       " 53,\n",
       " 51,\n",
       " 54,\n",
       " 50,\n",
       " 47,\n",
       " 51,\n",
       " 54,\n",
       " 53,\n",
       " 50,\n",
       " 62,\n",
       " 61,\n",
       " 64,\n",
       " 67,\n",
       " 66,\n",
       " 69,\n",
       " 62,\n",
       " 64,\n",
       " 65,\n",
       " 64,\n",
       " 67,\n",
       " 66,\n",
       " 63,\n",
       " 72,\n",
       " 70,\n",
       " 72,\n",
       " 69,\n",
       " 68,\n",
       " 72,\n",
       " 71,\n",
       " 68,\n",
       " 66,\n",
       " 63,\n",
       " 67,\n",
       " 65,\n",
       " 67,\n",
       " 63,\n",
       " 62,\n",
       " 60,\n",
       " 57,\n",
       " 53,\n",
       " 58,\n",
       " 56,\n",
       " 59,\n",
       " 60,\n",
       " 59,\n",
       " 55,\n",
       " 54,\n",
       " 56,\n",
       " 53,\n",
       " 58,\n",
       " 56,\n",
       " 55,\n",
       " 58,\n",
       " 62,\n",
       " 59,\n",
       " 57,\n",
       " 60,\n",
       " 58,\n",
       " 60,\n",
       " 52,\n",
       " 53,\n",
       " 57,\n",
       " 61,\n",
       " 54,\n",
       " 56,\n",
       " 58,\n",
       " 60,\n",
       " 59,\n",
       " 62,\n",
       " 66,\n",
       " 68,\n",
       " 71,\n",
       " 68,\n",
       " 70,\n",
       " 68,\n",
       " 65,\n",
       " 70,\n",
       " 69,\n",
       " 71,\n",
       " 67,\n",
       " 62,\n",
       " 64,\n",
       " 66,\n",
       " 64,\n",
       " 65,\n",
       " 66,\n",
       " 64,\n",
       " 61,\n",
       " 69,\n",
       " 67,\n",
       " 69,\n",
       " 71,\n",
       " 68,\n",
       " 69,\n",
       " 70,\n",
       " 66,\n",
       " 59,\n",
       " 60,\n",
       " 57,\n",
       " 60,\n",
       " 57,\n",
       " 53,\n",
       " 61,\n",
       " 59,\n",
       " 58,\n",
       " 57,\n",
       " 61,\n",
       " 64,\n",
       " 65,\n",
       " 58,\n",
       " 60,\n",
       " 56,\n",
       " 59,\n",
       " 56,\n",
       " 53,\n",
       " 61,\n",
       " 59,\n",
       " 63,\n",
       " 64,\n",
       " 61,\n",
       " 53,\n",
       " 55,\n",
       " 51,\n",
       " 48,\n",
       " 46,\n",
       " 48,\n",
       " 47,\n",
       " 59,\n",
       " 57,\n",
       " 58,\n",
       " 56,\n",
       " 64,\n",
       " 63,\n",
       " 66]"
      ]
     },
     "execution_count": 3,
     "metadata": {},
     "output_type": "execute_result"
    }
   ],
   "source": [
    "cantus_lst"
   ]
  },
  {
   "cell_type": "code",
   "execution_count": 4,
   "metadata": {},
   "outputs": [
    {
     "data": {
      "text/plain": [
       "[46,\n",
       " 55,\n",
       " 63,\n",
       " 61,\n",
       " 57,\n",
       " 59,\n",
       " 56,\n",
       " 57,\n",
       " 55,\n",
       " 56,\n",
       " 55,\n",
       " 56,\n",
       " 59,\n",
       " 57,\n",
       " 64,\n",
       " 63,\n",
       " 71,\n",
       " 69,\n",
       " 67,\n",
       " 70,\n",
       " 69,\n",
       " 72,\n",
       " 74,\n",
       " 70,\n",
       " 68,\n",
       " 69,\n",
       " 73,\n",
       " 76,\n",
       " 79,\n",
       " 82,\n",
       " 77,\n",
       " 78,\n",
       " 79,\n",
       " 74,\n",
       " 75,\n",
       " 76,\n",
       " 73,\n",
       " 72,\n",
       " 69,\n",
       " 65,\n",
       " 63,\n",
       " 66,\n",
       " 62,\n",
       " 60,\n",
       " 68,\n",
       " 67,\n",
       " 64,\n",
       " 61,\n",
       " 63,\n",
       " 65,\n",
       " 70,\n",
       " 68,\n",
       " 64,\n",
       " 61,\n",
       " 64,\n",
       " 63,\n",
       " 62,\n",
       " 64,\n",
       " 68,\n",
       " 66,\n",
       " 67,\n",
       " 59,\n",
       " 60,\n",
       " 62,\n",
       " 59,\n",
       " 55,\n",
       " 57,\n",
       " 56,\n",
       " 63,\n",
       " 61,\n",
       " 59,\n",
       " 55,\n",
       " 55,\n",
       " 57,\n",
       " 60,\n",
       " 62,\n",
       " 66,\n",
       " 73,\n",
       " 72,\n",
       " 71,\n",
       " 75,\n",
       " 78,\n",
       " 71,\n",
       " 72,\n",
       " 68,\n",
       " 72,\n",
       " 71,\n",
       " 73,\n",
       " 75,\n",
       " 76,\n",
       " 77,\n",
       " 81,\n",
       " 78,\n",
       " 76,\n",
       " 81,\n",
       " 79,\n",
       " 72,\n",
       " 73,\n",
       " 71,\n",
       " 70,\n",
       " 68,\n",
       " 71,\n",
       " 67,\n",
       " 71,\n",
       " 68,\n",
       " 66,\n",
       " 62,\n",
       " 61,\n",
       " 68,\n",
       " 66,\n",
       " 64,\n",
       " 62,\n",
       " 58,\n",
       " 66,\n",
       " 64,\n",
       " 65,\n",
       " 67,\n",
       " 64,\n",
       " 63,\n",
       " 67,\n",
       " 65,\n",
       " 68,\n",
       " 69,\n",
       " 67,\n",
       " 62,\n",
       " 63,\n",
       " 60,\n",
       " 57,\n",
       " 60,\n",
       " 65,\n",
       " 63,\n",
       " 65,\n",
       " 66,\n",
       " 63,\n",
       " 67,\n",
       " 71,\n",
       " 69,\n",
       " 76,\n",
       " 75,\n",
       " 72,\n",
       " 74,\n",
       " 75,\n",
       " 77,\n",
       " 78,\n",
       " 81,\n",
       " 80,\n",
       " 76,\n",
       " 71,\n",
       " 72,\n",
       " 74,\n",
       " 76,\n",
       " 69,\n",
       " 70,\n",
       " 71,\n",
       " 73,\n",
       " 77,\n",
       " 76,\n",
       " 78,\n",
       " 74,\n",
       " 71,\n",
       " 78,\n",
       " 77,\n",
       " 74,\n",
       " 62,\n",
       " 64,\n",
       " 61,\n",
       " 64,\n",
       " 65,\n",
       " 61,\n",
       " 64,\n",
       " 62,\n",
       " 65,\n",
       " 66,\n",
       " 70,\n",
       " 73,\n",
       " 68,\n",
       " 70,\n",
       " 67,\n",
       " 68,\n",
       " 63,\n",
       " 64,\n",
       " 65,\n",
       " 69,\n",
       " 68,\n",
       " 66,\n",
       " 67,\n",
       " 65,\n",
       " 57,\n",
       " 58,\n",
       " 59,\n",
       " 57,\n",
       " 58,\n",
       " 57,\n",
       " 55,\n",
       " 67,\n",
       " 66,\n",
       " 62,\n",
       " 63,\n",
       " 67,\n",
       " 75,\n",
       " 74]"
      ]
     },
     "execution_count": 4,
     "metadata": {},
     "output_type": "execute_result"
    }
   ],
   "source": [
    "counter_lst"
   ]
  },
  {
   "cell_type": "code",
   "execution_count": 178,
   "metadata": {},
   "outputs": [
    {
     "data": {
      "text/plain": [
       "array([ 3,  4,  4, 12,  3,  8,  8,  4,  8,  9,  9,  9,  4,  3,  4,  3,  8,\n",
       "        8, 12,  7,  4])"
      ]
     },
     "execution_count": 178,
     "metadata": {},
     "output_type": "execute_result"
    }
   ],
   "source": [
    "np.array(counter_lst) - np.array(cantus_lst)"
   ]
  },
  {
   "cell_type": "code",
   "execution_count": 179,
   "metadata": {},
   "outputs": [
    {
     "data": {
      "text/plain": [
       "array([-5,  2, -1,  8, -2,  2,  3, -2,  4, -2,  4,  1,  2, -5,  2, -1,  3,\n",
       "       -3,  1,  4])"
      ]
     },
     "execution_count": 179,
     "metadata": {},
     "output_type": "execute_result"
    }
   ],
   "source": [
    "np.diff(cantus_lst)"
   ]
  },
  {
   "cell_type": "code",
   "execution_count": 180,
   "metadata": {},
   "outputs": [
    {
     "data": {
      "text/plain": [
       "array([-4,  2,  7, -1,  3,  2, -1,  2,  5, -2,  4, -4,  1, -4,  1,  4,  3,\n",
       "        1, -4,  1])"
      ]
     },
     "execution_count": 180,
     "metadata": {},
     "output_type": "execute_result"
    }
   ],
   "source": [
    "np.diff(counter_lst)"
   ]
  },
  {
   "cell_type": "code",
   "execution_count": 139,
   "metadata": {},
   "outputs": [],
   "source": [
    "num = np.shape(cantus_lst)[0]\n",
    "cantus_choose_lst = np.concatenate((cantus_lst[-1] + melodic_interval, cantus_lst[-1] - melodic_interval))\n",
    "cantus_choose_lst = np.maximum(cantus_choose_lst,43)\n",
    "cantus_choose_lst = np.minimum(cantus_choose_lst,72)\n",
    "cantus_choose_lst = np.unique(cantus_choose_lst)\n",
    "\n",
    "counter_choose_lst = np.concatenate((counter_lst[-1] + melodic_interval, counter_lst[-1] - melodic_interval))\n",
    "counter_choose_lst = np.maximum(counter_choose_lst,55)\n",
    "counter_choose_lst = np.minimum(counter_choose_lst,84)\n",
    "counter_choose_lst = np.unique(counter_choose_lst)\n",
    "\n",
    "harmonic_diff = np.array(counter_lst) - np.array(cantus_lst)\n",
    "harmonic_diff = harmonic_diff[-10:]\n",
    "\n",
    "lst = []\n",
    "for j in cantus_choose_lst:\n",
    "    for k in counter_choose_lst:\n",
    "        if k-j in harmonic_interval and np.shape(np.where(harmonic_diff == k-j))[1] < 3:\n",
    "            if k-j != 7 and k-j != 12:\n",
    "                lst.append([j,k])\n",
    "            else:\n",
    "                if (k - counter_lst[-1])*(j - cantus_lst[-1]) < 0 and (np.abs(k - counter_lst[-1]) <= 2 or np.abs(j - cantus_lst[-1]) <= 2):\n",
    "                    lst.append([j,k])"
   ]
  },
  {
   "cell_type": "code",
   "execution_count": 140,
   "metadata": {},
   "outputs": [
    {
     "data": {
      "text/plain": [
       "51"
      ]
     },
     "execution_count": 140,
     "metadata": {},
     "output_type": "execute_result"
    }
   ],
   "source": [
    "len(lst)"
   ]
  },
  {
   "cell_type": "code",
   "execution_count": 141,
   "metadata": {},
   "outputs": [],
   "source": [
    "cantus_dif_last = cantus_lst[-2] - cantus_lst[-1]\n",
    "counter_dif_last = counter_lst[-2] - counter_lst[-1]\n",
    "if np.abs(cantus_dif_last) >= 5:\n",
    "    sign = np.sign(cantus_dif_last)\n",
    "    a = cantus_lst[-1] + sign*1\n",
    "    b = cantus_lst[-1] + sign*2\n",
    "    cantus = np.array(lst)[:,0]\n",
    "    Ind = [];\n",
    "    for index in range(len(cantus)):\n",
    "        if cantus(index) != a and cantus(index) != b:\n",
    "            Ind.append(index)\n",
    "    lst = np.delete(lst, Ind, axis=0)"
   ]
  },
  {
   "cell_type": "code",
   "execution_count": 157,
   "metadata": {},
   "outputs": [
    {
     "data": {
      "text/plain": [
       "array([[53, 65],\n",
       "       [56, 65],\n",
       "       [57, 65],\n",
       "       [57, 66],\n",
       "       [58, 65],\n",
       "       [58, 66],\n",
       "       [59, 66],\n",
       "       [61, 65],\n",
       "       [62, 65],\n",
       "       [62, 66],\n",
       "       [63, 66]])"
      ]
     },
     "execution_count": 157,
     "metadata": {},
     "output_type": "execute_result"
    }
   ],
   "source": [
    "lst"
   ]
  },
  {
   "cell_type": "code",
   "execution_count": 145,
   "metadata": {},
   "outputs": [],
   "source": [
    "if np.abs(counter_dif_last) >= 5:\n",
    "    sign = np.sign(counter_dif_last)\n",
    "    a = counter_lst[-1] + sign*1\n",
    "    b = counter_lst[-1] + sign*2\n",
    "    counter = np.array(lst)[:,1]\n",
    "    Ind = [];\n",
    "    for index in range(len(counter)):\n",
    "        if counter[index] != a and counter[index] != b:\n",
    "            Ind.append(index)\n",
    "    lst = np.delete(lst, Ind, axis=0)"
   ]
  },
  {
   "cell_type": "code",
   "execution_count": 146,
   "metadata": {},
   "outputs": [
    {
     "data": {
      "text/plain": [
       "11"
      ]
     },
     "execution_count": 146,
     "metadata": {},
     "output_type": "execute_result"
    }
   ],
   "source": [
    "len(lst)"
   ]
  },
  {
   "cell_type": "code",
   "execution_count": 147,
   "metadata": {},
   "outputs": [],
   "source": [
    "cantus_diff = np.diff(cantus_lst)[-10:]\n",
    "counter_diff = np.diff(counter_lst)[-10:]\n",
    "\n",
    "cantus_num_leap = np.shape(np.where(np.abs(cantus_diff) >= 5))[1]\n",
    "counter_num_leap = np.shape(np.where(np.abs(counter_diff) >= 5))[1]"
   ]
  },
  {
   "cell_type": "code",
   "execution_count": 148,
   "metadata": {},
   "outputs": [
    {
     "data": {
      "text/plain": [
       "array([ 2, -2])"
      ]
     },
     "execution_count": 148,
     "metadata": {},
     "output_type": "execute_result"
    }
   ],
   "source": [
    "cantus_diff"
   ]
  },
  {
   "cell_type": "code",
   "execution_count": 149,
   "metadata": {},
   "outputs": [],
   "source": [
    "if cantus_num_leap >= 2:\n",
    "    cantus = np.array(lst)[:,0]\n",
    "    Ind = [];\n",
    "    for index in range(len(cantus)):\n",
    "        if np.abs(cantus[index] - cantus_lst[-1]) >= 5:\n",
    "            Ind.append(index)\n",
    "    lst = np.delete(lst, Ind, axis=0)"
   ]
  },
  {
   "cell_type": "code",
   "execution_count": 150,
   "metadata": {},
   "outputs": [
    {
     "data": {
      "text/plain": [
       "11"
      ]
     },
     "execution_count": 150,
     "metadata": {},
     "output_type": "execute_result"
    }
   ],
   "source": [
    "len(lst)"
   ]
  },
  {
   "cell_type": "code",
   "execution_count": 151,
   "metadata": {},
   "outputs": [],
   "source": [
    "if counter_num_leap >= 2:\n",
    "    counter = np.array(lst)[:,1]\n",
    "    Ind = [];\n",
    "    for index in range(len(counter)):\n",
    "        if np.abs(counter[index] - counter_lst[-1]) >= 5:\n",
    "            Ind.append(index)\n",
    "    lst = np.delete(lst, Ind, axis=0)"
   ]
  },
  {
   "cell_type": "code",
   "execution_count": 152,
   "metadata": {},
   "outputs": [
    {
     "data": {
      "text/plain": [
       "11"
      ]
     },
     "execution_count": 152,
     "metadata": {},
     "output_type": "execute_result"
    }
   ],
   "source": [
    "len(lst)"
   ]
  },
  {
   "cell_type": "code",
   "execution_count": 153,
   "metadata": {},
   "outputs": [],
   "source": [
    "cantus = np.array(lst)[:,0]\n",
    "Ind = [];\n",
    "for index in range(len(cantus)):\n",
    "    if np.shape(np.where(cantus_lst[-10:] == cantus[index]))[1] >= 3:\n",
    "        Ind.append(index)\n",
    "lst = np.delete(lst, Ind, axis=0)"
   ]
  },
  {
   "cell_type": "code",
   "execution_count": 154,
   "metadata": {},
   "outputs": [
    {
     "data": {
      "text/plain": [
       "11"
      ]
     },
     "execution_count": 154,
     "metadata": {},
     "output_type": "execute_result"
    }
   ],
   "source": [
    "len(lst)"
   ]
  },
  {
   "cell_type": "code",
   "execution_count": 155,
   "metadata": {},
   "outputs": [],
   "source": [
    "counter = np.array(lst)[:,1]\n",
    "Ind = [];\n",
    "for index in range(len(counter)):\n",
    "    if np.shape(np.where(counter_lst[-10:] == counter[index]))[1] >= 3:\n",
    "        Ind.append(index)\n",
    "lst = np.delete(lst, Ind, axis=0)"
   ]
  },
  {
   "cell_type": "code",
   "execution_count": 156,
   "metadata": {},
   "outputs": [
    {
     "data": {
      "text/plain": [
       "11"
      ]
     },
     "execution_count": 156,
     "metadata": {},
     "output_type": "execute_result"
    }
   ],
   "source": [
    "len(lst)"
   ]
  },
  {
   "cell_type": "code",
   "execution_count": 89,
   "metadata": {},
   "outputs": [
    {
     "data": {
      "text/plain": [
       "array([43, 44, 45, 46, 47, 48, 50, 51, 55])"
      ]
     },
     "execution_count": 89,
     "metadata": {},
     "output_type": "execute_result"
    }
   ],
   "source": [
    "cantus_choose_lst"
   ]
  },
  {
   "cell_type": "code",
   "execution_count": 90,
   "metadata": {},
   "outputs": [
    {
     "data": {
      "text/plain": [
       "array([55, 59])"
      ]
     },
     "execution_count": 90,
     "metadata": {},
     "output_type": "execute_result"
    }
   ],
   "source": [
    "counter_choose_lst"
   ]
  },
  {
   "cell_type": "code",
   "execution_count": 91,
   "metadata": {},
   "outputs": [
    {
     "data": {
      "text/plain": [
       "[[46, 55], [47, 55], [50, 59], [51, 55], [51, 59], [55, 59]]"
      ]
     },
     "execution_count": 91,
     "metadata": {},
     "output_type": "execute_result"
    }
   ],
   "source": [
    "lst"
   ]
  },
  {
   "cell_type": "code",
   "execution_count": 102,
   "metadata": {},
   "outputs": [
    {
     "data": {
      "text/plain": [
       "array([46, 47, 50, 51, 51, 55])"
      ]
     },
     "execution_count": 102,
     "metadata": {},
     "output_type": "execute_result"
    }
   ],
   "source": [
    "np.array(lst)[:,0]"
   ]
  },
  {
   "cell_type": "code",
   "execution_count": 69,
   "metadata": {},
   "outputs": [],
   "source": [
    "lst = [50]"
   ]
  },
  {
   "cell_type": "code",
   "execution_count": 13,
   "metadata": {},
   "outputs": [
    {
     "data": {
      "text/plain": [
       "1"
      ]
     },
     "execution_count": 13,
     "metadata": {},
     "output_type": "execute_result"
    }
   ],
   "source": [
    "np.shape(lst)[0]"
   ]
  },
  {
   "cell_type": "code",
   "execution_count": 74,
   "metadata": {},
   "outputs": [],
   "source": [
    "choose_lst = np.concatenate((lst[0] + np.array([1,2,3,4,5,7,8,12]), lst[0] - np.array([1,2,3,4,5,7,8,12])))\n",
    "choose_lst = np.maximum(choose_lst,43)\n",
    "choose_lst = np.minimum(choose_lst,72)\n",
    "choose_lst = np.unique(choose_lst)"
   ]
  },
  {
   "cell_type": "code",
   "execution_count": 75,
   "metadata": {},
   "outputs": [
    {
     "data": {
      "text/plain": [
       "array([43, 45, 46, 47, 48, 49, 51, 52, 53, 54, 55, 57, 58, 62])"
      ]
     },
     "execution_count": 75,
     "metadata": {},
     "output_type": "execute_result"
    }
   ],
   "source": [
    "choose_lst"
   ]
  },
  {
   "cell_type": "code",
   "execution_count": 76,
   "metadata": {},
   "outputs": [
    {
     "data": {
      "text/plain": [
       "array([48, 49, 51, 52, 53, 54, 55, 57, 58, 62])"
      ]
     },
     "execution_count": 76,
     "metadata": {},
     "output_type": "execute_result"
    }
   ],
   "source": [
    "choose_lst[-10:]"
   ]
  },
  {
   "cell_type": "code",
   "execution_count": 78,
   "metadata": {},
   "outputs": [
    {
     "data": {
      "text/plain": [
       "(1, 1)"
      ]
     },
     "execution_count": 78,
     "metadata": {},
     "output_type": "execute_result"
    }
   ],
   "source": [
    "np.shape(np.where(choose_lst[-10:] == 52))[1]"
   ]
  },
  {
   "cell_type": "code",
   "execution_count": 36,
   "metadata": {},
   "outputs": [
    {
     "data": {
      "text/plain": [
       "-1"
      ]
     },
     "execution_count": 36,
     "metadata": {},
     "output_type": "execute_result"
    }
   ],
   "source": [
    "np.sign(choose_lst[-2] - choose_lst[-1])"
   ]
  },
  {
   "cell_type": "code",
   "execution_count": 42,
   "metadata": {},
   "outputs": [
    {
     "data": {
      "text/plain": [
       "True"
      ]
     },
     "execution_count": 42,
     "metadata": {},
     "output_type": "execute_result"
    }
   ],
   "source": [
    "44 not in choose_lst"
   ]
  },
  {
   "cell_type": "code",
   "execution_count": 54,
   "metadata": {},
   "outputs": [
    {
     "data": {
      "text/plain": [
       "array([2, 1, 1, 1, 1, 2, 1, 1, 1, 1, 2, 1, 4])"
      ]
     },
     "execution_count": 54,
     "metadata": {},
     "output_type": "execute_result"
    }
   ],
   "source": [
    "dif = np.diff(choose_lst)\n",
    "dif"
   ]
  },
  {
   "cell_type": "code",
   "execution_count": 52,
   "metadata": {},
   "outputs": [
    {
     "data": {
      "text/plain": [
       "(array([11, 12, 13], dtype=int64),)"
      ]
     },
     "execution_count": 52,
     "metadata": {},
     "output_type": "execute_result"
    }
   ],
   "source": [
    "np.where(choose_lst > 55)"
   ]
  },
  {
   "cell_type": "code",
   "execution_count": 55,
   "metadata": {},
   "outputs": [
    {
     "data": {
      "text/plain": [
       "3"
      ]
     },
     "execution_count": 55,
     "metadata": {},
     "output_type": "execute_result"
    }
   ],
   "source": [
    "np.shape(np.where(dif == 2))[1]"
   ]
  },
  {
   "cell_type": "code",
   "execution_count": 92,
   "metadata": {},
   "outputs": [
    {
     "name": "stdout",
     "output_type": "stream",
     "text": [
      "[46, 55]\n",
      "[47, 55]\n",
      "[50, 59]\n",
      "[51, 55]\n",
      "[51, 59]\n",
      "[55, 59]\n"
     ]
    }
   ],
   "source": [
    "for item in lst:\n",
    "    print(item)"
   ]
  },
  {
   "cell_type": "code",
   "execution_count": 94,
   "metadata": {},
   "outputs": [
    {
     "data": {
      "text/plain": [
       "55"
      ]
     },
     "execution_count": 94,
     "metadata": {},
     "output_type": "execute_result"
    }
   ],
   "source": [
    "[a,b] = item\n",
    "a"
   ]
  },
  {
   "cell_type": "code",
   "execution_count": 61,
   "metadata": {},
   "outputs": [
    {
     "data": {
      "text/plain": [
       "5"
      ]
     },
     "execution_count": 61,
     "metadata": {},
     "output_type": "execute_result"
    }
   ],
   "source": [
    "cantus_lst = [1,2];\n",
    "counter_lst = [4,7];\n",
    "(np.array(counter_lst) - np.array(cantus_lst))[-1]"
   ]
  },
  {
   "cell_type": "code",
   "execution_count": 63,
   "metadata": {},
   "outputs": [],
   "source": [
    "lst = []\n",
    "lst.append([1,2])\n",
    "lst.append([3,4])"
   ]
  },
  {
   "cell_type": "code",
   "execution_count": 64,
   "metadata": {},
   "outputs": [
    {
     "data": {
      "text/plain": [
       "[[1, 2], [3, 4]]"
      ]
     },
     "execution_count": 64,
     "metadata": {},
     "output_type": "execute_result"
    }
   ],
   "source": [
    "lst"
   ]
  },
  {
   "cell_type": "code",
   "execution_count": 51,
   "metadata": {},
   "outputs": [
    {
     "name": "stdout",
     "output_type": "stream",
     "text": [
      "Using preset Piano Merlin for piano\n",
      "Using preset Piano Merlin for piano\n"
     ]
    }
   ],
   "source": [
    "s = Session()\n",
    "s.tempo = 180\n",
    "piano1 = s.new_part(\"piano\")\n",
    "piano2 = s.new_part(\"piano\")\n",
    "\n",
    "def cantus():\n",
    "    for i in cantus_lst[1000:1020]:\n",
    "        piano2.play_note(i,1,4)\n",
    "        \n",
    "def counter():\n",
    "    for i in counter_lst[1000:1020]:\n",
    "        piano1.play_note(i,1,4)\n",
    "        \n",
    "        \n",
    "s.fast_forward_to_beat(100)\n",
    "\n",
    "s.start_transcribing()\n",
    "s.fork(counter)\n",
    "s.fork(cantus)\n",
    "s.wait_for_children_to_finish()\n",
    "performance = s.stop_transcribing()\n",
    "performance.to_score(title = \"First Species Counterpoint\", composer = \"My programme\",time_signature = \"4/4\").show_xml()"
   ]
  },
  {
   "cell_type": "code",
   "execution_count": 52,
   "metadata": {},
   "outputs": [
    {
     "data": {
      "text/plain": [
       "array([ 9,  8,  3,  4,  8,  3,  7, 12,  4,  3,  4,  8,  8,  9,  3,  8,  3,\n",
       "        4,  7, 12])"
      ]
     },
     "execution_count": 52,
     "metadata": {},
     "output_type": "execute_result"
    }
   ],
   "source": [
    "np.array(counter_lst[1000:1020]) - np.array(cantus_lst[1000:1020])"
   ]
  },
  {
   "cell_type": "code",
   "execution_count": 46,
   "metadata": {},
   "outputs": [
    {
     "data": {
      "text/plain": [
       "array([-7,  1,  7, -1,  3,  1, -1,  1, -2, -4, -4,  4, -3,  3, -1, -7,  2,\n",
       "       -8,  1])"
      ]
     },
     "execution_count": 46,
     "metadata": {},
     "output_type": "execute_result"
    }
   ],
   "source": [
    "np.diff(counter_lst[1000:1020])"
   ]
  },
  {
   "cell_type": "code",
   "execution_count": 47,
   "metadata": {},
   "outputs": [
    {
     "data": {
      "text/plain": [
       "array([-7,  1,  7, -1,  3,  1, -1,  1, -2, -4, -4,  4, -3,  3, -1, -7,  2,\n",
       "       -8,  1])"
      ]
     },
     "execution_count": 47,
     "metadata": {},
     "output_type": "execute_result"
    }
   ],
   "source": [
    "np.diff(counter_lst[1000:1020])"
   ]
  },
  {
   "cell_type": "code",
   "execution_count": 6,
   "metadata": {},
   "outputs": [],
   "source": [
    "Species = pd.DataFrame(columns=['Cantus','Counter'])\n",
    "for i in range (n):\n",
    "    Species = Species.append({'Cantus': cantus_lst[i],\n",
    "         'Counter': counter_lst[i],\n",
    "         }, ignore_index=True)"
   ]
  },
  {
   "cell_type": "code",
   "execution_count": 7,
   "metadata": {},
   "outputs": [
    {
     "data": {
      "text/html": [
       "<div>\n",
       "<style scoped>\n",
       "    .dataframe tbody tr th:only-of-type {\n",
       "        vertical-align: middle;\n",
       "    }\n",
       "\n",
       "    .dataframe tbody tr th {\n",
       "        vertical-align: top;\n",
       "    }\n",
       "\n",
       "    .dataframe thead th {\n",
       "        text-align: right;\n",
       "    }\n",
       "</style>\n",
       "<table border=\"1\" class=\"dataframe\">\n",
       "  <thead>\n",
       "    <tr style=\"text-align: right;\">\n",
       "      <th></th>\n",
       "      <th>Cantus</th>\n",
       "      <th>Counter</th>\n",
       "    </tr>\n",
       "  </thead>\n",
       "  <tbody>\n",
       "    <tr>\n",
       "      <th>0</th>\n",
       "      <td>43</td>\n",
       "      <td>46</td>\n",
       "    </tr>\n",
       "    <tr>\n",
       "      <th>1</th>\n",
       "      <td>51</td>\n",
       "      <td>55</td>\n",
       "    </tr>\n",
       "    <tr>\n",
       "      <th>2</th>\n",
       "      <td>55</td>\n",
       "      <td>63</td>\n",
       "    </tr>\n",
       "    <tr>\n",
       "      <th>3</th>\n",
       "      <td>53</td>\n",
       "      <td>61</td>\n",
       "    </tr>\n",
       "    <tr>\n",
       "      <th>4</th>\n",
       "      <td>48</td>\n",
       "      <td>57</td>\n",
       "    </tr>\n",
       "    <tr>\n",
       "      <th>...</th>\n",
       "      <td>...</td>\n",
       "      <td>...</td>\n",
       "    </tr>\n",
       "    <tr>\n",
       "      <th>195</th>\n",
       "      <td>57</td>\n",
       "      <td>66</td>\n",
       "    </tr>\n",
       "    <tr>\n",
       "      <th>196</th>\n",
       "      <td>58</td>\n",
       "      <td>62</td>\n",
       "    </tr>\n",
       "    <tr>\n",
       "      <th>197</th>\n",
       "      <td>56</td>\n",
       "      <td>63</td>\n",
       "    </tr>\n",
       "    <tr>\n",
       "      <th>198</th>\n",
       "      <td>64</td>\n",
       "      <td>67</td>\n",
       "    </tr>\n",
       "    <tr>\n",
       "      <th>199</th>\n",
       "      <td>63</td>\n",
       "      <td>75</td>\n",
       "    </tr>\n",
       "  </tbody>\n",
       "</table>\n",
       "<p>200 rows × 2 columns</p>\n",
       "</div>"
      ],
      "text/plain": [
       "    Cantus Counter\n",
       "0       43      46\n",
       "1       51      55\n",
       "2       55      63\n",
       "3       53      61\n",
       "4       48      57\n",
       "..     ...     ...\n",
       "195     57      66\n",
       "196     58      62\n",
       "197     56      63\n",
       "198     64      67\n",
       "199     63      75\n",
       "\n",
       "[200 rows x 2 columns]"
      ]
     },
     "execution_count": 7,
     "metadata": {},
     "output_type": "execute_result"
    }
   ],
   "source": [
    "Species"
   ]
  },
  {
   "cell_type": "code",
   "execution_count": 8,
   "metadata": {},
   "outputs": [],
   "source": [
    "Species.to_csv('Species.csv')"
   ]
  },
  {
   "cell_type": "code",
   "execution_count": 11,
   "metadata": {},
   "outputs": [
    {
     "name": "stdout",
     "output_type": "stream",
     "text": [
      "     Cantus  Counter\n",
      "0        43       46\n",
      "1        51       55\n",
      "2        55       63\n",
      "3        53       61\n",
      "4        48       57\n",
      "..      ...      ...\n",
      "195      57       66\n",
      "196      58       62\n",
      "197      56       63\n",
      "198      64       67\n",
      "199      63       75\n",
      "\n",
      "[200 rows x 2 columns]\n"
     ]
    }
   ],
   "source": [
    "df = pd.read_csv('Species.csv', sep=\",\",index_col = 0)\n",
    "print(df)"
   ]
  },
  {
   "cell_type": "code",
   "execution_count": 31,
   "metadata": {},
   "outputs": [],
   "source": [
    "X = tf.Variable(np.zeros((2,n*2)))  # any data tensor"
   ]
  },
  {
   "cell_type": "code",
   "execution_count": 32,
   "metadata": {},
   "outputs": [
    {
     "data": {
      "text/plain": [
       "<tf.Variable 'Variable:0' shape=(2, 400) dtype=float64, numpy=\n",
       "array([[43., 46., 51., 55., 55., 63., 53., 61., 48., 57., 50., 59., 48.,\n",
       "        56., 45., 57., 46., 55., 44., 56., 48., 55., 44., 56., 56., 59.,\n",
       "        54., 57., 56., 64., 55., 63., 67., 71., 65., 69., 63., 67., 62.,\n",
       "        70., 66., 69., 65., 72., 62., 74., 61., 70., 65., 68., 66., 69.,\n",
       "        64., 73., 68., 76., 71., 79., 70., 82., 68., 77., 70., 78., 67.,\n",
       "        79., 70., 74., 72., 75., 69., 76., 64., 73., 65., 72., 60., 69.,\n",
       "        61., 65., 60., 63., 57., 66., 58., 62., 57., 60., 56., 68., 60.,\n",
       "        67., 56., 64., 58., 61., 54., 63., 57., 65., 61., 70., 64., 68.,\n",
       "        60., 64., 53., 61., 55., 64., 60., 63., 59., 62., 57., 64., 60.,\n",
       "        68., 57., 66., 55., 67., 56., 59., 52., 60., 50., 62., 51., 59.,\n",
       "        46., 55., 48., 57., 53., 56., 51., 63., 54., 61., 50., 59., 47.,\n",
       "        55., 51., 55., 54., 57., 53., 60., 50., 62., 62., 66., 61., 73.,\n",
       "        64., 72., 67., 71., 66., 75., 69., 78., 62., 71., 64., 72., 65.,\n",
       "        68., 64., 72., 67., 71., 66., 73., 63., 75., 72., 76., 70., 77.,\n",
       "        72., 81., 69., 78., 68., 76., 72., 81., 71., 79., 68., 72., 66.,\n",
       "        73., 63., 71., 67., 70., 65., 68., 67., 71., 63., 67., 62., 71.,\n",
       "        60., 68., 57., 66., 53., 62., 58., 61., 56., 68., 59., 66., 60.,\n",
       "        64., 59., 62., 55., 58., 54., 66., 56., 64., 53., 65., 58., 67.,\n",
       "        56., 64., 55., 63., 58., 67., 62., 65., 59., 68., 57., 69., 60.,\n",
       "        67., 58., 62., 60., 63., 52., 60., 53., 57., 57., 60., 61., 65.,\n",
       "        54., 63., 56., 65., 58., 66., 60., 63., 59., 67., 62., 71., 66.,\n",
       "        69., 68., 76., 71., 75., 68., 72., 70., 74., 68., 75., 65., 77.,\n",
       "        70., 78., 69., 81., 71., 80., 67., 76., 62., 71., 64., 72., 66.,\n",
       "        74., 64., 76., 65., 69., 66., 70., 64., 71., 61., 73., 69., 77.,\n",
       "        67., 76., 69., 78., 71., 74., 68., 71., 69., 78., 70., 77., 66.,\n",
       "        74., 59., 62., 60., 64., 57., 61., 60., 64., 57., 65., 53., 61.,\n",
       "        61., 64., 59., 62., 58., 65., 57., 66., 61., 70., 64., 73., 65.,\n",
       "        68., 58., 70., 60., 67., 56., 68., 59., 63., 56., 64., 53., 65.,\n",
       "        61., 69., 59., 68., 63., 66., 64., 67., 61., 65., 53., 57., 55.,\n",
       "        58., 51., 59., 48., 57., 46., 58., 48., 57., 47., 55., 59., 67.,\n",
       "        57., 66., 58., 62., 56., 63., 64., 67., 63., 75.],\n",
       "       [ 0.,  1.,  0.,  1.,  0.,  1.,  0.,  1.,  0.,  1.,  0.,  1.,  0.,\n",
       "         1.,  0.,  1.,  0.,  1.,  0.,  1.,  0.,  1.,  0.,  1.,  0.,  1.,\n",
       "         0.,  1.,  0.,  1.,  0.,  1.,  0.,  1.,  0.,  1.,  0.,  1.,  0.,\n",
       "         1.,  0.,  1.,  0.,  1.,  0.,  1.,  0.,  1.,  0.,  1.,  0.,  1.,\n",
       "         0.,  1.,  0.,  1.,  0.,  1.,  0.,  1.,  0.,  1.,  0.,  1.,  0.,\n",
       "         1.,  0.,  1.,  0.,  1.,  0.,  1.,  0.,  1.,  0.,  1.,  0.,  1.,\n",
       "         0.,  1.,  0.,  1.,  0.,  1.,  0.,  1.,  0.,  1.,  0.,  1.,  0.,\n",
       "         1.,  0.,  1.,  0.,  1.,  0.,  1.,  0.,  1.,  0.,  1.,  0.,  1.,\n",
       "         0.,  1.,  0.,  1.,  0.,  1.,  0.,  1.,  0.,  1.,  0.,  1.,  0.,\n",
       "         1.,  0.,  1.,  0.,  1.,  0.,  1.,  0.,  1.,  0.,  1.,  0.,  1.,\n",
       "         0.,  1.,  0.,  1.,  0.,  1.,  0.,  1.,  0.,  1.,  0.,  1.,  0.,\n",
       "         1.,  0.,  1.,  0.,  1.,  0.,  1.,  0.,  1.,  0.,  1.,  0.,  1.,\n",
       "         0.,  1.,  0.,  1.,  0.,  1.,  0.,  1.,  0.,  1.,  0.,  1.,  0.,\n",
       "         1.,  0.,  1.,  0.,  1.,  0.,  1.,  0.,  1.,  0.,  1.,  0.,  1.,\n",
       "         0.,  1.,  0.,  1.,  0.,  1.,  0.,  1.,  0.,  1.,  0.,  1.,  0.,\n",
       "         1.,  0.,  1.,  0.,  1.,  0.,  1.,  0.,  1.,  0.,  1.,  0.,  1.,\n",
       "         0.,  1.,  0.,  1.,  0.,  1.,  0.,  1.,  0.,  1.,  0.,  1.,  0.,\n",
       "         1.,  0.,  1.,  0.,  1.,  0.,  1.,  0.,  1.,  0.,  1.,  0.,  1.,\n",
       "         0.,  1.,  0.,  1.,  0.,  1.,  0.,  1.,  0.,  1.,  0.,  1.,  0.,\n",
       "         1.,  0.,  1.,  0.,  1.,  0.,  1.,  0.,  1.,  0.,  1.,  0.,  1.,\n",
       "         0.,  1.,  0.,  1.,  0.,  1.,  0.,  1.,  0.,  1.,  0.,  1.,  0.,\n",
       "         1.,  0.,  1.,  0.,  1.,  0.,  1.,  0.,  1.,  0.,  1.,  0.,  1.,\n",
       "         0.,  1.,  0.,  1.,  0.,  1.,  0.,  1.,  0.,  1.,  0.,  1.,  0.,\n",
       "         1.,  0.,  1.,  0.,  1.,  0.,  1.,  0.,  1.,  0.,  1.,  0.,  1.,\n",
       "         0.,  1.,  0.,  1.,  0.,  1.,  0.,  1.,  0.,  1.,  0.,  1.,  0.,\n",
       "         1.,  0.,  1.,  0.,  1.,  0.,  1.,  0.,  1.,  0.,  1.,  0.,  1.,\n",
       "         0.,  1.,  0.,  1.,  0.,  1.,  0.,  1.,  0.,  1.,  0.,  1.,  0.,\n",
       "         1.,  0.,  1.,  0.,  1.,  0.,  1.,  0.,  1.,  0.,  1.,  0.,  1.,\n",
       "         0.,  1.,  0.,  1.,  0.,  1.,  0.,  1.,  0.,  1.,  0.,  1.,  0.,\n",
       "         1.,  0.,  1.,  0.,  1.,  0.,  1.,  0.,  1.,  0.,  1.,  0.,  1.,\n",
       "         0.,  1.,  0.,  1.,  0.,  1.,  0.,  1.,  0.,  1.]])>"
      ]
     },
     "execution_count": 32,
     "metadata": {},
     "output_type": "execute_result"
    }
   ],
   "source": [
    "for i in range(0,2*n,2):\n",
    "    X[0,i].assign(df['Cantus'][i/2])\n",
    "    X[1,i].assign(0)\n",
    "    X[0,i+1].assign(df['Counter'][i/2])\n",
    "    X[1,i+1].assign(1)\n",
    "X"
   ]
  },
  {
   "cell_type": "code",
   "execution_count": 33,
   "metadata": {},
   "outputs": [
    {
     "data": {
      "text/plain": [
       "<TensorSliceDataset shapes: (2,), types: tf.float64>"
      ]
     },
     "execution_count": 33,
     "metadata": {},
     "output_type": "execute_result"
    }
   ],
   "source": [
    "dataset = tf.data.Dataset.from_tensor_slices(tf.transpose(X))\n",
    "dataset"
   ]
  },
  {
   "cell_type": "code",
   "execution_count": 34,
   "metadata": {},
   "outputs": [
    {
     "name": "stdout",
     "output_type": "stream",
     "text": [
      "tf.Tensor([43.  0.], shape=(2,), dtype=float64)\n",
      "tf.Tensor([46.  1.], shape=(2,), dtype=float64)\n",
      "tf.Tensor([51.  0.], shape=(2,), dtype=float64)\n",
      "tf.Tensor([55.  1.], shape=(2,), dtype=float64)\n",
      "tf.Tensor([55.  0.], shape=(2,), dtype=float64)\n"
     ]
    }
   ],
   "source": [
    "for item in dataset.take(5):\n",
    "    print(item)"
   ]
  },
  {
   "cell_type": "code",
   "execution_count": null,
   "metadata": {},
   "outputs": [],
   "source": []
  }
 ],
 "metadata": {
  "kernelspec": {
   "display_name": "Python 3",
   "language": "python",
   "name": "python3"
  },
  "language_info": {
   "codemirror_mode": {
    "name": "ipython",
    "version": 3
   },
   "file_extension": ".py",
   "mimetype": "text/x-python",
   "name": "python",
   "nbconvert_exporter": "python",
   "pygments_lexer": "ipython3",
   "version": "3.7.6"
  }
 },
 "nbformat": 4,
 "nbformat_minor": 4
}
